{
 "cells": [
  {
   "cell_type": "markdown",
   "metadata": {},
   "source": [
    "# T5 tokenization + T5 embedding"
   ]
  },
  {
   "cell_type": "markdown",
   "metadata": {},
   "source": []
  },
  {
   "cell_type": "code",
   "execution_count": 1,
   "metadata": {},
   "outputs": [
    {
     "name": "stderr",
     "output_type": "stream",
     "text": [
      "/n/home12/hjkim/.conda/envs/torch2/lib/python3.10/site-packages/transformers/utils/hub.py:127: FutureWarning: Using `TRANSFORMERS_CACHE` is deprecated and will be removed in v5 of Transformers. Use `HF_HOME` instead.\n",
      "  warnings.warn(\n"
     ]
    }
   ],
   "source": [
    "import numpy as np\n",
    "import torch as th\n",
    "import torch.nn as nn\n",
    "import torch\n",
    "from os.path import join\n",
    "from tqdm.notebook import tqdm, trange\n",
    "from transformers import T5Tokenizer, T5EncoderModel"
   ]
  },
  {
   "cell_type": "code",
   "execution_count": 2,
   "metadata": {},
   "outputs": [],
   "source": [
    "dataset_root = \"/n/holylfs06/LABS/kempner_fellow_binxuwang/Users/binxuwang/DL_Projects/PixArt/objectRelSingle_pilot3\"\n",
    "caption_dir = join(dataset_root, \"captions\")\n",
    "image_dir = join(dataset_root, \"images\")\n",
    "img_feat_dir = join(dataset_root, \"img_vae_features_128resolution\")\n",
    "text_feat_dir = join(dataset_root, \"caption_feature_wmask\")"
   ]
  },
  {
   "cell_type": "code",
   "execution_count": 3,
   "metadata": {},
   "outputs": [
    {
     "name": "stderr",
     "output_type": "stream",
     "text": [
      "You are using the default legacy behaviour of the <class 'transformers.models.t5.tokenization_t5.T5Tokenizer'>. This is expected, and simply means that the `legacy` (previous) behavior will be used so nothing changes for you. If you want to use the new behaviour, set `legacy=False`. This should only be set if you understand what it means, and thoroughly read the reason why this was added as explained in https://github.com/huggingface/transformers/pull/24565\n",
      "/n/home12/hjkim/.conda/envs/torch2/lib/python3.10/site-packages/transformers/tokenization_utils_base.py:1601: FutureWarning: `clean_up_tokenization_spaces` was not set. It will be set to `True` by default. This behavior will be depracted in transformers v4.45, and will be then set to `False` by default. For more details check this issue: https://github.com/huggingface/transformers/issues/31884\n",
      "  warnings.warn(\n"
     ]
    },
    {
     "data": {
      "application/vnd.jupyter.widget-view+json": {
       "model_id": "2bfd345ef2ce4e11a99abb594435338c",
       "version_major": 2,
       "version_minor": 0
      },
      "text/plain": [
       "Loading checkpoint shards:   0%|          | 0/2 [00:00<?, ?it/s]"
      ]
     },
     "metadata": {},
     "output_type": "display_data"
    }
   ],
   "source": [
    "T5_path = \"/n/holylfs06/LABS/kempner_fellow_binxuwang/Users/binxuwang/DL_Projects/PixArt/output/pretrained_models/t5_ckpts/t5-v1_1-xxl\"\n",
    "tokenizer = T5Tokenizer.from_pretrained(T5_path, )#subfolder=\"tokenizer\")\n",
    "encoder = T5EncoderModel.from_pretrained(T5_path)"
   ]
  },
  {
   "cell_type": "code",
   "execution_count": 4,
   "metadata": {},
   "outputs": [
    {
     "data": {
      "application/vnd.jupyter.widget-view+json": {
       "model_id": "5c59221b4f4e451996017e2e7dfda703",
       "version_major": 2,
       "version_minor": 0
      },
      "text/plain": [
       "  0%|          | 0/10000 [00:00<?, ?it/s]"
      ]
     },
     "metadata": {},
     "output_type": "display_data"
    }
   ],
   "source": [
    "model_max_length = 20\n",
    "# use T5 tokenizer \n",
    "corpus = []\n",
    "input_ids_col = []\n",
    "attention_mask_col = []\n",
    "for i in trange(10000):\n",
    "    text = open(join(caption_dir, f\"{i}.txt\")).read()\n",
    "    text_tokens_and_mask = tokenizer(\n",
    "        text,\n",
    "        max_length=model_max_length,\n",
    "        padding='max_length',\n",
    "        truncation=True,\n",
    "        return_attention_mask=True,\n",
    "        add_special_tokens=True,\n",
    "        return_tensors='pt'\n",
    "    )\n",
    "    input_ids_col.append(text_tokens_and_mask['input_ids'])\n",
    "    attention_mask_col.append(text_tokens_and_mask['attention_mask'])\n",
    "    # break\n",
    "    # corpus.append(text)\n",
    "\n",
    "input_ids_tsr = th.cat(input_ids_col, dim=0)"
   ]
  },
  {
   "cell_type": "code",
   "execution_count": 5,
   "metadata": {},
   "outputs": [],
   "source": [
    "class T5EmbeddingEncoder(nn.Module):\n",
    "    def __init__(self, model_name=\"t5-base\", device=\"cuda\", ):\n",
    "        super().__init__()\n",
    "        self.tokenizer = T5Tokenizer.from_pretrained(model_name)\n",
    "        self.encoder = T5EncoderModel.from_pretrained(model_name, ).to(torch.bfloat16)\n",
    "        self.encoder.eval()\n",
    "        self.device = device\n",
    "        self.encoder.to(device)\n",
    "\n",
    "    def __call__(self, input_ids, attention_mask=None):\n",
    "        return self.encode(input_ids, attention_mask)\n",
    "\n",
    "    def encode(self, input_ids, attention_mask=None):\n",
    "        if isinstance(input_ids, list) and isinstance(input_ids[0], str):\n",
    "            # assume input_ids is raw text prompts\n",
    "            tokens = self.tokenizer(input_ids, return_tensors=\"pt\", padding=True, truncation=True)\n",
    "            input_ids = tokens[\"input_ids\"].to(self.device)\n",
    "            attention_mask = tokens[\"attention_mask\"].to(self.device)\n",
    "        else:\n",
    "            input_ids = input_ids.to(self.device)\n",
    "            if attention_mask is None:\n",
    "                attention_mask = (input_ids != self.tokenizer.pad_token_id).long().to(self.device)\n",
    "            else:\n",
    "                attention_mask = attention_mask.to(self.device)\n",
    "\n",
    "        with torch.no_grad():\n",
    "            outputs = self.encoder(input_ids=input_ids, attention_mask=attention_mask)\n",
    "            embeddings = outputs.last_hidden_state  # [batch_size, seq_len, hidden_dim]\n",
    "        return embeddings, attention_mask\n",
    "\n",
    "    def to(self, device):\n",
    "        self.device = device\n",
    "        self.encoder.to(device)\n",
    "        return self\n",
    "\n",
    "text_encoder = T5EmbeddingEncoder().to(\"cuda\")\n",
    "text_emb =  text_encoder(input_ids_tsr[0:1])[0]"
   ]
  },
  {
   "cell_type": "code",
   "execution_count": 6,
   "metadata": {},
   "outputs": [
    {
     "data": {
      "text/plain": [
       "tensor([[[-0.2441, -0.3398, -0.1030,  ..., -0.5898, -0.4609, -0.0698],\n",
       "         [-0.0376,  0.2520,  0.2812,  ..., -0.0938,  0.0347, -0.1089],\n",
       "         [-0.2031, -0.4336, -0.4512,  ...,  0.0366,  0.2324, -0.1162],\n",
       "         ...,\n",
       "         [-0.3164, -0.6367, -0.2773,  ...,  0.1631,  0.0635, -0.3789],\n",
       "         [-0.3164, -0.6367, -0.2773,  ...,  0.1631,  0.0635, -0.3789],\n",
       "         [-0.3164, -0.6367, -0.2773,  ...,  0.1631,  0.0635, -0.3789]]],\n",
       "       device='cuda:0', dtype=torch.bfloat16)"
      ]
     },
     "execution_count": 6,
     "metadata": {},
     "output_type": "execute_result"
    }
   ],
   "source": [
    "text_emb"
   ]
  },
  {
   "cell_type": "code",
   "execution_count": 7,
   "metadata": {},
   "outputs": [
    {
     "name": "stderr",
     "output_type": "stream",
     "text": [
      "/n/home12/hjkim/.conda/envs/torch2/lib/python3.10/site-packages/timm/models/layers/__init__.py:48: FutureWarning: Importing from timm.models.layers is deprecated, please import via timm.layers\n",
      "  warnings.warn(f\"Importing from {__name__} is deprecated, please import via timm.layers\", FutureWarning)\n",
      "/n/home12/hjkim/.conda/envs/torch2/lib/python3.10/site-packages/mmcv/__init__.py:20: UserWarning: On January 1, 2023, MMCV will release v2.0.0, in which it will remove components related to the training process and add a data transformation module. In addition, it will rename the package names mmcv to mmcv-lite and mmcv-full to mmcv. See https://github.com/open-mmlab/mmcv/blob/master/docs/en/compatibility.md for more details.\n",
      "  warnings.warn(\n"
     ]
    },
    {
     "name": "stdout",
     "output_type": "stream",
     "text": [
      "/n/holylfs06/LABS/kempner_fellow_binxuwang/Users/binxuwang/DL_Projects/PixArt/output/pretrained_models//t5_ckpts/t5-v1_1-xxl\n"
     ]
    },
    {
     "name": "stderr",
     "output_type": "stream",
     "text": [
      "/n/home12/hjkim/.conda/envs/torch2/lib/python3.10/site-packages/transformers/tokenization_utils_base.py:1601: FutureWarning: `clean_up_tokenization_spaces` was not set. It will be set to `True` by default. This behavior will be depracted in transformers v4.45, and will be then set to `False` by default. For more details check this issue: https://github.com/huggingface/transformers/issues/31884\n",
      "  warnings.warn(\n"
     ]
    },
    {
     "data": {
      "application/vnd.jupyter.widget-view+json": {
       "model_id": "95dacb7acb3b4603b69621110a404771",
       "version_major": 2,
       "version_minor": 0
      },
      "text/plain": [
       "Loading checkpoint shards:   0%|          | 0/2 [00:00<?, ?it/s]"
      ]
     },
     "metadata": {},
     "output_type": "display_data"
    }
   ],
   "source": [
    "import sys\n",
    "sys.path.append(\"/n/home12/hjkim/Github/DiffusionObjectRelation/PixArt-alpha\")\n",
    "from diffusion.model.t5 import T5Embedder\n",
    "\n",
    "\n",
    "pretrain_path = \"/n/holylfs06/LABS/kempner_fellow_binxuwang/Users/binxuwang/DL_Projects/PixArt/output/pretrained_models/\"\n",
    "t5 = T5Embedder(device=\"cuda\", local_cache=True, cache_dir=f'{pretrain_path}/t5_ckpts', model_max_length=model_max_length)"
   ]
  },
  {
   "cell_type": "code",
   "execution_count": 8,
   "metadata": {},
   "outputs": [],
   "source": [
    "caption = [\"triangle is above red circle\"]\n",
    "caption_emb, emb_mask = t5.get_text_embeddings(caption)"
   ]
  },
  {
   "cell_type": "code",
   "execution_count": 25,
   "metadata": {},
   "outputs": [
    {
     "name": "stdout",
     "output_type": "stream",
     "text": [
      "/n/holylfs06/LABS/kempner_fellow_binxuwang/Users/binxuwang/DL_Projects/PixArt/output/pretrained_models//t5_ckpts/t5-v1_1-xxl\n"
     ]
    },
    {
     "data": {
      "application/vnd.jupyter.widget-view+json": {
       "model_id": "ed080513aaf64794aedf765b88327e2e",
       "version_major": 2,
       "version_minor": 0
      },
      "text/plain": [
       "Loading checkpoint shards:   0%|          | 0/2 [00:00<?, ?it/s]"
      ]
     },
     "metadata": {},
     "output_type": "display_data"
    },
    {
     "name": "stdout",
     "output_type": "stream",
     "text": [
      "Preparing Visualization prompt embeddings...\n",
      "Saving visualizate prompt text embedding at /n/holylfs06/LABS/kempner_fellow_binxuwang/Users/binxuwang/DL_Projects/PixArt/output/prompt_cache_t5emb_3\n",
      "Mapping triangle...\n",
      "Mapping blue triangle...\n",
      "Mapping red square...\n",
      "Mapping square...\n",
      "Mapping circle...\n",
      "Mapping blue circle...\n",
      "Mapping triangle is to the upper left of square...\n",
      "Mapping triangle is to the left of square...\n",
      "Mapping triangle is to the left of triangle...\n",
      "Mapping circle is below red square...\n",
      "Mapping red circle is to the left of blue square...\n",
      "Mapping blue square is to the right of red circle...\n",
      "Mapping red circle is above square...\n",
      "Mapping triangle is above red circle...\n",
      "Done!\n"
     ]
    }
   ],
   "source": [
    "import os \n",
    "\n",
    "validation_prompts = [\n",
    "    \"triangle\",\n",
    "    \"blue triangle\",\n",
    "    \"red square\",\n",
    "    \"square\",\n",
    "    \"circle\",\n",
    "    \"blue circle\",\n",
    "    \"triangle is to the upper left of square\", \n",
    "    \"triangle is to the left of square\", \n",
    "    \"triangle is to the left of triangle\", \n",
    "    \"circle is below red square\",\n",
    "    \"red circle is to the left of blue square\",\n",
    "    \"blue square is to the right of red circle\",\n",
    "    \"red circle is above square\",\n",
    "    \"triangle is above red circle\",\n",
    "    ]\n",
    "max_length = 20\n",
    "result_col = []\n",
    "recompute = True \n",
    "device = \"cuda\"\n",
    "prompt_cache_dir = \"/n/holylfs06/LABS/kempner_fellow_binxuwang/Users/binxuwang/DL_Projects/PixArt/output/prompt_cache_t5emb_3\"\n",
    "os.makedirs(prompt_cache_dir, exist_ok=True)\n",
    "\n",
    "pretrain_path = \"/n/holylfs06/LABS/kempner_fellow_binxuwang/Users/binxuwang/DL_Projects/PixArt/output/pretrained_models/\"\n",
    "t5 = T5Embedder(device=\"cuda\", local_cache=True, cache_dir=f'{pretrain_path}/t5_ckpts', model_max_length=max_length)\n",
    "\n",
    "# Save unconditioned embedding\n",
    "uncond_prompt_embeds, uncond_attention_mask = t5.get_text_embeddings([\"\"], )\n",
    "torch.save({'caption_embeddings': uncond_prompt_embeds, 'emb_mask': uncond_attention_mask, 'prompt': ''}, \n",
    "            join(prompt_cache_dir,f'uncond_{max_length}token.pth'))\n",
    "result_col.append({'prompt': '', 'caption_embeddingss': uncond_prompt_embeds, 'emb_mask': uncond_attention_mask})\n",
    "\n",
    "print(\"Preparing Visualization prompt embeddings...\")\n",
    "print(f\"Saving visualizate prompt text embedding at {prompt_cache_dir}\")\n",
    "\n",
    "for prompt in validation_prompts:\n",
    "    if os.path.exists(join(prompt_cache_dir,f'{prompt}_{max_length}token.pth')) and not recompute:\n",
    "        result_col.append(torch.load(join(prompt_cache_dir,f'{prompt}_{max_length}token.pth')))\n",
    "        continue\n",
    "    print(f\"Mapping {prompt}...\")\n",
    "    caption_emb, caption_token_attention_mask =  t5.get_text_embeddings([prompt], )\n",
    "    torch.save({'caption_embeddings': caption_emb, 'emb_mask': caption_token_attention_mask, 'prompt': prompt}, \n",
    "                join(prompt_cache_dir,f'{prompt}_{max_length}token.pth'))\n",
    "    result_col.append({'prompt': prompt, 'caption_embeddings': caption_emb, 'emb_mask': caption_token_attention_mask})\n",
    "print(\"Done!\")"
   ]
  },
  {
   "cell_type": "code",
   "execution_count": 62,
   "metadata": {},
   "outputs": [
    {
     "data": {
      "text/plain": [
       "torch.Size([1, 20])"
      ]
     },
     "execution_count": 11,
     "metadata": {},
     "output_type": "execute_result"
    }
   ],
   "source": [
    "emb_mask.shape"
   ]
  },
  {
   "cell_type": "code",
   "execution_count": 63,
   "metadata": {},
   "outputs": [
    {
     "data": {
      "text/plain": [
       "torch.Size([1, 20, 4096])"
      ]
     },
     "execution_count": 12,
     "metadata": {},
     "output_type": "execute_result"
    }
   ],
   "source": [
    "caption_emb.shape"
   ]
  },
  {
   "cell_type": "code",
   "execution_count": 64,
   "metadata": {},
   "outputs": [
    {
     "ename": "NameError",
     "evalue": "name 'embedding' is not defined",
     "output_type": "error",
     "traceback": [
      "\u001b[0;31m---------------------------------------------------------------------------\u001b[0m",
      "\u001b[0;31mNameError\u001b[0m                                 Traceback (most recent call last)",
      "Cell \u001b[0;32mIn[14], line 1\u001b[0m\n\u001b[0;32m----> 1\u001b[0m \u001b[43membedding\u001b[49m[\u001b[38;5;124m\"\u001b[39m\u001b[38;5;124mcaption_embeds\u001b[39m\u001b[38;5;124m\"\u001b[39m]\u001b[38;5;241m.\u001b[39mshape\n",
      "\u001b[0;31mNameError\u001b[0m: name 'embedding' is not defined"
     ]
    }
   ],
   "source": [
    "embedding[\"caption_embeds\"].shape"
   ]
  },
  {
   "cell_type": "code",
   "execution_count": 65,
   "metadata": {},
   "outputs": [
    {
     "data": {
      "text/plain": [
       "tensor([[[ 0.0359, -0.0007,  0.0171,  ...,  0.2598, -0.0913,  0.0046],\n",
       "         [ 0.0723,  0.0728,  0.0361,  ...,  0.0571, -0.1172, -0.0771],\n",
       "         [ 0.0859, -0.0732, -0.1338,  ...,  0.2061, -0.2041,  0.1104],\n",
       "         ...,\n",
       "         [-0.1040,  0.2051, -0.0859,  ..., -0.0481,  0.0366,  0.0688],\n",
       "         [-0.1318,  0.1836, -0.1167,  ...,  0.0013,  0.0618, -0.0232],\n",
       "         [-0.0771,  0.2119, -0.1562,  ..., -0.0283,  0.0079, -0.0317]]],\n",
       "       device='cuda:0', dtype=torch.bfloat16)"
      ]
     },
     "execution_count": 13,
     "metadata": {},
     "output_type": "execute_result"
    }
   ],
   "source": [
    "caption_emb"
   ]
  },
  {
   "cell_type": "code",
   "execution_count": 74,
   "metadata": {},
   "outputs": [
    {
     "data": {
      "text/plain": [
       "True"
      ]
     },
     "execution_count": 74,
     "metadata": {},
     "output_type": "execute_result"
    }
   ],
   "source": [
    "th.allclose(caption_emb, embedding[ 'caption_embeds'], atol=1E-1, rtol=1E-1)"
   ]
  },
  {
   "cell_type": "code",
   "execution_count": 68,
   "metadata": {},
   "outputs": [
    {
     "data": {
      "text/plain": [
       "tensor([[1, 1, 1, 1, 1, 1, 0, 0, 0, 0, 0, 0, 0, 0, 0, 0, 0, 0, 0, 0]],\n",
       "       device='cuda:0')"
      ]
     },
     "execution_count": 68,
     "metadata": {},
     "output_type": "execute_result"
    }
   ],
   "source": [
    "emb_mask"
   ]
  },
  {
   "cell_type": "code",
   "execution_count": 67,
   "metadata": {},
   "outputs": [
    {
     "data": {
      "text/plain": [
       "{'prompt': 'triangle is above red circle',\n",
       " 'caption_embeds': tensor([[[ 0.0386,  0.0007,  0.0167,  ...,  0.2578, -0.0903,  0.0042],\n",
       "          [ 0.0723,  0.0742,  0.0349,  ...,  0.0586, -0.1196, -0.0781],\n",
       "          [ 0.0859, -0.0747, -0.1338,  ...,  0.2041, -0.2061,  0.1104],\n",
       "          ...,\n",
       "          [-0.1069,  0.2070, -0.0820,  ..., -0.0559,  0.0347,  0.0674],\n",
       "          [-0.1299,  0.1836, -0.1099,  ..., -0.0120,  0.0574, -0.0200],\n",
       "          [-0.0781,  0.2246, -0.1523,  ..., -0.0378,  0.0069, -0.0378]]],\n",
       "        device='cuda:0', dtype=torch.bfloat16),\n",
       " 'emb_mask': tensor([[1, 1, 1, 1, 1, 1, 0, 0, 0, 0, 0, 0, 0, 0, 0, 0, 0, 0, 0, 0]],\n",
       "        device='cuda:0')}"
      ]
     },
     "execution_count": 67,
     "metadata": {},
     "output_type": "execute_result"
    }
   ],
   "source": [
    "embedding"
   ]
  },
  {
   "cell_type": "code",
   "execution_count": 36,
   "metadata": {},
   "outputs": [
    {
     "data": {
      "text/plain": [
       "torch.Size([1, 20])"
      ]
     },
     "execution_count": 36,
     "metadata": {},
     "output_type": "execute_result"
    }
   ],
   "source": [
    "embedding[\"emb_mask\"].shape"
   ]
  },
  {
   "cell_type": "code",
   "execution_count": 26,
   "metadata": {},
   "outputs": [
    {
     "name": "stderr",
     "output_type": "stream",
     "text": [
      "/tmp/ipykernel_1305055/440429035.py:2: FutureWarning: You are using `torch.load` with `weights_only=False` (the current default value), which uses the default pickle module implicitly. It is possible to construct malicious pickle data which will execute arbitrary code during unpickling (See https://github.com/pytorch/pytorch/blob/main/SECURITY.md#untrusted-models for more details). In a future release, the default value for `weights_only` will be flipped to `True`. This limits the functions that could be executed during unpickling. Arbitrary objects will no longer be allowed to be loaded via this mode unless they are explicitly allowlisted by the user via `torch.serialization.add_safe_globals`. We recommend you start setting `weights_only=True` for any use case where you don't have full control of the loaded file. Please open an issue on GitHub for any issues related to this experimental feature.\n",
      "  caption_embeddings = torch.load(join(prompt_cache_dir1, \"caption_embeddings_list.pth\"))\n"
     ]
    }
   ],
   "source": [
    "prompt_cache_dir1 = \"/n/holylfs06/LABS/kempner_fellow_binxuwang/Users/binxuwang/DL_Projects/PixArt/output/prompt_cache_t5emb_3\"\n",
    "caption_embeddings = torch.load(join(prompt_cache_dir1, \"caption_embeddings_list.pth\"))\n",
    "# for i, embedding in enumerate(caption_embeddings):\n",
    "#     print(f\"{i}: {embedding['prompt']} | token num:{embedding['emb_mask'].sum()}\")"
   ]
  },
  {
   "cell_type": "code",
   "execution_count": null,
   "metadata": {},
   "outputs": [],
   "source": []
  }
 ],
 "metadata": {
  "kernelspec": {
   "display_name": "torch2",
   "language": "python",
   "name": "python3"
  },
  "language_info": {
   "codemirror_mode": {
    "name": "ipython",
    "version": 3
   },
   "file_extension": ".py",
   "mimetype": "text/x-python",
   "name": "python",
   "nbconvert_exporter": "python",
   "pygments_lexer": "ipython3",
   "version": "3.10.18"
  }
 },
 "nbformat": 4,
 "nbformat_minor": 2
}
