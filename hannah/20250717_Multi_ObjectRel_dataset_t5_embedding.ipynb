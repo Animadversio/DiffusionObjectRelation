{
 "cells": [
  {
   "cell_type": "markdown",
   "metadata": {},
   "source": [
    "# Multi object relation T5 tokenization + T5 embedding"
   ]
  },
  {
   "cell_type": "markdown",
   "metadata": {},
   "source": []
  },
  {
   "cell_type": "code",
   "execution_count": 1,
   "metadata": {},
   "outputs": [
    {
     "name": "stderr",
     "output_type": "stream",
     "text": [
      "/n/home12/hjkim/.conda/envs/torch2/lib/python3.10/site-packages/transformers/utils/hub.py:127: FutureWarning: Using `TRANSFORMERS_CACHE` is deprecated and will be removed in v5 of Transformers. Use `HF_HOME` instead.\n",
      "  warnings.warn(\n"
     ]
    }
   ],
   "source": [
    "import numpy as np\n",
    "import torch as th\n",
    "import torch.nn as nn\n",
    "import torch\n",
    "from os.path import join\n",
    "from tqdm.notebook import tqdm, trange\n",
    "from transformers import T5Tokenizer, T5EncoderModel"
   ]
  },
  {
   "cell_type": "code",
   "execution_count": 2,
   "metadata": {},
   "outputs": [],
   "source": [
    "dataset_root = \"/n/holylfs06/LABS/kempner_fellow_binxuwang/Users/binxuwang/DL_Projects/PixArt/training_datasets/objectRelMulti_pilot1\"\n",
    "caption_dir = join(dataset_root, \"captions\")\n",
    "image_dir = join(dataset_root, \"images\")\n",
    "img_feat_dir = join(dataset_root, \"img_vae_features_128resolution\")\n",
    "text_feat_dir = join(dataset_root, \"caption_feature_wmask\")"
   ]
  },
  {
   "cell_type": "code",
   "execution_count": 3,
   "metadata": {},
   "outputs": [
    {
     "name": "stderr",
     "output_type": "stream",
     "text": [
      "You are using the default legacy behaviour of the <class 'transformers.models.t5.tokenization_t5.T5Tokenizer'>. This is expected, and simply means that the `legacy` (previous) behavior will be used so nothing changes for you. If you want to use the new behaviour, set `legacy=False`. This should only be set if you understand what it means, and thoroughly read the reason why this was added as explained in https://github.com/huggingface/transformers/pull/24565\n",
      "/n/home12/hjkim/.conda/envs/torch2/lib/python3.10/site-packages/transformers/tokenization_utils_base.py:1601: FutureWarning: `clean_up_tokenization_spaces` was not set. It will be set to `True` by default. This behavior will be depracted in transformers v4.45, and will be then set to `False` by default. For more details check this issue: https://github.com/huggingface/transformers/issues/31884\n",
      "  warnings.warn(\n"
     ]
    },
    {
     "data": {
      "application/vnd.jupyter.widget-view+json": {
       "model_id": "1928bc2d82074f7eb7023eed9df95692",
       "version_major": 2,
       "version_minor": 0
      },
      "text/plain": [
       "Loading checkpoint shards:   0%|          | 0/2 [00:00<?, ?it/s]"
      ]
     },
     "metadata": {},
     "output_type": "display_data"
    }
   ],
   "source": [
    "T5_path = \"/n/holylfs06/LABS/kempner_fellow_binxuwang/Users/binxuwang/DL_Projects/PixArt/output/pretrained_models/t5_ckpts/t5-v1_1-xxl\"\n",
    "tokenizer = T5Tokenizer.from_pretrained(T5_path, )#subfolder=\"tokenizer\")\n",
    "encoder = T5EncoderModel.from_pretrained(T5_path)"
   ]
  },
  {
   "cell_type": "code",
   "execution_count": 4,
   "metadata": {},
   "outputs": [
    {
     "data": {
      "application/vnd.jupyter.widget-view+json": {
       "model_id": "1fe5bad88dab47d7a045cce5eb92f53a",
       "version_major": 2,
       "version_minor": 0
      },
      "text/plain": [
       "  0%|          | 0/10000 [00:00<?, ?it/s]"
      ]
     },
     "metadata": {},
     "output_type": "display_data"
    }
   ],
   "source": [
    "model_max_length = 20\n",
    "# use T5 tokenizer \n",
    "corpus = []\n",
    "input_ids_col = []\n",
    "attention_mask_col = []\n",
    "for i in trange(10000):\n",
    "    text = open(join(caption_dir, f\"{i}.txt\")).read()\n",
    "    text_tokens_and_mask = tokenizer(\n",
    "        text,\n",
    "        max_length=model_max_length,\n",
    "        padding='max_length',\n",
    "        truncation=True,\n",
    "        return_attention_mask=True,\n",
    "        add_special_tokens=True,\n",
    "        return_tensors='pt'\n",
    "    )\n",
    "    input_ids_col.append(text_tokens_and_mask['input_ids'])\n",
    "    attention_mask_col.append(text_tokens_and_mask['attention_mask'])\n",
    "    # break\n",
    "    # corpus.append(text)\n",
    "\n",
    "input_ids_tsr = th.cat(input_ids_col, dim=0)"
   ]
  },
  {
   "cell_type": "code",
   "execution_count": 5,
   "metadata": {},
   "outputs": [],
   "source": [
    "class T5EmbeddingEncoder(nn.Module):\n",
    "    def __init__(self, model_name=\"t5-base\", device=\"cuda\", ):\n",
    "        super().__init__()\n",
    "        self.tokenizer = T5Tokenizer.from_pretrained(model_name)\n",
    "        self.encoder = T5EncoderModel.from_pretrained(model_name, ).to(torch.bfloat16)\n",
    "        self.encoder.eval()\n",
    "        self.device = device\n",
    "        self.encoder.to(device)\n",
    "\n",
    "    def __call__(self, input_ids, attention_mask=None):\n",
    "        return self.encode(input_ids, attention_mask)\n",
    "\n",
    "    def encode(self, input_ids, attention_mask=None):\n",
    "        if isinstance(input_ids, list) and isinstance(input_ids[0], str):\n",
    "            # assume input_ids is raw text prompts\n",
    "            tokens = self.tokenizer(input_ids, return_tensors=\"pt\", padding=True, truncation=True)\n",
    "            input_ids = tokens[\"input_ids\"].to(self.device)\n",
    "            attention_mask = tokens[\"attention_mask\"].to(self.device)\n",
    "        else:\n",
    "            input_ids = input_ids.to(self.device)\n",
    "            if attention_mask is None:\n",
    "                attention_mask = (input_ids != self.tokenizer.pad_token_id).long().to(self.device)\n",
    "            else:\n",
    "                attention_mask = attention_mask.to(self.device)\n",
    "\n",
    "        with torch.no_grad():\n",
    "            outputs = self.encoder(input_ids=input_ids, attention_mask=attention_mask)\n",
    "            embeddings = outputs.last_hidden_state  # [batch_size, seq_len, hidden_dim]\n",
    "        return embeddings, attention_mask\n",
    "\n",
    "    def to(self, device):\n",
    "        self.device = device\n",
    "        self.encoder.to(device)\n",
    "        return self\n",
    "\n",
    "text_encoder = T5EmbeddingEncoder().to(\"cuda\")\n",
    "text_emb =  text_encoder(input_ids_tsr[0:1])[0]"
   ]
  },
  {
   "cell_type": "code",
   "execution_count": 6,
   "metadata": {},
   "outputs": [
    {
     "data": {
      "text/plain": [
       "tensor([[[ 0.1318, -0.1138, -0.1475,  ..., -0.3457, -0.0708, -0.2520],\n",
       "         [ 0.0664,  0.2441,  0.2969,  ..., -0.0522,  0.0332,  0.1709],\n",
       "         [-0.2891, -0.1172, -0.2227,  ..., -0.1455, -0.0087,  0.2559],\n",
       "         ...,\n",
       "         [-0.0332, -0.3555, -0.2578,  ..., -0.0879,  0.1826, -0.1855],\n",
       "         [-0.0559, -0.3301, -0.2715,  ..., -0.0781,  0.1885, -0.1641],\n",
       "         [-0.0757, -0.3320, -0.2910,  ..., -0.0845,  0.1797, -0.1777]]],\n",
       "       device='cuda:0', dtype=torch.bfloat16)"
      ]
     },
     "execution_count": 6,
     "metadata": {},
     "output_type": "execute_result"
    }
   ],
   "source": [
    "text_emb"
   ]
  },
  {
   "cell_type": "code",
   "execution_count": 7,
   "metadata": {},
   "outputs": [
    {
     "name": "stderr",
     "output_type": "stream",
     "text": [
      "/n/home12/hjkim/.conda/envs/torch2/lib/python3.10/site-packages/timm/models/layers/__init__.py:48: FutureWarning: Importing from timm.models.layers is deprecated, please import via timm.layers\n",
      "  warnings.warn(f\"Importing from {__name__} is deprecated, please import via timm.layers\", FutureWarning)\n",
      "/n/home12/hjkim/.conda/envs/torch2/lib/python3.10/site-packages/mmcv/__init__.py:20: UserWarning: On January 1, 2023, MMCV will release v2.0.0, in which it will remove components related to the training process and add a data transformation module. In addition, it will rename the package names mmcv to mmcv-lite and mmcv-full to mmcv. See https://github.com/open-mmlab/mmcv/blob/master/docs/en/compatibility.md for more details.\n",
      "  warnings.warn(\n"
     ]
    },
    {
     "name": "stdout",
     "output_type": "stream",
     "text": [
      "/n/holylfs06/LABS/kempner_fellow_binxuwang/Users/binxuwang/DL_Projects/PixArt/output/pretrained_models//t5_ckpts/t5-v1_1-xxl\n"
     ]
    },
    {
     "name": "stderr",
     "output_type": "stream",
     "text": [
      "/n/home12/hjkim/.conda/envs/torch2/lib/python3.10/site-packages/transformers/tokenization_utils_base.py:1601: FutureWarning: `clean_up_tokenization_spaces` was not set. It will be set to `True` by default. This behavior will be depracted in transformers v4.45, and will be then set to `False` by default. For more details check this issue: https://github.com/huggingface/transformers/issues/31884\n",
      "  warnings.warn(\n"
     ]
    },
    {
     "data": {
      "application/vnd.jupyter.widget-view+json": {
       "model_id": "b1626439d7694417a7fd7768b5239c83",
       "version_major": 2,
       "version_minor": 0
      },
      "text/plain": [
       "Loading checkpoint shards:   0%|          | 0/2 [00:00<?, ?it/s]"
      ]
     },
     "metadata": {},
     "output_type": "display_data"
    }
   ],
   "source": [
    "import sys\n",
    "sys.path.append(\"/n/home12/hjkim/Github/DiffusionObjectRelation/PixArt-alpha\")\n",
    "from diffusion.model.t5 import T5Embedder\n",
    "\n",
    "\n",
    "pretrain_path = \"/n/holylfs06/LABS/kempner_fellow_binxuwang/Users/binxuwang/DL_Projects/PixArt/output/pretrained_models/\"\n",
    "t5 = T5Embedder(device=\"cuda\", local_cache=True, cache_dir=f'{pretrain_path}/t5_ckpts', model_max_length=model_max_length)"
   ]
  },
  {
   "cell_type": "code",
   "execution_count": 8,
   "metadata": {},
   "outputs": [],
   "source": [
    "caption = [\"triangle is above red circle\"]\n",
    "caption_emb, emb_mask = t5.get_text_embeddings(caption)"
   ]
  },
  {
   "cell_type": "code",
   "execution_count": 9,
   "metadata": {},
   "outputs": [
    {
     "name": "stdout",
     "output_type": "stream",
     "text": [
      "/n/holylfs06/LABS/kempner_fellow_binxuwang/Users/binxuwang/DL_Projects/PixArt/output/pretrained_models//t5_ckpts/t5-v1_1-xxl\n"
     ]
    },
    {
     "data": {
      "application/vnd.jupyter.widget-view+json": {
       "model_id": "ecec529015164ccbafc0f0006b6e4f84",
       "version_major": 2,
       "version_minor": 0
      },
      "text/plain": [
       "Loading checkpoint shards:   0%|          | 0/2 [00:00<?, ?it/s]"
      ]
     },
     "metadata": {},
     "output_type": "display_data"
    },
    {
     "name": "stdout",
     "output_type": "stream",
     "text": [
      "Preparing Visualization prompt embeddings...\n",
      "Saving visualizate prompt text embedding at /n/holylfs06/LABS/kempner_fellow_binxuwang/Users/binxuwang/DL_Projects/PixArt/output/prompt_cache_t5emb_multi\n",
      "Mapping triangle...\n",
      "Mapping square...\n",
      "Mapping circle...\n",
      "Mapping red...\n",
      "Mapping blue...\n",
      "Mapping red square...\n",
      "Mapping blue circle...\n",
      "Mapping blue triangle...\n",
      "Mapping a red square...\n",
      "Mapping a blue circle...\n",
      "Mapping a blue triangle...\n",
      "Mapping the blue square...\n",
      "Mapping the red circle...\n",
      "Mapping the triangle...\n",
      "Mapping the square...\n",
      "Mapping the circle...\n",
      "Mapping the...\n",
      "Mapping or...\n",
      "Mapping an...\n",
      "Mapping red...\n",
      "Mapping blue...\n",
      "Mapping the red square above the blue circle...\n",
      "Mapping blue triangle to the left of red square...\n",
      "Mapping red circle below blue triangle...\n",
      "Mapping red circle to the right of blue triangle...\n",
      "Done!\n"
     ]
    }
   ],
   "source": [
    "import os \n",
    "\n",
    "validation_prompts = [\n",
    "    \"triangle\",\n",
    "    \"square\",\n",
    "    \"circle\",\n",
    "    \"red\",\n",
    "    \"blue\",\n",
    "    \"red square\",\n",
    "    \"blue circle\",\n",
    "    \"blue triangle\",\n",
    "    \"a red square\",\n",
    "    \"a blue circle\",\n",
    "    \"a blue triangle\",\n",
    "    \"the blue square\",\n",
    "    \"the red circle\",\n",
    "    \"the triangle\",\n",
    "    \"the square\",\n",
    "    \"the circle\",\n",
    "    \"the\",\n",
    "    \"or\",\n",
    "    \"an\",\n",
    "    \"red\",\n",
    "    \"blue\",\n",
    "    \"the red square above the blue circle\",\n",
    "    \"blue triangle to the left of red square\",\n",
    "    \"red circle below blue triangle\",\n",
    "    \"red circle to the right of blue triangle\",\n",
    "    ]\n",
    "max_length = 20\n",
    "result_col = []\n",
    "recompute = True \n",
    "device = \"cuda\"\n",
    "prompt_cache_dir = \"/n/holylfs06/LABS/kempner_fellow_binxuwang/Users/binxuwang/DL_Projects/PixArt/output/prompt_cache_t5emb_multi\"\n",
    "os.makedirs(prompt_cache_dir, exist_ok=True)\n",
    "\n",
    "pretrain_path = \"/n/holylfs06/LABS/kempner_fellow_binxuwang/Users/binxuwang/DL_Projects/PixArt/output/pretrained_models/\"\n",
    "t5 = T5Embedder(device=\"cuda\", local_cache=True, cache_dir=f'{pretrain_path}/t5_ckpts', model_max_length=max_length)\n",
    "\n",
    "# Save unconditioned embedding\n",
    "uncond_prompt_embeds, uncond_attention_mask = t5.get_text_embeddings([\"\"], )\n",
    "torch.save({'caption_embeddings': uncond_prompt_embeds, 'emb_mask': uncond_attention_mask, 'prompt': ''}, \n",
    "            join(prompt_cache_dir,f'uncond_{max_length}token.pth'))\n",
    "result_col.append({'prompt': '', 'caption_embeddingss': uncond_prompt_embeds, 'emb_mask': uncond_attention_mask})\n",
    "\n",
    "print(\"Preparing Visualization prompt embeddings...\")\n",
    "print(f\"Saving visualizate prompt text embedding at {prompt_cache_dir}\")\n",
    "\n",
    "for prompt in validation_prompts:\n",
    "    if os.path.exists(join(prompt_cache_dir,f'{prompt}_{max_length}token.pth')) and not recompute:\n",
    "        result_col.append(torch.load(join(prompt_cache_dir,f'{prompt}_{max_length}token.pth')))\n",
    "        continue\n",
    "    print(f\"Mapping {prompt}...\")\n",
    "    caption_emb, caption_token_attention_mask =  t5.get_text_embeddings([prompt], )\n",
    "    torch.save({'caption_embeddings': caption_emb, 'emb_mask': caption_token_attention_mask, 'prompt': prompt}, \n",
    "                join(prompt_cache_dir,f'{prompt}_{max_length}token.pth'))\n",
    "    result_col.append({'prompt': prompt, 'caption_embeddings': caption_emb, 'emb_mask': caption_token_attention_mask})\n",
    "print(\"Done!\")"
   ]
  },
  {
   "cell_type": "code",
   "execution_count": 10,
   "metadata": {},
   "outputs": [
    {
     "data": {
      "text/plain": [
       "torch.Size([1, 20])"
      ]
     },
     "execution_count": 10,
     "metadata": {},
     "output_type": "execute_result"
    }
   ],
   "source": [
    "emb_mask.shape"
   ]
  },
  {
   "cell_type": "code",
   "execution_count": 11,
   "metadata": {},
   "outputs": [
    {
     "data": {
      "text/plain": [
       "torch.Size([1, 20, 4096])"
      ]
     },
     "execution_count": 11,
     "metadata": {},
     "output_type": "execute_result"
    }
   ],
   "source": [
    "caption_emb.shape"
   ]
  },
  {
   "cell_type": "code",
   "execution_count": 12,
   "metadata": {},
   "outputs": [
    {
     "data": {
      "text/plain": [
       "tensor([[[-0.0649, -0.0317,  0.0339,  ...,  0.1157, -0.0608, -0.0317],\n",
       "         [-0.0289, -0.0293,  0.0474,  ...,  0.1162, -0.0918,  0.0625],\n",
       "         [ 0.1064, -0.0310, -0.1289,  ...,  0.1807, -0.1094,  0.1260],\n",
       "         ...,\n",
       "         [ 0.1108,  0.1309, -0.0014,  ..., -0.0923, -0.0028,  0.1011],\n",
       "         [ 0.0062, -0.0520,  0.0166,  ..., -0.0708,  0.0168,  0.1514],\n",
       "         [-0.0732,  0.1602,  0.0664,  ...,  0.0139,  0.0193,  0.0962]]],\n",
       "       device='cuda:0', dtype=torch.bfloat16)"
      ]
     },
     "execution_count": 12,
     "metadata": {},
     "output_type": "execute_result"
    }
   ],
   "source": [
    "caption_emb"
   ]
  },
  {
   "cell_type": "code",
   "execution_count": 74,
   "metadata": {},
   "outputs": [
    {
     "data": {
      "text/plain": [
       "True"
      ]
     },
     "execution_count": 74,
     "metadata": {},
     "output_type": "execute_result"
    }
   ],
   "source": [
    "th.allclose(caption_emb, embedding[ 'caption_embeds'], atol=1E-1, rtol=1E-1)"
   ]
  },
  {
   "cell_type": "code",
   "execution_count": 68,
   "metadata": {},
   "outputs": [
    {
     "data": {
      "text/plain": [
       "tensor([[1, 1, 1, 1, 1, 1, 0, 0, 0, 0, 0, 0, 0, 0, 0, 0, 0, 0, 0, 0]],\n",
       "       device='cuda:0')"
      ]
     },
     "execution_count": 68,
     "metadata": {},
     "output_type": "execute_result"
    }
   ],
   "source": [
    "emb_mask"
   ]
  },
  {
   "cell_type": "code",
   "execution_count": 67,
   "metadata": {},
   "outputs": [
    {
     "data": {
      "text/plain": [
       "{'prompt': 'triangle is above red circle',\n",
       " 'caption_embeds': tensor([[[ 0.0386,  0.0007,  0.0167,  ...,  0.2578, -0.0903,  0.0042],\n",
       "          [ 0.0723,  0.0742,  0.0349,  ...,  0.0586, -0.1196, -0.0781],\n",
       "          [ 0.0859, -0.0747, -0.1338,  ...,  0.2041, -0.2061,  0.1104],\n",
       "          ...,\n",
       "          [-0.1069,  0.2070, -0.0820,  ..., -0.0559,  0.0347,  0.0674],\n",
       "          [-0.1299,  0.1836, -0.1099,  ..., -0.0120,  0.0574, -0.0200],\n",
       "          [-0.0781,  0.2246, -0.1523,  ..., -0.0378,  0.0069, -0.0378]]],\n",
       "        device='cuda:0', dtype=torch.bfloat16),\n",
       " 'emb_mask': tensor([[1, 1, 1, 1, 1, 1, 0, 0, 0, 0, 0, 0, 0, 0, 0, 0, 0, 0, 0, 0]],\n",
       "        device='cuda:0')}"
      ]
     },
     "execution_count": 67,
     "metadata": {},
     "output_type": "execute_result"
    }
   ],
   "source": [
    "embedding"
   ]
  },
  {
   "cell_type": "code",
   "execution_count": 36,
   "metadata": {},
   "outputs": [
    {
     "data": {
      "text/plain": [
       "torch.Size([1, 20])"
      ]
     },
     "execution_count": 36,
     "metadata": {},
     "output_type": "execute_result"
    }
   ],
   "source": [
    "embedding[\"emb_mask\"].shape"
   ]
  },
  {
   "cell_type": "code",
   "execution_count": null,
   "metadata": {},
   "outputs": [],
   "source": []
  }
 ],
 "metadata": {
  "kernelspec": {
   "display_name": "torch2",
   "language": "python",
   "name": "python3"
  },
  "language_info": {
   "codemirror_mode": {
    "name": "ipython",
    "version": 3
   },
   "file_extension": ".py",
   "mimetype": "text/x-python",
   "name": "python",
   "nbconvert_exporter": "python",
   "pygments_lexer": "ipython3",
   "version": "3.10.18"
  }
 },
 "nbformat": 4,
 "nbformat_minor": 2
}
