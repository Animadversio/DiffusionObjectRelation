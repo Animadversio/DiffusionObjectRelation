{
 "cells": [
  {
   "cell_type": "markdown",
   "metadata": {},
   "source": [
    "# Creating a dataset of only single object images"
   ]
  },
  {
   "cell_type": "code",
   "execution_count": 94,
   "metadata": {},
   "outputs": [],
   "source": [
    "import os\n",
    "import json\n",
    "import torch\n",
    "import numpy as np\n",
    "import random\n",
    "import matplotlib.pyplot as plt\n",
    "import torch\n",
    "from torch.utils.data import Dataset, DataLoader, TensorDataset\n",
    "from torchvision import transforms\n",
    "from diffusers import AutoencoderKL\n",
    "from tqdm.notebook import tqdm\n",
    "from datasets import load_dataset\n",
    "from PIL import Image, ImageDraw\n",
    "from os.path import join"
   ]
  },
  {
   "cell_type": "code",
   "execution_count": 95,
   "metadata": {},
   "outputs": [],
   "source": [
    "\n",
    "class SingleShapeDataset(Dataset):\n",
    "    def __init__(self, num_images, resolution=64, radius=8, transform=None):\n",
    "        self.num_images = num_images\n",
    "        self.shapes = ['triangle', 'circle', 'square']\n",
    "        self.colors = ['red', 'blue']\n",
    "        self.articles = ['a', 'an', 'the', 'or', '']\n",
    "        self.canvas_size = resolution\n",
    "        self.radius = radius\n",
    "        self.transform = transform \n",
    "        self.shape_to_idx = {'triangle': 0, 'circle': 1, 'square': 2}\n",
    "        self.color_to_rgb = {'red': 'red', 'blue': 'blue'}\n",
    "\n",
    "    def __len__(self):\n",
    "        return self.num_images\n",
    "    \n",
    "    def draw_shape_on_image(self, img, shape, location, color):\n",
    "        draw = ImageDraw.Draw(img)\n",
    "        x, y = location\n",
    "        \n",
    "        if shape == 'circle':\n",
    "            r = self.radius\n",
    "            draw.ellipse([(x - r, y - r), (x + r, y + r)], fill=color)\n",
    "        elif shape == 'square':\n",
    "            s = self.radius * 2\n",
    "            draw.rectangle([(x - s//2, y - s//2), (x + s//2, y + s//2)], fill=color)\n",
    "        elif shape == 'triangle':\n",
    "            s = self.radius * 2\n",
    "            h = s * (3 ** 0.5) / 2\n",
    "            point1 = (x, y - h / 3)\n",
    "            point2 = (x - s / 2, y + h * 2 / 3)\n",
    "            point3 = (x + s / 2, y + h * 2 / 3)\n",
    "            draw.polygon([point1, point2, point3], fill=color)\n",
    "\n",
    "        return img\n",
    "    \n",
    "\n",
    "    def __getitem__(self, idx):\n",
    "        # Blank image\n",
    "        img = Image.new('RGB', (self.canvas_size, self.canvas_size), 'gray')\n",
    "\n",
    "        # Randomly select shape and color\n",
    "        include_color = random.random() < 0.8\n",
    "        shape = random.choice(self.shapes)\n",
    "        color = random.choice(self.colors)\n",
    "        article = random.choice(self.articles)\n",
    "\n",
    "        components = [article, color, shape]\n",
    "        caption = f\"{article} {color if include_color else ''} {shape.lstrip()}\".strip()\n",
    "\n",
    "        # Random location\n",
    "        x = random.randint(self.radius + 1, self.canvas_size - self.radius - 1)\n",
    "        y = random.randint(self.radius + 1, self.canvas_size - self.radius - 1)\n",
    "\n",
    "        # Draw the shape\n",
    "        img = self.draw_shape_on_image(img, shape, (x, y), color=self.color_to_rgb[color])\n",
    "\n",
    "        # Convert image\n",
    "        if self.transform:\n",
    "            img = self.transform(img)\n",
    "        else:\n",
    "            img = transforms.ToTensor()(img)\n",
    "\n",
    "        labels = {\n",
    "            'shape': self.shape_to_idx[shape],\n",
    "            'location': torch.tensor([x, y], dtype=torch.float32),\n",
    "            'caption': caption\n",
    "        }\n",
    "\n",
    "        return img, labels\n"
   ]
  },
  {
   "cell_type": "code",
   "execution_count": 93,
   "metadata": {},
   "outputs": [
    {
     "name": "stdout",
     "output_type": "stream",
     "text": [
      "Images batch shape: torch.Size([16, 3, 64, 64])\n",
      "Labels batch: {'shape': tensor([1, 0, 1, 1, 1, 0, 2, 2, 2, 2, 0, 2, 0, 1, 1, 0]), 'location': tensor([[27., 11.],\n",
      "        [43., 36.],\n",
      "        [24., 17.],\n",
      "        [29., 28.],\n",
      "        [38., 15.],\n",
      "        [31., 54.],\n",
      "        [43., 45.],\n",
      "        [20., 35.],\n",
      "        [55., 25.],\n",
      "        [39., 38.],\n",
      "        [51., 55.],\n",
      "        [37., 11.],\n",
      "        [33., 53.],\n",
      "        [46., 26.],\n",
      "        [32.,  9.],\n",
      "        [37., 14.]]), 'caption': ['a blue circle', 'red triangle', 'an blue circle', 'or red circle', 'the red circle', 'the blue triangle', 'red square', 'a red square', 'the blue square', 'a blue square', 'or red triangle', 'a red square', 'the blue triangle', 'red circle', 'the blue circle', 'the red triangle']}\n",
      "Sample of batch captions:\n",
      "Image 0: a blue circle\n",
      "Image 1: red triangle\n",
      "Image 2: an blue circle\n"
     ]
    },
    {
     "data": {
      "image/png": "[encoded data removed]",
      "text/plain": [
       "<Figure size 1000x1000 with 4 Axes>"
      ]
     },
     "metadata": {},
     "output_type": "display_data"
    }
   ],
   "source": [
    "# Test the class to make sure the dataset images are properly formatted. \n",
    "\n",
    "if __name__ == '__main__':\n",
    "\n",
    "    # Define transform\n",
    "    transform = transforms.Compose([\n",
    "        transforms.ToTensor(),\n",
    "    ])\n",
    "\n",
    "    # Create dataset and dataloader\n",
    "    dataset = SingleShapeDataset(num_images=10000, transform=transform)\n",
    "    dataloader = DataLoader(dataset, batch_size=16, shuffle=True)\n",
    "\n",
    "    dataset.__getitem__(1)\n",
    "\n",
    "    # Inspect one batch\n",
    "    for images, labels in dataloader:\n",
    "        print(f\"Images batch shape: {images.size()}\")\n",
    "        print(f\"Labels batch: {labels}\")\n",
    "        print(\"Sample of batch captions:\")\n",
    "        for i in range(min(3, len(images))):\n",
    "            print(f\"Image {i}: {labels['caption'][i]}\")\n",
    "        break\n",
    "\n",
    "    # Display a few images and captions\n",
    "    fig, axes = plt.subplots(2, 2, figsize=(10, 10))\n",
    "    axes = axes.ravel()\n",
    "\n",
    "    for i in range(4):\n",
    "        img, lbl = dataset[i]\n",
    "        img_np = img.permute(1, 2, 0).numpy()\n",
    "        \n",
    "        axes[i].imshow(img_np)\n",
    "        axes[i].set_title(lbl['caption'], fontsize=10)\n",
    "        axes[i].axis('off')\n",
    "\n",
    "    plt.tight_layout()\n",
    "    plt.show()\n"
   ]
  },
  {
   "cell_type": "code",
   "execution_count": 96,
   "metadata": {},
   "outputs": [
    {
     "name": "stdout",
     "output_type": "stream",
     "text": [
      "Mean pixel value: 0.493595153093338\n",
      "Std dev of pixel values: 0.11119922995567322\n"
     ]
    }
   ],
   "source": [
    "# Create the single-object dataset\n",
    "\n",
    "transform = transforms.Compose([\n",
    "    transforms.ToTensor(),\n",
    "])\n",
    "\n",
    "dataset = SingleShapeDataset(num_images=10000, transform=transform, radius=16, resolution=128)\n",
    "\n",
    "# Sample 10,000 images and store images + labels\n",
    "images = []\n",
    "labels = []\n",
    "\n",
    "for i in range(10000):\n",
    "    img, lbl = dataset[i]\n",
    "    images.append(img)\n",
    "    labels.append(lbl)\n",
    "\n",
    "# Stack all images into a single tensor\n",
    "image_tensors = torch.stack(images)  # shape: [10000, 3, H, W]\n",
    "\n",
    "# Inspect image statistics\n",
    "print(\"Mean pixel value:\", image_tensors.mean().item())\n",
    "print(\"Std dev of pixel values:\", image_tensors.std().item())\n",
    "\n"
   ]
  },
  {
   "cell_type": "code",
   "execution_count": 97,
   "metadata": {},
   "outputs": [
    {
     "name": "stdout",
     "output_type": "stream",
     "text": [
      "Image batch shape: torch.Size([16, 3, 128, 128])\n",
      "Shape indices: tensor([0, 2, 0, 2, 2, 1, 0, 2, 2, 1, 0, 1, 0, 2, 1, 1])\n",
      "Locations: tensor([[ 87.,  71.],\n",
      "        [107., 108.],\n",
      "        [ 99.,  89.],\n",
      "        [ 61.,  55.],\n",
      "        [ 42.,  97.],\n",
      "        [ 78.,  70.],\n",
      "        [ 45.,  54.],\n",
      "        [ 94., 109.],\n",
      "        [ 26.,  34.],\n",
      "        [ 29.,  93.],\n",
      "        [ 18.,  66.],\n",
      "        [ 27.,  37.],\n",
      "        [ 41.,  54.],\n",
      "        [ 28., 100.],\n",
      "        [ 94.,  34.],\n",
      "        [ 31.,  93.]])\n"
     ]
    }
   ],
   "source": [
    "\n",
    "# Extract single-object labels\n",
    "shapes = torch.tensor([item['shape'] for item in labels], dtype=torch.long)\n",
    "locations = torch.stack([item['location'] for item in labels], dim=0)\n",
    "\n",
    "# Create a TensorDataset (no need for shape2/location2)\n",
    "dataset = TensorDataset(image_tensors, shapes, locations)\n",
    "\n",
    "# Create DataLoader\n",
    "dataloader = DataLoader(dataset, batch_size=16, shuffle=True)\n",
    "\n",
    "# Inspect a batch\n",
    "batch = next(iter(dataloader))\n",
    "images_batch, shapes_batch, locations_batch = batch\n",
    "\n",
    "print(\"Image batch shape:\", images_batch.shape)\n",
    "print(\"Shape indices:\", shapes_batch)\n",
    "print(\"Locations:\", locations_batch)\n"
   ]
  },
  {
   "cell_type": "code",
   "execution_count": 98,
   "metadata": {},
   "outputs": [
    {
     "name": "stdout",
     "output_type": "stream",
     "text": [
      "Saved single-object dataset to: /n/holylfs06/LABS/kempner_fellow_binxuwang/Users/binxuwang/DL_Projects/Diffusion_ObjectRelation/shapes_single_dataset_randomized.pth\n"
     ]
    }
   ],
   "source": [
    "### Cache and save the dataset to disk\n",
    "\n",
    "\n",
    "# Define save path\n",
    "save_dir = \"/n/holylfs06/LABS/kempner_fellow_binxuwang/Users/binxuwang/DL_Projects/Diffusion_ObjectRelation\"\n",
    "os.makedirs(save_dir, exist_ok=True)\n",
    "save_path = os.path.join(save_dir, \"shapes_single_dataset_randomized.pth\")\n",
    "\n",
    "\n",
    "# Save as a dictionary\n",
    "torch.save({\n",
    "    \"images\": image_tensors,     # shape: [N, 3, H, W]\n",
    "    \"shapes\": shapes,            # shape: [N]\n",
    "    \"locations\": locations       # shape: [N, 2]\n",
    "}, save_path)\n",
    "\n",
    "print(f\"Saved single-object dataset to: {save_path}\")\n"
   ]
  },
  {
   "cell_type": "code",
   "execution_count": 101,
   "metadata": {},
   "outputs": [],
   "source": [
    "\n",
    "class SingleShapesDatasetCached(Dataset):\n",
    "    def __init__(self, path, transform=None):\n",
    "        \"\"\"\n",
    "        Loads cached single-object dataset from .pth file.\n",
    "\n",
    "        Args:\n",
    "        - path: path to the .pth file\n",
    "        - transform: optional transform to apply to each image\n",
    "        \"\"\"\n",
    "        self.data = torch.load(path)\n",
    "        self.images = self.data[\"images\"]\n",
    "        self.shapes = self.data[\"shapes\"]\n",
    "        self.locations = self.data[\"locations\"]\n",
    "        self.transform = transform\n",
    "\n",
    "    def __len__(self):\n",
    "        return len(self.images)\n",
    "\n",
    "    def __getitem__(self, idx):\n",
    "        img = self.images[idx]\n",
    "        shape = self.shapes[idx]\n",
    "        location = self.locations[idx]\n",
    "\n",
    "        if self.transform:\n",
    "            img = self.transform(img)\n",
    "\n",
    "        return img, (shape, location)\n"
   ]
  },
  {
   "cell_type": "code",
   "execution_count": 102,
   "metadata": {},
   "outputs": [
    {
     "name": "stderr",
     "output_type": "stream",
     "text": [
      "/tmp/ipykernel_3400020/3173275002.py:10: FutureWarning: You are using `torch.load` with `weights_only=False` (the current default value), which uses the default pickle module implicitly. It is possible to construct malicious pickle data which will execute arbitrary code during unpickling (See https://github.com/pytorch/pytorch/blob/main/SECURITY.md#untrusted-models for more details). In a future release, the default value for `weights_only` will be flipped to `True`. This limits the functions that could be executed during unpickling. Arbitrary objects will no longer be allowed to be loaded via this mode unless they are explicitly allowlisted by the user via `torch.serialization.add_safe_globals`. We recommend you start setting `weights_only=True` for any use case where you don't have full control of the loaded file. Please open an issue on GitHub for any issues related to this experimental feature.\n",
      "  self.data = torch.load(path)\n"
     ]
    },
    {
     "name": "stdout",
     "output_type": "stream",
     "text": [
      "torch.Size([16, 3, 128, 128]) torch.Size([16]) torch.Size([16, 2])\n"
     ]
    }
   ],
   "source": [
    "# Reload cached dataset\n",
    "transform = transforms.Normalize(mean=[0.5]*3, std=[0.5]*3)\n",
    "dataset = SingleShapesDatasetCached(path=\"/n/holylfs06/LABS/kempner_fellow_binxuwang/Users/binxuwang/DL_Projects/Diffusion_ObjectRelation/shapes_single_dataset_randomized.pth\", transform=transform)\n",
    "\n",
    "# Create a dataloader\n",
    "dataloader = DataLoader(dataset, batch_size=16, shuffle=True)\n",
    "\n",
    "# Inspect a batch\n",
    "batch = next(iter(dataloader))\n",
    "images, (shapes, locations) = batch\n",
    "print(images.shape, shapes.shape, locations.shape)\n"
   ]
  },
  {
   "cell_type": "markdown",
   "metadata": {},
   "source": [
    "# Load the cached dataset and encode images using VAE"
   ]
  },
  {
   "cell_type": "code",
   "execution_count": 103,
   "metadata": {},
   "outputs": [
    {
     "name": "stderr",
     "output_type": "stream",
     "text": [
      "/tmp/ipykernel_3400020/3173275002.py:10: FutureWarning: You are using `torch.load` with `weights_only=False` (the current default value), which uses the default pickle module implicitly. It is possible to construct malicious pickle data which will execute arbitrary code during unpickling (See https://github.com/pytorch/pytorch/blob/main/SECURITY.md#untrusted-models for more details). In a future release, the default value for `weights_only` will be flipped to `True`. This limits the functions that could be executed during unpickling. Arbitrary objects will no longer be allowed to be loaded via this mode unless they are explicitly allowlisted by the user via `torch.serialization.add_safe_globals`. We recommend you start setting `weights_only=True` for any use case where you don't have full control of the loaded file. Please open an issue on GitHub for any issues related to this experimental feature.\n",
      "  self.data = torch.load(path)\n"
     ]
    }
   ],
   "source": [
    "transform = transforms.Compose([\n",
    "    transforms.Normalize(mean=[0.5]*3, std=[0.5]*3)\n",
    "])\n",
    "\n",
    "dataset = SingleShapesDatasetCached(\n",
    "    path=\"/n/holylfs06/LABS/kempner_fellow_binxuwang/Users/binxuwang/DL_Projects/Diffusion_ObjectRelation/shapes_single_dataset_randomized.pth\",\n",
    "    transform=transform\n",
    ")\n",
    "\n",
    "dataloader = DataLoader(dataset, batch_size=16, shuffle=True)\n"
   ]
  },
  {
   "cell_type": "code",
   "execution_count": 104,
   "metadata": {},
   "outputs": [],
   "source": [
    "device = torch.device(\"cuda:0\" if torch.cuda.is_available() else \"cpu\")\n",
    "vae_model = \"stabilityai/sd-vae-ft-ema\" #@param [\"stabilityai/sd-vae-ft-mse\", \"stabilityai/sd-vae-ft-ema\"]\n",
    "vae = AutoencoderKL.from_pretrained(vae_model).to(device)\n"
   ]
  },
  {
   "cell_type": "code",
   "execution_count": 105,
   "metadata": {},
   "outputs": [
    {
     "data": {
      "text/plain": [
       "torch.Size([3, 128, 128])"
      ]
     },
     "execution_count": 105,
     "metadata": {},
     "output_type": "execute_result"
    }
   ],
   "source": [
    "dataset[0][0].shape"
   ]
  },
  {
   "cell_type": "code",
   "execution_count": 106,
   "metadata": {},
   "outputs": [
    {
     "data": {
      "text/plain": [
       "<matplotlib.image.AxesImage at 0x14eb0b5b6020>"
      ]
     },
     "execution_count": 106,
     "metadata": {},
     "output_type": "execute_result"
    },
    {
     "data": {
      "image/png": "[encoded data removed]",
      "text/plain": [
       "<Figure size 1000x500 with 2 Axes>"
      ]
     },
     "metadata": {},
     "output_type": "display_data"
    }
   ],
   "source": [
    "image_tsr = dataset[0][0].unsqueeze(0)\n",
    "with torch.no_grad():\n",
    "    latent_dist = vae.encode(image_tsr.to(device)).latent_dist # * 2 - 1\n",
    "    latent_sample = latent_dist.sample()\n",
    "    image_rec = (vae.decode(latent_sample).sample * 0.5 + 0.5).clamp(0,1)\n",
    "    # latent_mean = latent_dist.mean\n",
    "    # image_rec = vae.decode(latent_mean).sample * 0.5 + 0.5\n",
    "image_rec.shape\n",
    "\n",
    "plt.figure(figsize=(10, 5))\n",
    "plt.subplot(1, 2, 1)\n",
    "plt.imshow(image_rec[0].permute(1, 2, 0).cpu().numpy())\n",
    "plt.subplot(1, 2, 2)\n",
    "plt.imshow((image_tsr[0] * 0.5 + 0.5).clamp(0,1).permute(1, 2, 0).cpu().numpy())"
   ]
  },
  {
   "cell_type": "markdown",
   "metadata": {},
   "source": [
    "# Make it into a pixart trainable dataset"
   ]
  },
  {
   "cell_type": "code",
   "execution_count": 107,
   "metadata": {},
   "outputs": [],
   "source": [
    "from torchvision.transforms import Compose, ToTensor, ToPILImage, Normalize, CenterCrop"
   ]
  },
  {
   "cell_type": "code",
   "execution_count": 108,
   "metadata": {},
   "outputs": [],
   "source": [
    "tfm =Compose([Normalize(0.5,0.5)])"
   ]
  },
  {
   "cell_type": "code",
   "execution_count": 109,
   "metadata": {},
   "outputs": [
    {
     "data": {
      "text/plain": [
       "tensor([[[ 0.0118,  0.7020, -0.0510,  ..., -0.2706,  0.8431,  0.6078],\n",
       "         [-0.4275,  0.4196, -0.4902,  ..., -0.4902, -0.4196,  0.6392],\n",
       "         [-0.7176,  0.3569,  0.3647,  ..., -0.0980,  0.0980,  0.5216],\n",
       "         ...,\n",
       "         [ 0.4431, -0.0667, -0.4353,  ...,  0.6157,  0.4667,  1.0000],\n",
       "         [ 0.0118, -0.4824, -0.6392,  ..., -0.7020, -0.1373, -0.4275],\n",
       "         [-0.9765, -0.1686,  0.7020,  ...,  0.4824, -0.5216, -0.4275]],\n",
       "\n",
       "        [[-0.7569,  0.1843,  0.8980,  ...,  0.5765,  0.9765,  0.3255],\n",
       "         [-0.2863, -0.9373,  0.5373,  ..., -0.8824, -0.4980,  0.7647],\n",
       "         [ 0.5137, -0.7333, -0.6000,  ..., -0.4353,  0.6235,  0.8902],\n",
       "         ...,\n",
       "         [-0.1373, -1.0000, -0.4980,  ..., -0.5608, -0.6235,  0.8353],\n",
       "         [-0.8196, -0.1059,  0.2078,  ..., -0.5529, -0.2392,  0.9451],\n",
       "         [-0.0431, -0.8118,  0.2706,  ...,  0.2078,  0.1843, -0.4980]],\n",
       "\n",
       "        [[ 0.1294, -0.9608, -0.6941,  ..., -0.3569,  0.0745,  0.0667],\n",
       "         [-0.6000,  0.2392, -0.1608,  ..., -0.0039,  0.4510, -0.8039],\n",
       "         [ 0.1765,  0.7882, -0.1059,  ...,  0.0118, -0.1843, -0.4667],\n",
       "         ...,\n",
       "         [-0.5137, -0.7882,  0.0353,  ...,  0.8510, -0.4353, -0.4667],\n",
       "         [ 0.2627, -0.8039, -0.4353,  ..., -0.5451, -0.6471, -0.6000],\n",
       "         [-0.4980, -0.1451,  0.8980,  ...,  0.1686,  0.3333,  0.9216]]])"
      ]
     },
     "execution_count": 109,
     "metadata": {},
     "output_type": "execute_result"
    }
   ],
   "source": [
    "tfm(ToTensor()(ToPILImage()(torch.randn(3, 128, 128))))"
   ]
  },
  {
   "cell_type": "code",
   "execution_count": 110,
   "metadata": {},
   "outputs": [
    {
     "data": {
      "text/plain": [
       "Compose(\n",
       "    Normalize(mean=[0.5, 0.5, 0.5], std=[0.5, 0.5, 0.5])\n",
       ")"
      ]
     },
     "execution_count": 110,
     "metadata": {},
     "output_type": "execute_result"
    }
   ],
   "source": [
    "transform"
   ]
  },
  {
   "cell_type": "markdown",
   "metadata": {},
   "source": [
    "Note that with vision, the formats matter! PIL image != tensors. These are two very different formats. "
   ]
  },
  {
   "cell_type": "code",
   "execution_count": 111,
   "metadata": {},
   "outputs": [
    {
     "data": {
      "application/vnd.jupyter.widget-view+json": {
       "model_id": "821850885cfe488aa7e5f971f9e506e4",
       "version_major": 2,
       "version_minor": 0
      },
      "text/plain": [
       "0it [00:00, ?it/s]"
      ]
     },
     "metadata": {},
     "output_type": "display_data"
    }
   ],
   "source": [
    "transform = transforms.Compose([\n",
    "    lambda x: x.convert(\"RGB\"),\n",
    "    # Add more transforms if needed\n",
    "])\n",
    "resolution = 128\n",
    "dataset = SingleShapeDataset(num_images=10000, resolution=resolution, radius=16, transform=transform)\n",
    "\n",
    "root_dir = \"/n/holylfs06/LABS/kempner_fellow_binxuwang/Users/binxuwang/DL_Projects/PixArt/training_datasets/objectRelSingle_randomized_pilot1\"\n",
    "images_dir = \"images\"\n",
    "captions_dir = \"captions\"\n",
    "\n",
    "images_dir_absolute = join(root_dir, images_dir)\n",
    "captions_dir_absolute = join(root_dir, captions_dir)\n",
    "\n",
    "if not os.path.exists(root_dir):\n",
    "    os.makedirs(join(root_dir, images_dir))\n",
    "\n",
    "if not os.path.exists(join(root_dir, images_dir)):\n",
    "    os.makedirs(join(root_dir, images_dir))\n",
    "if not os.path.exists(join(root_dir, captions_dir)):\n",
    "    os.makedirs(join(root_dir, captions_dir))\n",
    "\n",
    "image_format = \"png\"\n",
    "json_name = \"partition/data_info.json\"\n",
    "if not os.path.exists(join(root_dir, \"partition\")):\n",
    "    os.makedirs(join(root_dir, \"partition\"))\n",
    "\n",
    "absolute_json_name = join(root_dir, json_name)\n",
    "data_info = []\n",
    "\n",
    "for order, (image, labels) in tqdm(enumerate(dataset)): \n",
    "    if order >= 10000:\n",
    "        break\n",
    "    image = image\n",
    "    image.save(f\"{images_dir_absolute}/{order}.{image_format}\")\n",
    "    with open(f\"{captions_dir_absolute}/{order}.txt\", \"w\") as text_file:\n",
    "        text_file.write(labels[\"caption\"])\n",
    "    \n",
    "    width, height = resolution, resolution\n",
    "    ratio = 1\n",
    "    data_info.append({\n",
    "        \"height\": height,\n",
    "        \"width\": width,\n",
    "        \"ratio\": ratio,\n",
    "        \"path\": f\"{order}.{image_format}\", # images/ # if there is images/ in the path it will cause error in InternalData.py L55, L56. \n",
    "        \"prompt\": labels[\"caption\"],\n",
    "    })        \n",
    "\n",
    "with open(absolute_json_name, \"w\") as json_file:\n",
    "    json.dump(data_info, json_file)"
   ]
  },
  {
   "cell_type": "code",
   "execution_count": 112,
   "metadata": {},
   "outputs": [
    {
     "data": {
      "text/plain": [
       "'/n/holylfs06/LABS/kempner_fellow_binxuwang/Users/binxuwang/DL_Projects/PixArt/training_datasets/objectRelSingle_randomized_pilot1/partition/data_info.json'"
      ]
     },
     "execution_count": 112,
     "metadata": {},
     "output_type": "execute_result"
    }
   ],
   "source": [
    "with open(absolute_json_name, \"w\") as json_file:\n",
    "    json.dump(data_info, json_file)\n",
    "\n",
    "absolute_json_name"
   ]
  },
  {
   "cell_type": "markdown",
   "metadata": {},
   "source": [
    "# Extract Features "
   ]
  },
  {
   "cell_type": "code",
   "execution_count": 113,
   "metadata": {},
   "outputs": [
    {
     "name": "stdout",
     "output_type": "stream",
     "text": [
      "/n/home12/hjkim/Github/DiffusionObjectRelation/PixArt-alpha\n",
      "/n/home12/hjkim/.conda/envs/torch2/lib/python3.10/site-packages/timm/models/layers/__init__.py:48: FutureWarning: Importing from timm.models.layers is deprecated, please import via timm.layers\n",
      "  warnings.warn(f\"Importing from {__name__} is deprecated, please import via timm.layers\", FutureWarning)\n",
      "/n/home12/hjkim/.conda/envs/torch2/lib/python3.10/site-packages/mmcv/__init__.py:20: UserWarning: On January 1, 2023, MMCV will release v2.0.0, in which it will remove components related to the training process and add a data transformation module. In addition, it will rename the package names mmcv to mmcv-lite and mmcv-full to mmcv. See https://github.com/open-mmlab/mmcv/blob/master/docs/en/compatibility.md for more details.\n",
      "  warnings.warn(\n",
      "/n/home12/hjkim/.conda/envs/torch2/lib/python3.10/site-packages/transformers/utils/hub.py:127: FutureWarning: Using `TRANSFORMERS_CACHE` is deprecated and will be removed in v5 of Transformers. Use `HF_HOME` instead.\n",
      "  warnings.warn(\n",
      "/n/holylfs06/LABS/kempner_fellow_binxuwang/Users/binxuwang/DL_Projects/PixArt/output/pretrained_models/t5_ckpts/t5-v1_1-xxl\n",
      "You are using the default legacy behaviour of the <class 'transformers.models.t5.tokenization_t5.T5Tokenizer'>. This is expected, and simply means that the `legacy` (previous) behavior will be used so nothing changes for you. If you want to use the new behaviour, set `legacy=False`. This should only be set if you understand what it means, and thoroughly read the reason why this was added as explained in https://github.com/huggingface/transformers/pull/24565\n",
      "/n/home12/hjkim/.conda/envs/torch2/lib/python3.10/site-packages/transformers/tokenization_utils_base.py:1601: FutureWarning: `clean_up_tokenization_spaces` was not set. It will be set to `True` by default. This behavior will be depracted in transformers v4.45, and will be then set to `False` by default. For more details check this issue: https://github.com/huggingface/transformers/issues/31884\n",
      "  warnings.warn(\n",
      "Loading checkpoint shards: 100%|██████████████████| 2/2 [00:25<00:00, 12.98s/it]\n",
      "100%|█████████████████████████████████| 10000/10000 [00:00<00:00, 956032.09it/s]\n",
      "Extracting Single Image Resolution 128\n",
      "An error occurred while trying to fetch /n/holylfs06/LABS/kempner_fellow_binxuwang/Users/binxuwang/DL_Projects/PixArt/output/pretrained_models/sd-vae-ft-ema: Error no file named diffusion_pytorch_model.safetensors found in directory /n/holylfs06/LABS/kempner_fellow_binxuwang/Users/binxuwang/DL_Projects/PixArt/output/pretrained_models/sd-vae-ft-ema.\n",
      "Defaulting to unsafe serialization. Pass `allow_pickle=False` to raise an error instead.\n",
      "100%|████████████████████████████████████| 10000/10000 [00:59<00:00, 167.03it/s]\n"
     ]
    }
   ],
   "source": [
    "%cd ../PixArt-alpha\n",
    "!python ~/Github/DiffusionObjectRelation/PixArt-alpha/tools/extract_features.py \\\n",
    "    --img_size 128 \\\n",
    "    --max_tokens 20 \\\n",
    "    --dataset_root \"/n/holylfs06/LABS/kempner_fellow_binxuwang/Users/binxuwang/DL_Projects/PixArt/training_datasets/objectRelSingle_randomized_pilot1\" \\\n",
    "    --json_path \"/n/holylfs06/LABS/kempner_fellow_binxuwang/Users/binxuwang/DL_Projects/PixArt/training_datasets/objectRelSingle_randomized_pilot1/partition/data_info.json\" \\\n",
    "    --t5_save_root \"/n/holylfs06/LABS/kempner_fellow_binxuwang/Users/binxuwang/DL_Projects/PixArt/training_datasets/objectRelSingle_randomized_pilot1/caption_feature_wmask\" \\\n",
    "    --vae_save_root \"/n/holylfs06/LABS/kempner_fellow_binxuwang/Users/binxuwang/DL_Projects/PixArt/training_datasets/objectRelSingle_randomized_pilot1/img_vae_features\" \\\n",
    "    --pretrained_models_dir \"/n/holylfs06/LABS/kempner_fellow_binxuwang/Users/binxuwang/DL_Projects/PixArt/output/pretrained_models\""
   ]
  },
  {
   "cell_type": "code",
   "execution_count": null,
   "metadata": {},
   "outputs": [
    {
     "name": "stdout",
     "output_type": "stream",
     "text": [
      "1.5G\t/n/holylfs06/LABS/kempner_fellow_binxuwang/Users/binxuwang/DL_Projects/PixArt/objectRelSingle_pilot4/caption_feature_wmask\n",
      "40M\t/n/holylfs06/LABS/kempner_fellow_binxuwang/Users/binxuwang/DL_Projects/PixArt/objectRelSingle_pilot4/captions\n",
      "40M\t/n/holylfs06/LABS/kempner_fellow_binxuwang/Users/binxuwang/DL_Projects/PixArt/objectRelSingle_pilot4/images\n",
      "118M\t/n/holylfs06/LABS/kempner_fellow_binxuwang/Users/binxuwang/DL_Projects/PixArt/objectRelSingle_pilot4/img_vae_features_128resolution\n",
      "884K\t/n/holylfs06/LABS/kempner_fellow_binxuwang/Users/binxuwang/DL_Projects/PixArt/objectRelSingle_pilot4/partition\n"
     ]
    }
   ],
   "source": [
    "!du -sh /n/holylfs06/LABS/kempner_fellow_binxuwang/Users/binxuwang/DL_Projects/PixArt/training_datasets/objectRelSingle_randomized_pilot1/*"
   ]
  },
  {
   "cell_type": "markdown",
   "metadata": {},
   "source": []
  }
 ],
 "metadata": {
  "kernelspec": {
   "display_name": "torch2",
   "language": "python",
   "name": "python3"
  },
  "language_info": {
   "codemirror_mode": {
    "name": "ipython",
    "version": 3
   },
   "file_extension": ".py",
   "mimetype": "text/x-python",
   "name": "python",
   "nbconvert_exporter": "python",
   "pygments_lexer": "ipython3",
   "version": "3.10.18"
  }
 },
 "nbformat": 4,
 "nbformat_minor": 2
}
