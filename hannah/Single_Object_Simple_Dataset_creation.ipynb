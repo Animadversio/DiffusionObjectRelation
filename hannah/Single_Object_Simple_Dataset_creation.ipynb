{
 "cells": [
  {
   "cell_type": "markdown",
   "metadata": {},
   "source": [
    "# Creating a dataset of only single object images"
   ]
  },
  {
   "cell_type": "code",
   "execution_count": 2,
   "metadata": {},
   "outputs": [],
   "source": [
    "import os\n",
    "import json\n",
    "import torch\n",
    "import numpy as np\n",
    "import random\n",
    "import matplotlib.pyplot as plt\n",
    "import torch\n",
    "from torch.utils.data import Dataset, DataLoader, TensorDataset\n",
    "from torchvision import transforms\n",
    "from diffusers import AutoencoderKL\n",
    "from tqdm.notebook import tqdm\n",
    "from datasets import load_dataset\n",
    "from PIL import Image, ImageDraw\n",
    "from os.path import join\n",
    "\n",
    "\n",
    "class SingleShapeDataset(Dataset):\n",
    "    def __init__(self, num_images, resolution=64, radius=8, transform=None):\n",
    "        self.num_images = num_images\n",
    "        self.shapes = ['triangle', 'circle', 'square']\n",
    "        self.colors = ['red', 'blue']\n",
    "        self.canvas_size = resolution\n",
    "        self.radius = radius\n",
    "        self.transform = transform \n",
    "        self.shape_to_idx = {'triangle': 0, 'circle': 1, 'square': 2}\n",
    "        self.color_to_rgb = {'red': 'red', 'blue': 'blue'}\n",
    "\n",
    "    def __len__(self):\n",
    "        return self.num_images\n",
    "    \n",
    "    def draw_shape_on_image(self, img, shape, location, color):\n",
    "        draw = ImageDraw.Draw(img)\n",
    "        x, y = location\n",
    "        \n",
    "        if shape == 'circle':\n",
    "            r = self.radius\n",
    "            draw.ellipse([(x - r, y - r), (x + r, y + r)], fill=color)\n",
    "        elif shape == 'square':\n",
    "            s = self.radius * 2\n",
    "            draw.rectangle([(x - s//2, y - s//2), (x + s//2, y + s//2)], fill=color)\n",
    "        elif shape == 'triangle':\n",
    "            s = self.radius * 2\n",
    "            h = s * (3 ** 0.5) / 2\n",
    "            point1 = (x, y - h / 3)\n",
    "            point2 = (x - s / 2, y + h * 2 / 3)\n",
    "            point3 = (x + s / 2, y + h * 2 / 3)\n",
    "            draw.polygon([point1, point2, point3], fill=color)\n",
    "\n",
    "        return img\n",
    "    \n",
    "\n",
    "    def __getitem__(self, idx):\n",
    "        # Blank image\n",
    "        img = Image.new('RGB', (self.canvas_size, self.canvas_size), 'gray')\n",
    "\n",
    "        # Randomly select shape and color\n",
    "        shape = random.choice(self.shapes)\n",
    "        color = random.choice(self.colors)\n",
    "\n",
    "        # Random location\n",
    "        x = random.randint(self.radius + 1, self.canvas_size - self.radius - 1)\n",
    "        y = random.randint(self.radius + 1, self.canvas_size - self.radius - 1)\n",
    "\n",
    "        # Draw the shape\n",
    "        img = self.draw_shape_on_image(img, shape, (x, y), color=self.color_to_rgb[color])\n",
    "\n",
    "        # Convert image\n",
    "        if self.transform:\n",
    "            img = self.transform(img)\n",
    "        else:\n",
    "            img = transforms.ToTensor()(img)\n",
    "\n",
    "        # Create caption\n",
    "        # caption = f\"a {color} {shape}\"\n",
    "        caption = f\"{shape}\"\n",
    "\n",
    "        labels = {\n",
    "            'shape': self.shape_to_idx[shape],\n",
    "            'location': torch.tensor([x, y], dtype=torch.float32),\n",
    "            'caption': caption\n",
    "        }\n",
    "\n",
    "        return img, labels\n"
   ]
  },
  {
   "cell_type": "code",
   "execution_count": 3,
   "metadata": {},
   "outputs": [
    {
     "name": "stdout",
     "output_type": "stream",
     "text": [
      "Images batch shape: torch.Size([16, 3, 64, 64])\n",
      "Labels batch: {'shape': tensor([0, 1, 1, 2, 1, 0, 2, 2, 1, 1, 0, 1, 0, 1, 2, 0]), 'location': tensor([[27., 35.],\n",
      "        [17., 31.],\n",
      "        [41., 18.],\n",
      "        [17., 40.],\n",
      "        [52., 18.],\n",
      "        [30., 34.],\n",
      "        [30.,  9.],\n",
      "        [24., 48.],\n",
      "        [29., 55.],\n",
      "        [30., 17.],\n",
      "        [42., 26.],\n",
      "        [40., 40.],\n",
      "        [22., 10.],\n",
      "        [42., 23.],\n",
      "        [30., 45.],\n",
      "        [10., 36.]]), 'caption': ['triangle', 'circle', 'circle', 'square', 'circle', 'triangle', 'square', 'square', 'circle', 'circle', 'triangle', 'circle', 'triangle', 'circle', 'square', 'triangle']}\n",
      "Sample of batch captions:\n",
      "Image 0: triangle\n",
      "Image 1: circle\n",
      "Image 2: circle\n"
     ]
    },
    {
     "data": {
      "image/png": "[encoded data removed]",
      "text/plain": [
       "<Figure size 1000x1000 with 4 Axes>"
      ]
     },
     "metadata": {},
     "output_type": "display_data"
    }
   ],
   "source": [
    "if __name__ == '__main__':\n",
    "\n",
    "    # Define transform\n",
    "    transform = transforms.Compose([\n",
    "        transforms.ToTensor(),\n",
    "    ])\n",
    "\n",
    "    # Create dataset and dataloader\n",
    "    dataset = SingleShapeDataset(num_images=1000, transform=transform)\n",
    "    dataloader = DataLoader(dataset, batch_size=16, shuffle=True)\n",
    "\n",
    "    # Inspect one batch\n",
    "    for images, labels in dataloader:\n",
    "        print(f\"Images batch shape: {images.size()}\")\n",
    "        print(f\"Labels batch: {labels}\")\n",
    "        print(\"Sample of batch captions:\")\n",
    "        for i in range(min(3, len(images))):\n",
    "            print(f\"Image {i}: {labels['caption'][i]}\")\n",
    "        break\n",
    "\n",
    "    # Display a few images and captions\n",
    "    fig, axes = plt.subplots(2, 2, figsize=(10, 10))\n",
    "    axes = axes.ravel()\n",
    "\n",
    "    for i in range(4):\n",
    "        img, lbl = dataset[i]\n",
    "        img_np = img.permute(1, 2, 0).numpy()\n",
    "        \n",
    "        axes[i].imshow(img_np)\n",
    "        axes[i].set_title(lbl['caption'], fontsize=10)\n",
    "        axes[i].axis('off')\n",
    "\n",
    "    plt.tight_layout()\n",
    "    plt.show()\n"
   ]
  },
  {
   "cell_type": "code",
   "execution_count": 4,
   "metadata": {},
   "outputs": [
    {
     "name": "stdout",
     "output_type": "stream",
     "text": [
      "Mean pixel value: 0.4936065077781677\n",
      "Std dev of pixel values: 0.11112400144338608\n"
     ]
    }
   ],
   "source": [
    "transform = transforms.Compose([\n",
    "    transforms.ToTensor(),\n",
    "])\n",
    "\n",
    "# Create the single-object dataset\n",
    "dataset = SingleShapeDataset(num_images=10000, transform=transform, radius=16, resolution=128)\n",
    "\n",
    "# Sample 10,000 images and store images + labels\n",
    "images = []\n",
    "labels = []\n",
    "\n",
    "for i in range(10000):\n",
    "    img, lbl = dataset[i]\n",
    "    images.append(img)\n",
    "    labels.append(lbl)\n",
    "\n",
    "# Stack all images into a single tensor\n",
    "image_tensors = torch.stack(images)  # shape: [10000, 3, H, W]\n",
    "\n",
    "# Inspect image statistics\n",
    "print(\"Mean pixel value:\", image_tensors.mean().item())\n",
    "print(\"Std dev of pixel values:\", image_tensors.std().item())\n"
   ]
  },
  {
   "cell_type": "code",
   "execution_count": 5,
   "metadata": {},
   "outputs": [
    {
     "name": "stdout",
     "output_type": "stream",
     "text": [
      "Image batch shape: torch.Size([16, 3, 128, 128])\n",
      "Shape indices: tensor([1, 0, 2, 0, 2, 0, 0, 2, 0, 1, 0, 1, 1, 1, 0, 0])\n",
      "Locations: tensor([[ 35.,  96.],\n",
      "        [ 38.,  59.],\n",
      "        [ 89.,  57.],\n",
      "        [ 99.,  63.],\n",
      "        [ 20., 100.],\n",
      "        [ 79.,  55.],\n",
      "        [ 87.,  85.],\n",
      "        [104.,  61.],\n",
      "        [ 35.,  48.],\n",
      "        [ 40.,  33.],\n",
      "        [ 29.,  70.],\n",
      "        [ 40.,  63.],\n",
      "        [ 59.,  36.],\n",
      "        [ 72.,  35.],\n",
      "        [ 65.,  96.],\n",
      "        [109.,  37.]])\n"
     ]
    }
   ],
   "source": [
    "\n",
    "# Extract single-object labels\n",
    "shapes = torch.tensor([item['shape'] for item in labels], dtype=torch.long)\n",
    "locations = torch.stack([item['location'] for item in labels], dim=0)\n",
    "\n",
    "# Create a TensorDataset (no need for shape2/location2)\n",
    "dataset = TensorDataset(image_tensors, shapes, locations)\n",
    "\n",
    "# Create DataLoader\n",
    "dataloader = DataLoader(dataset, batch_size=16, shuffle=True)\n",
    "\n",
    "# Inspect a batch\n",
    "batch = next(iter(dataloader))\n",
    "images_batch, shapes_batch, locations_batch = batch\n",
    "\n",
    "print(\"Image batch shape:\", images_batch.shape)\n",
    "print(\"Shape indices:\", shapes_batch)\n",
    "print(\"Locations:\", locations_batch)\n"
   ]
  },
  {
   "cell_type": "code",
   "execution_count": 6,
   "metadata": {},
   "outputs": [
    {
     "name": "stdout",
     "output_type": "stream",
     "text": [
      "Saved single-object dataset to: /n/holylfs06/LABS/kempner_fellow_binxuwang/Users/binxuwang/DL_Projects/Diffusion_ObjectRelation/shapes_single_dataset_2.pth\n"
     ]
    }
   ],
   "source": [
    "### Cache and save the dataset to disk\n",
    "\n",
    "\n",
    "# Define save path\n",
    "save_dir = \"/n/holylfs06/LABS/kempner_fellow_binxuwang/Users/binxuwang/DL_Projects/Diffusion_ObjectRelation\"\n",
    "os.makedirs(save_dir, exist_ok=True)\n",
    "# save_path = os.path.join(save_dir, \"shapes_single_dataset.pth\")\n",
    "save_path = os.path.join(save_dir, \"shapes_single_dataset_2.pth\")\n",
    "\n",
    "\n",
    "# Save as a dictionary\n",
    "torch.save({\n",
    "    \"images\": image_tensors,     # shape: [N, 3, H, W]\n",
    "    \"shapes\": shapes,            # shape: [N]\n",
    "    \"locations\": locations       # shape: [N, 2]\n",
    "}, save_path)\n",
    "\n",
    "print(f\"Saved single-object dataset to: {save_path}\")\n"
   ]
  },
  {
   "cell_type": "code",
   "execution_count": 7,
   "metadata": {},
   "outputs": [],
   "source": [
    "\n",
    "class SingleShapesDatasetCached(Dataset):\n",
    "    def __init__(self, path, transform=None):\n",
    "        \"\"\"\n",
    "        Loads cached single-object dataset from .pth file.\n",
    "\n",
    "        Args:\n",
    "        - path: path to the .pth file\n",
    "        - transform: optional transform to apply to each image\n",
    "        \"\"\"\n",
    "        self.data = torch.load(path)\n",
    "        self.images = self.data[\"images\"]\n",
    "        self.shapes = self.data[\"shapes\"]\n",
    "        self.locations = self.data[\"locations\"]\n",
    "        self.transform = transform\n",
    "\n",
    "    def __len__(self):\n",
    "        return len(self.images)\n",
    "\n",
    "    def __getitem__(self, idx):\n",
    "        img = self.images[idx]\n",
    "        shape = self.shapes[idx]\n",
    "        location = self.locations[idx]\n",
    "\n",
    "        if self.transform:\n",
    "            img = self.transform(img)\n",
    "\n",
    "        return img, (shape, location)\n"
   ]
  },
  {
   "cell_type": "code",
   "execution_count": 8,
   "metadata": {},
   "outputs": [
    {
     "name": "stderr",
     "output_type": "stream",
     "text": [
      "/tmp/ipykernel_440257/3173275002.py:10: FutureWarning: You are using `torch.load` with `weights_only=False` (the current default value), which uses the default pickle module implicitly. It is possible to construct malicious pickle data which will execute arbitrary code during unpickling (See https://github.com/pytorch/pytorch/blob/main/SECURITY.md#untrusted-models for more details). In a future release, the default value for `weights_only` will be flipped to `True`. This limits the functions that could be executed during unpickling. Arbitrary objects will no longer be allowed to be loaded via this mode unless they are explicitly allowlisted by the user via `torch.serialization.add_safe_globals`. We recommend you start setting `weights_only=True` for any use case where you don't have full control of the loaded file. Please open an issue on GitHub for any issues related to this experimental feature.\n",
      "  self.data = torch.load(path)\n"
     ]
    },
    {
     "name": "stdout",
     "output_type": "stream",
     "text": [
      "torch.Size([16, 3, 128, 128]) torch.Size([16]) torch.Size([16, 2])\n"
     ]
    }
   ],
   "source": [
    "# Reload cached dataset\n",
    "transform = transforms.Normalize(mean=[0.5]*3, std=[0.5]*3)\n",
    "dataset = SingleShapesDatasetCached(path=\"/n/holylfs06/LABS/kempner_fellow_binxuwang/Users/binxuwang/DL_Projects/Diffusion_ObjectRelation/shapes_single_dataset_2.pth\", transform=transform)\n",
    "\n",
    "# Create a dataloader\n",
    "dataloader = DataLoader(dataset, batch_size=16, shuffle=True)\n",
    "\n",
    "# Inspect a batch\n",
    "batch = next(iter(dataloader))\n",
    "images, (shapes, locations) = batch\n",
    "print(images.shape, shapes.shape, locations.shape)\n"
   ]
  },
  {
   "cell_type": "markdown",
   "metadata": {},
   "source": [
    "# Load the cached dataset and encode images using VAE"
   ]
  },
  {
   "cell_type": "code",
   "execution_count": 9,
   "metadata": {},
   "outputs": [
    {
     "name": "stderr",
     "output_type": "stream",
     "text": [
      "/tmp/ipykernel_440257/3173275002.py:10: FutureWarning: You are using `torch.load` with `weights_only=False` (the current default value), which uses the default pickle module implicitly. It is possible to construct malicious pickle data which will execute arbitrary code during unpickling (See https://github.com/pytorch/pytorch/blob/main/SECURITY.md#untrusted-models for more details). In a future release, the default value for `weights_only` will be flipped to `True`. This limits the functions that could be executed during unpickling. Arbitrary objects will no longer be allowed to be loaded via this mode unless they are explicitly allowlisted by the user via `torch.serialization.add_safe_globals`. We recommend you start setting `weights_only=True` for any use case where you don't have full control of the loaded file. Please open an issue on GitHub for any issues related to this experimental feature.\n",
      "  self.data = torch.load(path)\n"
     ]
    }
   ],
   "source": [
    "transform = transforms.Compose([\n",
    "    transforms.Normalize(mean=[0.5]*3, std=[0.5]*3)\n",
    "])\n",
    "\n",
    "dataset = SingleShapesDatasetCached(\n",
    "    path=\"/n/holylfs06/LABS/kempner_fellow_binxuwang/Users/binxuwang/DL_Projects/Diffusion_ObjectRelation/shapes_single_dataset_2.pth\",\n",
    "    transform=transform\n",
    ")\n",
    "\n",
    "dataloader = DataLoader(dataset, batch_size=16, shuffle=True)\n"
   ]
  },
  {
   "cell_type": "code",
   "execution_count": 10,
   "metadata": {},
   "outputs": [],
   "source": [
    "device = torch.device(\"cuda:0\" if torch.cuda.is_available() else \"cpu\")\n",
    "vae_model = \"stabilityai/sd-vae-ft-ema\" #@param [\"stabilityai/sd-vae-ft-mse\", \"stabilityai/sd-vae-ft-ema\"]\n",
    "vae = AutoencoderKL.from_pretrained(vae_model).to(device)\n"
   ]
  },
  {
   "cell_type": "code",
   "execution_count": 11,
   "metadata": {},
   "outputs": [
    {
     "data": {
      "text/plain": [
       "torch.Size([3, 128, 128])"
      ]
     },
     "execution_count": 11,
     "metadata": {},
     "output_type": "execute_result"
    }
   ],
   "source": [
    "dataset[0][0].shape"
   ]
  },
  {
   "cell_type": "code",
   "execution_count": 12,
   "metadata": {},
   "outputs": [
    {
     "data": {
      "text/plain": [
       "<matplotlib.image.AxesImage at 0x148278188f70>"
      ]
     },
     "execution_count": 12,
     "metadata": {},
     "output_type": "execute_result"
    },
    {
     "data": {
      "image/png": "[encoded data removed]",
      "text/plain": [
       "<Figure size 1000x500 with 2 Axes>"
      ]
     },
     "metadata": {},
     "output_type": "display_data"
    }
   ],
   "source": [
    "image_tsr = dataset[0][0].unsqueeze(0)\n",
    "with torch.no_grad():\n",
    "    latent_dist = vae.encode(image_tsr.to(device)).latent_dist # * 2 - 1\n",
    "    latent_sample = latent_dist.sample()\n",
    "    image_rec = (vae.decode(latent_sample).sample * 0.5 + 0.5).clamp(0,1)\n",
    "    # latent_mean = latent_dist.mean\n",
    "    # image_rec = vae.decode(latent_mean).sample * 0.5 + 0.5\n",
    "image_rec.shape\n",
    "\n",
    "plt.figure(figsize=(10, 5))\n",
    "plt.subplot(1, 2, 1)\n",
    "plt.imshow(image_rec[0].permute(1, 2, 0).cpu().numpy())\n",
    "plt.subplot(1, 2, 2)\n",
    "plt.imshow((image_tsr[0] * 0.5 + 0.5).clamp(0,1).permute(1, 2, 0).cpu().numpy())"
   ]
  },
  {
   "cell_type": "markdown",
   "metadata": {},
   "source": [
    "# Make it into a pixart trainable dataset"
   ]
  },
  {
   "cell_type": "code",
   "execution_count": 13,
   "metadata": {},
   "outputs": [],
   "source": [
    "from torchvision.transforms import Compose, ToTensor, ToPILImage, Normalize, CenterCrop"
   ]
  },
  {
   "cell_type": "code",
   "execution_count": 14,
   "metadata": {},
   "outputs": [],
   "source": [
    "tfm =Compose([Normalize(0.5,0.5)])"
   ]
  },
  {
   "cell_type": "code",
   "execution_count": 15,
   "metadata": {},
   "outputs": [
    {
     "data": {
      "text/plain": [
       "tensor([[[ 0.4196,  0.0353, -0.7333,  ..., -0.8745,  0.5059,  0.2549],\n",
       "         [-0.9765, -0.0902, -0.4824,  ...,  0.1529, -0.8431, -0.1216],\n",
       "         [ 0.7804, -0.7725,  0.4275,  ...,  0.9059, -0.3647,  0.4118],\n",
       "         ...,\n",
       "         [ 0.4745,  0.4510,  0.6784,  ...,  0.9294,  0.9765,  0.2549],\n",
       "         [-0.1686, -0.5451, -0.2863,  ...,  0.9843,  0.7725,  0.5137],\n",
       "         [-0.8980,  0.3020, -0.5686,  ...,  0.9922,  0.5922,  0.6627]],\n",
       "\n",
       "        [[ 0.4118,  0.6627, -0.3490,  ...,  0.1294, -0.1059, -0.5843],\n",
       "         [ 0.1216,  0.9843,  0.6392,  ...,  0.3804,  0.3569, -0.0510],\n",
       "         [-0.3020,  0.3490, -0.4510,  ...,  0.8431, -0.5608,  0.1529],\n",
       "         ...,\n",
       "         [-0.1529,  0.3804,  0.2627,  ..., -0.1294,  0.6235,  0.0039],\n",
       "         [-0.9137, -0.1294, -0.9451,  ...,  0.2863, -0.9922, -0.3098],\n",
       "         [ 0.8196,  0.5137, -0.9608,  ...,  0.7255, -0.3020,  0.0353]],\n",
       "\n",
       "        [[-0.5373,  0.4667, -0.9216,  ..., -0.0118,  0.4196, -0.6000],\n",
       "         [-0.3333, -0.3569,  0.9922,  ...,  0.4824, -0.6627, -0.3333],\n",
       "         [ 0.7882,  0.6157, -0.6392,  ..., -0.6627, -0.2471, -0.3961],\n",
       "         ...,\n",
       "         [-0.1216, -0.2863,  0.6314,  ...,  0.7255, -0.9137,  0.4902],\n",
       "         [-0.9373,  0.0039, -0.2863,  ...,  0.6863, -0.9373, -0.8039],\n",
       "         [-0.1922, -0.4667, -0.2784,  ...,  0.7255, -0.7255,  0.5216]]])"
      ]
     },
     "execution_count": 15,
     "metadata": {},
     "output_type": "execute_result"
    }
   ],
   "source": [
    "tfm(ToTensor()(ToPILImage()(torch.randn(3, 128, 128))))"
   ]
  },
  {
   "cell_type": "code",
   "execution_count": 16,
   "metadata": {},
   "outputs": [
    {
     "data": {
      "text/plain": [
       "Compose(\n",
       "    Normalize(mean=[0.5, 0.5, 0.5], std=[0.5, 0.5, 0.5])\n",
       ")"
      ]
     },
     "execution_count": 16,
     "metadata": {},
     "output_type": "execute_result"
    }
   ],
   "source": [
    "transform"
   ]
  },
  {
   "cell_type": "markdown",
   "metadata": {},
   "source": [
    "Note that with vision, the formats matter! PIL image != tensors. These are two very different formats. "
   ]
  },
  {
   "cell_type": "code",
   "execution_count": 17,
   "metadata": {},
   "outputs": [
    {
     "data": {
      "application/vnd.jupyter.widget-view+json": {
       "model_id": "911eedf6191846a596a8712df1817ec5",
       "version_major": 2,
       "version_minor": 0
      },
      "text/plain": [
       "0it [00:00, ?it/s]"
      ]
     },
     "metadata": {},
     "output_type": "display_data"
    }
   ],
   "source": [
    "transform = transforms.Compose([\n",
    "    lambda x: x.convert(\"RGB\"),\n",
    "    # Add more transforms if needed\n",
    "])\n",
    "resolution = 128\n",
    "dataset = SingleShapeDataset(num_images=10000, resolution=resolution, radius=16, transform=transform)\n",
    "\n",
    "root_dir = \"/n/holylfs06/LABS/kempner_fellow_binxuwang/Users/binxuwang/DL_Projects/PixArt/objectRelSingle_pilot3\"\n",
    "images_dir = \"images\"\n",
    "captions_dir = \"captions\"\n",
    "\n",
    "images_dir_absolute = join(root_dir, images_dir)\n",
    "captions_dir_absolute = join(root_dir, captions_dir)\n",
    "\n",
    "if not os.path.exists(root_dir):\n",
    "    os.makedirs(join(root_dir, images_dir))\n",
    "\n",
    "if not os.path.exists(join(root_dir, images_dir)):\n",
    "    os.makedirs(join(root_dir, images_dir))\n",
    "if not os.path.exists(join(root_dir, captions_dir)):\n",
    "    os.makedirs(join(root_dir, captions_dir))\n",
    "\n",
    "image_format = \"png\"\n",
    "json_name = \"partition/data_info.json\"\n",
    "if not os.path.exists(join(root_dir, \"partition\")):\n",
    "    os.makedirs(join(root_dir, \"partition\"))\n",
    "\n",
    "absolute_json_name = join(root_dir, json_name)\n",
    "data_info = []\n",
    "\n",
    "for order, (image, labels) in tqdm(enumerate(dataset)): \n",
    "    if order >= 10000:\n",
    "        break\n",
    "    image = image\n",
    "    image.save(f\"{images_dir_absolute}/{order}.{image_format}\")\n",
    "    with open(f\"{captions_dir_absolute}/{order}.txt\", \"w\") as text_file:\n",
    "        text_file.write(labels[\"caption\"])\n",
    "    \n",
    "    width, height = resolution, resolution\n",
    "    ratio = 1\n",
    "    data_info.append({\n",
    "        \"height\": height,\n",
    "        \"width\": width,\n",
    "        \"ratio\": ratio,\n",
    "        \"path\": f\"{order}.{image_format}\", # images/ # if there is images/ in the path it will cause error in InternalData.py L55, L56. \n",
    "        \"prompt\": labels[\"caption\"],\n",
    "    })        \n",
    "\n",
    "with open(absolute_json_name, \"w\") as json_file:\n",
    "    json.dump(data_info, json_file)"
   ]
  },
  {
   "cell_type": "code",
   "execution_count": 18,
   "metadata": {},
   "outputs": [
    {
     "data": {
      "text/plain": [
       "'/n/holylfs06/LABS/kempner_fellow_binxuwang/Users/binxuwang/DL_Projects/PixArt/objectRelSingle_pilot3/partition/data_info.json'"
      ]
     },
     "execution_count": 18,
     "metadata": {},
     "output_type": "execute_result"
    }
   ],
   "source": [
    "with open(absolute_json_name, \"w\") as json_file:\n",
    "    json.dump(data_info, json_file)\n",
    "\n",
    "absolute_json_name"
   ]
  },
  {
   "cell_type": "markdown",
   "metadata": {},
   "source": [
    "# Extract Features "
   ]
  },
  {
   "cell_type": "code",
   "execution_count": 19,
   "metadata": {},
   "outputs": [
    {
     "name": "stdout",
     "output_type": "stream",
     "text": [
      "/n/home12/hjkim/Github/DiffusionObjectRelation/PixArt-alpha\n",
      "/n/home12/hjkim/.conda/envs/torch2/lib/python3.10/site-packages/timm/models/layers/__init__.py:48: FutureWarning: Importing from timm.models.layers is deprecated, please import via timm.layers\n",
      "  warnings.warn(f\"Importing from {__name__} is deprecated, please import via timm.layers\", FutureWarning)\n",
      "/n/home12/hjkim/.conda/envs/torch2/lib/python3.10/site-packages/mmcv/__init__.py:20: UserWarning: On January 1, 2023, MMCV will release v2.0.0, in which it will remove components related to the training process and add a data transformation module. In addition, it will rename the package names mmcv to mmcv-lite and mmcv-full to mmcv. See https://github.com/open-mmlab/mmcv/blob/master/docs/en/compatibility.md for more details.\n",
      "  warnings.warn(\n",
      "/n/home12/hjkim/.conda/envs/torch2/lib/python3.10/site-packages/transformers/utils/hub.py:127: FutureWarning: Using `TRANSFORMERS_CACHE` is deprecated and will be removed in v5 of Transformers. Use `HF_HOME` instead.\n",
      "  warnings.warn(\n",
      "/n/holylfs06/LABS/kempner_fellow_binxuwang/Users/binxuwang/DL_Projects/PixArt/output/pretrained_models/t5_ckpts/t5-v1_1-xxl\n",
      "You are using the default legacy behaviour of the <class 'transformers.models.t5.tokenization_t5.T5Tokenizer'>. This is expected, and simply means that the `legacy` (previous) behavior will be used so nothing changes for you. If you want to use the new behaviour, set `legacy=False`. This should only be set if you understand what it means, and thoroughly read the reason why this was added as explained in https://github.com/huggingface/transformers/pull/24565\n",
      "/n/home12/hjkim/.conda/envs/torch2/lib/python3.10/site-packages/transformers/tokenization_utils_base.py:1601: FutureWarning: `clean_up_tokenization_spaces` was not set. It will be set to `True` by default. This behavior will be depracted in transformers v4.45, and will be then set to `False` by default. For more details check this issue: https://github.com/huggingface/transformers/issues/31884\n",
      "  warnings.warn(\n",
      "Loading checkpoint shards: 100%|██████████████████| 2/2 [00:28<00:00, 14.46s/it]\n",
      "100%|████████████████████████████████| 10000/10000 [00:00<00:00, 1235217.34it/s]\n",
      "Extracting Single Image Resolution 128\n",
      "An error occurred while trying to fetch /n/holylfs06/LABS/kempner_fellow_binxuwang/Users/binxuwang/DL_Projects/PixArt/output/pretrained_models/sd-vae-ft-ema: Error no file named diffusion_pytorch_model.safetensors found in directory /n/holylfs06/LABS/kempner_fellow_binxuwang/Users/binxuwang/DL_Projects/PixArt/output/pretrained_models/sd-vae-ft-ema.\n",
      "Defaulting to unsafe serialization. Pass `allow_pickle=False` to raise an error instead.\n",
      "100%|████████████████████████████████████| 10000/10000 [00:29<00:00, 336.96it/s]\n"
     ]
    }
   ],
   "source": [
    "%cd ../PixArt-alpha\n",
    "!python ~/Github/DiffusionObjectRelation/PixArt-alpha/tools/extract_features.py \\\n",
    "    --img_size 128 \\\n",
    "    --max_tokens 20 \\\n",
    "    --dataset_root \"/n/holylfs06/LABS/kempner_fellow_binxuwang/Users/binxuwang/DL_Projects/PixArt/objectRelSingle_pilot3\" \\\n",
    "    --json_path \"/n/holylfs06/LABS/kempner_fellow_binxuwang/Users/binxuwang/DL_Projects/PixArt/objectRelSingle_pilot3/partition/data_info.json\" \\\n",
    "    --t5_save_root \"/n/holylfs06/LABS/kempner_fellow_binxuwang/Users/binxuwang/DL_Projects/PixArt/objectRelSingle_pilot3/caption_feature_wmask\" \\\n",
    "    --vae_save_root \"/n/holylfs06/LABS/kempner_fellow_binxuwang/Users/binxuwang/DL_Projects/PixArt/objectRelSingle_pilot3/img_vae_features\" \\\n",
    "    --pretrained_models_dir \"/n/holylfs06/LABS/kempner_fellow_binxuwang/Users/binxuwang/DL_Projects/PixArt/output/pretrained_models\""
   ]
  },
  {
   "cell_type": "code",
   "execution_count": 20,
   "metadata": {},
   "outputs": [
    {
     "name": "stdout",
     "output_type": "stream",
     "text": [
      "1.1G\t/n/holylfs06/LABS/kempner_fellow_binxuwang/Users/binxuwang/DL_Projects/PixArt/objectRelSingle_pilot3/caption_feature_wmask\n",
      "40M\t/n/holylfs06/LABS/kempner_fellow_binxuwang/Users/binxuwang/DL_Projects/PixArt/objectRelSingle_pilot3/captions\n",
      "40M\t/n/holylfs06/LABS/kempner_fellow_binxuwang/Users/binxuwang/DL_Projects/PixArt/objectRelSingle_pilot3/images\n",
      "118M\t/n/holylfs06/LABS/kempner_fellow_binxuwang/Users/binxuwang/DL_Projects/PixArt/objectRelSingle_pilot3/img_vae_features_128resolution\n",
      "820K\t/n/holylfs06/LABS/kempner_fellow_binxuwang/Users/binxuwang/DL_Projects/PixArt/objectRelSingle_pilot3/partition\n"
     ]
    }
   ],
   "source": [
    "!du -sh /n/holylfs06/LABS/kempner_fellow_binxuwang/Users/binxuwang/DL_Projects/PixArt/objectRelSingle_pilot3/*"
   ]
  },
  {
   "cell_type": "code",
   "execution_count": 21,
   "metadata": {},
   "outputs": [
    {
     "name": "stdout",
     "output_type": "stream",
     "text": [
      "PixArt-XL-2-1024-MS.pth  PixArt-XL-2-512x512.pth  sd-vae-ft-ema  t5_ckpts\n"
     ]
    }
   ],
   "source": [
    "!ls /n/holylfs06/LABS/kempner_fellow_binxuwang/Users/binxuwang/DL_Projects/PixArt/output/pretrained_models"
   ]
  },
  {
   "cell_type": "markdown",
   "metadata": {},
   "source": []
  }
 ],
 "metadata": {
  "kernelspec": {
   "display_name": "torch2",
   "language": "python",
   "name": "python3"
  },
  "language_info": {
   "codemirror_mode": {
    "name": "ipython",
    "version": 3
   },
   "file_extension": ".py",
   "mimetype": "text/x-python",
   "name": "python",
   "nbconvert_exporter": "python",
   "pygments_lexer": "ipython3",
   "version": "3.10.18"
  }
 },
 "nbformat": 4,
 "nbformat_minor": 2
}
