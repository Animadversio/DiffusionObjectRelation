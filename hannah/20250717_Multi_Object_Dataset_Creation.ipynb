{
 "cells": [
  {
   "cell_type": "markdown",
   "metadata": {},
   "source": [
    "# Creating a dataset that combines images with 2 objects and 1 object. "
   ]
  },
  {
   "cell_type": "code",
   "execution_count": 1,
   "metadata": {},
   "outputs": [
    {
     "name": "stderr",
     "output_type": "stream",
     "text": [
      "/n/home12/hjkim/.conda/envs/torch2/lib/python3.10/site-packages/transformers/utils/hub.py:127: FutureWarning: Using `TRANSFORMERS_CACHE` is deprecated and will be removed in v5 of Transformers. Use `HF_HOME` instead.\n",
      "  warnings.warn(\n"
     ]
    }
   ],
   "source": [
    "import os\n",
    "import json\n",
    "import torch\n",
    "import numpy as np\n",
    "import random\n",
    "import matplotlib.pyplot as plt\n",
    "import torch\n",
    "from torch.utils.data import Dataset, DataLoader, TensorDataset\n",
    "from torchvision import transforms\n",
    "from diffusers import AutoencoderKL\n",
    "from tqdm.notebook import tqdm\n",
    "from datasets import load_dataset\n",
    "from PIL import Image, ImageDraw\n",
    "from os.path import join\n"
   ]
  },
  {
   "cell_type": "markdown",
   "metadata": {},
   "source": [
    "# Refer to the double object and single object classes made previously"
   ]
  },
  {
   "cell_type": "code",
   "execution_count": 2,
   "metadata": {},
   "outputs": [],
   "source": [
    "\n",
    "class SingleShapeDataset(Dataset):\n",
    "    def __init__(self, num_images, resolution=64, radius=16, transform=None):\n",
    "        self.num_images = num_images\n",
    "        self.shapes = ['triangle', 'circle', 'square']\n",
    "        self.colors = ['red', 'blue']\n",
    "        self.articles = ['a', 'an', 'the', 'or', '']\n",
    "        self.canvas_size = resolution\n",
    "        self.radius = radius\n",
    "        self.transform = transform \n",
    "        self.shape_to_idx = {'triangle': 0, 'circle': 1, 'square': 2}\n",
    "        self.color_to_rgb = {'red': 'red', 'blue': 'blue'}\n",
    "\n",
    "    def __len__(self):\n",
    "        return self.num_images\n",
    "    \n",
    "    def draw_shape_on_image(self, img, shape, location, color):\n",
    "        draw = ImageDraw.Draw(img)\n",
    "        x, y = location\n",
    "        \n",
    "        if shape == 'circle':\n",
    "            r = self.radius\n",
    "            draw.ellipse([(x - r, y - r), (x + r, y + r)], fill=color)\n",
    "        elif shape == 'square':\n",
    "            s = self.radius * 2\n",
    "            draw.rectangle([(x - s//2, y - s//2), (x + s//2, y + s//2)], fill=color)\n",
    "        elif shape == 'triangle':\n",
    "            s = self.radius * 2\n",
    "            h = s * (3 ** 0.5) / 2\n",
    "            point1 = (x, y - h / 3)\n",
    "            point2 = (x - s / 2, y + h * 2 / 3)\n",
    "            point3 = (x + s / 2, y + h * 2 / 3)\n",
    "            draw.polygon([point1, point2, point3], fill=color)\n",
    "\n",
    "        return img\n",
    "    \n",
    "\n",
    "    def __getitem__(self, idx):\n",
    "        # Blank image\n",
    "        img = Image.new('RGB', (self.canvas_size, self.canvas_size), 'gray')\n",
    "\n",
    "        # Randomly select shape and color\n",
    "        include_color = random.random() < 0.8\n",
    "        shape = random.choice(self.shapes)\n",
    "        color = random.choice(self.colors)\n",
    "        article = random.choice(self.articles)\n",
    "\n",
    "        components = [article, color, shape]\n",
    "        caption = f\"{article} {color if include_color else ''} {shape.lstrip()}\".strip()\n",
    "\n",
    "        # Random location\n",
    "        x = random.randint(self.radius + 1, self.canvas_size - self.radius - 1)\n",
    "        y = random.randint(self.radius + 1, self.canvas_size - self.radius - 1)\n",
    "\n",
    "        # Draw the shape\n",
    "        img = self.draw_shape_on_image(img, shape, (x, y), color=self.color_to_rgb[color])\n",
    "\n",
    "        # Convert image\n",
    "        if self.transform:\n",
    "            img = self.transform(img)\n",
    "        else:\n",
    "            img = transforms.ToTensor()(img)\n",
    "\n",
    "        labels = {\n",
    "            'shape': self.shape_to_idx[shape],\n",
    "            'location': torch.tensor([x, y], dtype=torch.float32),\n",
    "            'caption': caption\n",
    "        }\n",
    "\n",
    "        return img, labels\n"
   ]
  },
  {
   "cell_type": "code",
   "execution_count": 3,
   "metadata": {},
   "outputs": [],
   "source": [
    "class DoubleShapeDataset(Dataset):\n",
    "    def __init__(self, num_images, resolution=64, radius=16, transform=None):\n",
    "        \"\"\"\n",
    "        Initializes the dataset.\n",
    "\n",
    "        Parameters:\n",
    "        - num_images: Integer specifying the number of images in the dataset.\n",
    "        - transform: Optional torchvision transforms to apply to the images.\n",
    "        \"\"\"\n",
    "        self.num_images = num_images\n",
    "        self.shapes = ['triangle', 'circle', 'square']\n",
    "        self.canvas_size = resolution\n",
    "        self.transform = transform\n",
    "        self.shape_to_idx = {'triangle': 0, 'circle': 1, 'square': 2}\n",
    "        self.idx_to_shape = {0: 'triangle', 1: 'circle', 2: 'square'}\n",
    "        self.radius = radius\n",
    "\n",
    "        # Spatial relationship phrases for variety\n",
    "        self.spatial_phrases = {\n",
    "            'upper_left': ['to the upper left of', 'above and to the left of', 'diagonally up and left from'],\n",
    "            'upper_right': ['to the upper right of', 'above and to the right of', 'diagonally up and right from'],\n",
    "            'lower_left': ['to the lower left of', 'below and to the left of', 'diagonally down and left from'],\n",
    "            'lower_right': ['to the lower right of', 'below and to the right of', 'diagonally down and right from'],\n",
    "            'above': ['above', 'directly above', 'higher than'],\n",
    "            'below': ['below', 'directly below', 'lower than'],\n",
    "            'left': ['to the left of', 'left of', 'left'],\n",
    "            'right': ['to the right of', 'right of', 'right']\n",
    "        }\n",
    "\n",
    "    def generate_caption(self, shape1_idx, shape2_idx, loc1, loc2):\n",
    "        \"\"\"\n",
    "        Generates a natural language caption describing the spatial relationship between two shapes.\n",
    "        \n",
    "        Parameters:\n",
    "        - shape1_idx: Index of first shape\n",
    "        - shape2_idx: Index of second shape\n",
    "        - loc1: Coordinates of first shape (x, y)\n",
    "        - loc2: Coordinates of second shape (x, y)\n",
    "        \n",
    "        Returns:\n",
    "        - string: A natural language caption describing the scene\n",
    "        \"\"\"\n",
    "        # Get shape names\n",
    "        shape1_name = self.idx_to_shape[shape1_idx]\n",
    "        shape2_name = self.idx_to_shape[shape2_idx]\n",
    "        \n",
    "        # Get coordinates\n",
    "        x1, y1 = loc1\n",
    "        x2, y2 = loc2\n",
    "        \n",
    "        # Calculate position differences\n",
    "        dx = x1 - x2  # Positive means shape1 is to the right\n",
    "        dy = y1 - y2  # Positive means shape1 is lower\n",
    "        \n",
    "        # Define thresholds for \"directly\" above/below/left/right\n",
    "        threshold = 5  # pixels\n",
    "        \n",
    "        # Determine spatial relationship\n",
    "        if abs(dx) <= threshold:  # Roughly aligned vertically\n",
    "            if dy < 0:\n",
    "                relation = random.choice(self.spatial_phrases['above'])\n",
    "            else:\n",
    "                relation = random.choice(self.spatial_phrases['below'])\n",
    "        elif abs(dy) <= threshold:  # Roughly aligned horizontally\n",
    "            if dx < 0:\n",
    "                relation = random.choice(self.spatial_phrases['left'])\n",
    "            else:\n",
    "                relation = random.choice(self.spatial_phrases['right'])\n",
    "        else:  # Diagonal relationship\n",
    "            if dx < 0 and dy < 0:\n",
    "                relation = random.choice(self.spatial_phrases['upper_left'])\n",
    "            elif dx < 0 and dy > 0:\n",
    "                relation = random.choice(self.spatial_phrases['lower_left'])\n",
    "            elif dx > 0 and dy < 0:\n",
    "                relation = random.choice(self.spatial_phrases['upper_right'])\n",
    "            else:  # dx > 0 and dy > 0\n",
    "                relation = random.choice(self.spatial_phrases['lower_right'])\n",
    "        \n",
    "        # Construct caption\n",
    "        caption = f\"{shape1_name} is {relation} {shape2_name}\"\n",
    "        return caption\n",
    "\n",
    "    def __len__(self):\n",
    "        return self.num_images\n",
    "\n",
    "    def draw_shape_on_image(self, img, shape, location, color='black'):\n",
    "        \"\"\"\n",
    "        Draws a specified shape at a given location on the provided image.\n",
    "\n",
    "        Parameters:\n",
    "        - img: PIL Image object to draw on.\n",
    "        - shape: String specifying the shape ('triangle', 'circle', 'square').\n",
    "        - location: Tuple (x, y) specifying the location of the shape's center.\n",
    "\n",
    "        Returns:\n",
    "        - img: PIL Image object with the shape drawn on it.\n",
    "        \"\"\"\n",
    "        draw = ImageDraw.Draw(img)\n",
    "        x, y = location\n",
    "\n",
    "        if shape == 'circle':\n",
    "            r = self.radius  # Radius\n",
    "            leftUpPoint = (x - r, y - r)\n",
    "            rightDownPoint = (x + r, y + r)\n",
    "            draw.ellipse([leftUpPoint, rightDownPoint], fill=color)\n",
    "\n",
    "        elif shape == 'square':\n",
    "            s = self.radius * 2  # Side length\n",
    "            leftUpPoint = (x - s // 2, y - s // 2)\n",
    "            rightDownPoint = (x + s // 2, y + s // 2)\n",
    "            draw.rectangle([leftUpPoint, rightDownPoint], fill=color)\n",
    "\n",
    "        elif shape == 'triangle':\n",
    "            s = self.radius * 2  # Side length\n",
    "            h = s * (3 ** 0.5) / 2  # Height of the equilateral triangle\n",
    "            point1 = (x, y - h / 3)\n",
    "            point2 = (x - s / 2, y + h * 2 / 3)\n",
    "            point3 = (x + s / 2, y + h * 2 / 3)\n",
    "            draw.polygon([point1, point2, point3], fill=color)\n",
    "\n",
    "        else:\n",
    "            raise ValueError(\"Shape must be 'triangle', 'circle', or 'square'.\")\n",
    "\n",
    "        return img\n",
    "\n",
    "    def __getitem__(self, idx):\n",
    "        \"\"\"\n",
    "        Generates one image and its labels.\n",
    "\n",
    "        Parameters:\n",
    "        - idx: Index of the image (not used as images are generated on-the-fly).\n",
    "\n",
    "        Returns:\n",
    "        - img: Tensor representing the image.\n",
    "        - labels: Dictionary containing the shapes and locations of the objects.\n",
    "        \"\"\"\n",
    "        # Create a blank image\n",
    "        img = Image.new('RGB', (self.canvas_size, self.canvas_size), 'gray')\n",
    "\n",
    "        # Randomly select two shapes, make sure they are different\n",
    "        shape1 = random.choice(self.shapes)\n",
    "        while True:\n",
    "            shape2 = random.choice(self.shapes)\n",
    "            if shape1 != shape2:\n",
    "                break\n",
    "\n",
    "        # Randomly select locations\n",
    "        x1 = random.randint(self.radius + 1, self.canvas_size - self.radius - 1)\n",
    "        y1 = random.randint(self.radius + 1, self.canvas_size - self.radius - 1)\n",
    "        x2 = random.randint(self.radius + 1, self.canvas_size - self.radius - 1)\n",
    "        y2 = random.randint(self.radius + 1, self.canvas_size - self.radius - 1)\n",
    "\n",
    "        # Randomly decide drawing order to allow overlapping\n",
    "        if random.random() < 0.5:\n",
    "            img = self.draw_shape_on_image(img, shape1, (x1, y1), color=\"red\")\n",
    "            img = self.draw_shape_on_image(img, shape2, (x2, y2), color=\"blue\")\n",
    "            shapes_order = [shape1, shape2]\n",
    "            locations_order = [(x1, y1), (x2, y2)]\n",
    "        else:\n",
    "            img = self.draw_shape_on_image(img, shape2, (x2, y2), color=\"blue\")\n",
    "            img = self.draw_shape_on_image(img, shape1, (x1, y1), color=\"red\")\n",
    "            shapes_order = [shape2, shape1]\n",
    "            locations_order = [(x2, y2), (x1, y1)]\n",
    "\n",
    "        # Apply transforms if any\n",
    "        if self.transform:\n",
    "            img = self.transform(img)\n",
    "        else:\n",
    "            img = transforms.ToTensor()(img)\n",
    "\n",
    "        # Encode labels and generate caption\n",
    "        shape1_idx = self.shape_to_idx[shapes_order[0]]\n",
    "        shape2_idx = self.shape_to_idx[shapes_order[1]]\n",
    "        location1 = torch.tensor(locations_order[0], dtype=torch.float32)\n",
    "        location2 = torch.tensor(locations_order[1], dtype=torch.float32)\n",
    "        \n",
    "        caption = self.generate_caption(shape1_idx, shape2_idx, locations_order[0], locations_order[1])\n",
    "\n",
    "        labels = {\n",
    "            'shape1': shape1_idx,\n",
    "            'location1': location1,\n",
    "            'shape2': shape2_idx,\n",
    "            'location2': location2,\n",
    "            'caption': caption\n",
    "        }\n",
    "\n",
    "        return img, labels\n"
   ]
  },
  {
   "cell_type": "markdown",
   "metadata": {},
   "source": [
    "# Create the Mixed Object Wrapper"
   ]
  },
  {
   "cell_type": "code",
   "execution_count": 4,
   "metadata": {},
   "outputs": [],
   "source": [
    "class MixedShapesDataset(Dataset):\n",
    "    def __init__(self, single_dataset, double_dataset, single_ratio=0.3, total_length=10000):\n",
    "        self.single_dataset = single_dataset\n",
    "        self.double_dataset = double_dataset\n",
    "        self.single_ratio = single_ratio \n",
    "\n",
    "        if total_length is None:\n",
    "            self.length = len(single_dataset) + len(double_dataset)\n",
    "        else:\n",
    "            self.length = total_length \n",
    "\n",
    "        num_single = int(self.length * self.single_ratio)\n",
    "        num_double = self.length - num_single\n",
    "        self.sample_types = ['single'] * num_single + ['double'] * num_double\n",
    "        random.shuffle(self.sample_types)\n",
    "\n",
    "        self.single_indices = list(range(len(single_dataset)))\n",
    "        self.double_indices = list(range(len(double_dataset)))\n",
    "        random.shuffle(self.single_indices)\n",
    "        random.shuffle(self.double_indices)\n",
    "\n",
    "        self.single_ptr = 0\n",
    "        self.double_ptr = 0\n",
    "        self.type_to_idx = {'single': 0, 'double': 1,}\n",
    "        self.idx_to_type = {0: 'single', 1: 'double'}\n",
    "\n",
    "    def __len__(self):\n",
    "        return self.length \n",
    "\n",
    "    def __getitem__(self, idx):\n",
    "        sample_type = self.sample_types[idx]\n",
    "        if sample_type == 'single':\n",
    "            if self.single_ptr >= len(self.single_indices):\n",
    "                self.single_ptr = 0\n",
    "                random.shuffle(self.single_indices)\n",
    "            img, labels = self.single_dataset[self.single_indices[self.single_ptr]]\n",
    "            self.single_ptr += 1\n",
    "\n",
    "         # Convert to double-object format for consistency\n",
    "            new_labels = {\n",
    "                'shape1': labels['shape'],\n",
    "                'location1': labels['location'],\n",
    "                'shape2': -1,\n",
    "                'location2': torch.tensor([-1, -1]),\n",
    "                'caption': labels['caption'],\n",
    "                'type': self.type_to_idx['single']\n",
    "            }\n",
    "            return img, new_labels\n",
    "        else:\n",
    "            if self.double_ptr >= len(self.double_indices):\n",
    "                self.double_ptr = 0\n",
    "                random.shuffle(self.double_indices)\n",
    "            img, labels = self.double_dataset[self.double_indices[self.double_ptr]]\n",
    "            self.double_ptr += 1\n",
    "\n",
    "            #Adding type field for consistency \n",
    "            labels['type'] = self.type_to_idx['double']\n",
    "            return img, labels"
   ]
  },
  {
   "cell_type": "markdown",
   "metadata": {},
   "source": [
    "# Check Dataset Formatting "
   ]
  },
  {
   "cell_type": "code",
   "execution_count": 8,
   "metadata": {},
   "outputs": [
    {
     "name": "stdout",
     "output_type": "stream",
     "text": [
      "Images batch shape: torch.Size([16, 3, 128, 128])\n",
      "Labels batch: {'shape1': tensor([1, 0, 2, 2, 1, 2, 0, 2, 2, 0, 0, 0, 1, 0, 1, 2]), 'location1': tensor([[  9.,  38.],\n",
      "        [ 87.,  72.],\n",
      "        [ 58., 106.],\n",
      "        [ 75.,  60.],\n",
      "        [ 48.,  27.],\n",
      "        [ 24., 107.],\n",
      "        [ 20.,  58.],\n",
      "        [ 35.,  73.],\n",
      "        [104.,  71.],\n",
      "        [114.,  51.],\n",
      "        [ 42.,  18.],\n",
      "        [ 69.,  64.],\n",
      "        [ 22.,  79.],\n",
      "        [ 31.,  87.],\n",
      "        [ 25.,  11.],\n",
      "        [ 41.,  99.]]), 'shape2': tensor([-1,  2, -1,  1,  2,  1, -1,  1, -1,  1, -1,  1,  2,  2, -1, -1]), 'location2': tensor([[ -1.,  -1.],\n",
      "        [ 10.,  13.],\n",
      "        [ -1.,  -1.],\n",
      "        [ 30.,  62.],\n",
      "        [ 35., 104.],\n",
      "        [ 73.,  41.],\n",
      "        [ -1.,  -1.],\n",
      "        [ 79., 109.],\n",
      "        [ -1.,  -1.],\n",
      "        [ 39.,  41.],\n",
      "        [ -1.,  -1.],\n",
      "        [ 35., 107.],\n",
      "        [ 60.,  39.],\n",
      "        [114.,  63.],\n",
      "        [ -1.,  -1.],\n",
      "        [ -1.,  -1.]]), 'caption': ['an blue circle', 'triangle is below and to the right of square', 'red square', 'square is right circle', 'circle is to the upper right of square', 'square is below and to the left of circle', 'or red triangle', 'square is diagonally up and left from circle', 'a  square', 'triangle is below and to the right of circle', 'an red triangle', 'triangle is diagonally up and right from circle', 'circle is below and to the left of square', 'triangle is to the lower left of square', 'the blue circle', 'or red square'], 'type': tensor([0, 1, 0, 1, 1, 1, 0, 1, 0, 1, 0, 1, 1, 1, 0, 0])}\n",
      "Sample of batch captions:\n",
      "Image 0: an blue circle\n",
      "Image 1: triangle is below and to the right of square\n",
      "Image 2: red square\n"
     ]
    },
    {
     "data": {
      "image/png": "[encoded data removed]",
      "text/plain": [
       "<Figure size 1000x1000 with 4 Axes>"
      ]
     },
     "metadata": {},
     "output_type": "display_data"
    }
   ],
   "source": [
    "single_dataset = SingleShapeDataset(num_images=5000, resolution=128, radius=16)\n",
    "double_dataset = DoubleShapeDataset(num_images=5000, resolution=128, radius=16)\n",
    "\n",
    "#Define transform\n",
    "transform = transforms.Compose([\n",
    "    transforms.ToTensor(),\n",
    "])\n",
    "\n",
    "dataset = MixedShapesDataset(single_dataset, double_dataset)\n",
    "dataloader = DataLoader(dataset, batch_size=16, shuffle=True)\n",
    "\n",
    "for images, labels in dataloader:\n",
    "    print(f\"Images batch shape: {images.size()}\")\n",
    "    print(f\"Labels batch: {labels}\")\n",
    "    print(\"Sample of batch captions:\")\n",
    "    for i in range(min(3, len(images))):\n",
    "        print(f\"Image {i}: {labels['caption'][i]}\")\n",
    "    break\n",
    "\n",
    "\n",
    "#Check that the images and captions are correct visually\n",
    "\n",
    "fig, axes = plt.subplots(2,2, figsize=(10,10))\n",
    "axes = axes.ravel()\n",
    "\n",
    "for i in range(4):\n",
    "    img, lbl = dataset[i]\n",
    "    img_np = img.permute(1,2,0).numpy()\n",
    "\n",
    "    axes[i].imshow(img_np)\n",
    "    axes[i].set_title(lbl['caption'], fontsize=10)\n",
    "    axes[i].axis('off')\n",
    "\n",
    "plt.tight_layout()\n",
    "plt.show()\n",
    "\n",
    "    "
   ]
  },
  {
   "cell_type": "code",
   "execution_count": 9,
   "metadata": {},
   "outputs": [
    {
     "name": "stdout",
     "output_type": "stream",
     "text": [
      "Mean pixel value: 0.4982169568538666\n",
      "Std dev of pixel values: 0.07450460642576218\n"
     ]
    }
   ],
   "source": [
    "# Numerical inspections\n",
    "\n",
    "images = []\n",
    "labels = []\n",
    "\n",
    "for i in range(10000):\n",
    "    img, lbl = dataset[i]\n",
    "    images.append(img)\n",
    "    labels.append(lbl)\n",
    "\n",
    "#Extract single object labels\n",
    "image_tensors = torch.stack(images)\n",
    "shape1 = torch.tensor([item['shape1'] for item in labels], dtype=torch.long)\n",
    "location1 = torch.stack([item['location1'] for item in labels], dim=0)\n",
    "shape2 = torch.tensor([item['shape2'] for item in labels], dtype=torch.long)\n",
    "location2 = torch.stack([item['location2'] for item in labels], dim=0)\n",
    "\n",
    "# Inspect image statistics\n",
    "print(\"Mean pixel value:\", image_tensors.mean().item())\n",
    "print(\"Std dev of pixel values:\", image_tensors.std().item())\n",
    "\n",
    "\n",
    "#TODO: Ask Binxu about this batch stuff. what is going on under the hood?\n",
    "#Inspect a batch\n",
    "batch = next(iter(dataloader))\n",
    "# images_batch, (shapes_batch, locations_batch) = batch\n",
    "\n",
    "# print(\"Image batch shape:\", images_batch.shape)\n",
    "# print(\"Shapes batch shape:\", shapes_batch.shape)\n",
    "# print(\"Locations batch shape:\", locations_batch.shape)\n",
    "\n"
   ]
  },
  {
   "cell_type": "markdown",
   "metadata": {},
   "source": [
    "# Cache and reload the shape dataset"
   ]
  },
  {
   "cell_type": "code",
   "execution_count": 10,
   "metadata": {},
   "outputs": [],
   "source": [
    "import os \n",
    "from os.path import join\n",
    "savedir = \"/n/holylfs06/LABS/kempner_fellow_binxuwang/Users/binxuwang/DL_Projects/Diffusion_ObjectRelation\"\n",
    "\n",
    "save_path = os.path.join(savedir, 'shapes_dataset_multi_pilot1.pth')\n",
    "\n",
    "os.makedirs(join(savedir, \"dataset\"), exist_ok=True)\n",
    "\n",
    "torch.save({\n",
    "    'images': image_tensors, \n",
    "    'shape1': shape1, \n",
    "    'location1': location1, \n",
    "    'shape2': shape2, \n",
    "    'location2':location2\n",
    "}, save_path)\n"
   ]
  },
  {
   "cell_type": "code",
   "execution_count": 11,
   "metadata": {},
   "outputs": [],
   "source": [
    "class ShapesDatasetCached(Dataset):\n",
    "    filename = 'shapes_dataset_multi_pilot1.pth'\n",
    "    savedir = \"/n/holylfs06/LABS/kempner_fellow_binxuwang/Users/binxuwang/DL_Projects/Diffusion_ObjectRelation\"\n",
    "\n",
    "    def __init__(self, transform=None):\n",
    "        '''\n",
    "        Initializes the dataset. \n",
    "\n",
    "        Parameters:\n",
    "        - transform: Optional torchvision transforms to apply to the images\n",
    "        '''\n",
    "\n",
    "        self.transform = transform\n",
    "        self.data = torch.load(join(self.savedir, 'dataset', self.filename))\n",
    "        self.images = self.data['images']\n",
    "        self.shape1 = self.data['shape1']\n",
    "        self.location1 = self.data['location1']\n",
    "        self.shape2 = self.data['shape2']\n",
    "        self.location2 = self.data['location2']\n",
    "\n",
    "    def __len__(self):\n",
    "        return len(self.images)\n",
    "\n",
    "    def __getitem__(self, idx):\n",
    "        img = self.images[idx]\n",
    "        shape1 = self.shape1[idx]\n",
    "        location1 = self.location1[idx]\n",
    "        shape2 = self.shape2[idx]\n",
    "        location2 = self.location2[idx]\n",
    "\n",
    "        if self.transform:\n",
    "            img = self.transform(img)\n",
    "\n",
    "        return img, (shape1, location1, shape2, location2)\n"
   ]
  },
  {
   "cell_type": "code",
   "execution_count": 12,
   "metadata": {},
   "outputs": [
    {
     "name": "stderr",
     "output_type": "stream",
     "text": [
      "/tmp/ipykernel_2625690/3169124329.py:14: FutureWarning: You are using `torch.load` with `weights_only=False` (the current default value), which uses the default pickle module implicitly. It is possible to construct malicious pickle data which will execute arbitrary code during unpickling (See https://github.com/pytorch/pytorch/blob/main/SECURITY.md#untrusted-models for more details). In a future release, the default value for `weights_only` will be flipped to `True`. This limits the functions that could be executed during unpickling. Arbitrary objects will no longer be allowed to be loaded via this mode unless they are explicitly allowlisted by the user via `torch.serialization.add_safe_globals`. We recommend you start setting `weights_only=True` for any use case where you don't have full control of the loaded file. Please open an issue on GitHub for any issues related to this experimental feature.\n",
      "  self.data = torch.load(join(self.savedir, 'dataset', self.filename))\n"
     ]
    },
    {
     "data": {
      "text/plain": [
       "tensor([[[0.0039, 0.0039, 0.0039,  ..., 0.0039, 0.0039, 0.0039],\n",
       "         [0.0039, 0.0039, 0.0039,  ..., 0.0039, 0.0039, 0.0039],\n",
       "         [0.0039, 0.0039, 0.0039,  ..., 0.0039, 0.0039, 0.0039],\n",
       "         ...,\n",
       "         [0.0039, 0.0039, 0.0039,  ..., 0.0039, 0.0039, 0.0039],\n",
       "         [0.0039, 0.0039, 0.0039,  ..., 0.0039, 0.0039, 0.0039],\n",
       "         [0.0039, 0.0039, 0.0039,  ..., 0.0039, 0.0039, 0.0039]],\n",
       "\n",
       "        [[0.0039, 0.0039, 0.0039,  ..., 0.0039, 0.0039, 0.0039],\n",
       "         [0.0039, 0.0039, 0.0039,  ..., 0.0039, 0.0039, 0.0039],\n",
       "         [0.0039, 0.0039, 0.0039,  ..., 0.0039, 0.0039, 0.0039],\n",
       "         ...,\n",
       "         [0.0039, 0.0039, 0.0039,  ..., 0.0039, 0.0039, 0.0039],\n",
       "         [0.0039, 0.0039, 0.0039,  ..., 0.0039, 0.0039, 0.0039],\n",
       "         [0.0039, 0.0039, 0.0039,  ..., 0.0039, 0.0039, 0.0039]],\n",
       "\n",
       "        [[0.0039, 0.0039, 0.0039,  ..., 0.0039, 0.0039, 0.0039],\n",
       "         [0.0039, 0.0039, 0.0039,  ..., 0.0039, 0.0039, 0.0039],\n",
       "         [0.0039, 0.0039, 0.0039,  ..., 0.0039, 0.0039, 0.0039],\n",
       "         ...,\n",
       "         [0.0039, 0.0039, 0.0039,  ..., 0.0039, 0.0039, 0.0039],\n",
       "         [0.0039, 0.0039, 0.0039,  ..., 0.0039, 0.0039, 0.0039],\n",
       "         [0.0039, 0.0039, 0.0039,  ..., 0.0039, 0.0039, 0.0039]]])"
      ]
     },
     "execution_count": 12,
     "metadata": {},
     "output_type": "execute_result"
    }
   ],
   "source": [
    "#TODO: Ask Binxu about this transform stuff. \n",
    "\n",
    "dataset_cached = ShapesDatasetCached(\n",
    "    transform = transforms.Normalize(mean=[0.5]*3, std=[0.5]*3)\n",
    "    )\n",
    "\n",
    "    \n",
    "dataset_cached[0][0]"
   ]
  },
  {
   "cell_type": "code",
   "execution_count": 11,
   "metadata": {},
   "outputs": [
    {
     "data": {
      "text/plain": [
       "torch.Size([10000, 3, 128, 128])"
      ]
     },
     "execution_count": 11,
     "metadata": {},
     "output_type": "execute_result"
    }
   ],
   "source": [
    "image_tensors.shape"
   ]
  },
  {
   "cell_type": "markdown",
   "metadata": {},
   "source": [
    "# Convert to Pixart compatible training dataset "
   ]
  },
  {
   "cell_type": "markdown",
   "metadata": {},
   "source": [
    "# Encode Images with VAE"
   ]
  },
  {
   "cell_type": "code",
   "execution_count": 13,
   "metadata": {},
   "outputs": [
    {
     "data": {
      "text/plain": [
       "torch.Size([1, 3, 128, 128])"
      ]
     },
     "execution_count": 13,
     "metadata": {},
     "output_type": "execute_result"
    }
   ],
   "source": [
    "device = torch.device(\"cuda:0\" if torch.cuda.is_available() else \"cpu\")\n",
    "vae_model = \"stabilityai/sd-vae-ft-ema\"\n",
    "vae = AutoencoderKL.from_pretrained(vae_model).to(device)\n",
    "\n",
    "\n",
    "# Verify the autoencoder is working properly \n",
    "with torch.no_grad():\n",
    "    latent_dist = vae.encode(image_tensors[0:1].to(device) * 2 - 1).latent_dist\n",
    "    latent_mean = latent_dist.mean\n",
    "    image_rec = vae.decode(latent_mean).sample * 0.5 + 0.5\n",
    "\n",
    "image_rec.shape\n",
    "\n"
   ]
  },
  {
   "cell_type": "code",
   "execution_count": 14,
   "metadata": {},
   "outputs": [
    {
     "name": "stderr",
     "output_type": "stream",
     "text": [
      "Clipping input data to the valid range for imshow with RGB data ([0..1] for floats or [0..255] for integers). Got range [-0.07874787..1.1714947].\n"
     ]
    },
    {
     "data": {
      "text/plain": [
       "<matplotlib.image.AxesImage at 0x14567a26e680>"
      ]
     },
     "execution_count": 14,
     "metadata": {},
     "output_type": "execute_result"
    },
    {
     "data": {
      "image/png": "[encoded data removed]",
      "text/plain": [
       "<Figure size 640x480 with 1 Axes>"
      ]
     },
     "metadata": {},
     "output_type": "display_data"
    }
   ],
   "source": [
    "plt.imshow(image_rec[0].permute(1,2,0).cpu().numpy())"
   ]
  },
  {
   "cell_type": "code",
   "execution_count": 16,
   "metadata": {},
   "outputs": [
    {
     "name": "stderr",
     "output_type": "stream",
     "text": [
      "Clipping input data to the valid range for imshow with RGB data ([0..1] for floats or [0..255] for integers). Got range [-0.074810624..1.0840046].\n"
     ]
    },
    {
     "data": {
      "text/plain": [
       "<matplotlib.image.AxesImage at 0x14567a561120>"
      ]
     },
     "execution_count": 16,
     "metadata": {},
     "output_type": "execute_result"
    },
    {
     "data": {
      "image/png": "[encoded data removed]",
      "text/plain": [
       "<Figure size 1000x500 with 2 Axes>"
      ]
     },
     "metadata": {},
     "output_type": "display_data"
    }
   ],
   "source": [
    "#Test that the encoder and decoder works \n",
    "\n",
    "image_tsr = dataset[0][0].unsqueeze(0)\n",
    "with torch.no_grad():\n",
    "    latent_dist = vae.encode(image_tsr.to(device) * 2 - 1).latent_dist\n",
    "    latent_sample = latent_dist.sample()\n",
    "    image_rec = vae.decode(latent_sample).sample * 0.5 + 0.5\n",
    "    # latent_mean = latent_dist.mean\n",
    "    # image_rec = vae.decode(latent_mean).sample * 0.5 + 0.5\n",
    "image_rec.shape\n",
    "plt.figure(figsize=(10, 5))\n",
    "plt.subplot(1, 2, 1)\n",
    "plt.imshow(image_rec[0].permute(1, 2, 0).cpu().numpy())\n",
    "plt.subplot(1, 2, 2)\n",
    "plt.imshow(image_tsr[0].permute(1, 2, 0).cpu().numpy())"
   ]
  },
  {
   "cell_type": "code",
   "execution_count": 19,
   "metadata": {},
   "outputs": [
    {
     "data": {
      "application/vnd.jupyter.widget-view+json": {
       "model_id": "8338f6495a294081bc5cf763711e32a4",
       "version_major": 2,
       "version_minor": 0
      },
      "text/plain": [
       "0it [00:00, ?it/s]"
      ]
     },
     "metadata": {},
     "output_type": "display_data"
    }
   ],
   "source": [
    "from torchvision.transforms import Compose, ToTensor, ToPILImage, Normalize, CenterCrop\n",
    "# Save to persistent storage\n",
    "\n",
    "transform = transforms.Compose([\n",
    "    lambda x: x.convert(\"RGB\")\n",
    "])\n",
    "\n",
    "resolution = 128\n",
    "\n",
    "single_dataset = SingleShapeDataset(num_images=5000, resolution=128, radius=16)\n",
    "double_dataset = DoubleShapeDataset(num_images=5000, resolution=128, radius=16)\n",
    "\n",
    "dataset = MixedShapesDataset(single_dataset, double_dataset)\n",
    "\n",
    "root_dir = \"/n/holylfs06/LABS/kempner_fellow_binxuwang/Users/binxuwang/DL_Projects/PixArt/training_datasets/objectRelMulti_pilot1\"\n",
    "images_dir = \"images\"\n",
    "captions_dir = \"captions\"\n",
    "\n",
    "images_dir_absolute = join(root_dir, images_dir)\n",
    "captions_dir_absolute = join(root_dir, captions_dir)\n",
    "\n",
    "if not os.path.exists(root_dir):\n",
    "    os.makedirs(join(root_dir, images_dir))\n",
    "\n",
    "if not os.path.exists(join(root_dir, images_dir)):\n",
    "    os.makedirs(join(root_dir, captions_dir))\n",
    "if not os.path.exists(join(root_dir, captions_dir)):\n",
    "    os.makedirs(join(root_dir, captions_dir))\n",
    "\n",
    "\n",
    "image_format = \"png\"\n",
    "json_name = \"partition/data_info.json\"\n",
    "if not os.path.exists(join(root_dir, \"partition\")):\n",
    "    os.makedirs(join(root_dir, \"partition\"))\n",
    "\n",
    "absolute_json_name = join(root_dir, json_name)\n",
    "data_info = []\n",
    "\n",
    "for order, (image, labels) in tqdm(enumerate(dataset)):\n",
    "    if order >= 10000:\n",
    "        break\n",
    "\n",
    "    image_pil = ToPILImage()(image)\n",
    "    image_pil.save(f\"{images_dir_absolute}/{order}.{image_format}\")\n",
    "    with open(f\"{captions_dir_absolute}/{order}.txt\", \"w\") as text_file:\n",
    "        text_file.write(labels[\"caption\"])\n",
    "\n",
    "    width, height = resolution, resolution\n",
    "    ratio = 1\n",
    "    data_info.append({\n",
    "        \"height\": height,\n",
    "        \"width\": width,\n",
    "        \"ratio\": ratio,\n",
    "        \"path\": f\"{order}.{image_format}\",\n",
    "        \"prompt\": labels[\"caption\"]\n",
    "    })\n",
    "\n",
    "with open(absolute_json_name, \"w\") as json_file:\n",
    "    json.dump(data_info, json_file)\n",
    "\n"
   ]
  },
  {
   "cell_type": "markdown",
   "metadata": {},
   "source": [
    "# Extract Features "
   ]
  },
  {
   "cell_type": "code",
   "execution_count": 20,
   "metadata": {},
   "outputs": [
    {
     "name": "stdout",
     "output_type": "stream",
     "text": [
      "/n/home12/hjkim/Github/DiffusionObjectRelation/PixArt-alpha\n",
      "/n/home12/hjkim/.conda/envs/torch2/lib/python3.10/site-packages/timm/models/layers/__init__.py:48: FutureWarning: Importing from timm.models.layers is deprecated, please import via timm.layers\n",
      "  warnings.warn(f\"Importing from {__name__} is deprecated, please import via timm.layers\", FutureWarning)\n",
      "/n/home12/hjkim/.conda/envs/torch2/lib/python3.10/site-packages/mmcv/__init__.py:20: UserWarning: On January 1, 2023, MMCV will release v2.0.0, in which it will remove components related to the training process and add a data transformation module. In addition, it will rename the package names mmcv to mmcv-lite and mmcv-full to mmcv. See https://github.com/open-mmlab/mmcv/blob/master/docs/en/compatibility.md for more details.\n",
      "  warnings.warn(\n",
      "/n/home12/hjkim/.conda/envs/torch2/lib/python3.10/site-packages/transformers/utils/hub.py:127: FutureWarning: Using `TRANSFORMERS_CACHE` is deprecated and will be removed in v5 of Transformers. Use `HF_HOME` instead.\n",
      "  warnings.warn(\n",
      "/n/holylfs06/LABS/kempner_fellow_binxuwang/Users/binxuwang/DL_Projects/PixArt/output/pretrained_models/t5_ckpts/t5-v1_1-xxl\n",
      "You are using the default legacy behaviour of the <class 'transformers.models.t5.tokenization_t5.T5Tokenizer'>. This is expected, and simply means that the `legacy` (previous) behavior will be used so nothing changes for you. If you want to use the new behaviour, set `legacy=False`. This should only be set if you understand what it means, and thoroughly read the reason why this was added as explained in https://github.com/huggingface/transformers/pull/24565\n",
      "/n/home12/hjkim/.conda/envs/torch2/lib/python3.10/site-packages/transformers/tokenization_utils_base.py:1601: FutureWarning: `clean_up_tokenization_spaces` was not set. It will be set to `True` by default. This behavior will be depracted in transformers v4.45, and will be then set to `False` by default. For more details check this issue: https://github.com/huggingface/transformers/issues/31884\n",
      "  warnings.warn(\n",
      "Loading checkpoint shards: 100%|██████████████████| 2/2 [00:30<00:00, 15.28s/it]\n",
      "100%|████████████████████████████████| 10000/10000 [00:00<00:00, 1259021.43it/s]\n",
      "Extracting Single Image Resolution 128\n",
      "An error occurred while trying to fetch /n/holylfs06/LABS/kempner_fellow_binxuwang/Users/binxuwang/DL_Projects/PixArt/output/pretrained_models/sd-vae-ft-ema: Error no file named diffusion_pytorch_model.safetensors found in directory /n/holylfs06/LABS/kempner_fellow_binxuwang/Users/binxuwang/DL_Projects/PixArt/output/pretrained_models/sd-vae-ft-ema.\n",
      "Defaulting to unsafe serialization. Pass `allow_pickle=False` to raise an error instead.\n",
      "100%|████████████████████████████████████| 10000/10000 [00:51<00:00, 195.65it/s]\n"
     ]
    }
   ],
   "source": [
    "%cd ../PixArt-alpha\n",
    "!python ~/Github/DiffusionObjectRelation/PixArt-alpha/tools/extract_features.py \\\n",
    "    --img_size 128 \\\n",
    "    --max_tokens 20 \\\n",
    "    --dataset_root \"/n/holylfs06/LABS/kempner_fellow_binxuwang/Users/binxuwang/DL_Projects/PixArt/training_datasets/objectRelMulti_pilot1\" \\\n",
    "    --json_path \"/n/holylfs06/LABS/kempner_fellow_binxuwang/Users/binxuwang/DL_Projects/PixArt/training_datasets/objectRelMulti_pilot1/partition/data_info.json\" \\\n",
    "    --t5_save_root \"/n/holylfs06/LABS/kempner_fellow_binxuwang/Users/binxuwang/DL_Projects/PixArt/training_datasets/objectRelMulti_pilot1/caption_feature_wmask\" \\\n",
    "    --vae_save_root \"/n/holylfs06/LABS/kempner_fellow_binxuwang/Users/binxuwang/DL_Projects/PixArt/training_datasets/objectRelMulti_pilot1/img_vae_features\" \\\n",
    "    --pretrained_models_dir \"/n/holylfs06/LABS/kempner_fellow_binxuwang/Users/binxuwang/DL_Projects/PixArt/output/pretrained_models\""
   ]
  },
  {
   "cell_type": "code",
   "execution_count": 21,
   "metadata": {},
   "outputs": [
    {
     "name": "stdout",
     "output_type": "stream",
     "text": [
      "1.5G\t/n/holylfs06/LABS/kempner_fellow_binxuwang/Users/binxuwang/DL_Projects/PixArt/training_datasets/objectRelMulti_pilot1/caption_feature_wmask\n",
      "40M\t/n/holylfs06/LABS/kempner_fellow_binxuwang/Users/binxuwang/DL_Projects/PixArt/training_datasets/objectRelMulti_pilot1/captions\n",
      "40M\t/n/holylfs06/LABS/kempner_fellow_binxuwang/Users/binxuwang/DL_Projects/PixArt/training_datasets/objectRelMulti_pilot1/images\n",
      "118M\t/n/holylfs06/LABS/kempner_fellow_binxuwang/Users/binxuwang/DL_Projects/PixArt/training_datasets/objectRelMulti_pilot1/img_vae_features_128resolution\n",
      "1.1M\t/n/holylfs06/LABS/kempner_fellow_binxuwang/Users/binxuwang/DL_Projects/PixArt/training_datasets/objectRelMulti_pilot1/partition\n"
     ]
    }
   ],
   "source": [
    "!du -sh /n/holylfs06/LABS/kempner_fellow_binxuwang/Users/binxuwang/DL_Projects/PixArt/training_datasets/objectRelMulti_pilot1/*"
   ]
  },
  {
   "cell_type": "markdown",
   "metadata": {},
   "source": [
    "# Training"
   ]
  },
  {
   "cell_type": "markdown",
   "metadata": {},
   "source": []
  }
 ],
 "metadata": {
  "kernelspec": {
   "display_name": "torch2",
   "language": "python",
   "name": "python3"
  },
  "language_info": {
   "codemirror_mode": {
    "name": "ipython",
    "version": 3
   },
   "file_extension": ".py",
   "mimetype": "text/x-python",
   "name": "python",
   "nbconvert_exporter": "python",
   "pygments_lexer": "ipython3",
   "version": "3.10.18"
  }
 },
 "nbformat": 4,
 "nbformat_minor": 2
}
