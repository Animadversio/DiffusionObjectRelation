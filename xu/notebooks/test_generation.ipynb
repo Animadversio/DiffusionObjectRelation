{
 "cells": [
  {
   "cell_type": "code",
   "execution_count": 1,
   "metadata": {},
   "outputs": [
    {
     "name": "stderr",
     "output_type": "stream",
     "text": [
      "/n/holylabs/LABS/sompolinsky_lab/Users/xupan/envs/pixart/lib/python3.10/site-packages/tqdm/auto.py:21: TqdmWarning: IProgress not found. Please update jupyter and ipywidgets. See https://ipywidgets.readthedocs.io/en/stable/user_install.html\n",
      "  from .autonotebook import tqdm as notebook_tqdm\n",
      "/n/holylabs/LABS/sompolinsky_lab/Users/xupan/envs/pixart/lib/python3.10/site-packages/timm/models/layers/__init__.py:48: FutureWarning: Importing from timm.models.layers is deprecated, please import via timm.layers\n",
      "  warnings.warn(f\"Importing from {__name__} is deprecated, please import via timm.layers\", FutureWarning)\n",
      "/n/holylabs/LABS/sompolinsky_lab/Users/xupan/envs/pixart/lib/python3.10/site-packages/mmcv/__init__.py:20: UserWarning: On January 1, 2023, MMCV will release v2.0.0, in which it will remove components related to the training process and add a data transformation module. In addition, it will rename the package names mmcv to mmcv-lite and mmcv-full to mmcv. See https://github.com/open-mmlab/mmcv/blob/master/docs/en/compatibility.md for more details.\n",
      "  warnings.warn(\n"
     ]
    }
   ],
   "source": [
    "import sys\n",
    "from os.path import join\n",
    "import torch\n",
    "import matplotlib.pyplot as plt\n",
    "sys.path.append(\"/n/holylabs/LABS/sompolinsky_lab/Everyone/xupan/DiffusionObjectRelation/PixArt-alpha\")\n",
    "from diffusion.utils.misc import read_config, set_random_seed, \\\n",
    "    init_random_seed, DebugUnderflowOverflow\n",
    "sys.path.append(\"/n/holylabs/LABS/sompolinsky_lab/Everyone/xupan/DiffusionObjectRelation\")\n",
    "from utils.pixart_sampling_utils import visualize_prompts, PixArtAlphaPipeline_custom, \\\n",
    "    load_embed_and_mask, visualize_prompts_with_traj\n",
    "from utils.pixart_utils import construct_diffuser_pipeline_from_config, construct_pixart_transformer_from_config, state_dict_convert\n",
    "from utils.attention_map_store_utils import replace_attn_processor, AttnProcessor2_0_Store, PixArtAttentionVisualizer_Store"
   ]
  },
  {
   "cell_type": "code",
   "execution_count": 2,
   "metadata": {},
   "outputs": [
    {
     "name": "stderr",
     "output_type": "stream",
     "text": [
      "Fetching 4 files: 100%|██████████| 4/4 [00:03<00:00,  1.08it/s]\n",
      "Loading pipeline components...: 100%|██████████| 3/3 [00:01<00:00,  2.05it/s]\n",
      "You are using the default legacy behaviour of the <class 'transformers.models.t5.tokenization_t5.T5Tokenizer'>. This is expected, and simply means that the `legacy` (previous) behavior will be used so nothing changes for you. If you want to use the new behaviour, set `legacy=False`. This should only be set if you understand what it means, and thoroughly read the reason why this was added as explained in https://github.com/huggingface/transformers/pull/24565\n",
      "/n/holylabs/LABS/sompolinsky_lab/Users/xupan/envs/pixart/lib/python3.10/site-packages/transformers/tokenization_utils_base.py:1601: FutureWarning: `clean_up_tokenization_spaces` was not set. It will be set to `True` by default. This behavior will be depracted in transformers v4.45, and will be then set to `False` by default. For more details check this issue: https://github.com/huggingface/transformers/issues/31884\n",
      "  warnings.warn(\n"
     ]
    },
    {
     "name": "stdout",
     "output_type": "stream",
     "text": [
      "Setting up hooks for PixArt attention modules:\n",
      "- Block 0\n",
      "- Block 1\n",
      "- Block 2\n",
      "- Block 3\n",
      "- Block 4\n",
      "- Block 5\n",
      "- Block 6\n",
      "- Block 7\n",
      "- Block 8\n",
      "- Block 9\n",
      "- Block 10\n",
      "- Block 11\n",
      "torch.Size([50, 20, 4096])\n",
      "torch.Size([50, 20])\n",
      "red circle is to the left of blue square\n"
     ]
    }
   ],
   "source": [
    "savedir = \"/n/holylfs06/LABS/kempner_fellow_binxuwang/Users/binxuwang/DL_Projects/PixArt/results/objrel_rndembdposemb_DiT_B_pilot\"\n",
    "ckptdir = join(savedir, \"checkpoints\")\n",
    "config = read_config(join(savedir, 'config.py'))\n",
    "weight_dtype = torch.float32\n",
    "if config.mixed_precision == \"fp16\": # accelerator.\n",
    "    weight_dtype = torch.float16\n",
    "elif config.mixed_precision == \"bf16\": # accelerator.\n",
    "    weight_dtype = torch.bfloat16\n",
    "    \n",
    "pipeline = construct_diffuser_pipeline_from_config(config, pipeline_class=PixArtAlphaPipeline_custom)\n",
    "ckpt = torch.load(join(ckptdir, \"epoch_4000_step_160000.pth\"))\n",
    "pipeline.transformer.load_state_dict(state_dict_convert(ckpt['state_dict_ema']))\n",
    "pipeline = pipeline.to(\"cuda\")\n",
    "pipeline.set_progress_bar_config(disable=True)\n",
    "\n",
    "validation_prompts = config.validation_prompts\n",
    "prompt_cache_dir = config.prompt_cache_dir\n",
    "\n",
    "from transformers import T5Tokenizer, T5EncoderModel\n",
    "\n",
    "T5_path = \"/n/holylfs06/LABS/kempner_fellow_binxuwang/Users/binxuwang/DL_Projects/PixArt/output/pretrained_models/t5_ckpts/t5-v1_1-xxl\"\n",
    "tokenizer = T5Tokenizer.from_pretrained(T5_path, )#subfolder=\"tokenizer\")\n",
    "\n",
    "pipeline.transformer = replace_attn_processor(pipeline.transformer)\n",
    "\n",
    "attnvis_store = PixArtAttentionVisualizer_Store(pipeline)\n",
    "attnvis_store.setup_hooks()\n",
    "attnvis_store.clear_activation()\n",
    "\n",
    "image_logs_sel, latents_traj_sel, pred_traj_sel, t_traj_sel = visualize_prompts_with_traj(\\\n",
    "    pipeline, validation_prompts[7:8], prompt_cache_dir, config.model_max_length, weight_dtype)\n",
    "\n",
    "embed_infos = load_embed_and_mask(validation_prompts[7:8], prompt_cache_dir, config.model_max_length, device=\"cuda\")\n",
    "\n",
    "print(embed_infos[0]['prompt'])\n",
    "prompt = embed_infos[0]['prompt']\n",
    "# attention_mask_raw = embed_infos[0]['emb_mask'].cpu()\n",
    "token_ids = tokenizer.encode(prompt)\n",
    "word_tokens = tokenizer.convert_ids_to_tokens(token_ids)\n",
    "word_tokens = [token.replace(\"▁\", \"\") for token in word_tokens]"
   ]
  },
  {
   "cell_type": "code",
   "execution_count": 7,
   "metadata": {},
   "outputs": [
    {
     "data": {
      "text/plain": [
       "{'caption_embeds': tensor([[[ 0.1041,  0.4146, -0.2654,  ...,  0.0858, -0.0207,  0.1217],\n",
       "          [ 0.2913,  0.0860,  0.1098,  ...,  0.1921,  0.1374,  0.2417],\n",
       "          [ 0.3710, -0.1171,  0.1197,  ...,  0.3582,  0.2012,  0.2286],\n",
       "          ...,\n",
       "          [ 0.0656,  0.1284, -0.0507,  ...,  0.1502,  0.1106,  0.1653],\n",
       "          [ 0.1006,  0.2843, -0.0281,  ...,  0.1502,  0.1106,  0.1653],\n",
       "          [ 0.2508,  0.3391,  0.1164,  ...,  0.1502,  0.1107,  0.1653]]],\n",
       "        device='cuda:0'),\n",
       " 'emb_mask': tensor([[1, 1, 1, 1, 1, 1, 1, 1, 1, 1, 0, 0, 0, 0, 0, 0, 0, 0, 0, 0]],\n",
       "        device='cuda:0'),\n",
       " 'prompt': 'red circle is to the left of blue square'}"
      ]
     },
     "execution_count": 7,
     "metadata": {},
     "output_type": "execute_result"
    }
   ],
   "source": [
    "embed_infos[0]"
   ]
  },
  {
   "cell_type": "code",
   "execution_count": 8,
   "metadata": {},
   "outputs": [
    {
     "data": {
      "text/plain": [
       "torch.Size([1, 20, 4096])"
      ]
     },
     "execution_count": 8,
     "metadata": {},
     "output_type": "execute_result"
    }
   ],
   "source": [
    "embed_infos[0]['caption_embeds'].shape"
   ]
  },
  {
   "cell_type": "code",
   "execution_count": 9,
   "metadata": {},
   "outputs": [
    {
     "data": {
      "text/plain": [
       "[1131, 8196, 19, 12, 8, 646, 13, 1692, 2812, 1]"
      ]
     },
     "execution_count": 9,
     "metadata": {},
     "output_type": "execute_result"
    }
   ],
   "source": [
    "token_ids"
   ]
  }
 ],
 "metadata": {
  "kernelspec": {
   "display_name": "Python 3",
   "language": "python",
   "name": "python3"
  },
  "language_info": {
   "codemirror_mode": {
    "name": "ipython",
    "version": 3
   },
   "file_extension": ".py",
   "mimetype": "text/x-python",
   "name": "python",
   "nbconvert_exporter": "python",
   "pygments_lexer": "ipython3",
   "version": "3.10.15"
  }
 },
 "nbformat": 4,
 "nbformat_minor": 2
}
