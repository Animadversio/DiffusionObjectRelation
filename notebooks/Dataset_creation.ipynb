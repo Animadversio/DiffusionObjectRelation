{
 "cells": [
  {
   "cell_type": "code",
   "execution_count": 24,
   "metadata": {},
   "outputs": [],
   "source": [
    "import torch\n",
    "from torch.utils.data import Dataset, DataLoader\n",
    "from torchvision import transforms\n",
    "import numpy as np\n",
    "from PIL import Image, ImageDraw\n",
    "import random\n",
    "\n",
    "class ShapesDataset(Dataset):\n",
    "    def __init__(self, num_images, transform=None):\n",
    "        \"\"\"\n",
    "        Initializes the dataset.\n",
    "\n",
    "        Parameters:\n",
    "        - num_images: Integer specifying the number of images in the dataset.\n",
    "        - transform: Optional torchvision transforms to apply to the images.\n",
    "        \"\"\"\n",
    "        self.num_images = num_images\n",
    "        self.shapes = ['triangle', 'circle', 'square']\n",
    "        self.canvas_size = 64\n",
    "        self.transform = transform\n",
    "        self.shape_to_idx = {'triangle': 0, 'circle': 1, 'square': 2}\n",
    "        self.radius = 8\n",
    "        \n",
    "    def __len__(self):\n",
    "        return self.num_images\n",
    "\n",
    "    def draw_shape_on_image(self, img, shape, location, color='black'):\n",
    "        \"\"\"\n",
    "        Draws a specified shape at a given location on the provided image.\n",
    "\n",
    "        Parameters:\n",
    "        - img: PIL Image object to draw on.\n",
    "        - shape: String specifying the shape ('triangle', 'circle', 'square').\n",
    "        - location: Tuple (x, y) specifying the location of the shape's center.\n",
    "\n",
    "        Returns:\n",
    "        - img: PIL Image object with the shape drawn on it.\n",
    "        \"\"\"\n",
    "        draw = ImageDraw.Draw(img)\n",
    "        x, y = location\n",
    "\n",
    "        if shape == 'circle':\n",
    "            r = self.radius  # Radius\n",
    "            leftUpPoint = (x - r, y - r)\n",
    "            rightDownPoint = (x + r, y + r)\n",
    "            draw.ellipse([leftUpPoint, rightDownPoint], fill=color)\n",
    "\n",
    "        elif shape == 'square':\n",
    "            s = self.radius * 2  # Side length\n",
    "            leftUpPoint = (x - s // 2, y - s // 2)\n",
    "            rightDownPoint = (x + s // 2, y + s // 2)\n",
    "            draw.rectangle([leftUpPoint, rightDownPoint], fill=color)\n",
    "\n",
    "        elif shape == 'triangle':\n",
    "            s = self.radius * 2  # Side length\n",
    "            h = s * (3 ** 0.5) / 2  # Height of the equilateral triangle\n",
    "            point1 = (x, y - h / 3)\n",
    "            point2 = (x - s / 2, y + h * 2 / 3)\n",
    "            point3 = (x + s / 2, y + h * 2 / 3)\n",
    "            draw.polygon([point1, point2, point3], fill=color)\n",
    "\n",
    "        else:\n",
    "            raise ValueError(\"Shape must be 'triangle', 'circle', or 'square'.\")\n",
    "\n",
    "        return img\n",
    "\n",
    "    def __getitem__(self, idx):\n",
    "        \"\"\"\n",
    "        Generates one image and its labels.\n",
    "\n",
    "        Parameters:\n",
    "        - idx: Index of the image (not used as images are generated on-the-fly).\n",
    "\n",
    "        Returns:\n",
    "        - img: Tensor representing the image.\n",
    "        - labels: Dictionary containing the shapes and locations of the objects.\n",
    "        \"\"\"\n",
    "        # Create a blank image\n",
    "        img = Image.new('RGB', (self.canvas_size, self.canvas_size), 'gray')\n",
    "\n",
    "        # Randomly select two shapes, make sure they are different\n",
    "        shape1 = random.choice(self.shapes)\n",
    "        while True:\n",
    "            shape2 = random.choice(self.shapes)\n",
    "            if shape1 != shape2:\n",
    "                break\n",
    "\n",
    "        # Randomly select locations\n",
    "        x1 = random.randint(self.radius + 1, self.canvas_size - self.radius - 1)\n",
    "        y1 = random.randint(self.radius + 1, self.canvas_size - self.radius - 1)\n",
    "        x2 = random.randint(self.radius + 1, self.canvas_size - self.radius - 1)\n",
    "        y2 = random.randint(self.radius + 1, self.canvas_size - self.radius - 1)\n",
    "\n",
    "        # Randomly decide drawing order to allow overlapping\n",
    "        if random.random() < 0.5:\n",
    "            img = self.draw_shape_on_image(img, shape1, (x1, y1), color=\"red\")\n",
    "            img = self.draw_shape_on_image(img, shape2, (x2, y2), color=\"blue\")\n",
    "            shapes_order = [shape1, shape2]\n",
    "            locations_order = [(x1, y1), (x2, y2)]\n",
    "        else:\n",
    "            img = self.draw_shape_on_image(img, shape2, (x2, y2), color=\"blue\")\n",
    "            img = self.draw_shape_on_image(img, shape1, (x1, y1), color=\"red\")\n",
    "            shapes_order = [shape2, shape1]\n",
    "            locations_order = [(x2, y2), (x1, y1)]\n",
    "\n",
    "        # Apply transforms if any\n",
    "        if self.transform:\n",
    "            img = self.transform(img)\n",
    "        else:\n",
    "            img = transforms.ToTensor()(img)\n",
    "\n",
    "        # Encode labels\n",
    "        labels = {\n",
    "            'shape1': self.shape_to_idx[shapes_order[0]],\n",
    "            'location1': torch.tensor(locations_order[0], dtype=torch.float32),\n",
    "            'shape2': self.shape_to_idx[shapes_order[1]],\n",
    "            'location2': torch.tensor(locations_order[1], dtype=torch.float32)\n",
    "        }\n",
    "\n",
    "        return img, labels\n"
   ]
  },
  {
   "cell_type": "code",
   "execution_count": 30,
   "metadata": {},
   "outputs": [
    {
     "name": "stdout",
     "output_type": "stream",
     "text": [
      "Images batch shape: torch.Size([16, 3, 64, 64])\n",
      "Labels batch: {'shape1': tensor([2, 1, 0, 2, 2, 2, 1, 0, 0, 0, 1, 0, 0, 0, 2, 0]), 'location1': tensor([[27., 20.],\n",
      "        [50., 44.],\n",
      "        [53., 16.],\n",
      "        [48., 21.],\n",
      "        [35., 44.],\n",
      "        [35., 28.],\n",
      "        [12., 54.],\n",
      "        [40., 25.],\n",
      "        [14., 21.],\n",
      "        [51., 47.],\n",
      "        [54., 35.],\n",
      "        [53., 13.],\n",
      "        [25., 44.],\n",
      "        [50., 55.],\n",
      "        [26., 50.],\n",
      "        [52., 24.]]), 'shape2': tensor([0, 2, 2, 1, 1, 1, 2, 2, 1, 1, 0, 2, 1, 1, 0, 2]), 'location2': tensor([[16., 52.],\n",
      "        [51., 10.],\n",
      "        [34., 45.],\n",
      "        [32., 40.],\n",
      "        [26., 47.],\n",
      "        [43., 23.],\n",
      "        [32., 48.],\n",
      "        [32., 34.],\n",
      "        [10., 29.],\n",
      "        [42., 45.],\n",
      "        [45., 55.],\n",
      "        [39., 25.],\n",
      "        [13., 40.],\n",
      "        [51., 55.],\n",
      "        [29., 20.],\n",
      "        [12., 36.]])}\n"
     ]
    },
    {
     "data": {
      "image/png": "[encoded data removed]",
      "text/plain": [
       "<Figure size 640x480 with 1 Axes>"
      ]
     },
     "metadata": {},
     "output_type": "display_data"
    }
   ],
   "source": [
    "\n",
    "# Example usage:\n",
    "if __name__ == '__main__':\n",
    "    # Define any transforms (optional)\n",
    "    transform = transforms.Compose([\n",
    "        transforms.ToTensor(),\n",
    "        # Add more transforms if needed\n",
    "    ])\n",
    "    # Create the dataset\n",
    "    dataset = ShapesDataset(num_images=1000, transform=transform)\n",
    "    # Create a DataLoader\n",
    "    dataloader = DataLoader(dataset, batch_size=16, shuffle=True)\n",
    "    # Iterate over the DataLoader\n",
    "    for images, labels in dataloader:\n",
    "        print(f\"Images batch shape: {images.size()}\")\n",
    "        print(f\"Labels batch: {labels}\")\n",
    "        break  # Just process one batch for demonstration\n",
    "\n",
    "    # Display one image and its labels (optional)\n",
    "    import matplotlib.pyplot as plt\n",
    "    img, lbl = dataset[0]\n",
    "    img_np = img.permute(1, 2, 0).numpy()\n",
    "    plt.imshow(img_np)\n",
    "    shape_names = {0: 'triangle', 1: 'circle', 2: 'square'}\n",
    "    plt.title(f\"Shapes: {shape_names[lbl['shape1']]} at {tuple(lbl['location1'].numpy())}, \"\n",
    "              f\"{shape_names[lbl['shape2']]} at {tuple(lbl['location2'].numpy())}\")\n",
    "    plt.axis('off')\n",
    "    plt.show()\n",
    "    \n",
    "    "
   ]
  },
  {
   "cell_type": "code",
   "execution_count": 31,
   "metadata": {},
   "outputs": [
    {
     "name": "stdout",
     "output_type": "stream",
     "text": [
      "tensor(0.4849)\n",
      "tensor(0.1583)\n"
     ]
    }
   ],
   "source": [
    "transform = transforms.Compose([\n",
    "    transforms.ToTensor(),\n",
    "    # Add more transforms if needed\n",
    "])\n",
    "# Create the dataset\n",
    "dataset = ShapesDataset(num_images=10000, transform=transform)\n",
    "# sample 10000 images and save the images and labels as tensors\n",
    "images = []\n",
    "labels = []\n",
    "for i in range(10000):\n",
    "    img, lbl = dataset[i]\n",
    "    images.append(img)\n",
    "    labels.append(lbl)\n",
    "    \n",
    "image_tensors = torch.stack(images)\n",
    "print(image_tensors.mean())\n",
    "print(image_tensors.std())"
   ]
  },
  {
   "cell_type": "code",
   "execution_count": 36,
   "metadata": {},
   "outputs": [],
   "source": [
    "shape1 = torch.tensor([item['shape1'] for item in labels], dtype=torch.long)\n",
    "location1 = torch.stack([item['location1'] for item in labels], dim=0)\n",
    "shape2 = torch.tensor([item['shape2'] for item in labels], dtype=torch.long)\n",
    "location2 = torch.stack([item['location2'] for item in labels], dim=0)"
   ]
  },
  {
   "cell_type": "code",
   "execution_count": 37,
   "metadata": {},
   "outputs": [],
   "source": [
    "from torch.utils.data import TensorDataset\n",
    "dataset = TensorDataset(image_tensors, shape1, location1, shape2, location2)\n",
    "dataloader = DataLoader(dataset, batch_size=16, shuffle=True)\n",
    "batch = next(iter(dataloader))"
   ]
  },
  {
   "cell_type": "code",
   "execution_count": 42,
   "metadata": {},
   "outputs": [
    {
     "name": "stdout",
     "output_type": "stream",
     "text": [
      "ls: cannot access '/n/holylfs06/LABS/kempner_fellow_binxuwang/Users/binxuwang/DL_Projects/Diffusion_ObjectRelation': No such file or directory\n"
     ]
    }
   ],
   "source": [
    "!ls /n/holylfs06/LABS/kempner_fellow_binxuwang/Users/binxuwang/DL_Projects/Diffusion_ObjectRelation"
   ]
  },
  {
   "cell_type": "code",
   "execution_count": 43,
   "metadata": {},
   "outputs": [],
   "source": [
    "!mkdir /n/holylfs06/LABS/kempner_fellow_binxuwang/Users/binxuwang/DL_Projects/Diffusion_ObjectRelation"
   ]
  },
  {
   "cell_type": "code",
   "execution_count": 45,
   "metadata": {},
   "outputs": [],
   "source": [
    "import os\n",
    "from os.path import join\n",
    "savedir = \"/n/holylfs06/LABS/kempner_fellow_binxuwang/Users/binxuwang/DL_Projects/Diffusion_ObjectRelation\"\n",
    "os.makedirs(join(savedir, \"dataset\"), exist_ok=True)\n",
    "torch.save({\"images\": image_tensors, \"shape1\": shape1, \"location1\": location1, \"shape2\": shape2, \"location2\": location2}, \n",
    "           join(savedir, \"dataset\", \"shapes_dataset_pilot.pth\"))"
   ]
  },
  {
   "cell_type": "code",
   "execution_count": 50,
   "metadata": {},
   "outputs": [],
   "source": [
    "class ShapesDatasetCached(Dataset):\n",
    "    filename = \"shapes_dataset_pilot.pth\"\n",
    "    savedir = \"/n/holylfs06/LABS/kempner_fellow_binxuwang/Users/binxuwang/DL_Projects/Diffusion_ObjectRelation\"\n",
    "    def __init__(self, transform=None):\n",
    "        \"\"\"\n",
    "        Initializes the dataset.\n",
    "\n",
    "        Parameters:\n",
    "        - transform: Optional torchvision transforms to apply to the images.\n",
    "        \"\"\"\n",
    "        self.transform = transform\n",
    "        self.data = torch.load(join(self.savedir, \"dataset\", self.filename))\n",
    "        self.images = self.data[\"images\"]\n",
    "        self.shape1 = self.data[\"shape1\"]\n",
    "        self.location1 = self.data[\"location1\"]\n",
    "        self.shape2 = self.data[\"shape2\"]\n",
    "        self.location2 = self.data[\"location2\"]\n",
    "    \n",
    "    def __len__(self):\n",
    "        return len(self.images)\n",
    "    \n",
    "    def __getitem__(self, idx):\n",
    "        img = self.images[idx]\n",
    "        shape1 = self.shape1[idx]\n",
    "        location1 = self.location1[idx]\n",
    "        shape2 = self.shape2[idx]\n",
    "        location2 = self.location2[idx]\n",
    "        \n",
    "        if self.transform:\n",
    "            img = self.transform(img)\n",
    "        \n",
    "        return img, (shape1, location1, shape2, location2)\n",
    "    \n",
    "dataset2 = ShapesDatasetCached(transform=transforms.Normalize(mean=[0.5, 0.5, 0.5], std=[0.5, 0.5, 0.5]))"
   ]
  },
  {
   "cell_type": "code",
   "execution_count": 51,
   "metadata": {},
   "outputs": [
    {
     "data": {
      "text/plain": [
       "tensor([[[0.0039, 0.0039, 0.0039,  ..., 0.0039, 0.0039, 0.0039],\n",
       "         [0.0039, 0.0039, 0.0039,  ..., 0.0039, 0.0039, 0.0039],\n",
       "         [0.0039, 0.0039, 0.0039,  ..., 0.0039, 0.0039, 0.0039],\n",
       "         ...,\n",
       "         [0.0039, 0.0039, 0.0039,  ..., 0.0039, 0.0039, 0.0039],\n",
       "         [0.0039, 0.0039, 0.0039,  ..., 0.0039, 0.0039, 0.0039],\n",
       "         [0.0039, 0.0039, 0.0039,  ..., 0.0039, 0.0039, 0.0039]],\n",
       "\n",
       "        [[0.0039, 0.0039, 0.0039,  ..., 0.0039, 0.0039, 0.0039],\n",
       "         [0.0039, 0.0039, 0.0039,  ..., 0.0039, 0.0039, 0.0039],\n",
       "         [0.0039, 0.0039, 0.0039,  ..., 0.0039, 0.0039, 0.0039],\n",
       "         ...,\n",
       "         [0.0039, 0.0039, 0.0039,  ..., 0.0039, 0.0039, 0.0039],\n",
       "         [0.0039, 0.0039, 0.0039,  ..., 0.0039, 0.0039, 0.0039],\n",
       "         [0.0039, 0.0039, 0.0039,  ..., 0.0039, 0.0039, 0.0039]],\n",
       "\n",
       "        [[0.0039, 0.0039, 0.0039,  ..., 0.0039, 0.0039, 0.0039],\n",
       "         [0.0039, 0.0039, 0.0039,  ..., 0.0039, 0.0039, 0.0039],\n",
       "         [0.0039, 0.0039, 0.0039,  ..., 0.0039, 0.0039, 0.0039],\n",
       "         ...,\n",
       "         [0.0039, 0.0039, 0.0039,  ..., 0.0039, 0.0039, 0.0039],\n",
       "         [0.0039, 0.0039, 0.0039,  ..., 0.0039, 0.0039, 0.0039],\n",
       "         [0.0039, 0.0039, 0.0039,  ..., 0.0039, 0.0039, 0.0039]]])"
      ]
     },
     "execution_count": 51,
     "metadata": {},
     "output_type": "execute_result"
    }
   ],
   "source": [
    "dataset2[0][0]"
   ]
  },
  {
   "cell_type": "code",
   "execution_count": 39,
   "metadata": {},
   "outputs": [
    {
     "data": {
      "text/plain": [
       "torch.Size([10000, 3, 64, 64])"
      ]
     },
     "execution_count": 39,
     "metadata": {},
     "output_type": "execute_result"
    }
   ],
   "source": [
    "image_tensors.shape"
   ]
  }
 ],
 "metadata": {
  "kernelspec": {
   "display_name": "torch2",
   "language": "python",
   "name": "python3"
  },
  "language_info": {
   "codemirror_mode": {
    "name": "ipython",
    "version": 3
   },
   "file_extension": ".py",
   "mimetype": "text/x-python",
   "name": "python",
   "nbconvert_exporter": "python",
   "pygments_lexer": "ipython3",
   "version": "3.10.14"
  }
 },
 "nbformat": 4,
 "nbformat_minor": 2
}
