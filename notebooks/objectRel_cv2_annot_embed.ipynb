{
 "cells": [
  {
   "cell_type": "code",
   "execution_count": 1,
   "metadata": {},
   "outputs": [],
   "source": [
    "%load_ext autoreload\n",
    "%autoreload 2"
   ]
  },
  {
   "cell_type": "code",
   "execution_count": 2,
   "metadata": {},
   "outputs": [
    {
     "name": "stderr",
     "output_type": "stream",
     "text": [
      "/n/home12/binxuwang/.conda/envs/torch2/lib/python3.10/site-packages/mmcv/__init__.py:20: UserWarning: On January 1, 2023, MMCV will release v2.0.0, in which it will remove components related to the training process and add a data transformation module. In addition, it will rename the package names mmcv to mmcv-lite and mmcv-full to mmcv. See https://github.com/open-mmlab/mmcv/blob/master/docs/en/compatibility.md for more details.\n",
      "  warnings.warn(\n",
      "/n/home12/binxuwang/.conda/envs/torch2/lib/python3.10/site-packages/transformers/utils/hub.py:127: FutureWarning: Using `TRANSFORMERS_CACHE` is deprecated and will be removed in v5 of Transformers. Use `HF_HOME` instead.\n",
      "  warnings.warn(\n"
     ]
    }
   ],
   "source": [
    "import os\n",
    "from os.path import join\n",
    "import torch\n",
    "import sys\n",
    "sys.path.append(\"/n/home12/binxuwang/Github/DiffusionObjectRelation/PixArt-alpha\")\n",
    "from diffusion import IDDPM\n",
    "from diffusion.data.builder import build_dataset, build_dataloader, set_data_root\n",
    "from diffusion.model.builder import build_model\n",
    "from diffusion.utils.misc import set_random_seed, read_config, init_random_seed, DebugUnderflowOverflow\n",
    "sys.path.append(\"/n/home12/binxuwang/Github/DiffusionObjectRelation/utils\")\n",
    "from pixart_utils import state_dict_convert\n",
    "from image_utils import pil_images_to_grid\n",
    "from diffusers import AutoencoderKL, Transformer2DModel, PixArtAlphaPipeline, DPMSolverMultistepScheduler"
   ]
  },
  {
   "cell_type": "code",
   "execution_count": 3,
   "metadata": {},
   "outputs": [],
   "source": [
    "from diffusers import AutoencoderKL, Transformer2DModel, PixArtAlphaPipeline, DPMSolverMultistepScheduler\n",
    "@torch.inference_mode()\n",
    "def visualize_prompts(pipeline, validation_prompts, prompt_cache_dir, max_length=120, weight_dtype=torch.float16,\n",
    "                   num_inference_steps=14, guidance_scale=4.5, num_images_per_prompt=25, device=\"cuda\"):\n",
    "    # logger.info(\"Running validation... \")\n",
    "    # device = accelerator.device\n",
    "    # model = accelerator.unwrap_model(model)\n",
    "    if validation_prompts is None:\n",
    "        validation_prompts = [\n",
    "            \"triangle is to the upper left of square\", \n",
    "            \"blue triangle is to the upper left of red square\", \n",
    "            \"triangle is above and to the right of square\", \n",
    "            \"blue circle is above and to the right of blue square\", \n",
    "            \"triangle is to the left of square\", \n",
    "            \"triangle is to the left of triangle\", \n",
    "            \"circle is below red square\",\n",
    "            \"red circle is to the left of blue square\",\n",
    "            \"blue square is to the right of red circle\",\n",
    "            \"red circle is above square\",\n",
    "            \"triangle is above red circle\",\n",
    "            \"red is above blue\",\n",
    "            \"red is to the left of red\",\n",
    "            \"blue triangle is above red triangle\", \n",
    "            \"blue circle is above blue square\", \n",
    "        ]\n",
    "    pipeline = pipeline.to(device)\n",
    "    pipeline.set_progress_bar_config(disable=True)\n",
    "    generator = torch.Generator(device=device).manual_seed(0)\n",
    "    image_logs = []\n",
    "    images = []\n",
    "    latents = []\n",
    "    uncond_data = torch.load(f'{prompt_cache_dir}/uncond_{max_length}token.pth', map_location='cpu')\n",
    "    uncond_prompt_embeds = uncond_data['caption_embeds'].to(device)\n",
    "    uncond_prompt_attention_mask = uncond_data['emb_mask'].to(device)\n",
    "    visualized_prompts = []\n",
    "    for _, prompt in enumerate(validation_prompts):\n",
    "        if not os.path.exists(f'{prompt_cache_dir}/{prompt}_{max_length}token.pth'):\n",
    "            continue\n",
    "        embed = torch.load(f'{prompt_cache_dir}/{prompt}_{max_length}token.pth', map_location='cpu')\n",
    "        caption_embs, emb_masks = embed['caption_embeds'].to(device), embed['emb_mask'].to(device)\n",
    "        latents.append(pipeline(\n",
    "            num_inference_steps=num_inference_steps,\n",
    "            num_images_per_prompt=num_images_per_prompt,\n",
    "            generator=generator,\n",
    "            guidance_scale=guidance_scale,\n",
    "            prompt_embeds=caption_embs,\n",
    "            prompt_attention_mask=emb_masks,\n",
    "            negative_prompt=None,\n",
    "            negative_prompt_embeds=uncond_prompt_embeds,\n",
    "            negative_prompt_attention_mask=uncond_prompt_attention_mask,\n",
    "            use_resolution_binning=False, # need this for smaller images like ours. \n",
    "            output_type=\"latent\",\n",
    "        ).images)\n",
    "        visualized_prompts.append(prompt)\n",
    "    # flush()\n",
    "    for latent in latents:\n",
    "        images.append(pipeline.vae.decode(latent.to(weight_dtype) / pipeline.vae.config.scaling_factor, return_dict=False)[0])\n",
    "    for prompt, image in zip(visualized_prompts, images):\n",
    "        image = pipeline.image_processor.postprocess(image, output_type=\"pil\")\n",
    "        image_logs.append({\"validation_prompt\": prompt, \"images\": image})\n",
    "\n",
    "    return image_logs"
   ]
  },
  {
   "cell_type": "code",
   "execution_count": 4,
   "metadata": {},
   "outputs": [],
   "source": [
    "@torch.inference_mode()\n",
    "def load_embed_and_mask(validation_prompts, prompt_cache_dir, max_length=120, device=\"cuda\"):\n",
    "    # logger.info(\"Running validation... \")\n",
    "    # device = accelerator.device\n",
    "    # model = accelerator.unwrap_model(model)\n",
    "    if validation_prompts is None:\n",
    "        validation_prompts = [\n",
    "            \"triangle is to the upper left of square\", \n",
    "            \"blue triangle is to the upper left of red square\", \n",
    "            \"triangle is above and to the right of square\", \n",
    "            \"blue circle is above and to the right of blue square\", \n",
    "            \"triangle is to the left of square\", \n",
    "            \"triangle is to the left of triangle\", \n",
    "            \"circle is below red square\",\n",
    "            \"red circle is to the left of blue square\",\n",
    "            \"blue square is to the right of red circle\",\n",
    "            \"red circle is above square\",\n",
    "            \"triangle is above red circle\",\n",
    "            \"red is above blue\",\n",
    "            \"red is to the left of red\",\n",
    "            \"blue triangle is above red triangle\", \n",
    "            \"blue circle is above blue square\", \n",
    "        ]\n",
    "    embed_infos = []\n",
    "    for _, prompt in enumerate(validation_prompts):\n",
    "        if not os.path.exists(f'{prompt_cache_dir}/{prompt}_{max_length}token.pth'):\n",
    "            continue\n",
    "        embed = torch.load(f'{prompt_cache_dir}/{prompt}_{max_length}token.pth', map_location='cpu')\n",
    "        caption_embs, emb_masks = embed['caption_embeds'].to(device), embed['emb_mask'].to(device)\n",
    "        embed_infos.append({\"caption_embeds\": caption_embs, \"emb_mask\": emb_masks, \"prompt\": prompt})\n",
    "    uncond_data = torch.load(f'{prompt_cache_dir}/uncond_{max_length}token.pth', map_location='cpu')\n",
    "    uncond_prompt_embeds = uncond_data['caption_embeds'].to(device)\n",
    "    uncond_prompt_attention_mask = uncond_data['emb_mask'].to(device)\n",
    "    embed_infos.append({\"caption_embeds\": uncond_prompt_embeds, \"emb_mask\": uncond_prompt_attention_mask, \"prompt\": \"\"})\n",
    "    return embed_infos"
   ]
  },
  {
   "cell_type": "code",
   "execution_count": 5,
   "metadata": {},
   "outputs": [],
   "source": [
    "@torch.inference_mode()\n",
    "def visualize_prompts_with_traj(pipeline, validation_prompts, prompt_cache_dir, max_length=120, weight_dtype=torch.float16,\n",
    "                   num_inference_steps=14, guidance_scale=4.5, num_images_per_prompt=25, device=\"cuda\", random_seed=0):\n",
    "    # logger.info(\"Running validation... \")\n",
    "    # device = accelerator.device\n",
    "    # model = accelerator.unwrap_model(model)\n",
    "    if validation_prompts is None:\n",
    "        validation_prompts = [\n",
    "            \"triangle is to the upper left of square\", \n",
    "            \"blue triangle is to the upper left of red square\", \n",
    "            \"triangle is above and to the right of square\", \n",
    "            \"blue circle is above and to the right of blue square\", \n",
    "            \"triangle is to the left of square\", \n",
    "            \"triangle is to the left of triangle\", \n",
    "            \"circle is below red square\",\n",
    "            \"red circle is to the left of blue square\",\n",
    "            \"blue square is to the right of red circle\",\n",
    "            \"red circle is above square\",\n",
    "            \"triangle is above red circle\",\n",
    "            \"red is above blue\",\n",
    "            \"red is to the left of red\",\n",
    "            \"blue triangle is above red triangle\", \n",
    "            \"blue circle is above blue square\", \n",
    "        ]\n",
    "    pipeline = pipeline.to(device)\n",
    "    pipeline.set_progress_bar_config(disable=True)\n",
    "    if random_seed is None:\n",
    "        generator = None\n",
    "    else:\n",
    "        generator = torch.Generator(device=device).manual_seed(random_seed)\n",
    "    image_logs = []\n",
    "    images = []\n",
    "    latents = []\n",
    "    pred_traj = []\n",
    "    latents_traj = []\n",
    "    t_traj = []\n",
    "    uncond_data = torch.load(f'{prompt_cache_dir}/uncond_{max_length}token.pth', map_location='cpu')\n",
    "    uncond_prompt_embeds = uncond_data['caption_embeds'].to(device)\n",
    "    uncond_prompt_attention_mask = uncond_data['emb_mask'].to(device)\n",
    "    visualized_prompts = []\n",
    "    for _, prompt in enumerate(validation_prompts):\n",
    "        if not os.path.exists(f'{prompt_cache_dir}/{prompt}_{max_length}token.pth'):\n",
    "            continue\n",
    "        embed = torch.load(f'{prompt_cache_dir}/{prompt}_{max_length}token.pth', map_location='cpu')\n",
    "        caption_embs, emb_masks = embed['caption_embeds'].to(device), embed['emb_mask'].to(device)\n",
    "        output = pipeline(\n",
    "            num_inference_steps=num_inference_steps,\n",
    "            num_images_per_prompt=num_images_per_prompt,\n",
    "            generator=generator,\n",
    "            guidance_scale=guidance_scale,\n",
    "            prompt_embeds=caption_embs,\n",
    "            prompt_attention_mask=emb_masks,\n",
    "            negative_prompt=None,\n",
    "            negative_prompt_embeds=uncond_prompt_embeds,\n",
    "            negative_prompt_attention_mask=uncond_prompt_attention_mask,\n",
    "            use_resolution_binning=False, # need this for smaller images like ours. \n",
    "            return_sample_pred_traj=True,\n",
    "            output_type=\"latent\",\n",
    "        )\n",
    "        latents.append(output[0].images)\n",
    "        pred_traj.append(output[1])\n",
    "        latents_traj.append(output[2])\n",
    "        t_traj.append(output[3])\n",
    "        visualized_prompts.append(prompt)\n",
    "    # flush()\n",
    "    for latent in latents:\n",
    "        images.append(pipeline.vae.decode(latent.to(weight_dtype) / pipeline.vae.config.scaling_factor, return_dict=False)[0])\n",
    "    for prompt, image in zip(visualized_prompts, images):\n",
    "        image = pipeline.image_processor.postprocess(image, output_type=\"pil\")\n",
    "        image_logs.append({\"validation_prompt\": prompt, \"images\": image})\n",
    "\n",
    "    return image_logs, latents_traj, pred_traj, t_traj"
   ]
  },
  {
   "cell_type": "markdown",
   "metadata": {},
   "source": [
    "### Customize the PixArt pipeline to facilitate hooking"
   ]
  },
  {
   "cell_type": "code",
   "execution_count": 6,
   "metadata": {},
   "outputs": [],
   "source": [
    "# subclass a new pipeline from PixArtAlphaPipeline\n",
    "from typing import Callable, List, Optional, Tuple, Union\n",
    "from diffusers.pipelines.pipeline_utils import DiffusionPipeline, ImagePipelineOutput\n",
    "from diffusers.pipelines.pixart_alpha.pipeline_pixart_alpha import retrieve_timesteps\n",
    "# from diffusers.pipelines.pixart_alpha import EXAMPLE_DOC_STRING, ImagePipelineOutput\n",
    "class PixArtAlphaPipeline_custom(PixArtAlphaPipeline):\n",
    "    \n",
    "    # @replace_example_docstring(EXAMPLE_DOC_STRING)\n",
    "    @torch.no_grad()\n",
    "    def __call__(\n",
    "        self,\n",
    "        prompt: Union[str, List[str]] = None,\n",
    "        negative_prompt: str = \"\",\n",
    "        num_inference_steps: int = 20,\n",
    "        timesteps: List[int] = None,\n",
    "        sigmas: List[float] = None,\n",
    "        guidance_scale: float = 4.5,\n",
    "        num_images_per_prompt: Optional[int] = 1,\n",
    "        height: Optional[int] = None,\n",
    "        width: Optional[int] = None,\n",
    "        eta: float = 0.0,\n",
    "        generator: Optional[Union[torch.Generator, List[torch.Generator]]] = None,\n",
    "        latents: Optional[torch.Tensor] = None,\n",
    "        prompt_embeds: Optional[torch.Tensor] = None,\n",
    "        prompt_attention_mask: Optional[torch.Tensor] = None,\n",
    "        negative_prompt_embeds: Optional[torch.Tensor] = None,\n",
    "        negative_prompt_attention_mask: Optional[torch.Tensor] = None,\n",
    "        output_type: Optional[str] = \"pil\",\n",
    "        return_dict: bool = True,\n",
    "        callback: Optional[Callable[[int, int, torch.Tensor], None]] = None,\n",
    "        callback_steps: int = 1,\n",
    "        clean_caption: bool = True,\n",
    "        use_resolution_binning: bool = True,\n",
    "        max_sequence_length: int = 120,\n",
    "        return_sample_pred_traj: bool = False,\n",
    "        **kwargs,\n",
    "    ) -> Union[ImagePipelineOutput, Tuple]:\n",
    "        \"\"\"\n",
    "        Function invoked when calling the pipeline for generation.\n",
    "\n",
    "        Args:\n",
    "            prompt (`str` or `List[str]`, *optional*):\n",
    "                The prompt or prompts to guide the image generation. If not defined, one has to pass `prompt_embeds`.\n",
    "                instead.\n",
    "            negative_prompt (`str` or `List[str]`, *optional*):\n",
    "                The prompt or prompts not to guide the image generation. If not defined, one has to pass\n",
    "                `negative_prompt_embeds` instead. Ignored when not using guidance (i.e., ignored if `guidance_scale` is\n",
    "                less than `1`).\n",
    "            num_inference_steps (`int`, *optional*, defaults to 100):\n",
    "                The number of denoising steps. More denoising steps usually lead to a higher quality image at the\n",
    "                expense of slower inference.\n",
    "            timesteps (`List[int]`, *optional*):\n",
    "                Custom timesteps to use for the denoising process with schedulers which support a `timesteps` argument\n",
    "                in their `set_timesteps` method. If not defined, the default behavior when `num_inference_steps` is\n",
    "                passed will be used. Must be in descending order.\n",
    "            sigmas (`List[float]`, *optional*):\n",
    "                Custom sigmas to use for the denoising process with schedulers which support a `sigmas` argument in\n",
    "                their `set_timesteps` method. If not defined, the default behavior when `num_inference_steps` is passed\n",
    "                will be used.\n",
    "            guidance_scale (`float`, *optional*, defaults to 4.5):\n",
    "                Guidance scale as defined in [Classifier-Free Diffusion Guidance](https://arxiv.org/abs/2207.12598).\n",
    "                `guidance_scale` is defined as `w` of equation 2. of [Imagen\n",
    "                Paper](https://arxiv.org/pdf/2205.11487.pdf). Guidance scale is enabled by setting `guidance_scale >\n",
    "                1`. Higher guidance scale encourages to generate images that are closely linked to the text `prompt`,\n",
    "                usually at the expense of lower image quality.\n",
    "            num_images_per_prompt (`int`, *optional*, defaults to 1):\n",
    "                The number of images to generate per prompt.\n",
    "            height (`int`, *optional*, defaults to self.unet.config.sample_size):\n",
    "                The height in pixels of the generated image.\n",
    "            width (`int`, *optional*, defaults to self.unet.config.sample_size):\n",
    "                The width in pixels of the generated image.\n",
    "            eta (`float`, *optional*, defaults to 0.0):\n",
    "                Corresponds to parameter eta (η) in the DDIM paper: https://arxiv.org/abs/2010.02502. Only applies to\n",
    "                [`schedulers.DDIMScheduler`], will be ignored for others.\n",
    "            generator (`torch.Generator` or `List[torch.Generator]`, *optional*):\n",
    "                One or a list of [torch generator(s)](https://pytorch.org/docs/stable/generated/torch.Generator.html)\n",
    "                to make generation deterministic.\n",
    "            latents (`torch.Tensor`, *optional*):\n",
    "                Pre-generated noisy latents, sampled from a Gaussian distribution, to be used as inputs for image\n",
    "                generation. Can be used to tweak the same generation with different prompts. If not provided, a latents\n",
    "                tensor will ge generated by sampling using the supplied random `generator`.\n",
    "            prompt_embeds (`torch.Tensor`, *optional*):\n",
    "                Pre-generated text embeddings. Can be used to easily tweak text inputs, *e.g.* prompt weighting. If not\n",
    "                provided, text embeddings will be generated from `prompt` input argument.\n",
    "            prompt_attention_mask (`torch.Tensor`, *optional*): Pre-generated attention mask for text embeddings.\n",
    "            negative_prompt_embeds (`torch.Tensor`, *optional*):\n",
    "                Pre-generated negative text embeddings. For PixArt-Alpha this negative prompt should be \"\". If not\n",
    "                provided, negative_prompt_embeds will be generated from `negative_prompt` input argument.\n",
    "            negative_prompt_attention_mask (`torch.Tensor`, *optional*):\n",
    "                Pre-generated attention mask for negative text embeddings.\n",
    "            output_type (`str`, *optional*, defaults to `\"pil\"`):\n",
    "                The output format of the generate image. Choose between\n",
    "                [PIL](https://pillow.readthedocs.io/en/stable/): `PIL.Image.Image` or `np.array`.\n",
    "            return_dict (`bool`, *optional*, defaults to `True`):\n",
    "                Whether or not to return a [`~pipelines.stable_diffusion.IFPipelineOutput`] instead of a plain tuple.\n",
    "            callback (`Callable`, *optional*):\n",
    "                A function that will be called every `callback_steps` steps during inference. The function will be\n",
    "                called with the following arguments: `callback(step: int, timestep: int, latents: torch.Tensor)`.\n",
    "            callback_steps (`int`, *optional*, defaults to 1):\n",
    "                The frequency at which the `callback` function will be called. If not specified, the callback will be\n",
    "                called at every step.\n",
    "            clean_caption (`bool`, *optional*, defaults to `True`):\n",
    "                Whether or not to clean the caption before creating embeddings. Requires `beautifulsoup4` and `ftfy` to\n",
    "                be installed. If the dependencies are not installed, the embeddings will be created from the raw\n",
    "                prompt.\n",
    "            use_resolution_binning (`bool` defaults to `True`):\n",
    "                If set to `True`, the requested height and width are first mapped to the closest resolutions using\n",
    "                `ASPECT_RATIO_1024_BIN`. After the produced latents are decoded into images, they are resized back to\n",
    "                the requested resolution. Useful for generating non-square images.\n",
    "            max_sequence_length (`int` defaults to 120): Maximum sequence length to use with the `prompt`.\n",
    "\n",
    "        Examples:\n",
    "\n",
    "        Returns:\n",
    "            [`~pipelines.ImagePipelineOutput`] or `tuple`:\n",
    "                If `return_dict` is `True`, [`~pipelines.ImagePipelineOutput`] is returned, otherwise a `tuple` is\n",
    "                returned where the first element is a list with the generated images\n",
    "        \"\"\"\n",
    "        if \"mask_feature\" in kwargs:\n",
    "            deprecation_message = \"The use of `mask_feature` is deprecated. It is no longer used in any computation and that doesn't affect the end results. It will be removed in a future version.\"\n",
    "            # deprecate(\"mask_feature\", \"1.0.0\", deprecation_message, standard_warn=False)\n",
    "        # 1. Check inputs. Raise error if not correct\n",
    "        height = height or self.transformer.config.sample_size * self.vae_scale_factor\n",
    "        width = width or self.transformer.config.sample_size * self.vae_scale_factor\n",
    "        # if use_resolution_binning:\n",
    "        #     if self.transformer.config.sample_size == 128:\n",
    "        #         aspect_ratio_bin = ASPECT_RATIO_1024_BIN\n",
    "        #     elif self.transformer.config.sample_size == 64:\n",
    "        #         aspect_ratio_bin = ASPECT_RATIO_512_BIN\n",
    "        #     elif self.transformer.config.sample_size == 32:\n",
    "        #         aspect_ratio_bin = ASPECT_RATIO_256_BIN\n",
    "        #     else:\n",
    "        #         raise ValueError(\"Invalid sample size\")\n",
    "        #     orig_height, orig_width = height, width\n",
    "        #     height, width = self.image_processor.classify_height_width_bin(height, width, ratios=aspect_ratio_bin)\n",
    "\n",
    "        self.check_inputs(\n",
    "            prompt,\n",
    "            height,\n",
    "            width,\n",
    "            negative_prompt,\n",
    "            callback_steps,\n",
    "            prompt_embeds,\n",
    "            negative_prompt_embeds,\n",
    "            prompt_attention_mask,\n",
    "            negative_prompt_attention_mask,\n",
    "        )\n",
    "\n",
    "        # 2. Default height and width to transformer\n",
    "        if prompt is not None and isinstance(prompt, str):\n",
    "            batch_size = 1\n",
    "        elif prompt is not None and isinstance(prompt, list):\n",
    "            batch_size = len(prompt)\n",
    "        else:\n",
    "            batch_size = prompt_embeds.shape[0]\n",
    "\n",
    "        device = self._execution_device\n",
    "\n",
    "        # here `guidance_scale` is defined analog to the guidance weight `w` of equation (2)\n",
    "        # of the Imagen paper: https://arxiv.org/pdf/2205.11487.pdf . `guidance_scale = 1`\n",
    "        # corresponds to doing no classifier free guidance.\n",
    "        do_classifier_free_guidance = guidance_scale > 1.0\n",
    "\n",
    "        # 3. Encode input prompt\n",
    "        (\n",
    "            prompt_embeds,\n",
    "            prompt_attention_mask,\n",
    "            negative_prompt_embeds,\n",
    "            negative_prompt_attention_mask,\n",
    "        ) = self.encode_prompt(\n",
    "            prompt,\n",
    "            do_classifier_free_guidance,\n",
    "            negative_prompt=negative_prompt,\n",
    "            num_images_per_prompt=num_images_per_prompt,\n",
    "            device=device,\n",
    "            prompt_embeds=prompt_embeds,\n",
    "            negative_prompt_embeds=negative_prompt_embeds,\n",
    "            prompt_attention_mask=prompt_attention_mask,\n",
    "            negative_prompt_attention_mask=negative_prompt_attention_mask,\n",
    "            clean_caption=clean_caption,\n",
    "            max_sequence_length=max_sequence_length,\n",
    "        )\n",
    "        if do_classifier_free_guidance:\n",
    "            prompt_embeds = torch.cat([negative_prompt_embeds, prompt_embeds], dim=0)\n",
    "            prompt_attention_mask = torch.cat([negative_prompt_attention_mask, prompt_attention_mask], dim=0)\n",
    "        print(prompt_embeds.shape)\n",
    "        print(prompt_attention_mask.shape)\n",
    "        # 4. Prepare timesteps\n",
    "        timesteps, num_inference_steps = retrieve_timesteps(\n",
    "            self.scheduler, num_inference_steps, device, timesteps, sigmas\n",
    "        )\n",
    "\n",
    "        # 5. Prepare latents.\n",
    "        latent_channels = self.transformer.config.in_channels\n",
    "        latents = self.prepare_latents(\n",
    "            batch_size * num_images_per_prompt,\n",
    "            latent_channels,\n",
    "            height,\n",
    "            width,\n",
    "            prompt_embeds.dtype,\n",
    "            device,\n",
    "            generator,\n",
    "            latents,\n",
    "        )\n",
    "\n",
    "        # 6. Prepare extra step kwargs. TODO: Logic should ideally just be moved out of the pipeline\n",
    "        extra_step_kwargs = self.prepare_extra_step_kwargs(generator, eta)\n",
    "\n",
    "        # 6.1 Prepare micro-conditions.\n",
    "        added_cond_kwargs = {\"resolution\": None, \"aspect_ratio\": None}\n",
    "        if self.transformer.config.sample_size == 128:\n",
    "            resolution = torch.tensor([height, width]).repeat(batch_size * num_images_per_prompt, 1)\n",
    "            aspect_ratio = torch.tensor([float(height / width)]).repeat(batch_size * num_images_per_prompt, 1)\n",
    "            resolution = resolution.to(dtype=prompt_embeds.dtype, device=device)\n",
    "            aspect_ratio = aspect_ratio.to(dtype=prompt_embeds.dtype, device=device)\n",
    "\n",
    "            if do_classifier_free_guidance:\n",
    "                resolution = torch.cat([resolution, resolution], dim=0)\n",
    "                aspect_ratio = torch.cat([aspect_ratio, aspect_ratio], dim=0)\n",
    "\n",
    "            added_cond_kwargs = {\"resolution\": resolution, \"aspect_ratio\": aspect_ratio}\n",
    "\n",
    "        # 7. Denoising loop\n",
    "        num_warmup_steps = max(len(timesteps) - num_inference_steps * self.scheduler.order, 0)\n",
    "\n",
    "        pred_traj = []\n",
    "        latents_traj = []\n",
    "        t_traj = []\n",
    "        with self.progress_bar(total=num_inference_steps) as progress_bar:\n",
    "            for i, t in enumerate(timesteps):\n",
    "                latent_model_input = torch.cat([latents] * 2) if do_classifier_free_guidance else latents\n",
    "                latent_model_input = self.scheduler.scale_model_input(latent_model_input, t)\n",
    "\n",
    "                current_timestep = t\n",
    "                if not torch.is_tensor(current_timestep):\n",
    "                    # TODO: this requires sync between CPU and GPU. So try to pass timesteps as tensors if you can\n",
    "                    # This would be a good case for the `match` statement (Python 3.10+)\n",
    "                    is_mps = latent_model_input.device.type == \"mps\"\n",
    "                    if isinstance(current_timestep, float):\n",
    "                        dtype = torch.float32 if is_mps else torch.float64\n",
    "                    else:\n",
    "                        dtype = torch.int32 if is_mps else torch.int64\n",
    "                    current_timestep = torch.tensor([current_timestep], dtype=dtype, device=latent_model_input.device)\n",
    "                elif len(current_timestep.shape) == 0:\n",
    "                    current_timestep = current_timestep[None].to(latent_model_input.device)\n",
    "                # broadcast to batch dimension in a way that's compatible with ONNX/Core ML\n",
    "                current_timestep = current_timestep.expand(latent_model_input.shape[0])\n",
    "\n",
    "                # predict noise model_output\n",
    "                noise_pred = self.transformer(\n",
    "                    latent_model_input,\n",
    "                    encoder_hidden_states=prompt_embeds,\n",
    "                    encoder_attention_mask=prompt_attention_mask,\n",
    "                    timestep=current_timestep,\n",
    "                    added_cond_kwargs=added_cond_kwargs,\n",
    "                    return_dict=False,\n",
    "                )[0]\n",
    "\n",
    "                # perform guidance\n",
    "                if do_classifier_free_guidance:\n",
    "                    noise_pred_uncond, noise_pred_text = noise_pred.chunk(2)\n",
    "                    noise_pred = noise_pred_uncond + guidance_scale * (noise_pred_text - noise_pred_uncond)\n",
    "\n",
    "                # learned sigma\n",
    "                if self.transformer.config.out_channels // 2 == latent_channels:\n",
    "                    noise_pred = noise_pred.chunk(2, dim=1)[0]\n",
    "                else:\n",
    "                    noise_pred = noise_pred\n",
    "\n",
    "                latents_traj.append(latents.cpu())\n",
    "                pred_traj.append(noise_pred.cpu())\n",
    "                # compute previous image: x_t -> x_t-1\n",
    "                if num_inference_steps == 1:\n",
    "                    # For DMD one step sampling: https://arxiv.org/abs/2311.18828\n",
    "                    latents = self.scheduler.step(noise_pred, t, latents, **extra_step_kwargs).pred_original_sample\n",
    "                else:\n",
    "                    latents = self.scheduler.step(noise_pred, t, latents, **extra_step_kwargs, return_dict=False)[0]\n",
    "                \n",
    "                # pred_traj.append(self.scheduler.step(noise_pred, t, latents, **extra_step_kwargs).pred_original_sample)\n",
    "                \n",
    "                t_traj.append(t)\n",
    "                # call the callback, if provided\n",
    "                if i == len(timesteps) - 1 or ((i + 1) > num_warmup_steps and (i + 1) % self.scheduler.order == 0):\n",
    "                    progress_bar.update()\n",
    "                    if callback is not None and i % callback_steps == 0:\n",
    "                        step_idx = i // getattr(self.scheduler, \"order\", 1)\n",
    "                        callback(step_idx, t, latents)\n",
    "\n",
    "        latents_traj.append(latents.cpu())\n",
    "        if not output_type == \"latent\":\n",
    "            image = self.vae.decode(latents / self.vae.config.scaling_factor, return_dict=False)[0]\n",
    "            # if use_resolution_binning:\n",
    "            #     image = self.image_processor.resize_and_crop_tensor(image, orig_width, orig_height)\n",
    "        else:\n",
    "            image = latents\n",
    "\n",
    "        if not output_type == \"latent\":\n",
    "            image = self.image_processor.postprocess(image, output_type=output_type)\n",
    "\n",
    "        # Offload all models\n",
    "        self.maybe_free_model_hooks()\n",
    "        latents_traj = torch.stack(latents_traj)\n",
    "        pred_traj = torch.stack(pred_traj)\n",
    "        # t_traj = torch.stack(t_traj)\n",
    "        if not return_dict:\n",
    "            return (image,)\n",
    "        if return_sample_pred_traj:\n",
    "            return ImagePipelineOutput(images=image), pred_traj, latents_traj, t_traj\n",
    "        return ImagePipelineOutput(images=image)"
   ]
  },
  {
   "cell_type": "markdown",
   "metadata": {},
   "source": [
    "### Loading directly from Diffuser transformers"
   ]
  },
  {
   "cell_type": "code",
   "execution_count": 7,
   "metadata": {},
   "outputs": [],
   "source": [
    "PixArt_model_configs = {\n",
    "    'PixArt_XL_2': {'depth': 28, 'hidden_size': 1152, 'patch_size': 2, 'num_heads': 16},\n",
    "    'PixArt_L_2': {'depth': 24, 'hidden_size': 768, 'patch_size': 2, 'num_heads': 12},\n",
    "    'PixArt_B_2': {'depth': 12, 'hidden_size': 768, 'patch_size': 2, 'num_heads': 12},\n",
    "    'PixArt_S_2': {'depth': 12, 'hidden_size': 384, 'patch_size': 2, 'num_heads': 6},\n",
    "}"
   ]
  },
  {
   "cell_type": "code",
   "execution_count": 8,
   "metadata": {},
   "outputs": [
    {
     "data": {
      "application/vnd.jupyter.widget-view+json": {
       "model_id": "227a51f6272b48a5a481d0008b73f5e0",
       "version_major": 2,
       "version_minor": 0
      },
      "text/plain": [
       "Loading pipeline components...:   0%|          | 0/3 [00:00<?, ?it/s]"
      ]
     },
     "metadata": {},
     "output_type": "display_data"
    },
    {
     "data": {
      "text/plain": [
       "<All keys matched successfully>"
      ]
     },
     "execution_count": 8,
     "metadata": {},
     "output_type": "execute_result"
    }
   ],
   "source": [
    "savedir = \"/n/holylfs06/LABS/kempner_fellow_binxuwang/Users/binxuwang/DL_Projects/PixArt/results/objrel_rndembdposemb_DiT_B_pilot\"\n",
    "\n",
    "config = read_config(join(savedir, 'config.py'))\n",
    "\n",
    "weight_dtype = torch.float32\n",
    "if config.mixed_precision == \"fp16\": # accelerator.\n",
    "    weight_dtype = torch.float16\n",
    "elif config.mixed_precision == \"bf16\": # accelerator.\n",
    "    weight_dtype = torch.bfloat16\n",
    "    \n",
    "image_size = config.image_size  # @param [256, 512, 1024]\n",
    "latent_size = int(image_size) // 8\n",
    "pred_sigma = getattr(config, 'pred_sigma', True)\n",
    "learn_sigma = getattr(config, 'learn_sigma', True) and pred_sigma\n",
    "model_kwargs={\"window_block_indexes\": config.window_block_indexes, \"window_size\": config.window_size,\n",
    "                \"use_rel_pos\": config.use_rel_pos, \"lewei_scale\": config.lewei_scale, 'config':config,\n",
    "                'model_max_length': config.model_max_length}\n",
    "\n",
    "transformer_params = PixArt_model_configs[config.model]\n",
    "\n",
    "transformer = Transformer2DModel(\n",
    "        sample_size=image_size // 8,\n",
    "        num_layers=transformer_params['depth'],#len(model.blocks),\n",
    "        attention_head_dim=transformer_params['hidden_size'] // transformer_params['num_heads'],\n",
    "        in_channels=4,\n",
    "        out_channels=8 if learn_sigma else 4,\n",
    "        patch_size=transformer_params['patch_size'],\n",
    "        attention_bias=True,\n",
    "        num_attention_heads=transformer_params['num_heads'],\n",
    "        cross_attention_dim=transformer_params['hidden_size'],\n",
    "        activation_fn=\"gelu-approximate\",\n",
    "        num_embeds_ada_norm=1000,\n",
    "        norm_type=\"ada_norm_single\",\n",
    "        norm_elementwise_affine=False,\n",
    "        norm_eps=1e-6,\n",
    "        caption_channels=4096,\n",
    ")\n",
    "# state_dict = state_dict_convert(all_state_dict.pop(\"state_dict\"))\n",
    "# transformer.load_state_dict(state_dict_convert(model.state_dict()))\n",
    "pipeline = PixArtAlphaPipeline_custom.from_pretrained(\n",
    "    \"PixArt-alpha/PixArt-XL-2-512x512\",\n",
    "    transformer=transformer,\n",
    "    tokenizer=None,\n",
    "    text_encoder=None,\n",
    "    torch_dtype=weight_dtype,\n",
    ")\n",
    "ckptdir = join(savedir, \"checkpoints\")\n",
    "ckpt = torch.load(join(ckptdir, \"epoch_4000_step_160000.pth\"))\n",
    "pipeline.transformer.load_state_dict(state_dict_convert(ckpt['state_dict_ema']))"
   ]
  },
  {
   "cell_type": "code",
   "execution_count": 9,
   "metadata": {},
   "outputs": [
    {
     "name": "stdout",
     "output_type": "stream",
     "text": [
      "{'aspect_ratio_type': None,\n",
      " 'auto_lr': {'rule': 'sqrt'},\n",
      " 'caption_channels': 4096,\n",
      " 'cfg_scale': 4,\n",
      " 'data': {'image_list_json': ['data_info.json'],\n",
      "          'load_vae_feat': True,\n",
      "          'max_length': 20,\n",
      "          'root': '/n/holylfs06/LABS/kempner_fellow_binxuwang/Users/binxuwang/DL_Projects/PixArt/objectRel_pilot_rndembposemb',\n",
      "          'transform': 'default_train',\n",
      "          'type': 'InternalData'},\n",
      " 'data_root': '/n/holylfs06/LABS/kempner_fellow_binxuwang/Users/binxuwang/DL_Projects/PixArt',\n",
      " 'do_visualize_samples': True,\n",
      " 'ema_rate': 0.9999,\n",
      " 'eval_batch_size': 16,\n",
      " 'eval_sampling_steps': 250,\n",
      " 'fp32_attention': True,\n",
      " 'gc_step': 1,\n",
      " 'grad_checkpointing': True,\n",
      " 'gradient_accumulation_steps': 1,\n",
      " 'gradient_clip': 0.01,\n",
      " 'image_list_json': ['data_info.json'],\n",
      " 'image_size': 128,\n",
      " 'lewei_scale': 1.0,\n",
      " 'load_from': None,\n",
      " 'load_mask_index': False,\n",
      " 'log_interval': 20,\n",
      " 'lora_rank': 4,\n",
      " 'lr_schedule': 'constant',\n",
      " 'lr_schedule_args': {'num_warmup_steps': 500},\n",
      " 'mask_loss_coef': 0.0,\n",
      " 'mask_type': 'null',\n",
      " 'mixed_precision': 'fp16',\n",
      " 'model': 'PixArt_B_2',\n",
      " 'model_max_length': 20,\n",
      " 'multi_scale': False,\n",
      " 'num_epochs': 4000,\n",
      " 'num_group_tokens': 0,\n",
      " 'num_workers': 10,\n",
      " 'optimizer': {'eps': 1e-10,\n",
      "               'lr': 0.0001,\n",
      "               'type': 'AdamW',\n",
      "               'weight_decay': 0.03},\n",
      " 'prompt_cache_dir': '/n/holylfs06/LABS/kempner_fellow_binxuwang/Users/binxuwang/DL_Projects/PixArt/output/objectRel_pilot_rndembposemb',\n",
      " 'resume_from': {'checkpoint': None,\n",
      "                 'load_ema': False,\n",
      "                 'resume_lr_scheduler': True,\n",
      "                 'resume_optimizer': True},\n",
      " 's3_work_dir': None,\n",
      " 'sample_posterior': True,\n",
      " 'save_image_epochs': 1,\n",
      " 'save_model_epochs': 50,\n",
      " 'save_model_steps': 2000,\n",
      " 'scale_factor': 0.18215,\n",
      " 'seed': 43,\n",
      " 'snr_loss': False,\n",
      " 'tensorboard_mox_interval': 50,\n",
      " 'train_batch_size': 256,\n",
      " 'train_sampling_steps': 1000,\n",
      " 'use_fsdp': False,\n",
      " 'use_rel_pos': False,\n",
      " 'vae_pretrained': '/n/holylfs06/LABS/kempner_fellow_binxuwang/Users/binxuwang/DL_Projects/PixArt/output/pretrained_models/sd-vae-ft-ema',\n",
      " 'valid_num': 0,\n",
      " 'validation_prompts': ['triangle is to the upper left of square',\n",
      "                        'blue triangle is to the upper left of red square',\n",
      "                        'triangle is above and to the right of square',\n",
      "                        'blue circle is above and to the right of blue square',\n",
      "                        'triangle is to the left of square',\n",
      "                        'triangle is to the left of triangle',\n",
      "                        'circle is below red square',\n",
      "                        'red circle is to the left of blue square',\n",
      "                        'blue square is to the right of red circle',\n",
      "                        'red circle is above square',\n",
      "                        'triangle is above red circle',\n",
      "                        'red is above blue',\n",
      "                        'red is to the left of red',\n",
      "                        'blue triangle is above red triangle',\n",
      "                        'blue circle is above blue square'],\n",
      " 'window_block_indexes': [],\n",
      " 'window_size': 0,\n",
      " 'work_dir': '/n/holylfs06/LABS/kempner_fellow_binxuwang/Users/binxuwang/DL_Projects/PixArt/results/objrel_rndembdposemb_DiT_B_pilot/'}\n"
     ]
    }
   ],
   "source": [
    "import pprint\n",
    "pprint.pprint(dict(config))"
   ]
  },
  {
   "cell_type": "code",
   "execution_count": 10,
   "metadata": {},
   "outputs": [
    {
     "data": {
      "text/plain": [
       "<All keys matched successfully>"
      ]
     },
     "execution_count": 10,
     "metadata": {},
     "output_type": "execute_result"
    }
   ],
   "source": [
    "ckptdir = join(savedir, \"checkpoints\")\n",
    "ckpt = torch.load(join(ckptdir, \"epoch_4000_step_160000.pth\"))\n",
    "pipeline.transformer.load_state_dict(state_dict_convert(ckpt['state_dict_ema']))"
   ]
  },
  {
   "cell_type": "markdown",
   "metadata": {},
   "source": [
    "### Visualize hidden states"
   ]
  },
  {
   "cell_type": "code",
   "execution_count": 11,
   "metadata": {},
   "outputs": [],
   "source": [
    "validation_prompts = config.validation_prompts\n",
    "prompt_cache_dir = config.prompt_cache_dir"
   ]
  },
  {
   "cell_type": "code",
   "execution_count": 31,
   "metadata": {},
   "outputs": [
    {
     "name": "stdout",
     "output_type": "stream",
     "text": [
      "torch.Size([50, 20, 4096])\n",
      "torch.Size([50, 20])\n",
      "torch.Size([50, 20, 4096])\n",
      "torch.Size([50, 20])\n",
      "torch.Size([50, 20, 4096])\n",
      "torch.Size([50, 20])\n",
      "torch.Size([50, 20, 4096])\n",
      "torch.Size([50, 20])\n",
      "torch.Size([50, 20, 4096])\n",
      "torch.Size([50, 20])\n",
      "torch.Size([50, 20, 4096])\n",
      "torch.Size([50, 20])\n",
      "torch.Size([50, 20, 4096])\n",
      "torch.Size([50, 20])\n",
      "torch.Size([50, 20, 4096])\n",
      "torch.Size([50, 20])\n",
      "torch.Size([50, 20, 4096])\n",
      "torch.Size([50, 20])\n",
      "torch.Size([50, 20, 4096])\n",
      "torch.Size([50, 20])\n",
      "torch.Size([50, 20, 4096])\n",
      "torch.Size([50, 20])\n",
      "torch.Size([50, 20, 4096])\n",
      "torch.Size([50, 20])\n",
      "torch.Size([50, 20, 4096])\n",
      "torch.Size([50, 20])\n",
      "torch.Size([50, 20, 4096])\n",
      "torch.Size([50, 20])\n",
      "torch.Size([50, 20, 4096])\n",
      "torch.Size([50, 20])\n"
     ]
    }
   ],
   "source": [
    "ckpt = torch.load(join(ckptdir, \"epoch_4000_step_160000.pth\"))\n",
    "pipeline.transformer.load_state_dict(state_dict_convert(ckpt['state_dict_ema'])) # model.state_dict()\n",
    "# visualize the prompts\n",
    "image_logs, latents_traj, pred_traj, t_traj = visualize_prompts_with_traj(pipeline, \n",
    "                                                validation_prompts, prompt_cache_dir, \n",
    "                                                config.model_max_length, weight_dtype)"
   ]
  },
  {
   "cell_type": "code",
   "execution_count": 21,
   "metadata": {},
   "outputs": [
    {
     "data": {
      "image/jpeg": "[encoded data removed]",
      "image/png": "[encoded data removed]",
      "text/plain": [
       "<PIL.Image.Image image mode=RGB size=128x128>"
      ]
     },
     "execution_count": 21,
     "metadata": {},
     "output_type": "execute_result"
    }
   ],
   "source": [
    "image_logs[0]['images'][5]"
   ]
  },
  {
   "cell_type": "markdown",
   "metadata": {},
   "source": [
    "### Evaluation and extract mask of objects"
   ]
  },
  {
   "cell_type": "code",
   "execution_count": 12,
   "metadata": {},
   "outputs": [],
   "source": [
    "import matplotlib.pyplot as plt\n",
    "from cv2_eval_utils import find_classify_objects"
   ]
  },
  {
   "cell_type": "code",
   "execution_count": 13,
   "metadata": {},
   "outputs": [
    {
     "ename": "NameError",
     "evalue": "name 'image_logs' is not defined",
     "output_type": "error",
     "traceback": [
      "\u001b[0;31m---------------------------------------------------------------------------\u001b[0m",
      "\u001b[0;31mNameError\u001b[0m                                 Traceback (most recent call last)",
      "Cell \u001b[0;32mIn[13], line 1\u001b[0m\n\u001b[0;32m----> 1\u001b[0m find_classify_objects(\u001b[43mimage_logs\u001b[49m[\u001b[38;5;241m0\u001b[39m][\u001b[38;5;124m'\u001b[39m\u001b[38;5;124mimages\u001b[39m\u001b[38;5;124m'\u001b[39m][\u001b[38;5;241m5\u001b[39m])\n",
      "\u001b[0;31mNameError\u001b[0m: name 'image_logs' is not defined"
     ]
    }
   ],
   "source": [
    "find_classify_objects(image_logs[0]['images'][5])"
   ]
  },
  {
   "cell_type": "code",
   "execution_count": 15,
   "metadata": {},
   "outputs": [],
   "source": [
    "import cv2\n",
    "import numpy as np\n",
    "import pandas as pd\n",
    "from PIL import Image\n",
    "def find_classify_object_masks(image, area_threshold=100, radius=16.0):\n",
    "    if isinstance(image, Image.Image):\n",
    "        image = np.array(image)\n",
    "    # gray_image = cv2.cvtColor(image, cv2.COLOR_BGR2GRAY)\n",
    "    classified_objects = []\n",
    "    object_masks = []\n",
    "    # go through each color channel\n",
    "    for channel in range(3):\n",
    "        gray_image = image[:,:,channel]\n",
    "        # Threshold the image to create a binary mask\n",
    "        _, binary_mask = cv2.threshold(gray_image, 180, 255, cv2.THRESH_BINARY)\n",
    "        # Find contours of the shapes\n",
    "        contours, _ = cv2.findContours(binary_mask, \n",
    "                                    cv2.RETR_EXTERNAL, \n",
    "                                    cv2.CHAIN_APPROX_SIMPLE)\n",
    "        # Initialize results\n",
    "        for i, contour in enumerate(contours):\n",
    "            # Calculate properties of the contour\n",
    "            approx = cv2.approxPolyDP(contour, 0.04 * cv2.arcLength(contour, True), True)\n",
    "            area = cv2.contourArea(contour)\n",
    "            x, y, w, h = cv2.boundingRect(contour)\n",
    "            # Shape classification based on the number of vertices\n",
    "            if len(approx) == 3:\n",
    "                shape = \"Triangle\"\n",
    "                s = radius * 2  # Side length\n",
    "                h = s * (3 ** 0.5) / 2  # Height of the equilateral triangle\n",
    "                expected_area = s * h / 2\n",
    "            elif len(approx) == 4:\n",
    "                shape = \"Square\" if abs(w - h) < 5 else \"Rectangle\"\n",
    "                s = radius * 2\n",
    "                expected_area = s**2\n",
    "            elif len(approx) > 4:\n",
    "                shape = \"Circle\"\n",
    "                expected_area = np.pi * radius ** 2\n",
    "            else:\n",
    "                shape = \"Unknown\"\n",
    "                expected_area = np.nan\n",
    "            # Calculate the color of the shape by extracting the region\n",
    "            mask = np.zeros_like(gray_image)\n",
    "            cv2.drawContours(mask, [contour], -1, 255, -1)\n",
    "            mean_color = cv2.mean(image, mask=mask)\n",
    "            # Add to results\n",
    "            if area < area_threshold:\n",
    "                continue\n",
    "            classified_objects.append({\n",
    "                \"Object\": i + 1,\n",
    "                \"Shape\": shape,\n",
    "                \"Color (RGB)\": tuple(map(int, mean_color[:3])),\n",
    "                \"Center (x, y)\": (x + w // 2, y + h // 2),\n",
    "                \"Area\": area,\n",
    "                \"Expected Area\": expected_area\n",
    "            })\n",
    "            object_masks.append(mask)\n",
    "\n",
    "    # Convert to DataFrame for better visualization\n",
    "    classified_objects_df = pd.DataFrame(classified_objects)\n",
    "    assert len(classified_objects_df) == len(object_masks)\n",
    "    return classified_objects_df, object_masks"
   ]
  },
  {
   "cell_type": "code",
   "execution_count": 47,
   "metadata": {},
   "outputs": [
    {
     "data": {
      "image/png": "[encoded data removed]",
      "text/plain": [
       "<Figure size 600x600 with 1 Axes>"
      ]
     },
     "metadata": {},
     "output_type": "display_data"
    },
    {
     "data": {
      "image/png": "[encoded data removed]",
      "text/plain": [
       "<Figure size 600x600 with 1 Axes>"
      ]
     },
     "metadata": {},
     "output_type": "display_data"
    }
   ],
   "source": [
    "obj_df, obj_masks = find_classify_object_masks(image_logs[0]['images'][5])\n",
    "for i in range(len(obj_df)):\n",
    "    plt.figure(figsize=(6, 6))\n",
    "    plt.imshow(obj_masks[i])\n",
    "    plt.title(obj_df.iloc[i])\n",
    "    plt.axis('off')\n",
    "    plt.show()"
   ]
  },
  {
   "cell_type": "markdown",
   "metadata": {},
   "source": [
    "### Hook embeddings"
   ]
  },
  {
   "cell_type": "code",
   "execution_count": 49,
   "metadata": {},
   "outputs": [],
   "source": [
    "# from circuit_toolkit.layer_hook_utils import featureFetcher_recurrent"
   ]
  },
  {
   "cell_type": "code",
   "execution_count": 16,
   "metadata": {},
   "outputs": [],
   "source": [
    "from layer_hook_utils import featureFetcher_module_recurrent"
   ]
  },
  {
   "cell_type": "code",
   "execution_count": 17,
   "metadata": {},
   "outputs": [],
   "source": [
    "fetcher = featureFetcher_module_recurrent()"
   ]
  },
  {
   "cell_type": "code",
   "execution_count": 18,
   "metadata": {},
   "outputs": [
    {
     "data": {
      "text/plain": [
       "<torch.utils.hooks.RemovableHandle at 0x1486ec1b19f0>"
      ]
     },
     "execution_count": 18,
     "metadata": {},
     "output_type": "execute_result"
    }
   ],
   "source": [
    "fetcher.record_module(pipeline.transformer.transformer_blocks[11], \"block.11\", )"
   ]
  },
  {
   "cell_type": "code",
   "execution_count": 20,
   "metadata": {},
   "outputs": [
    {
     "data": {
      "text/plain": [
       "['triangle is to the left of square']"
      ]
     },
     "execution_count": 20,
     "metadata": {},
     "output_type": "execute_result"
    }
   ],
   "source": [
    "validation_prompts[4:5]"
   ]
  },
  {
   "cell_type": "code",
   "execution_count": 30,
   "metadata": {},
   "outputs": [],
   "source": [
    "import math"
   ]
  },
  {
   "cell_type": "code",
   "execution_count": 26,
   "metadata": {},
   "outputs": [
    {
     "name": "stdout",
     "output_type": "stream",
     "text": [
      "torch.Size([50, 20, 4096])\n",
      "torch.Size([50, 20])\n"
     ]
    }
   ],
   "source": [
    "fetcher.clean_activations()\n",
    "image_logs, latents_traj, pred_traj, t_traj = visualize_prompts_with_traj(pipeline, \n",
    "                                                validation_prompts[4:5], prompt_cache_dir, \n",
    "                                                config.model_max_length, weight_dtype, random_seed=None)"
   ]
  },
  {
   "cell_type": "code",
   "execution_count": 32,
   "metadata": {},
   "outputs": [
    {
     "name": "stdout",
     "output_type": "stream",
     "text": [
      "14\n",
      "torch.Size([50, 64, 768])\n",
      "torch.Size([50, 64, 768])\n",
      "torch.Size([50, 64, 768])\n",
      "torch.Size([50, 64, 768])\n",
      "torch.Size([50, 64, 768])\n",
      "torch.Size([50, 64, 768])\n",
      "torch.Size([50, 64, 768])\n",
      "torch.Size([50, 64, 768])\n",
      "torch.Size([50, 64, 768])\n",
      "torch.Size([50, 64, 768])\n",
      "torch.Size([50, 64, 768])\n",
      "torch.Size([50, 64, 768])\n",
      "torch.Size([50, 64, 768])\n",
      "torch.Size([50, 64, 768])\n",
      "torch.Size([14, 50, 64, 768])\n",
      "torch.Size([14, 50, 8, 8, 768])\n"
     ]
    }
   ],
   "source": [
    "print(len(fetcher['block.11']))\n",
    "for i in range(len(fetcher['block.11'])):\n",
    "    print(fetcher['block.11'][i].shape) # (2 * batch_size, 8 * 8, 768)\n",
    "\n",
    "residual_state_traj = torch.stack(fetcher['block.11'])\n",
    "print(residual_state_traj.shape) # (2 * batch_size, 8 * 8, 768)\n",
    "t_steps, batch_size2, seqlen, hidden_dim = residual_state_traj.shape\n",
    "residual_spatial_state_traj = residual_state_traj.reshape(t_steps, batch_size2, int(math.sqrt(seqlen)), int(math.sqrt(seqlen)), hidden_dim)\n",
    "print(residual_spatial_state_traj.shape) # (2 * batch_size, 8 * 8, 8, 8, 768)"
   ]
  },
  {
   "cell_type": "code",
   "execution_count": 43,
   "metadata": {},
   "outputs": [
    {
     "name": "stdout",
     "output_type": "stream",
     "text": [
      "(128, 128) (8, 8) bool\n",
      "(128, 128) (8, 8) bool\n"
     ]
    }
   ],
   "source": [
    "positive_threshold = 180 # 180 is the threshold for the object masks, 255 is max. \n",
    "for sample_idx in range(len(image_logs[0]['images'])):\n",
    "    obj_df, obj_masks = find_classify_object_masks(image_logs[0]['images'][sample_idx])\n",
    "    obj_masks_resized = [cv2.resize(obj_mask, (8, 8)) for obj_mask in obj_masks]\n",
    "    obj_masks_resized_binary = [obj_mask > positive_threshold for obj_mask in obj_masks_resized]\n",
    "    for obj_idx in range(len(obj_df)):  \n",
    "        print(obj_masks[obj_idx].shape, obj_masks_resized_binary[obj_idx].shape, obj_masks_resized_binary[obj_idx].dtype)        \n",
    "    break"
   ]
  },
  {
   "cell_type": "code",
   "execution_count": 41,
   "metadata": {},
   "outputs": [],
   "source": [
    "# resize the object masks to the same size as the residual spatial state\n",
    "obj_masks_resized_binary = [cv2.threshold(obj_mask, 180, 255, cv2.THRESH_BINARY) for obj_mask in obj_masks_resized]"
   ]
  },
  {
   "cell_type": "code",
   "execution_count": 39,
   "metadata": {},
   "outputs": [
    {
     "data": {
      "text/plain": [
       "array([  0, 255], dtype=uint8)"
      ]
     },
     "execution_count": 39,
     "metadata": {},
     "output_type": "execute_result"
    }
   ],
   "source": [
    "np.unique(obj_masks_resized[1])"
   ]
  },
  {
   "cell_type": "code",
   "execution_count": 40,
   "metadata": {},
   "outputs": [
    {
     "data": {
      "text/plain": [
       "array([  0, 255], dtype=uint8)"
      ]
     },
     "execution_count": 40,
     "metadata": {},
     "output_type": "execute_result"
    }
   ],
   "source": [
    "np.unique(obj_masks[1])"
   ]
  },
  {
   "cell_type": "code",
   "execution_count": 36,
   "metadata": {},
   "outputs": [
    {
     "data": {
      "text/plain": [
       "<matplotlib.image.AxesImage at 0x1488827b5480>"
      ]
     },
     "execution_count": 36,
     "metadata": {},
     "output_type": "execute_result"
    },
    {
     "data": {
      "image/png": "[encoded data removed]",
      "text/plain": [
       "<Figure size 640x480 with 1 Axes>"
      ]
     },
     "metadata": {},
     "output_type": "display_data"
    }
   ],
   "source": [
    "plt.imshow(obj_masks_resized[0])"
   ]
  },
  {
   "cell_type": "code",
   "execution_count": 46,
   "metadata": {},
   "outputs": [],
   "source": [
    "relations = [\n",
    "    \"above\",\n",
    "    \"below\",\n",
    "    \"to the left of\",\n",
    "    \"to the right of\",\n",
    "    \"to the upper left of\",\n",
    "    \"to the upper right of\",\n",
    "    \"to the lower left of\",\n",
    "    \"to the lower right of\",\n",
    "]\n",
    "# visu\n",
    "# alize prompts\n",
    "new_prompt_cache_dir = \"/n/holylfs06/LABS/kempner_fellow_binxuwang/Users/binxuwang/DL_Projects/PixArt/output/red_blue_8_position_rndembposemb\"\n",
    "visualize_prompts = [f\"red is {relation} blue\" for relation in relations] + [f\"blue is {relation} red\" for relation in relations]"
   ]
  },
  {
   "cell_type": "code",
   "execution_count": 49,
   "metadata": {},
   "outputs": [
    {
     "data": {
      "text/plain": [
       "['red is above blue',\n",
       " 'red is below blue',\n",
       " 'red is to the left of blue',\n",
       " 'red is to the right of blue',\n",
       " 'red is to the upper left of blue',\n",
       " 'red is to the upper right of blue',\n",
       " 'red is to the lower left of blue',\n",
       " 'red is to the lower right of blue',\n",
       " 'blue is above red',\n",
       " 'blue is below red',\n",
       " 'blue is to the left of red',\n",
       " 'blue is to the right of red',\n",
       " 'blue is to the upper left of red',\n",
       " 'blue is to the upper right of red',\n",
       " 'blue is to the lower left of red',\n",
       " 'blue is to the lower right of red']"
      ]
     },
     "execution_count": 49,
     "metadata": {},
     "output_type": "execute_result"
    }
   ],
   "source": [
    "visualize_prompts"
   ]
  },
  {
   "cell_type": "code",
   "execution_count": null,
   "metadata": {},
   "outputs": [],
   "source": []
  },
  {
   "cell_type": "code",
   "execution_count": 50,
   "metadata": {},
   "outputs": [],
   "source": []
  },
  {
   "cell_type": "code",
   "execution_count": 51,
   "metadata": {},
   "outputs": [
    {
     "name": "stdout",
     "output_type": "stream",
     "text": [
      "FeatureFetcher hooks all freed\n"
     ]
    }
   ],
   "source": [
    "fetcher.cleanup()"
   ]
  },
  {
   "cell_type": "code",
   "execution_count": 54,
   "metadata": {},
   "outputs": [
    {
     "name": "stderr",
     "output_type": "stream",
     "text": [
      "  0%|          | 0/10 [00:00<?, ?it/s]"
     ]
    },
    {
     "name": "stdout",
     "output_type": "stream",
     "text": [
      "torch.Size([50, 20, 4096])\n",
      "torch.Size([50, 20])\n",
      "torch.Size([14, 50, 8, 8, 768])\n",
      "torch.Size([50, 20, 4096])\n",
      "torch.Size([50, 20])\n",
      "torch.Size([14, 50, 8, 8, 768])\n",
      "torch.Size([50, 20, 4096])\n",
      "torch.Size([50, 20])\n",
      "torch.Size([14, 50, 8, 8, 768])\n",
      "torch.Size([50, 20, 4096])\n",
      "torch.Size([50, 20])\n",
      "torch.Size([14, 50, 8, 8, 768])\n",
      "torch.Size([50, 20, 4096])\n",
      "torch.Size([50, 20])\n",
      "torch.Size([14, 50, 8, 8, 768])\n",
      "torch.Size([50, 20, 4096])\n",
      "torch.Size([50, 20])\n",
      "torch.Size([14, 50, 8, 8, 768])\n",
      "torch.Size([50, 20, 4096])\n",
      "torch.Size([50, 20])\n",
      "torch.Size([14, 50, 8, 8, 768])\n",
      "torch.Size([50, 20, 4096])\n",
      "torch.Size([50, 20])\n",
      "torch.Size([14, 50, 8, 8, 768])\n",
      "torch.Size([50, 20, 4096])\n",
      "torch.Size([50, 20])\n",
      "torch.Size([14, 50, 8, 8, 768])\n",
      "torch.Size([50, 20, 4096])\n",
      "torch.Size([50, 20])\n",
      "torch.Size([14, 50, 8, 8, 768])\n",
      "torch.Size([50, 20, 4096])\n",
      "torch.Size([50, 20])\n",
      "torch.Size([14, 50, 8, 8, 768])\n",
      "torch.Size([50, 20, 4096])\n",
      "torch.Size([50, 20])\n",
      "torch.Size([14, 50, 8, 8, 768])\n",
      "torch.Size([50, 20, 4096])\n",
      "torch.Size([50, 20])\n",
      "torch.Size([14, 50, 8, 8, 768])\n",
      "torch.Size([50, 20, 4096])\n",
      "torch.Size([50, 20])\n",
      "torch.Size([14, 50, 8, 8, 768])\n",
      "torch.Size([50, 20, 4096])\n",
      "torch.Size([50, 20])\n",
      "torch.Size([14, 50, 8, 8, 768])\n",
      "torch.Size([50, 20, 4096])\n",
      "torch.Size([50, 20])\n"
     ]
    },
    {
     "name": "stderr",
     "output_type": "stream",
     "text": [
      " 10%|█         | 1/10 [00:15<02:22, 15.86s/it]"
     ]
    },
    {
     "name": "stdout",
     "output_type": "stream",
     "text": [
      "torch.Size([14, 50, 8, 8, 768])\n",
      "torch.Size([50, 20, 4096])\n",
      "torch.Size([50, 20])\n",
      "torch.Size([14, 50, 8, 8, 768])\n",
      "torch.Size([50, 20, 4096])\n",
      "torch.Size([50, 20])\n",
      "torch.Size([14, 50, 8, 8, 768])\n",
      "torch.Size([50, 20, 4096])\n",
      "torch.Size([50, 20])\n",
      "torch.Size([14, 50, 8, 8, 768])\n",
      "torch.Size([50, 20, 4096])\n",
      "torch.Size([50, 20])\n",
      "torch.Size([14, 50, 8, 8, 768])\n",
      "torch.Size([50, 20, 4096])\n",
      "torch.Size([50, 20])\n",
      "torch.Size([14, 50, 8, 8, 768])\n",
      "torch.Size([50, 20, 4096])\n",
      "torch.Size([50, 20])\n",
      "torch.Size([14, 50, 8, 8, 768])\n",
      "torch.Size([50, 20, 4096])\n",
      "torch.Size([50, 20])\n",
      "torch.Size([14, 50, 8, 8, 768])\n",
      "torch.Size([50, 20, 4096])\n",
      "torch.Size([50, 20])\n",
      "torch.Size([14, 50, 8, 8, 768])\n",
      "torch.Size([50, 20, 4096])\n",
      "torch.Size([50, 20])\n",
      "torch.Size([14, 50, 8, 8, 768])\n",
      "torch.Size([50, 20, 4096])\n",
      "torch.Size([50, 20])\n",
      "torch.Size([14, 50, 8, 8, 768])\n",
      "torch.Size([50, 20, 4096])\n",
      "torch.Size([50, 20])\n",
      "torch.Size([14, 50, 8, 8, 768])\n",
      "torch.Size([50, 20, 4096])\n",
      "torch.Size([50, 20])\n",
      "torch.Size([14, 50, 8, 8, 768])\n",
      "torch.Size([50, 20, 4096])\n",
      "torch.Size([50, 20])\n",
      "torch.Size([14, 50, 8, 8, 768])\n",
      "torch.Size([50, 20, 4096])\n",
      "torch.Size([50, 20])\n",
      "torch.Size([14, 50, 8, 8, 768])\n",
      "torch.Size([50, 20, 4096])\n",
      "torch.Size([50, 20])\n",
      "torch.Size([14, 50, 8, 8, 768])\n",
      "torch.Size([50, 20, 4096])\n",
      "torch.Size([50, 20])\n"
     ]
    },
    {
     "name": "stderr",
     "output_type": "stream",
     "text": [
      " 20%|██        | 2/10 [00:31<02:07, 15.99s/it]"
     ]
    },
    {
     "name": "stdout",
     "output_type": "stream",
     "text": [
      "torch.Size([14, 50, 8, 8, 768])\n",
      "torch.Size([50, 20, 4096])\n",
      "torch.Size([50, 20])\n",
      "torch.Size([14, 50, 8, 8, 768])\n",
      "torch.Size([50, 20, 4096])\n",
      "torch.Size([50, 20])\n",
      "torch.Size([14, 50, 8, 8, 768])\n",
      "torch.Size([50, 20, 4096])\n",
      "torch.Size([50, 20])\n",
      "torch.Size([14, 50, 8, 8, 768])\n",
      "torch.Size([50, 20, 4096])\n",
      "torch.Size([50, 20])\n",
      "torch.Size([14, 50, 8, 8, 768])\n",
      "torch.Size([50, 20, 4096])\n",
      "torch.Size([50, 20])\n",
      "torch.Size([14, 50, 8, 8, 768])\n",
      "torch.Size([50, 20, 4096])\n",
      "torch.Size([50, 20])\n",
      "torch.Size([14, 50, 8, 8, 768])\n",
      "torch.Size([50, 20, 4096])\n",
      "torch.Size([50, 20])\n",
      "torch.Size([14, 50, 8, 8, 768])\n",
      "torch.Size([50, 20, 4096])\n",
      "torch.Size([50, 20])\n",
      "torch.Size([14, 50, 8, 8, 768])\n",
      "torch.Size([50, 20, 4096])\n",
      "torch.Size([50, 20])\n",
      "torch.Size([14, 50, 8, 8, 768])\n",
      "torch.Size([50, 20, 4096])\n",
      "torch.Size([50, 20])\n",
      "torch.Size([14, 50, 8, 8, 768])\n",
      "torch.Size([50, 20, 4096])\n",
      "torch.Size([50, 20])\n",
      "torch.Size([14, 50, 8, 8, 768])\n",
      "torch.Size([50, 20, 4096])\n",
      "torch.Size([50, 20])\n",
      "torch.Size([14, 50, 8, 8, 768])\n",
      "torch.Size([50, 20, 4096])\n",
      "torch.Size([50, 20])\n",
      "torch.Size([14, 50, 8, 8, 768])\n",
      "torch.Size([50, 20, 4096])\n",
      "torch.Size([50, 20])\n",
      "torch.Size([14, 50, 8, 8, 768])\n",
      "torch.Size([50, 20, 4096])\n",
      "torch.Size([50, 20])\n",
      "torch.Size([14, 50, 8, 8, 768])\n",
      "torch.Size([50, 20, 4096])\n",
      "torch.Size([50, 20])\n"
     ]
    },
    {
     "name": "stderr",
     "output_type": "stream",
     "text": [
      " 30%|███       | 3/10 [00:47<01:52, 16.02s/it]"
     ]
    },
    {
     "name": "stdout",
     "output_type": "stream",
     "text": [
      "torch.Size([14, 50, 8, 8, 768])\n",
      "torch.Size([50, 20, 4096])\n",
      "torch.Size([50, 20])\n",
      "torch.Size([14, 50, 8, 8, 768])\n",
      "torch.Size([50, 20, 4096])\n",
      "torch.Size([50, 20])\n",
      "torch.Size([14, 50, 8, 8, 768])\n",
      "torch.Size([50, 20, 4096])\n",
      "torch.Size([50, 20])\n",
      "torch.Size([14, 50, 8, 8, 768])\n",
      "torch.Size([50, 20, 4096])\n",
      "torch.Size([50, 20])\n",
      "torch.Size([14, 50, 8, 8, 768])\n",
      "torch.Size([50, 20, 4096])\n",
      "torch.Size([50, 20])\n",
      "torch.Size([14, 50, 8, 8, 768])\n",
      "torch.Size([50, 20, 4096])\n",
      "torch.Size([50, 20])\n",
      "torch.Size([14, 50, 8, 8, 768])\n",
      "torch.Size([50, 20, 4096])\n",
      "torch.Size([50, 20])\n",
      "torch.Size([14, 50, 8, 8, 768])\n",
      "torch.Size([50, 20, 4096])\n",
      "torch.Size([50, 20])\n",
      "torch.Size([14, 50, 8, 8, 768])\n",
      "torch.Size([50, 20, 4096])\n",
      "torch.Size([50, 20])\n",
      "torch.Size([14, 50, 8, 8, 768])\n",
      "torch.Size([50, 20, 4096])\n",
      "torch.Size([50, 20])\n",
      "torch.Size([14, 50, 8, 8, 768])\n",
      "torch.Size([50, 20, 4096])\n",
      "torch.Size([50, 20])\n",
      "torch.Size([14, 50, 8, 8, 768])\n",
      "torch.Size([50, 20, 4096])\n",
      "torch.Size([50, 20])\n",
      "torch.Size([14, 50, 8, 8, 768])\n",
      "torch.Size([50, 20, 4096])\n",
      "torch.Size([50, 20])\n",
      "torch.Size([14, 50, 8, 8, 768])\n",
      "torch.Size([50, 20, 4096])\n",
      "torch.Size([50, 20])\n",
      "torch.Size([14, 50, 8, 8, 768])\n",
      "torch.Size([50, 20, 4096])\n",
      "torch.Size([50, 20])\n",
      "torch.Size([14, 50, 8, 8, 768])\n",
      "torch.Size([50, 20, 4096])\n",
      "torch.Size([50, 20])\n"
     ]
    },
    {
     "name": "stderr",
     "output_type": "stream",
     "text": [
      " 40%|████      | 4/10 [01:03<01:35, 15.96s/it]"
     ]
    },
    {
     "name": "stdout",
     "output_type": "stream",
     "text": [
      "torch.Size([14, 50, 8, 8, 768])\n",
      "torch.Size([50, 20, 4096])\n",
      "torch.Size([50, 20])\n",
      "torch.Size([14, 50, 8, 8, 768])\n",
      "torch.Size([50, 20, 4096])\n",
      "torch.Size([50, 20])\n",
      "torch.Size([14, 50, 8, 8, 768])\n",
      "torch.Size([50, 20, 4096])\n",
      "torch.Size([50, 20])\n",
      "torch.Size([14, 50, 8, 8, 768])\n",
      "torch.Size([50, 20, 4096])\n",
      "torch.Size([50, 20])\n",
      "torch.Size([14, 50, 8, 8, 768])\n",
      "torch.Size([50, 20, 4096])\n",
      "torch.Size([50, 20])\n",
      "torch.Size([14, 50, 8, 8, 768])\n",
      "torch.Size([50, 20, 4096])\n",
      "torch.Size([50, 20])\n",
      "torch.Size([14, 50, 8, 8, 768])\n",
      "torch.Size([50, 20, 4096])\n",
      "torch.Size([50, 20])\n",
      "torch.Size([14, 50, 8, 8, 768])\n",
      "torch.Size([50, 20, 4096])\n",
      "torch.Size([50, 20])\n",
      "torch.Size([14, 50, 8, 8, 768])\n",
      "torch.Size([50, 20, 4096])\n",
      "torch.Size([50, 20])\n",
      "torch.Size([14, 50, 8, 8, 768])\n",
      "torch.Size([50, 20, 4096])\n",
      "torch.Size([50, 20])\n",
      "torch.Size([14, 50, 8, 8, 768])\n",
      "torch.Size([50, 20, 4096])\n",
      "torch.Size([50, 20])\n",
      "torch.Size([14, 50, 8, 8, 768])\n",
      "torch.Size([50, 20, 4096])\n",
      "torch.Size([50, 20])\n",
      "torch.Size([14, 50, 8, 8, 768])\n",
      "torch.Size([50, 20, 4096])\n",
      "torch.Size([50, 20])\n",
      "torch.Size([14, 50, 8, 8, 768])\n",
      "torch.Size([50, 20, 4096])\n",
      "torch.Size([50, 20])\n",
      "torch.Size([14, 50, 8, 8, 768])\n",
      "torch.Size([50, 20, 4096])\n",
      "torch.Size([50, 20])\n",
      "torch.Size([14, 50, 8, 8, 768])\n",
      "torch.Size([50, 20, 4096])\n",
      "torch.Size([50, 20])\n"
     ]
    },
    {
     "name": "stderr",
     "output_type": "stream",
     "text": [
      " 50%|█████     | 5/10 [01:19<01:19, 15.93s/it]"
     ]
    },
    {
     "name": "stdout",
     "output_type": "stream",
     "text": [
      "torch.Size([14, 50, 8, 8, 768])\n",
      "torch.Size([50, 20, 4096])\n",
      "torch.Size([50, 20])\n",
      "torch.Size([14, 50, 8, 8, 768])\n",
      "torch.Size([50, 20, 4096])\n",
      "torch.Size([50, 20])\n",
      "torch.Size([14, 50, 8, 8, 768])\n",
      "torch.Size([50, 20, 4096])\n",
      "torch.Size([50, 20])\n",
      "torch.Size([14, 50, 8, 8, 768])\n",
      "torch.Size([50, 20, 4096])\n",
      "torch.Size([50, 20])\n",
      "torch.Size([14, 50, 8, 8, 768])\n",
      "torch.Size([50, 20, 4096])\n",
      "torch.Size([50, 20])\n",
      "torch.Size([14, 50, 8, 8, 768])\n",
      "torch.Size([50, 20, 4096])\n",
      "torch.Size([50, 20])\n",
      "torch.Size([14, 50, 8, 8, 768])\n",
      "torch.Size([50, 20, 4096])\n",
      "torch.Size([50, 20])\n",
      "torch.Size([14, 50, 8, 8, 768])\n",
      "torch.Size([50, 20, 4096])\n",
      "torch.Size([50, 20])\n",
      "torch.Size([14, 50, 8, 8, 768])\n",
      "torch.Size([50, 20, 4096])\n",
      "torch.Size([50, 20])\n",
      "torch.Size([14, 50, 8, 8, 768])\n",
      "torch.Size([50, 20, 4096])\n",
      "torch.Size([50, 20])\n",
      "torch.Size([14, 50, 8, 8, 768])\n",
      "torch.Size([50, 20, 4096])\n",
      "torch.Size([50, 20])\n",
      "torch.Size([14, 50, 8, 8, 768])\n",
      "torch.Size([50, 20, 4096])\n",
      "torch.Size([50, 20])\n",
      "torch.Size([14, 50, 8, 8, 768])\n",
      "torch.Size([50, 20, 4096])\n",
      "torch.Size([50, 20])\n",
      "torch.Size([14, 50, 8, 8, 768])\n",
      "torch.Size([50, 20, 4096])\n",
      "torch.Size([50, 20])\n",
      "torch.Size([14, 50, 8, 8, 768])\n",
      "torch.Size([50, 20, 4096])\n",
      "torch.Size([50, 20])\n",
      "torch.Size([14, 50, 8, 8, 768])\n",
      "torch.Size([50, 20, 4096])\n",
      "torch.Size([50, 20])\n"
     ]
    },
    {
     "name": "stderr",
     "output_type": "stream",
     "text": [
      " 60%|██████    | 6/10 [01:35<01:03, 15.88s/it]"
     ]
    },
    {
     "name": "stdout",
     "output_type": "stream",
     "text": [
      "torch.Size([14, 50, 8, 8, 768])\n",
      "torch.Size([50, 20, 4096])\n",
      "torch.Size([50, 20])\n",
      "torch.Size([14, 50, 8, 8, 768])\n",
      "torch.Size([50, 20, 4096])\n",
      "torch.Size([50, 20])\n",
      "torch.Size([14, 50, 8, 8, 768])\n",
      "torch.Size([50, 20, 4096])\n",
      "torch.Size([50, 20])\n",
      "torch.Size([14, 50, 8, 8, 768])\n",
      "torch.Size([50, 20, 4096])\n",
      "torch.Size([50, 20])\n",
      "torch.Size([14, 50, 8, 8, 768])\n",
      "torch.Size([50, 20, 4096])\n",
      "torch.Size([50, 20])\n",
      "torch.Size([14, 50, 8, 8, 768])\n",
      "torch.Size([50, 20, 4096])\n",
      "torch.Size([50, 20])\n",
      "torch.Size([14, 50, 8, 8, 768])\n",
      "torch.Size([50, 20, 4096])\n",
      "torch.Size([50, 20])\n",
      "torch.Size([14, 50, 8, 8, 768])\n",
      "torch.Size([50, 20, 4096])\n",
      "torch.Size([50, 20])\n",
      "torch.Size([14, 50, 8, 8, 768])\n",
      "torch.Size([50, 20, 4096])\n",
      "torch.Size([50, 20])\n",
      "torch.Size([14, 50, 8, 8, 768])\n",
      "torch.Size([50, 20, 4096])\n",
      "torch.Size([50, 20])\n",
      "torch.Size([14, 50, 8, 8, 768])\n",
      "torch.Size([50, 20, 4096])\n",
      "torch.Size([50, 20])\n",
      "torch.Size([14, 50, 8, 8, 768])\n",
      "torch.Size([50, 20, 4096])\n",
      "torch.Size([50, 20])\n",
      "torch.Size([14, 50, 8, 8, 768])\n",
      "torch.Size([50, 20, 4096])\n",
      "torch.Size([50, 20])\n",
      "torch.Size([14, 50, 8, 8, 768])\n",
      "torch.Size([50, 20, 4096])\n",
      "torch.Size([50, 20])\n",
      "torch.Size([14, 50, 8, 8, 768])\n",
      "torch.Size([50, 20, 4096])\n",
      "torch.Size([50, 20])\n",
      "torch.Size([14, 50, 8, 8, 768])\n",
      "torch.Size([50, 20, 4096])\n",
      "torch.Size([50, 20])\n"
     ]
    },
    {
     "name": "stderr",
     "output_type": "stream",
     "text": [
      " 70%|███████   | 7/10 [01:51<00:47, 15.87s/it]"
     ]
    },
    {
     "name": "stdout",
     "output_type": "stream",
     "text": [
      "torch.Size([14, 50, 8, 8, 768])\n",
      "torch.Size([50, 20, 4096])\n",
      "torch.Size([50, 20])\n",
      "torch.Size([14, 50, 8, 8, 768])\n",
      "torch.Size([50, 20, 4096])\n",
      "torch.Size([50, 20])\n",
      "torch.Size([14, 50, 8, 8, 768])\n",
      "torch.Size([50, 20, 4096])\n",
      "torch.Size([50, 20])\n",
      "torch.Size([14, 50, 8, 8, 768])\n",
      "torch.Size([50, 20, 4096])\n",
      "torch.Size([50, 20])\n",
      "torch.Size([14, 50, 8, 8, 768])\n",
      "torch.Size([50, 20, 4096])\n",
      "torch.Size([50, 20])\n",
      "torch.Size([14, 50, 8, 8, 768])\n",
      "torch.Size([50, 20, 4096])\n",
      "torch.Size([50, 20])\n",
      "torch.Size([14, 50, 8, 8, 768])\n",
      "torch.Size([50, 20, 4096])\n",
      "torch.Size([50, 20])\n",
      "torch.Size([14, 50, 8, 8, 768])\n",
      "torch.Size([50, 20, 4096])\n",
      "torch.Size([50, 20])\n",
      "torch.Size([14, 50, 8, 8, 768])\n",
      "torch.Size([50, 20, 4096])\n",
      "torch.Size([50, 20])\n",
      "torch.Size([14, 50, 8, 8, 768])\n",
      "torch.Size([50, 20, 4096])\n",
      "torch.Size([50, 20])\n",
      "torch.Size([14, 50, 8, 8, 768])\n",
      "torch.Size([50, 20, 4096])\n",
      "torch.Size([50, 20])\n",
      "torch.Size([14, 50, 8, 8, 768])\n",
      "torch.Size([50, 20, 4096])\n",
      "torch.Size([50, 20])\n",
      "torch.Size([14, 50, 8, 8, 768])\n",
      "torch.Size([50, 20, 4096])\n",
      "torch.Size([50, 20])\n",
      "torch.Size([14, 50, 8, 8, 768])\n",
      "torch.Size([50, 20, 4096])\n",
      "torch.Size([50, 20])\n",
      "torch.Size([14, 50, 8, 8, 768])\n",
      "torch.Size([50, 20, 4096])\n",
      "torch.Size([50, 20])\n",
      "torch.Size([14, 50, 8, 8, 768])\n",
      "torch.Size([50, 20, 4096])\n",
      "torch.Size([50, 20])\n"
     ]
    },
    {
     "name": "stderr",
     "output_type": "stream",
     "text": [
      " 80%|████████  | 8/10 [02:07<00:31, 15.83s/it]"
     ]
    },
    {
     "name": "stdout",
     "output_type": "stream",
     "text": [
      "torch.Size([14, 50, 8, 8, 768])\n",
      "torch.Size([50, 20, 4096])\n",
      "torch.Size([50, 20])\n",
      "torch.Size([14, 50, 8, 8, 768])\n",
      "torch.Size([50, 20, 4096])\n",
      "torch.Size([50, 20])\n",
      "torch.Size([14, 50, 8, 8, 768])\n",
      "torch.Size([50, 20, 4096])\n",
      "torch.Size([50, 20])\n",
      "torch.Size([14, 50, 8, 8, 768])\n",
      "torch.Size([50, 20, 4096])\n",
      "torch.Size([50, 20])\n",
      "torch.Size([14, 50, 8, 8, 768])\n",
      "torch.Size([50, 20, 4096])\n",
      "torch.Size([50, 20])\n",
      "torch.Size([14, 50, 8, 8, 768])\n",
      "torch.Size([50, 20, 4096])\n",
      "torch.Size([50, 20])\n",
      "torch.Size([14, 50, 8, 8, 768])\n",
      "torch.Size([50, 20, 4096])\n",
      "torch.Size([50, 20])\n",
      "torch.Size([14, 50, 8, 8, 768])\n",
      "torch.Size([50, 20, 4096])\n",
      "torch.Size([50, 20])\n",
      "torch.Size([14, 50, 8, 8, 768])\n",
      "torch.Size([50, 20, 4096])\n",
      "torch.Size([50, 20])\n",
      "torch.Size([14, 50, 8, 8, 768])\n",
      "torch.Size([50, 20, 4096])\n",
      "torch.Size([50, 20])\n",
      "torch.Size([14, 50, 8, 8, 768])\n",
      "torch.Size([50, 20, 4096])\n",
      "torch.Size([50, 20])\n",
      "torch.Size([14, 50, 8, 8, 768])\n",
      "torch.Size([50, 20, 4096])\n",
      "torch.Size([50, 20])\n",
      "torch.Size([14, 50, 8, 8, 768])\n",
      "torch.Size([50, 20, 4096])\n",
      "torch.Size([50, 20])\n",
      "torch.Size([14, 50, 8, 8, 768])\n",
      "torch.Size([50, 20, 4096])\n",
      "torch.Size([50, 20])\n",
      "torch.Size([14, 50, 8, 8, 768])\n",
      "torch.Size([50, 20, 4096])\n",
      "torch.Size([50, 20])\n",
      "torch.Size([14, 50, 8, 8, 768])\n",
      "torch.Size([50, 20, 4096])\n",
      "torch.Size([50, 20])\n"
     ]
    },
    {
     "name": "stderr",
     "output_type": "stream",
     "text": [
      " 90%|█████████ | 9/10 [02:22<00:15, 15.80s/it]"
     ]
    },
    {
     "name": "stdout",
     "output_type": "stream",
     "text": [
      "torch.Size([14, 50, 8, 8, 768])\n",
      "torch.Size([50, 20, 4096])\n",
      "torch.Size([50, 20])\n",
      "torch.Size([14, 50, 8, 8, 768])\n",
      "torch.Size([50, 20, 4096])\n",
      "torch.Size([50, 20])\n",
      "torch.Size([14, 50, 8, 8, 768])\n",
      "torch.Size([50, 20, 4096])\n",
      "torch.Size([50, 20])\n",
      "torch.Size([14, 50, 8, 8, 768])\n",
      "torch.Size([50, 20, 4096])\n",
      "torch.Size([50, 20])\n",
      "torch.Size([14, 50, 8, 8, 768])\n",
      "torch.Size([50, 20, 4096])\n",
      "torch.Size([50, 20])\n",
      "torch.Size([14, 50, 8, 8, 768])\n",
      "torch.Size([50, 20, 4096])\n",
      "torch.Size([50, 20])\n",
      "torch.Size([14, 50, 8, 8, 768])\n",
      "torch.Size([50, 20, 4096])\n",
      "torch.Size([50, 20])\n",
      "torch.Size([14, 50, 8, 8, 768])\n",
      "torch.Size([50, 20, 4096])\n",
      "torch.Size([50, 20])\n",
      "torch.Size([14, 50, 8, 8, 768])\n",
      "torch.Size([50, 20, 4096])\n",
      "torch.Size([50, 20])\n",
      "torch.Size([14, 50, 8, 8, 768])\n",
      "torch.Size([50, 20, 4096])\n",
      "torch.Size([50, 20])\n",
      "torch.Size([14, 50, 8, 8, 768])\n",
      "torch.Size([50, 20, 4096])\n",
      "torch.Size([50, 20])\n",
      "torch.Size([14, 50, 8, 8, 768])\n",
      "torch.Size([50, 20, 4096])\n",
      "torch.Size([50, 20])\n",
      "torch.Size([14, 50, 8, 8, 768])\n",
      "torch.Size([50, 20, 4096])\n",
      "torch.Size([50, 20])\n",
      "torch.Size([14, 50, 8, 8, 768])\n",
      "torch.Size([50, 20, 4096])\n",
      "torch.Size([50, 20])\n",
      "torch.Size([14, 50, 8, 8, 768])\n",
      "torch.Size([50, 20, 4096])\n",
      "torch.Size([50, 20])\n",
      "torch.Size([14, 50, 8, 8, 768])\n",
      "torch.Size([50, 20, 4096])\n",
      "torch.Size([50, 20])\n"
     ]
    },
    {
     "name": "stderr",
     "output_type": "stream",
     "text": [
      "100%|██████████| 10/10 [02:38<00:00, 15.85s/it]"
     ]
    },
    {
     "name": "stdout",
     "output_type": "stream",
     "text": [
      "torch.Size([14, 50, 8, 8, 768])\n"
     ]
    },
    {
     "name": "stderr",
     "output_type": "stream",
     "text": [
      "\n"
     ]
    }
   ],
   "source": [
    "import pickle as pkl\n",
    "from tqdm import tqdm, trange\n",
    "from os.path import join\n",
    "saveroot = \"/n/holylfs06/LABS/kempner_fellow_binxuwang/Users/binxuwang/DL_Projects/PixArt/results/objrel_rndembdposemb_DiT_B_pilot/latent_store\"\n",
    "\n",
    "fetcher = featureFetcher_module_recurrent()\n",
    "fetcher.record_module(pipeline.transformer.transformer_blocks[11], \"block.11\", )\n",
    "for random_seed in trange(10):\n",
    "    for prompt_idx in range(len(visualize_prompts)):\n",
    "        fetcher.clean_activations()\n",
    "        image_logs, latents_traj, pred_traj, t_traj = visualize_prompts_with_traj(pipeline, \n",
    "                                                    visualize_prompts[prompt_idx:prompt_idx+1], new_prompt_cache_dir, \n",
    "                                                    config.model_max_length, weight_dtype, \n",
    "                                                    num_images_per_prompt=25, random_seed=random_seed)\n",
    "        residual_state_traj = torch.stack(fetcher['block.11'])\n",
    "        # print(residual_state_traj.shape) # (2 * batch_size, 8 * 8, 768)\n",
    "        t_steps, batch_size2, seqlen, hidden_dim = residual_state_traj.shape\n",
    "        residual_spatial_state_traj = residual_state_traj.reshape(t_steps, batch_size2, int(math.sqrt(seqlen)), int(math.sqrt(seqlen)), hidden_dim)\n",
    "        print(residual_spatial_state_traj.shape) # (2 * batch_size, 8 * 8, 8, 8, 768)\n",
    "        pkl.dump({\"prompt\": visualize_prompts[prompt_idx], \n",
    "                  \"random_seed\": random_seed,\n",
    "                  \"image_logs\": image_logs,\n",
    "                  \"latents_traj\": latents_traj,\n",
    "                  \"pred_traj\": pred_traj,\n",
    "                  \"t_traj\": t_traj,\n",
    "                  \"block_11_residual_spatial_state_traj\": residual_spatial_state_traj}, \n",
    "                 open(join(saveroot, f\"red_blue_8_pos_rndembposemb_img_latent_residual_prompt{prompt_idx}_seed{random_seed}.pkl\"), \"wb\"))\n",
    "\n"
   ]
  },
  {
   "cell_type": "code",
   "execution_count": 55,
   "metadata": {},
   "outputs": [],
   "source": [
    "obj_df, obj_masks = find_classify_object_masks(image_logs[0]['images'][5])"
   ]
  },
  {
   "cell_type": "code",
   "execution_count": 56,
   "metadata": {},
   "outputs": [
    {
     "data": {
      "text/html": [
       "<div>\n",
       "<style scoped>\n",
       "    .dataframe tbody tr th:only-of-type {\n",
       "        vertical-align: middle;\n",
       "    }\n",
       "\n",
       "    .dataframe tbody tr th {\n",
       "        vertical-align: top;\n",
       "    }\n",
       "\n",
       "    .dataframe thead th {\n",
       "        text-align: right;\n",
       "    }\n",
       "</style>\n",
       "<table border=\"1\" class=\"dataframe\">\n",
       "  <thead>\n",
       "    <tr style=\"text-align: right;\">\n",
       "      <th></th>\n",
       "      <th>Object</th>\n",
       "      <th>Shape</th>\n",
       "      <th>Color (RGB)</th>\n",
       "      <th>Center (x, y)</th>\n",
       "      <th>Area</th>\n",
       "      <th>Expected Area</th>\n",
       "    </tr>\n",
       "  </thead>\n",
       "  <tbody>\n",
       "    <tr>\n",
       "      <th>0</th>\n",
       "      <td>1</td>\n",
       "      <td>Circle</td>\n",
       "      <td>(246, 4, 7)</td>\n",
       "      <td>(55, 23)</td>\n",
       "      <td>808.0</td>\n",
       "      <td>804.247719</td>\n",
       "    </tr>\n",
       "    <tr>\n",
       "      <th>1</th>\n",
       "      <td>1</td>\n",
       "      <td>Square</td>\n",
       "      <td>(9, 5, 249)</td>\n",
       "      <td>(73, 94)</td>\n",
       "      <td>1076.0</td>\n",
       "      <td>1024.000000</td>\n",
       "    </tr>\n",
       "  </tbody>\n",
       "</table>\n",
       "</div>"
      ],
      "text/plain": [
       "   Object   Shape  Color (RGB) Center (x, y)    Area  Expected Area\n",
       "0       1  Circle  (246, 4, 7)      (55, 23)   808.0     804.247719\n",
       "1       1  Square  (9, 5, 249)      (73, 94)  1076.0    1024.000000"
      ]
     },
     "execution_count": 56,
     "metadata": {},
     "output_type": "execute_result"
    }
   ],
   "source": [
    "obj_df"
   ]
  },
  {
   "cell_type": "code",
   "execution_count": null,
   "metadata": {},
   "outputs": [],
   "source": []
  }
 ],
 "metadata": {
  "kernelspec": {
   "display_name": "torch2",
   "language": "python",
   "name": "python3"
  },
  "language_info": {
   "codemirror_mode": {
    "name": "ipython",
    "version": 3
   },
   "file_extension": ".py",
   "mimetype": "text/x-python",
   "name": "python",
   "nbconvert_exporter": "python",
   "pygments_lexer": "ipython3",
   "version": "3.10.14"
  }
 },
 "nbformat": 4,
 "nbformat_minor": 2
}
