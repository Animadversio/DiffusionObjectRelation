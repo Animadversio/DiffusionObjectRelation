{
 "cells": [
  {
   "cell_type": "code",
   "execution_count": 1,
   "metadata": {},
   "outputs": [],
   "source": [
    "sample_dir = \"/Users/binxuwang/Library/CloudStorage/OneDrive-HarvardUniversity/DiffusionObjectRelation/Pixart_objrel_DiT_B_pilot/samples\""
   ]
  },
  {
   "cell_type": "code",
   "execution_count": 3,
   "metadata": {},
   "outputs": [
    {
     "name": "stdout",
     "output_type": "stream",
     "text": [
      "Found 400 sample files in /Users/binxuwang/Library/CloudStorage/OneDrive-HarvardUniversity/DiffusionObjectRelation/Pixart_objrel_DiT_B_pilot/samples\n",
      "['epoch_1225_step_49000_cfg4.0_triangle_is_above_and_to_the_right_of_square.png', 'epoch_1425_step_57000_cfg1.0_triangle_is_above_circle.png', 'epoch_1325_step_53000_cfg8.0_triangle_is_to_the_left_of_square.png', 'epoch_625_step_25000_cfg2.0_triangle_is_above_and_to_the_right_of_square.png', 'epoch_1725_step_69000_cfg8.0_triangle_is_to_the_upper_left_of_square.png', 'epoch_1625_step_65000_cfg2.0_triangle_is_above_circle.png', 'epoch_1025_step_41000_cfg1.0_triangle_is_above_circle.png', 'epoch_725_step_29000_cfg8.0_triangle_is_above_and_to_the_right_of_square.png', 'epoch_625_step_25000_cfg8.0_triangle_is_above_circle.png', 'epoch_1525_step_61000_cfg2.0_triangle_is_to_the_left_of_square.png', 'epoch_1725_step_69000_cfg4.0_triangle_is_to_the_upper_left_of_square.png', 'epoch_1625_step_65000_cfg8.0_triangle_is_above_and_to_the_right_of_square.png', 'epoch_625_step_25000_cfg2.0_triangle_is_to_the_upper_left_of_square.png', 'epoch_1325_step_53000_cfg2.0_circle_is_below_square.png', 'epoch_1725_step_69000_cfg8.0_circle_is_below_square.png', 'epoch_125_step_5000_cfg2.0_triangle_is_to_the_upper_left_of_square.png', 'epoch_525_step_21000_cfg1.0_circle_is_below_square.png', 'epoch_1625_step_65000_cfg4.0_triangle_is_above_circle.png', 'epoch_825_step_33000_cfg1.0_triangle_is_to_the_left_of_square.png', 'epoch_1625_step_65000_cfg2.0_circle_is_below_square.png']\n"
     ]
    }
   ],
   "source": [
    "import os \n",
    "\n",
    "# list all the files in the sample directory\n",
    "sample_files = os.listdir(sample_dir)\n",
    "\n",
    "# filter out the files that are not png\n",
    "sample_files = [f for f in sample_files if f.endswith(\".png\")]\n",
    "print(f\"Found {len(sample_files)} sample files in {sample_dir}\")\n",
    "print(sample_files[:20])"
   ]
  },
  {
   "cell_type": "code",
   "execution_count": 6,
   "metadata": {},
   "outputs": [],
   "source": [
    "\n",
    "prompt_list = [\"triangle is to the upper left of square\", \"triangle is above and to the right of square\", \"triangle is to the left of square\", \"triangle is above circle\", \"circle is below square\"]\n",
    "samples_root = \"/Users/binxuwang/Library/CloudStorage/OneDrive-HarvardUniversity/DiffusionObjectRelation/Pixart_objrel_DiT_B_pilot/samples\"\n",
    "os.makedirs(samples_root, exist_ok=True)\n",
    "samples_per_prompt = 25\n",
    "guidance_scale = 1.0\n",
    "ckpt_name = \"epoch_1225_step_49000.pth\"\n",
    "for prompt in prompt_list:\n",
    "    for guidance_scale in [1.0, 2.0, 4.0, 8.0]:\n",
    "        image_path = os.path.join(samples_root, \n",
    "                                  f\"{ckpt_name.replace('.pth', '')}_cfg{guidance_scale}_{prompt.replace(' ', '_')}.png\")\n",
    "        if os.path.exists(image_path):\n",
    "            pass\n",
    "        else:\n",
    "            print(f\"Not found {image_path}\")\n"
   ]
  },
  {
   "cell_type": "code",
   "execution_count": 26,
   "metadata": {},
   "outputs": [],
   "source": [
    "# use python pptx to create a ppt file\n",
    "# with title about guidance and prompt, and image on the side\n",
    "# save the ppt file in the samples root, name as \"objrel_samples.pptx\"\n",
    "\n",
    "from pptx import Presentation\n",
    "from pptx.util import Inches, Pt\n",
    "\n",
    "# create a function that take a image path and info about the image, and add it to the ppt file\n",
    "def add_image_to_ppt(ppt, image_path, ckpt_name, prompt, guidance_scale):\n",
    "    slide = ppt.slides.add_slide(ppt.slide_layouts[1])\n",
    "    # add the image to the slide, with height equal the height of the slides, width equal the width of the slides\n",
    "    pic = slide.shapes.add_picture(image_path, \n",
    "                                   left=Inches(3.75), \n",
    "                                   top=Inches(1.25), \n",
    "                                   height=Inches(6.25), \n",
    "                                   width=Inches(6.25))\n",
    "    # add title, prompt and guidance scale to the slide\n",
    "    title = slide.placeholders[0]\n",
    "    title.height = Inches(1.25)\n",
    "    title.width = Inches(10)\n",
    "    title.left = Inches(0.0)\n",
    "    title.top = Inches(0.0)\n",
    "    title.text = f\"Prompt: {prompt}\\n\"+\\\n",
    "                                  f\"Guidance Scale: {guidance_scale}\\n\"+\\\n",
    "                                  f\"Epoch: {ckpt_name.split('_')[1]}, Step: {ckpt_name.split('_')[2]}\"\n",
    "    # Set font size to 24 pts for all paragraphs in title\n",
    "    for paragraph in title.text_frame.paragraphs:\n",
    "        paragraph.font.size = Pt(24)\n",
    "    return\n",
    "\n",
    "# create the ppt file\n",
    "ppt = Presentation()\n",
    "for ckpt_name in [\"epoch_125_step_5000.pth\", \n",
    "                  \"epoch_1025_step_41000.pth\",\n",
    "                  \"epoch_1925_step_77000.pth\"]:\n",
    "    # add all the images to the ppt file\n",
    "    for prompt in prompt_list:\n",
    "        for guidance_scale in [1.0, 2.0, 4.0, 8.0]:\n",
    "            image_path = os.path.join(samples_root, \n",
    "                                      f\"{ckpt_name.replace('.pth', '')}_cfg{guidance_scale}_{prompt.replace(' ', '_')}.png\")\n",
    "            if os.path.exists(image_path):\n",
    "                add_image_to_ppt(ppt, image_path, ckpt_name,prompt, guidance_scale)\n",
    "# save the ppt file\n",
    "ppt.save(os.path.join(samples_root, \"..\", \"objrel_samples_demo.pptx\"))"
   ]
  },
  {
   "cell_type": "code",
   "execution_count": null,
   "metadata": {},
   "outputs": [],
   "source": []
  },
  {
   "cell_type": "code",
   "execution_count": 21,
   "metadata": {},
   "outputs": [
    {
     "name": "stdout",
     "output_type": "stream",
     "text": [
      "<pptx.slide.SlideLayout object at 0x10e26e190>\n",
      "Height: 1.25 inches\n",
      "Width: 10.0 inches\n",
      "Left: 0.0 inches\n",
      "Top: 0.0 inches\n",
      "Font size: None\n",
      "Image height: 6.25 inches\n",
      "Image width: 6.25 inches\n",
      "Image left: 3.75 inches\n",
      "Image top: 1.25 inches\n"
     ]
    }
   ],
   "source": [
    "# read the ppt file and print the layout of the first slides \n",
    "ppt = Presentation(os.path.join(samples_root, \"..\", \"objrel_samples_demo.pptx\"))\n",
    "print(ppt.slide_layouts[1])\n",
    "# print the layout, height and width, using inches\n",
    "from pptx.util import Inches\n",
    "title = ppt.slides[0].placeholders[0]\n",
    "print(f\"Height: {title.height / Inches(1)} inches\")\n",
    "print(f\"Width: {title.width / Inches(1)} inches\")\n",
    "print(f\"Left: {title.left / Inches(1)} inches\")\n",
    "print(f\"Top: {title.top / Inches(1)} inches\")\n",
    "print(f\"Font size: {title.text_frame.paragraphs[0].font.size}\")\n",
    "#print the height and width of the image\n",
    "image = ppt.slides[0].shapes[2]\n",
    "print(f\"Image height: {image.height / Inches(1)} inches\")\n",
    "print(f\"Image width: {image.width / Inches(1)} inches\")\n",
    "# and position\n",
    "print(f\"Image left: {image.left / Inches(1)} inches\")\n",
    "print(f\"Image top: {image.top / Inches(1)} inches\")"
   ]
  },
  {
   "cell_type": "code",
   "execution_count": 13,
   "metadata": {},
   "outputs": [
    {
     "ename": "AttributeError",
     "evalue": "'Slide' object has no attribute 'content'",
     "output_type": "error",
     "traceback": [
      "\u001b[0;31m---------------------------------------------------------------------------\u001b[0m",
      "\u001b[0;31mAttributeError\u001b[0m                            Traceback (most recent call last)",
      "Cell \u001b[0;32mIn[13], line 1\u001b[0m\n\u001b[0;32m----> 1\u001b[0m \u001b[43mppt\u001b[49m\u001b[38;5;241;43m.\u001b[39;49m\u001b[43mslides\u001b[49m\u001b[43m[\u001b[49m\u001b[38;5;241;43m0\u001b[39;49m\u001b[43m]\u001b[49m\u001b[38;5;241;43m.\u001b[39;49m\u001b[43mcontent\u001b[49m\n",
      "\u001b[0;31mAttributeError\u001b[0m: 'Slide' object has no attribute 'content'"
     ]
    }
   ],
   "source": []
  },
  {
   "cell_type": "code",
   "execution_count": null,
   "metadata": {},
   "outputs": [],
   "source": []
  }
 ],
 "metadata": {
  "kernelspec": {
   "display_name": "torch",
   "language": "python",
   "name": "python3"
  },
  "language_info": {
   "codemirror_mode": {
    "name": "ipython",
    "version": 3
   },
   "file_extension": ".py",
   "mimetype": "text/x-python",
   "name": "python",
   "nbconvert_exporter": "python",
   "pygments_lexer": "ipython3",
   "version": "3.11.6"
  }
 },
 "nbformat": 4,
 "nbformat_minor": 2
}
