{
 "cells": [
  {
   "cell_type": "code",
   "execution_count": null,
   "metadata": {},
   "outputs": [],
   "source": []
  },
  {
   "cell_type": "code",
   "execution_count": 1,
   "metadata": {},
   "outputs": [
    {
     "name": "stderr",
     "output_type": "stream",
     "text": [
      "/n/home12/binxuwang/.conda/envs/torch2/lib/python3.10/site-packages/mmcv/__init__.py:20: UserWarning: On January 1, 2023, MMCV will release v2.0.0, in which it will remove components related to the training process and add a data transformation module. In addition, it will rename the package names mmcv to mmcv-lite and mmcv-full to mmcv. See https://github.com/open-mmlab/mmcv/blob/master/docs/en/compatibility.md for more details.\n",
      "  warnings.warn(\n",
      "/n/home12/binxuwang/.conda/envs/torch2/lib/python3.10/site-packages/transformers/utils/hub.py:127: FutureWarning: Using `TRANSFORMERS_CACHE` is deprecated and will be removed in v5 of Transformers. Use `HF_HOME` instead.\n",
      "  warnings.warn(\n"
     ]
    }
   ],
   "source": [
    "import os\n",
    "from os.path import join\n",
    "import torch\n",
    "import sys\n",
    "sys.path.append(\"/n/home12/binxuwang/Github/DiffusionObjectRelation/PixArt-alpha\")\n",
    "from diffusion import IDDPM\n",
    "from diffusion.data.builder import build_dataset, build_dataloader, set_data_root\n",
    "from diffusion.model.builder import build_model\n",
    "from diffusion.utils.misc import set_random_seed, read_config, init_random_seed, DebugUnderflowOverflow\n",
    "sys.path.append(\"/n/home12/binxuwang/Github/DiffusionObjectRelation/utils\")\n",
    "from pixart_utils import state_dict_convert\n",
    "from image_utils import pil_images_to_grid\n",
    "from diffusers import AutoencoderKL, Transformer2DModel, PixArtAlphaPipeline, DPMSolverMultistepScheduler\n"
   ]
  },
  {
   "cell_type": "markdown",
   "metadata": {},
   "source": [
    "### Utitility functions"
   ]
  },
  {
   "cell_type": "code",
   "execution_count": 2,
   "metadata": {},
   "outputs": [],
   "source": [
    "from diffusers import AutoencoderKL, Transformer2DModel, PixArtAlphaPipeline, DPMSolverMultistepScheduler\n",
    "@torch.inference_mode()\n",
    "def visualize_prompts(pipeline, validation_prompts, prompt_cache_dir, max_length=120, weight_dtype=torch.float16,\n",
    "                   num_inference_steps=14, guidance_scale=4.5, num_images_per_prompt=25, device=\"cuda\"):\n",
    "    # logger.info(\"Running validation... \")\n",
    "    # device = accelerator.device\n",
    "    # model = accelerator.unwrap_model(model)\n",
    "    if validation_prompts is None:\n",
    "        validation_prompts = [\n",
    "            \"triangle is to the upper left of square\", \n",
    "            \"blue triangle is to the upper left of red square\", \n",
    "            \"triangle is above and to the right of square\", \n",
    "            \"blue circle is above and to the right of blue square\", \n",
    "            \"triangle is to the left of square\", \n",
    "            \"triangle is to the left of triangle\", \n",
    "            \"circle is below red square\",\n",
    "            \"red circle is to the left of blue square\",\n",
    "            \"blue square is to the right of red circle\",\n",
    "            \"red circle is above square\",\n",
    "            \"triangle is above red circle\",\n",
    "            \"red is above blue\",\n",
    "            \"red is to the left of red\",\n",
    "            \"blue triangle is above red triangle\", \n",
    "            \"blue circle is above blue square\", \n",
    "        ]\n",
    "    pipeline = pipeline.to(device)\n",
    "    pipeline.set_progress_bar_config(disable=True)\n",
    "    generator = torch.Generator(device=device).manual_seed(0)\n",
    "    image_logs = []\n",
    "    images = []\n",
    "    latents = []\n",
    "    uncond_data = torch.load(f'{prompt_cache_dir}/uncond_{max_length}token.pth', map_location='cpu')\n",
    "    uncond_prompt_embeds = uncond_data['caption_embeds'].to(device)\n",
    "    uncond_prompt_attention_mask = uncond_data['emb_mask'].to(device)\n",
    "    visualized_prompts = []\n",
    "    for _, prompt in enumerate(validation_prompts):\n",
    "        if not os.path.exists(f'{prompt_cache_dir}/{prompt}_{max_length}token.pth'):\n",
    "            continue\n",
    "        embed = torch.load(f'{prompt_cache_dir}/{prompt}_{max_length}token.pth', map_location='cpu')\n",
    "        caption_embs, emb_masks = embed['caption_embeds'].to(device), embed['emb_mask'].to(device)\n",
    "        latents.append(pipeline(\n",
    "            num_inference_steps=num_inference_steps,\n",
    "            num_images_per_prompt=num_images_per_prompt,\n",
    "            generator=generator,\n",
    "            guidance_scale=guidance_scale,\n",
    "            prompt_embeds=caption_embs,\n",
    "            prompt_attention_mask=emb_masks,\n",
    "            negative_prompt=None,\n",
    "            negative_prompt_embeds=uncond_prompt_embeds,\n",
    "            negative_prompt_attention_mask=uncond_prompt_attention_mask,\n",
    "            use_resolution_binning=False, # need this for smaller images like ours. \n",
    "            output_type=\"latent\",\n",
    "        ).images)\n",
    "        visualized_prompts.append(prompt)\n",
    "    # flush()\n",
    "    for latent in latents:\n",
    "        images.append(pipeline.vae.decode(latent.to(weight_dtype) / pipeline.vae.config.scaling_factor, return_dict=False)[0])\n",
    "    for prompt, image in zip(visualized_prompts, images):\n",
    "        image = pipeline.image_processor.postprocess(image, output_type=\"pil\")\n",
    "        image_logs.append({\"validation_prompt\": prompt, \"images\": image})\n",
    "\n",
    "    return image_logs"
   ]
  },
  {
   "cell_type": "code",
   "execution_count": 3,
   "metadata": {},
   "outputs": [],
   "source": [
    "@torch.inference_mode()\n",
    "def load_embed_and_mask(validation_prompts, prompt_cache_dir, max_length=120, device=\"cuda\"):\n",
    "    # logger.info(\"Running validation... \")\n",
    "    # device = accelerator.device\n",
    "    # model = accelerator.unwrap_model(model)\n",
    "    if validation_prompts is None:\n",
    "        validation_prompts = [\n",
    "            \"triangle is to the upper left of square\", \n",
    "            \"blue triangle is to the upper left of red square\", \n",
    "            \"triangle is above and to the right of square\", \n",
    "            \"blue circle is above and to the right of blue square\", \n",
    "            \"triangle is to the left of square\", \n",
    "            \"triangle is to the left of triangle\", \n",
    "            \"circle is below red square\",\n",
    "            \"red circle is to the left of blue square\",\n",
    "            \"blue square is to the right of red circle\",\n",
    "            \"red circle is above square\",\n",
    "            \"triangle is above red circle\",\n",
    "            \"red is above blue\",\n",
    "            \"red is to the left of red\",\n",
    "            \"blue triangle is above red triangle\", \n",
    "            \"blue circle is above blue square\", \n",
    "        ]\n",
    "    embed_infos = []\n",
    "    for _, prompt in enumerate(validation_prompts):\n",
    "        if not os.path.exists(f'{prompt_cache_dir}/{prompt}_{max_length}token.pth'):\n",
    "            continue\n",
    "        embed = torch.load(f'{prompt_cache_dir}/{prompt}_{max_length}token.pth', map_location='cpu')\n",
    "        caption_embs, emb_masks = embed['caption_embeds'].to(device), embed['emb_mask'].to(device)\n",
    "        embed_infos.append({\"caption_embeds\": caption_embs, \"emb_mask\": emb_masks, \"prompt\": prompt})\n",
    "    uncond_data = torch.load(f'{prompt_cache_dir}/uncond_{max_length}token.pth', map_location='cpu')\n",
    "    uncond_prompt_embeds = uncond_data['caption_embeds'].to(device)\n",
    "    uncond_prompt_attention_mask = uncond_data['emb_mask'].to(device)\n",
    "    embed_infos.append({\"caption_embeds\": uncond_prompt_embeds, \"emb_mask\": uncond_prompt_attention_mask, \"prompt\": \"\"})\n",
    "    return embed_infos"
   ]
  },
  {
   "cell_type": "code",
   "execution_count": 4,
   "metadata": {},
   "outputs": [],
   "source": [
    "@torch.inference_mode()\n",
    "def visualize_prompts_with_traj(pipeline, validation_prompts, prompt_cache_dir, max_length=120, weight_dtype=torch.float16,\n",
    "                   num_inference_steps=14, guidance_scale=4.5, num_images_per_prompt=25, device=\"cuda\"):\n",
    "    # logger.info(\"Running validation... \")\n",
    "    # device = accelerator.device\n",
    "    # model = accelerator.unwrap_model(model)\n",
    "    if validation_prompts is None:\n",
    "        validation_prompts = [\n",
    "            \"triangle is to the upper left of square\", \n",
    "            \"blue triangle is to the upper left of red square\", \n",
    "            \"triangle is above and to the right of square\", \n",
    "            \"blue circle is above and to the right of blue square\", \n",
    "            \"triangle is to the left of square\", \n",
    "            \"triangle is to the left of triangle\", \n",
    "            \"circle is below red square\",\n",
    "            \"red circle is to the left of blue square\",\n",
    "            \"blue square is to the right of red circle\",\n",
    "            \"red circle is above square\",\n",
    "            \"triangle is above red circle\",\n",
    "            \"red is above blue\",\n",
    "            \"red is to the left of red\",\n",
    "            \"blue triangle is above red triangle\", \n",
    "            \"blue circle is above blue square\", \n",
    "        ]\n",
    "    pipeline = pipeline.to(device)\n",
    "    pipeline.set_progress_bar_config(disable=True)\n",
    "    generator = torch.Generator(device=device).manual_seed(0)\n",
    "    image_logs = []\n",
    "    images = []\n",
    "    latents = []\n",
    "    pred_traj = []\n",
    "    latents_traj = []\n",
    "    t_traj = []\n",
    "    uncond_data = torch.load(f'{prompt_cache_dir}/uncond_{max_length}token.pth', map_location='cpu')\n",
    "    uncond_prompt_embeds = uncond_data['caption_embeds'].to(device)\n",
    "    uncond_prompt_attention_mask = uncond_data['emb_mask'].to(device)\n",
    "    visualized_prompts = []\n",
    "    for _, prompt in enumerate(validation_prompts):\n",
    "        if not os.path.exists(f'{prompt_cache_dir}/{prompt}_{max_length}token.pth'):\n",
    "            continue\n",
    "        embed = torch.load(f'{prompt_cache_dir}/{prompt}_{max_length}token.pth', map_location='cpu')\n",
    "        caption_embs, emb_masks = embed['caption_embeds'].to(device), embed['emb_mask'].to(device)\n",
    "        output = pipeline(\n",
    "            num_inference_steps=num_inference_steps,\n",
    "            num_images_per_prompt=num_images_per_prompt,\n",
    "            generator=generator,\n",
    "            guidance_scale=guidance_scale,\n",
    "            prompt_embeds=caption_embs,\n",
    "            prompt_attention_mask=emb_masks,\n",
    "            negative_prompt=None,\n",
    "            negative_prompt_embeds=uncond_prompt_embeds,\n",
    "            negative_prompt_attention_mask=uncond_prompt_attention_mask,\n",
    "            use_resolution_binning=False, # need this for smaller images like ours. \n",
    "            return_sample_pred_traj=True,\n",
    "            output_type=\"latent\",\n",
    "        )\n",
    "        latents.append(output[0].images)\n",
    "        pred_traj.append(output[1])\n",
    "        latents_traj.append(output[2])\n",
    "        t_traj.append(output[3])\n",
    "        visualized_prompts.append(prompt)\n",
    "    # flush()\n",
    "    for latent in latents:\n",
    "        images.append(pipeline.vae.decode(latent.to(weight_dtype) / pipeline.vae.config.scaling_factor, return_dict=False)[0])\n",
    "    for prompt, image in zip(visualized_prompts, images):\n",
    "        image = pipeline.image_processor.postprocess(image, output_type=\"pil\")\n",
    "        image_logs.append({\"validation_prompt\": prompt, \"images\": image})\n",
    "\n",
    "    return image_logs, latents_traj, pred_traj, t_traj"
   ]
  },
  {
   "cell_type": "markdown",
   "metadata": {},
   "source": [
    "### Customize the PixArt pipeline to facilitate hooking"
   ]
  },
  {
   "cell_type": "code",
   "execution_count": 5,
   "metadata": {},
   "outputs": [],
   "source": [
    "# subclass a new pipeline from PixArtAlphaPipeline\n",
    "from typing import Callable, List, Optional, Tuple, Union\n",
    "from diffusers.pipelines.pipeline_utils import DiffusionPipeline, ImagePipelineOutput\n",
    "from diffusers.pipelines.pixart_alpha.pipeline_pixart_alpha import retrieve_timesteps\n",
    "# from diffusers.pipelines.pixart_alpha import EXAMPLE_DOC_STRING, ImagePipelineOutput\n",
    "class PixArtAlphaPipeline_custom(PixArtAlphaPipeline):\n",
    "    \n",
    "    # @replace_example_docstring(EXAMPLE_DOC_STRING)\n",
    "    @torch.no_grad()\n",
    "    def __call__(\n",
    "        self,\n",
    "        prompt: Union[str, List[str]] = None,\n",
    "        negative_prompt: str = \"\",\n",
    "        num_inference_steps: int = 20,\n",
    "        timesteps: List[int] = None,\n",
    "        sigmas: List[float] = None,\n",
    "        guidance_scale: float = 4.5,\n",
    "        num_images_per_prompt: Optional[int] = 1,\n",
    "        height: Optional[int] = None,\n",
    "        width: Optional[int] = None,\n",
    "        eta: float = 0.0,\n",
    "        generator: Optional[Union[torch.Generator, List[torch.Generator]]] = None,\n",
    "        latents: Optional[torch.Tensor] = None,\n",
    "        prompt_embeds: Optional[torch.Tensor] = None,\n",
    "        prompt_attention_mask: Optional[torch.Tensor] = None,\n",
    "        negative_prompt_embeds: Optional[torch.Tensor] = None,\n",
    "        negative_prompt_attention_mask: Optional[torch.Tensor] = None,\n",
    "        output_type: Optional[str] = \"pil\",\n",
    "        return_dict: bool = True,\n",
    "        callback: Optional[Callable[[int, int, torch.Tensor], None]] = None,\n",
    "        callback_steps: int = 1,\n",
    "        clean_caption: bool = True,\n",
    "        use_resolution_binning: bool = True,\n",
    "        max_sequence_length: int = 120,\n",
    "        return_sample_pred_traj: bool = False,\n",
    "        **kwargs,\n",
    "    ) -> Union[ImagePipelineOutput, Tuple]:\n",
    "        \"\"\"\n",
    "        Function invoked when calling the pipeline for generation.\n",
    "\n",
    "        Args:\n",
    "            prompt (`str` or `List[str]`, *optional*):\n",
    "                The prompt or prompts to guide the image generation. If not defined, one has to pass `prompt_embeds`.\n",
    "                instead.\n",
    "            negative_prompt (`str` or `List[str]`, *optional*):\n",
    "                The prompt or prompts not to guide the image generation. If not defined, one has to pass\n",
    "                `negative_prompt_embeds` instead. Ignored when not using guidance (i.e., ignored if `guidance_scale` is\n",
    "                less than `1`).\n",
    "            num_inference_steps (`int`, *optional*, defaults to 100):\n",
    "                The number of denoising steps. More denoising steps usually lead to a higher quality image at the\n",
    "                expense of slower inference.\n",
    "            timesteps (`List[int]`, *optional*):\n",
    "                Custom timesteps to use for the denoising process with schedulers which support a `timesteps` argument\n",
    "                in their `set_timesteps` method. If not defined, the default behavior when `num_inference_steps` is\n",
    "                passed will be used. Must be in descending order.\n",
    "            sigmas (`List[float]`, *optional*):\n",
    "                Custom sigmas to use for the denoising process with schedulers which support a `sigmas` argument in\n",
    "                their `set_timesteps` method. If not defined, the default behavior when `num_inference_steps` is passed\n",
    "                will be used.\n",
    "            guidance_scale (`float`, *optional*, defaults to 4.5):\n",
    "                Guidance scale as defined in [Classifier-Free Diffusion Guidance](https://arxiv.org/abs/2207.12598).\n",
    "                `guidance_scale` is defined as `w` of equation 2. of [Imagen\n",
    "                Paper](https://arxiv.org/pdf/2205.11487.pdf). Guidance scale is enabled by setting `guidance_scale >\n",
    "                1`. Higher guidance scale encourages to generate images that are closely linked to the text `prompt`,\n",
    "                usually at the expense of lower image quality.\n",
    "            num_images_per_prompt (`int`, *optional*, defaults to 1):\n",
    "                The number of images to generate per prompt.\n",
    "            height (`int`, *optional*, defaults to self.unet.config.sample_size):\n",
    "                The height in pixels of the generated image.\n",
    "            width (`int`, *optional*, defaults to self.unet.config.sample_size):\n",
    "                The width in pixels of the generated image.\n",
    "            eta (`float`, *optional*, defaults to 0.0):\n",
    "                Corresponds to parameter eta (η) in the DDIM paper: https://arxiv.org/abs/2010.02502. Only applies to\n",
    "                [`schedulers.DDIMScheduler`], will be ignored for others.\n",
    "            generator (`torch.Generator` or `List[torch.Generator]`, *optional*):\n",
    "                One or a list of [torch generator(s)](https://pytorch.org/docs/stable/generated/torch.Generator.html)\n",
    "                to make generation deterministic.\n",
    "            latents (`torch.Tensor`, *optional*):\n",
    "                Pre-generated noisy latents, sampled from a Gaussian distribution, to be used as inputs for image\n",
    "                generation. Can be used to tweak the same generation with different prompts. If not provided, a latents\n",
    "                tensor will ge generated by sampling using the supplied random `generator`.\n",
    "            prompt_embeds (`torch.Tensor`, *optional*):\n",
    "                Pre-generated text embeddings. Can be used to easily tweak text inputs, *e.g.* prompt weighting. If not\n",
    "                provided, text embeddings will be generated from `prompt` input argument.\n",
    "            prompt_attention_mask (`torch.Tensor`, *optional*): Pre-generated attention mask for text embeddings.\n",
    "            negative_prompt_embeds (`torch.Tensor`, *optional*):\n",
    "                Pre-generated negative text embeddings. For PixArt-Alpha this negative prompt should be \"\". If not\n",
    "                provided, negative_prompt_embeds will be generated from `negative_prompt` input argument.\n",
    "            negative_prompt_attention_mask (`torch.Tensor`, *optional*):\n",
    "                Pre-generated attention mask for negative text embeddings.\n",
    "            output_type (`str`, *optional*, defaults to `\"pil\"`):\n",
    "                The output format of the generate image. Choose between\n",
    "                [PIL](https://pillow.readthedocs.io/en/stable/): `PIL.Image.Image` or `np.array`.\n",
    "            return_dict (`bool`, *optional*, defaults to `True`):\n",
    "                Whether or not to return a [`~pipelines.stable_diffusion.IFPipelineOutput`] instead of a plain tuple.\n",
    "            callback (`Callable`, *optional*):\n",
    "                A function that will be called every `callback_steps` steps during inference. The function will be\n",
    "                called with the following arguments: `callback(step: int, timestep: int, latents: torch.Tensor)`.\n",
    "            callback_steps (`int`, *optional*, defaults to 1):\n",
    "                The frequency at which the `callback` function will be called. If not specified, the callback will be\n",
    "                called at every step.\n",
    "            clean_caption (`bool`, *optional*, defaults to `True`):\n",
    "                Whether or not to clean the caption before creating embeddings. Requires `beautifulsoup4` and `ftfy` to\n",
    "                be installed. If the dependencies are not installed, the embeddings will be created from the raw\n",
    "                prompt.\n",
    "            use_resolution_binning (`bool` defaults to `True`):\n",
    "                If set to `True`, the requested height and width are first mapped to the closest resolutions using\n",
    "                `ASPECT_RATIO_1024_BIN`. After the produced latents are decoded into images, they are resized back to\n",
    "                the requested resolution. Useful for generating non-square images.\n",
    "            max_sequence_length (`int` defaults to 120): Maximum sequence length to use with the `prompt`.\n",
    "\n",
    "        Examples:\n",
    "\n",
    "        Returns:\n",
    "            [`~pipelines.ImagePipelineOutput`] or `tuple`:\n",
    "                If `return_dict` is `True`, [`~pipelines.ImagePipelineOutput`] is returned, otherwise a `tuple` is\n",
    "                returned where the first element is a list with the generated images\n",
    "        \"\"\"\n",
    "        if \"mask_feature\" in kwargs:\n",
    "            deprecation_message = \"The use of `mask_feature` is deprecated. It is no longer used in any computation and that doesn't affect the end results. It will be removed in a future version.\"\n",
    "            # deprecate(\"mask_feature\", \"1.0.0\", deprecation_message, standard_warn=False)\n",
    "        # 1. Check inputs. Raise error if not correct\n",
    "        height = height or self.transformer.config.sample_size * self.vae_scale_factor\n",
    "        width = width or self.transformer.config.sample_size * self.vae_scale_factor\n",
    "        # if use_resolution_binning:\n",
    "        #     if self.transformer.config.sample_size == 128:\n",
    "        #         aspect_ratio_bin = ASPECT_RATIO_1024_BIN\n",
    "        #     elif self.transformer.config.sample_size == 64:\n",
    "        #         aspect_ratio_bin = ASPECT_RATIO_512_BIN\n",
    "        #     elif self.transformer.config.sample_size == 32:\n",
    "        #         aspect_ratio_bin = ASPECT_RATIO_256_BIN\n",
    "        #     else:\n",
    "        #         raise ValueError(\"Invalid sample size\")\n",
    "        #     orig_height, orig_width = height, width\n",
    "        #     height, width = self.image_processor.classify_height_width_bin(height, width, ratios=aspect_ratio_bin)\n",
    "\n",
    "        self.check_inputs(\n",
    "            prompt,\n",
    "            height,\n",
    "            width,\n",
    "            negative_prompt,\n",
    "            callback_steps,\n",
    "            prompt_embeds,\n",
    "            negative_prompt_embeds,\n",
    "            prompt_attention_mask,\n",
    "            negative_prompt_attention_mask,\n",
    "        )\n",
    "\n",
    "        # 2. Default height and width to transformer\n",
    "        if prompt is not None and isinstance(prompt, str):\n",
    "            batch_size = 1\n",
    "        elif prompt is not None and isinstance(prompt, list):\n",
    "            batch_size = len(prompt)\n",
    "        else:\n",
    "            batch_size = prompt_embeds.shape[0]\n",
    "\n",
    "        device = self._execution_device\n",
    "\n",
    "        # here `guidance_scale` is defined analog to the guidance weight `w` of equation (2)\n",
    "        # of the Imagen paper: https://arxiv.org/pdf/2205.11487.pdf . `guidance_scale = 1`\n",
    "        # corresponds to doing no classifier free guidance.\n",
    "        do_classifier_free_guidance = guidance_scale > 1.0\n",
    "\n",
    "        # 3. Encode input prompt\n",
    "        (\n",
    "            prompt_embeds,\n",
    "            prompt_attention_mask,\n",
    "            negative_prompt_embeds,\n",
    "            negative_prompt_attention_mask,\n",
    "        ) = self.encode_prompt(\n",
    "            prompt,\n",
    "            do_classifier_free_guidance,\n",
    "            negative_prompt=negative_prompt,\n",
    "            num_images_per_prompt=num_images_per_prompt,\n",
    "            device=device,\n",
    "            prompt_embeds=prompt_embeds,\n",
    "            negative_prompt_embeds=negative_prompt_embeds,\n",
    "            prompt_attention_mask=prompt_attention_mask,\n",
    "            negative_prompt_attention_mask=negative_prompt_attention_mask,\n",
    "            clean_caption=clean_caption,\n",
    "            max_sequence_length=max_sequence_length,\n",
    "        )\n",
    "        if do_classifier_free_guidance:\n",
    "            prompt_embeds = torch.cat([negative_prompt_embeds, prompt_embeds], dim=0)\n",
    "            prompt_attention_mask = torch.cat([negative_prompt_attention_mask, prompt_attention_mask], dim=0)\n",
    "        print(prompt_embeds.shape)\n",
    "        print(prompt_attention_mask.shape)\n",
    "        # 4. Prepare timesteps\n",
    "        timesteps, num_inference_steps = retrieve_timesteps(\n",
    "            self.scheduler, num_inference_steps, device, timesteps, sigmas\n",
    "        )\n",
    "\n",
    "        # 5. Prepare latents.\n",
    "        latent_channels = self.transformer.config.in_channels\n",
    "        latents = self.prepare_latents(\n",
    "            batch_size * num_images_per_prompt,\n",
    "            latent_channels,\n",
    "            height,\n",
    "            width,\n",
    "            prompt_embeds.dtype,\n",
    "            device,\n",
    "            generator,\n",
    "            latents,\n",
    "        )\n",
    "\n",
    "        # 6. Prepare extra step kwargs. TODO: Logic should ideally just be moved out of the pipeline\n",
    "        extra_step_kwargs = self.prepare_extra_step_kwargs(generator, eta)\n",
    "\n",
    "        # 6.1 Prepare micro-conditions.\n",
    "        added_cond_kwargs = {\"resolution\": None, \"aspect_ratio\": None}\n",
    "        if self.transformer.config.sample_size == 128:\n",
    "            resolution = torch.tensor([height, width]).repeat(batch_size * num_images_per_prompt, 1)\n",
    "            aspect_ratio = torch.tensor([float(height / width)]).repeat(batch_size * num_images_per_prompt, 1)\n",
    "            resolution = resolution.to(dtype=prompt_embeds.dtype, device=device)\n",
    "            aspect_ratio = aspect_ratio.to(dtype=prompt_embeds.dtype, device=device)\n",
    "\n",
    "            if do_classifier_free_guidance:\n",
    "                resolution = torch.cat([resolution, resolution], dim=0)\n",
    "                aspect_ratio = torch.cat([aspect_ratio, aspect_ratio], dim=0)\n",
    "\n",
    "            added_cond_kwargs = {\"resolution\": resolution, \"aspect_ratio\": aspect_ratio}\n",
    "\n",
    "        # 7. Denoising loop\n",
    "        num_warmup_steps = max(len(timesteps) - num_inference_steps * self.scheduler.order, 0)\n",
    "\n",
    "        pred_traj = []\n",
    "        latents_traj = []\n",
    "        t_traj = []\n",
    "        with self.progress_bar(total=num_inference_steps) as progress_bar:\n",
    "            for i, t in enumerate(timesteps):\n",
    "                latent_model_input = torch.cat([latents] * 2) if do_classifier_free_guidance else latents\n",
    "                latent_model_input = self.scheduler.scale_model_input(latent_model_input, t)\n",
    "\n",
    "                current_timestep = t\n",
    "                if not torch.is_tensor(current_timestep):\n",
    "                    # TODO: this requires sync between CPU and GPU. So try to pass timesteps as tensors if you can\n",
    "                    # This would be a good case for the `match` statement (Python 3.10+)\n",
    "                    is_mps = latent_model_input.device.type == \"mps\"\n",
    "                    if isinstance(current_timestep, float):\n",
    "                        dtype = torch.float32 if is_mps else torch.float64\n",
    "                    else:\n",
    "                        dtype = torch.int32 if is_mps else torch.int64\n",
    "                    current_timestep = torch.tensor([current_timestep], dtype=dtype, device=latent_model_input.device)\n",
    "                elif len(current_timestep.shape) == 0:\n",
    "                    current_timestep = current_timestep[None].to(latent_model_input.device)\n",
    "                # broadcast to batch dimension in a way that's compatible with ONNX/Core ML\n",
    "                current_timestep = current_timestep.expand(latent_model_input.shape[0])\n",
    "\n",
    "                # predict noise model_output\n",
    "                noise_pred = self.transformer(\n",
    "                    latent_model_input,\n",
    "                    encoder_hidden_states=prompt_embeds,\n",
    "                    encoder_attention_mask=prompt_attention_mask,\n",
    "                    timestep=current_timestep,\n",
    "                    added_cond_kwargs=added_cond_kwargs,\n",
    "                    return_dict=False,\n",
    "                )[0]\n",
    "\n",
    "                # perform guidance\n",
    "                if do_classifier_free_guidance:\n",
    "                    noise_pred_uncond, noise_pred_text = noise_pred.chunk(2)\n",
    "                    noise_pred = noise_pred_uncond + guidance_scale * (noise_pred_text - noise_pred_uncond)\n",
    "\n",
    "                # learned sigma\n",
    "                if self.transformer.config.out_channels // 2 == latent_channels:\n",
    "                    noise_pred = noise_pred.chunk(2, dim=1)[0]\n",
    "                else:\n",
    "                    noise_pred = noise_pred\n",
    "\n",
    "                latents_traj.append(latents)\n",
    "                pred_traj.append(noise_pred)\n",
    "                # compute previous image: x_t -> x_t-1\n",
    "                if num_inference_steps == 1:\n",
    "                    # For DMD one step sampling: https://arxiv.org/abs/2311.18828\n",
    "                    latents = self.scheduler.step(noise_pred, t, latents, **extra_step_kwargs).pred_original_sample\n",
    "                else:\n",
    "                    latents = self.scheduler.step(noise_pred, t, latents, **extra_step_kwargs, return_dict=False)[0]\n",
    "                \n",
    "                # pred_traj.append(self.scheduler.step(noise_pred, t, latents, **extra_step_kwargs).pred_original_sample)\n",
    "                \n",
    "                t_traj.append(t)\n",
    "                # call the callback, if provided\n",
    "                if i == len(timesteps) - 1 or ((i + 1) > num_warmup_steps and (i + 1) % self.scheduler.order == 0):\n",
    "                    progress_bar.update()\n",
    "                    if callback is not None and i % callback_steps == 0:\n",
    "                        step_idx = i // getattr(self.scheduler, \"order\", 1)\n",
    "                        callback(step_idx, t, latents)\n",
    "\n",
    "        latents_traj.append(latents)\n",
    "        if not output_type == \"latent\":\n",
    "            image = self.vae.decode(latents / self.vae.config.scaling_factor, return_dict=False)[0]\n",
    "            # if use_resolution_binning:\n",
    "            #     image = self.image_processor.resize_and_crop_tensor(image, orig_width, orig_height)\n",
    "        else:\n",
    "            image = latents\n",
    "\n",
    "        if not output_type == \"latent\":\n",
    "            image = self.image_processor.postprocess(image, output_type=output_type)\n",
    "\n",
    "        # Offload all models\n",
    "        self.maybe_free_model_hooks()\n",
    "\n",
    "        if not return_dict:\n",
    "            return (image,)\n",
    "        if return_sample_pred_traj:\n",
    "            return ImagePipelineOutput(images=image), pred_traj, latents_traj, t_traj\n",
    "        return ImagePipelineOutput(images=image)"
   ]
  },
  {
   "cell_type": "markdown",
   "metadata": {},
   "source": [
    "### Load the model"
   ]
  },
  {
   "cell_type": "code",
   "execution_count": 6,
   "metadata": {},
   "outputs": [
    {
     "name": "stderr",
     "output_type": "stream",
     "text": [
      "2024-12-27 22:37:16,817 - PixArt - WARNING - lewei scale: (1.0,), base size: 8\n"
     ]
    },
    {
     "data": {
      "application/vnd.jupyter.widget-view+json": {
       "model_id": "7fa6e96bf27746f897e1ae6391d2870e",
       "version_major": 2,
       "version_minor": 0
      },
      "text/plain": [
       "Loading pipeline components...:   0%|          | 0/3 [00:00<?, ?it/s]"
      ]
     },
     "metadata": {},
     "output_type": "display_data"
    }
   ],
   "source": [
    "savedir = \"/n/holylfs06/LABS/kempner_fellow_binxuwang/Users/binxuwang/DL_Projects/PixArt/results/objrel_rndembdposemb_DiT_B_pilot\"\n",
    "\n",
    "\n",
    "config = read_config(join(savedir, 'config.py'))\n",
    "\n",
    "weight_dtype = torch.float32\n",
    "if config.mixed_precision == \"fp16\": # accelerator.\n",
    "    weight_dtype = torch.float16\n",
    "elif config.mixed_precision == \"bf16\": # accelerator.\n",
    "    weight_dtype = torch.bfloat16\n",
    "    \n",
    "image_size = config.image_size  # @param [256, 512, 1024]\n",
    "latent_size = int(image_size) // 8\n",
    "pred_sigma = getattr(config, 'pred_sigma', True)\n",
    "learn_sigma = getattr(config, 'learn_sigma', True) and pred_sigma\n",
    "model_kwargs={\"window_block_indexes\": config.window_block_indexes, \"window_size\": config.window_size,\n",
    "                \"use_rel_pos\": config.use_rel_pos, \"lewei_scale\": config.lewei_scale, 'config':config,\n",
    "                'model_max_length': config.model_max_length}\n",
    "# train_diffusion = IDDPM(str(config.train_sampling_steps), learn_sigma=learn_sigma, pred_sigma=pred_sigma, snr=config.snr_loss)\n",
    "model = build_model(config.model,\n",
    "                config.grad_checkpointing,\n",
    "                config.get('fp32_attention', False),\n",
    "                input_size=latent_size,\n",
    "                learn_sigma=learn_sigma,\n",
    "                pred_sigma=pred_sigma,\n",
    "                **model_kwargs).train()\n",
    "\n",
    "transformer = Transformer2DModel(\n",
    "        sample_size=image_size // 8,\n",
    "        num_layers=len(model.blocks),\n",
    "        attention_head_dim=model.blocks[0].hidden_size // model.num_heads,\n",
    "        in_channels=model.in_channels,\n",
    "        out_channels=model.out_channels,\n",
    "        patch_size=model.patch_size,\n",
    "        attention_bias=True,\n",
    "        num_attention_heads=model.num_heads,\n",
    "        cross_attention_dim=model.blocks[0].hidden_size,\n",
    "        activation_fn=\"gelu-approximate\",\n",
    "        num_embeds_ada_norm=1000,\n",
    "        norm_type=\"ada_norm_single\",\n",
    "        norm_elementwise_affine=False,\n",
    "        norm_eps=1e-6,\n",
    "        caption_channels=4096,\n",
    ")\n",
    "# state_dict = state_dict_convert(all_state_dict.pop(\"state_dict\"))\n",
    "transformer.load_state_dict(state_dict_convert(model.state_dict()))\n",
    "pipeline = PixArtAlphaPipeline_custom.from_pretrained(\n",
    "    \"PixArt-alpha/PixArt-XL-2-512x512\",\n",
    "    transformer=transformer,\n",
    "    tokenizer=None,\n",
    "    text_encoder=None,\n",
    "    torch_dtype=weight_dtype,\n",
    ")"
   ]
  },
  {
   "cell_type": "code",
   "execution_count": 36,
   "metadata": {},
   "outputs": [
    {
     "data": {
      "text/plain": [
       "<All keys matched successfully>"
      ]
     },
     "execution_count": 36,
     "metadata": {},
     "output_type": "execute_result"
    }
   ],
   "source": [
    "ckptdir = join(savedir, \"checkpoints\")\n",
    "ckpt = torch.load(join(ckptdir, \"epoch_4000_step_160000.pth\"))\n",
    "pipeline.transformer.load_state_dict(state_dict_convert(ckpt['state_dict_ema']))"
   ]
  },
  {
   "cell_type": "markdown",
   "metadata": {},
   "source": [
    "### Specifics about diffusion "
   ]
  },
  {
   "cell_type": "code",
   "execution_count": 7,
   "metadata": {},
   "outputs": [],
   "source": [
    "train_diffusion = IDDPM(str(config.train_sampling_steps), learn_sigma=learn_sigma, pred_sigma=pred_sigma, snr=config.snr_loss)"
   ]
  },
  {
   "cell_type": "code",
   "execution_count": 8,
   "metadata": {},
   "outputs": [
    {
     "name": "stdout",
     "output_type": "stream",
     "text": [
      "{'aspect_ratio_type': None,\n",
      " 'auto_lr': {'rule': 'sqrt'},\n",
      " 'caption_channels': 4096,\n",
      " 'cfg_scale': 4,\n",
      " 'data': {'image_list_json': ['data_info.json'],\n",
      "          'load_vae_feat': True,\n",
      "          'max_length': 20,\n",
      "          'root': '/n/holylfs06/LABS/kempner_fellow_binxuwang/Users/binxuwang/DL_Projects/PixArt/objectRel_pilot_rndembposemb',\n",
      "          'transform': 'default_train',\n",
      "          'type': 'InternalData'},\n",
      " 'data_root': '/n/holylfs06/LABS/kempner_fellow_binxuwang/Users/binxuwang/DL_Projects/PixArt',\n",
      " 'do_visualize_samples': True,\n",
      " 'ema_rate': 0.9999,\n",
      " 'eval_batch_size': 16,\n",
      " 'eval_sampling_steps': 250,\n",
      " 'fp32_attention': True,\n",
      " 'gc_step': 1,\n",
      " 'grad_checkpointing': True,\n",
      " 'gradient_accumulation_steps': 1,\n",
      " 'gradient_clip': 0.01,\n",
      " 'image_list_json': ['data_info.json'],\n",
      " 'image_size': 128,\n",
      " 'lewei_scale': 1.0,\n",
      " 'load_from': None,\n",
      " 'load_mask_index': False,\n",
      " 'log_interval': 20,\n",
      " 'lora_rank': 4,\n",
      " 'lr_schedule': 'constant',\n",
      " 'lr_schedule_args': {'num_warmup_steps': 500},\n",
      " 'mask_loss_coef': 0.0,\n",
      " 'mask_type': 'null',\n",
      " 'mixed_precision': 'fp16',\n",
      " 'model': 'PixArt_B_2',\n",
      " 'model_max_length': 20,\n",
      " 'multi_scale': False,\n",
      " 'num_epochs': 4000,\n",
      " 'num_group_tokens': 0,\n",
      " 'num_workers': 10,\n",
      " 'optimizer': {'eps': 1e-10,\n",
      "               'lr': 0.0001,\n",
      "               'type': 'AdamW',\n",
      "               'weight_decay': 0.03},\n",
      " 'prompt_cache_dir': '/n/holylfs06/LABS/kempner_fellow_binxuwang/Users/binxuwang/DL_Projects/PixArt/output/objectRel_pilot_rndembposemb',\n",
      " 'resume_from': {'checkpoint': None,\n",
      "                 'load_ema': False,\n",
      "                 'resume_lr_scheduler': True,\n",
      "                 'resume_optimizer': True},\n",
      " 's3_work_dir': None,\n",
      " 'sample_posterior': True,\n",
      " 'save_image_epochs': 1,\n",
      " 'save_model_epochs': 50,\n",
      " 'save_model_steps': 2000,\n",
      " 'scale_factor': 0.18215,\n",
      " 'seed': 43,\n",
      " 'snr_loss': False,\n",
      " 'tensorboard_mox_interval': 50,\n",
      " 'train_batch_size': 256,\n",
      " 'train_sampling_steps': 1000,\n",
      " 'use_fsdp': False,\n",
      " 'use_rel_pos': False,\n",
      " 'vae_pretrained': '/n/holylfs06/LABS/kempner_fellow_binxuwang/Users/binxuwang/DL_Projects/PixArt/output/pretrained_models/sd-vae-ft-ema',\n",
      " 'valid_num': 0,\n",
      " 'validation_prompts': ['triangle is to the upper left of square',\n",
      "                        'blue triangle is to the upper left of red square',\n",
      "                        'triangle is above and to the right of square',\n",
      "                        'blue circle is above and to the right of blue square',\n",
      "                        'triangle is to the left of square',\n",
      "                        'triangle is to the left of triangle',\n",
      "                        'circle is below red square',\n",
      "                        'red circle is to the left of blue square',\n",
      "                        'blue square is to the right of red circle',\n",
      "                        'red circle is above square',\n",
      "                        'triangle is above red circle',\n",
      "                        'red is above blue',\n",
      "                        'red is to the left of red',\n",
      "                        'blue triangle is above red triangle',\n",
      "                        'blue circle is above blue square'],\n",
      " 'window_block_indexes': [],\n",
      " 'window_size': 0,\n",
      " 'work_dir': '/n/holylfs06/LABS/kempner_fellow_binxuwang/Users/binxuwang/DL_Projects/PixArt/results/objrel_rndembdposemb_DiT_B_pilot/'}\n"
     ]
    }
   ],
   "source": [
    "import pprint\n",
    "pprint.pprint(dict(config))"
   ]
  },
  {
   "cell_type": "code",
   "execution_count": 10,
   "metadata": {},
   "outputs": [
    {
     "name": "stdout",
     "output_type": "stream",
     "text": [
      "ModelMeanType.EPSILON\n",
      "ModelVarType.LEARNED_RANGE\n",
      "False\n"
     ]
    }
   ],
   "source": [
    "print(train_diffusion.model_mean_type)\n",
    "print(train_diffusion.model_var_type)\n",
    "print(config.snr_loss)\n"
   ]
  },
  {
   "cell_type": "markdown",
   "metadata": {},
   "source": [
    "### Specifics about the PixArt model architecture"
   ]
  },
  {
   "cell_type": "code",
   "execution_count": 13,
   "metadata": {},
   "outputs": [],
   "source": [
    "from diffusers.models.transformers.transformer_2d import Transformer2DModel"
   ]
  },
  {
   "cell_type": "code",
   "execution_count": 11,
   "metadata": {},
   "outputs": [
    {
     "data": {
      "text/plain": [
       "Transformer2DModel(\n",
       "  (pos_embed): PatchEmbed(\n",
       "    (proj): Conv2d(4, 768, kernel_size=(2, 2), stride=(2, 2))\n",
       "  )\n",
       "  (transformer_blocks): ModuleList(\n",
       "    (0-11): 12 x BasicTransformerBlock(\n",
       "      (norm1): LayerNorm((768,), eps=1e-06, elementwise_affine=False)\n",
       "      (attn1): Attention(\n",
       "        (to_q): Linear(in_features=768, out_features=768, bias=True)\n",
       "        (to_k): Linear(in_features=768, out_features=768, bias=True)\n",
       "        (to_v): Linear(in_features=768, out_features=768, bias=True)\n",
       "        (to_out): ModuleList(\n",
       "          (0): Linear(in_features=768, out_features=768, bias=True)\n",
       "          (1): Dropout(p=0.0, inplace=False)\n",
       "        )\n",
       "      )\n",
       "      (norm2): LayerNorm((768,), eps=1e-06, elementwise_affine=False)\n",
       "      (attn2): Attention(\n",
       "        (to_q): Linear(in_features=768, out_features=768, bias=True)\n",
       "        (to_k): Linear(in_features=768, out_features=768, bias=True)\n",
       "        (to_v): Linear(in_features=768, out_features=768, bias=True)\n",
       "        (to_out): ModuleList(\n",
       "          (0): Linear(in_features=768, out_features=768, bias=True)\n",
       "          (1): Dropout(p=0.0, inplace=False)\n",
       "        )\n",
       "      )\n",
       "      (ff): FeedForward(\n",
       "        (net): ModuleList(\n",
       "          (0): GELU(\n",
       "            (proj): Linear(in_features=768, out_features=3072, bias=True)\n",
       "          )\n",
       "          (1): Dropout(p=0.0, inplace=False)\n",
       "          (2): Linear(in_features=3072, out_features=768, bias=True)\n",
       "        )\n",
       "      )\n",
       "    )\n",
       "  )\n",
       "  (norm_out): LayerNorm((768,), eps=1e-06, elementwise_affine=False)\n",
       "  (proj_out): Linear(in_features=768, out_features=32, bias=True)\n",
       "  (adaln_single): AdaLayerNormSingle(\n",
       "    (emb): PixArtAlphaCombinedTimestepSizeEmbeddings(\n",
       "      (time_proj): Timesteps()\n",
       "      (timestep_embedder): TimestepEmbedding(\n",
       "        (linear_1): Linear(in_features=256, out_features=768, bias=True)\n",
       "        (act): SiLU()\n",
       "        (linear_2): Linear(in_features=768, out_features=768, bias=True)\n",
       "      )\n",
       "    )\n",
       "    (silu): SiLU()\n",
       "    (linear): Linear(in_features=768, out_features=4608, bias=True)\n",
       "  )\n",
       "  (caption_projection): PixArtAlphaTextProjection(\n",
       "    (linear_1): Linear(in_features=4096, out_features=768, bias=True)\n",
       "    (act_1): GELU(approximate='tanh')\n",
       "    (linear_2): Linear(in_features=768, out_features=768, bias=True)\n",
       "  )\n",
       ")"
      ]
     },
     "execution_count": 11,
     "metadata": {},
     "output_type": "execute_result"
    }
   ],
   "source": [
    "transformer"
   ]
  },
  {
   "cell_type": "code",
   "execution_count": 12,
   "metadata": {},
   "outputs": [
    {
     "data": {
      "text/plain": [
       "diffusers.models.transformers.transformer_2d.Transformer2DModel"
      ]
     },
     "execution_count": 12,
     "metadata": {},
     "output_type": "execute_result"
    }
   ],
   "source": [
    "type(transformer)"
   ]
  },
  {
   "cell_type": "code",
   "execution_count": 15,
   "metadata": {},
   "outputs": [
    {
     "data": {
      "text/plain": [
       "True"
      ]
     },
     "execution_count": 15,
     "metadata": {},
     "output_type": "execute_result"
    }
   ],
   "source": [
    "transformer.is_input_patches"
   ]
  },
  {
   "cell_type": "code",
   "execution_count": 17,
   "metadata": {},
   "outputs": [
    {
     "data": {
      "text/plain": [
       "2"
      ]
     },
     "execution_count": 17,
     "metadata": {},
     "output_type": "execute_result"
    }
   ],
   "source": [
    "transformer.config.patch_size # 8"
   ]
  },
  {
   "cell_type": "code",
   "execution_count": 16,
   "metadata": {},
   "outputs": [
    {
     "data": {
      "text/plain": [
       "8"
      ]
     },
     "execution_count": 16,
     "metadata": {},
     "output_type": "execute_result"
    }
   ],
   "source": [
    "transformer.out_channels # 8 "
   ]
  },
  {
   "cell_type": "markdown",
   "metadata": {},
   "source": [
    "### Time embedding structure"
   ]
  },
  {
   "cell_type": "code",
   "execution_count": 80,
   "metadata": {},
   "outputs": [],
   "source": [
    "import matplotlib.pyplot as plt"
   ]
  },
  {
   "cell_type": "code",
   "execution_count": 74,
   "metadata": {},
   "outputs": [
    {
     "data": {
      "text/plain": [
       "PixArtAlphaCombinedTimestepSizeEmbeddings(\n",
       "  (time_proj): Timesteps()\n",
       "  (timestep_embedder): TimestepEmbedding(\n",
       "    (linear_1): Linear(in_features=256, out_features=768, bias=True)\n",
       "    (act): SiLU()\n",
       "    (linear_2): Linear(in_features=768, out_features=768, bias=True)\n",
       "  )\n",
       ")"
      ]
     },
     "execution_count": 74,
     "metadata": {},
     "output_type": "execute_result"
    }
   ],
   "source": [
    "transformer.adaln_single.emb"
   ]
  },
  {
   "cell_type": "code",
   "execution_count": 82,
   "metadata": {},
   "outputs": [
    {
     "data": {
      "text/plain": [
       "False"
      ]
     },
     "execution_count": 82,
     "metadata": {},
     "output_type": "execute_result"
    }
   ],
   "source": [
    "transformer.adaln_single.emb.use_additional_conditions"
   ]
  },
  {
   "cell_type": "code",
   "execution_count": 75,
   "metadata": {},
   "outputs": [
    {
     "data": {
      "text/plain": [
       "AdaLayerNormSingle(\n",
       "  (emb): PixArtAlphaCombinedTimestepSizeEmbeddings(\n",
       "    (time_proj): Timesteps()\n",
       "    (timestep_embedder): TimestepEmbedding(\n",
       "      (linear_1): Linear(in_features=256, out_features=768, bias=True)\n",
       "      (act): SiLU()\n",
       "      (linear_2): Linear(in_features=768, out_features=768, bias=True)\n",
       "    )\n",
       "  )\n",
       "  (silu): SiLU()\n",
       "  (linear): Linear(in_features=768, out_features=4608, bias=True)\n",
       ")"
      ]
     },
     "execution_count": 75,
     "metadata": {},
     "output_type": "execute_result"
    }
   ],
   "source": [
    "transformer.adaln_single"
   ]
  },
  {
   "cell_type": "code",
   "execution_count": 79,
   "metadata": {},
   "outputs": [
    {
     "name": "stdout",
     "output_type": "stream",
     "text": [
      "torch.Size([1000, 256])\n",
      "torch.Size([1000, 768])\n",
      "torch.Size([1000, 4608])\n"
     ]
    }
   ],
   "source": [
    "sin_emb = transformer.adaln_single.emb.time_proj(torch.arange(1000).to(int)) \n",
    "proj_timestep, embedded_timestep = transformer.adaln_single(torch.arange(1000).to(int), added_cond_kwargs={\"resolution\": None, \"aspect_ratio\": None})\n",
    "print(sin_emb.shape) # sinusoidal cosine embedding, 256 channels\n",
    "print(embedded_timestep.shape) # (1000, 768), going through a MLP with 1 hidden layer. \n",
    "print(proj_timestep.shape) # (1000, 4608) = 6 * 768, going through another MLP with 1 hidden layer. 6 times the hidden dim. "
   ]
  },
  {
   "cell_type": "code",
   "execution_count": 81,
   "metadata": {},
   "outputs": [
    {
     "data": {
      "image/png": "[encoded data removed]",
      "text/plain": [
       "<Figure size 640x480 with 2 Axes>"
      ]
     },
     "metadata": {},
     "output_type": "display_data"
    },
    {
     "data": {
      "image/png": "[encoded data removed]",
      "text/plain": [
       "<Figure size 640x480 with 2 Axes>"
      ]
     },
     "metadata": {},
     "output_type": "display_data"
    },
    {
     "data": {
      "image/png": "[encoded data removed]",
      "text/plain": [
       "<Figure size 640x480 with 2 Axes>"
      ]
     },
     "metadata": {},
     "output_type": "display_data"
    }
   ],
   "source": [
    "plt.imshow(sin_emb.detach().cpu().numpy())\n",
    "plt.colorbar()\n",
    "plt.ylabel(\"time step\")\n",
    "plt.xlabel(\"embedding dimension\")\n",
    "plt.title(\"Step 1: Sinusoidal cosine embedding\")\n",
    "plt.show()\n",
    "plt.imshow(embedded_timestep.detach().cpu().numpy())\n",
    "plt.colorbar()\n",
    "plt.ylabel(\"time step\")\n",
    "plt.xlabel(\"embedding dimension\")\n",
    "plt.title(\"Step 2: MLP with 1 hidden layer\")\n",
    "plt.show()\n",
    "plt.imshow(proj_timestep.detach().cpu().numpy())\n",
    "plt.colorbar()\n",
    "plt.ylabel(\"time step\")\n",
    "plt.xlabel(\"embedding dimension\")\n",
    "plt.title(\"Step 3: MLP with 1 hidden layer\")\n",
    "plt.show()"
   ]
  },
  {
   "cell_type": "markdown",
   "metadata": {},
   "source": [
    "### Transformer block structure"
   ]
  },
  {
   "cell_type": "code",
   "execution_count": 61,
   "metadata": {},
   "outputs": [
    {
     "data": {
      "text/plain": [
       "BasicTransformerBlock(\n",
       "  (norm1): LayerNorm((768,), eps=1e-06, elementwise_affine=False)\n",
       "  (attn1): Attention(\n",
       "    (to_q): Linear(in_features=768, out_features=768, bias=True)\n",
       "    (to_k): Linear(in_features=768, out_features=768, bias=True)\n",
       "    (to_v): Linear(in_features=768, out_features=768, bias=True)\n",
       "    (to_out): ModuleList(\n",
       "      (0): Linear(in_features=768, out_features=768, bias=True)\n",
       "      (1): Dropout(p=0.0, inplace=False)\n",
       "    )\n",
       "  )\n",
       "  (norm2): LayerNorm((768,), eps=1e-06, elementwise_affine=False)\n",
       "  (attn2): Attention(\n",
       "    (to_q): Linear(in_features=768, out_features=768, bias=True)\n",
       "    (to_k): Linear(in_features=768, out_features=768, bias=True)\n",
       "    (to_v): Linear(in_features=768, out_features=768, bias=True)\n",
       "    (to_out): ModuleList(\n",
       "      (0): Linear(in_features=768, out_features=768, bias=True)\n",
       "      (1): Dropout(p=0.0, inplace=False)\n",
       "    )\n",
       "  )\n",
       "  (ff): FeedForward(\n",
       "    (net): ModuleList(\n",
       "      (0): GELU(\n",
       "        (proj): Linear(in_features=768, out_features=3072, bias=True)\n",
       "      )\n",
       "      (1): Dropout(p=0.0, inplace=False)\n",
       "      (2): Linear(in_features=3072, out_features=768, bias=True)\n",
       "    )\n",
       "  )\n",
       ")"
      ]
     },
     "execution_count": 61,
     "metadata": {},
     "output_type": "execute_result"
    }
   ],
   "source": [
    "transformer.transformer_blocks[0]"
   ]
  },
  {
   "cell_type": "code",
   "execution_count": 40,
   "metadata": {},
   "outputs": [
    {
     "data": {
      "text/plain": [
       "torch.Size([6, 768])"
      ]
     },
     "execution_count": 40,
     "metadata": {},
     "output_type": "execute_result"
    }
   ],
   "source": [
    "transformer.transformer_blocks[1].scale_shift_table.shape"
   ]
  },
  {
   "cell_type": "code",
   "execution_count": 38,
   "metadata": {},
   "outputs": [
    {
     "data": {
      "text/plain": [
       "Parameter containing:\n",
       "tensor([[ 0.1346,  0.1860,  0.1027,  ..., -0.0547, -0.0178, -0.0442],\n",
       "        [-0.2267, -0.3194, -0.1433,  ..., -0.1023, -0.0549, -0.0161],\n",
       "        [-0.0940,  0.0832, -0.0880,  ...,  0.0084, -0.0214,  0.0837],\n",
       "        [-0.0018,  0.0402, -0.0502,  ..., -0.0115, -0.0585, -0.0276],\n",
       "        [ 0.0942,  0.0883, -0.0581,  ..., -0.0914, -0.0702,  0.0005],\n",
       "        [-0.0763, -0.0858, -0.1194,  ..., -0.0264,  0.0015, -0.0093]],\n",
       "       requires_grad=True)"
      ]
     },
     "execution_count": 38,
     "metadata": {},
     "output_type": "execute_result"
    }
   ],
   "source": [
    "transformer.transformer_blocks[0].scale_shift_table # 6, 8"
   ]
  },
  {
   "cell_type": "code",
   "execution_count": 39,
   "metadata": {},
   "outputs": [
    {
     "data": {
      "text/plain": [
       "Parameter containing:\n",
       "tensor([[ 0.0341,  0.0153,  0.0331,  ..., -0.0304, -0.0073,  0.0035],\n",
       "        [ 0.0309, -0.0219, -0.0153,  ..., -0.0551, -0.0455, -0.0778],\n",
       "        [-0.0049, -0.0375, -0.0328,  ...,  0.0226,  0.0549, -0.0177],\n",
       "        [ 0.0223,  0.0175,  0.0130,  ..., -0.0316, -0.0803,  0.0072],\n",
       "        [-0.0486, -0.0734, -0.2023,  ..., -0.0505, -0.0203, -0.0553],\n",
       "        [-0.0999, -0.1109, -0.2032,  ..., -0.0355,  0.0033, -0.0121]],\n",
       "       requires_grad=True)"
      ]
     },
     "execution_count": 39,
     "metadata": {},
     "output_type": "execute_result"
    }
   ],
   "source": [
    "transformer.transformer_blocks[1].scale_shift_table"
   ]
  },
  {
   "cell_type": "code",
   "execution_count": 86,
   "metadata": {},
   "outputs": [
    {
     "ename": "AssertionError",
     "evalue": "Scale shift table is not the same for all blocks",
     "output_type": "error",
     "traceback": [
      "\u001b[0;31m---------------------------------------------------------------------------\u001b[0m",
      "\u001b[0;31mAssertionError\u001b[0m                            Traceback (most recent call last)",
      "Cell \u001b[0;32mIn[86], line 1\u001b[0m\n\u001b[0;32m----> 1\u001b[0m \u001b[38;5;28;01massert\u001b[39;00m torch\u001b[38;5;241m.\u001b[39mallclose(transformer\u001b[38;5;241m.\u001b[39mtransformer_blocks[\u001b[38;5;241m0\u001b[39m]\u001b[38;5;241m.\u001b[39mscale_shift_table, \n\u001b[1;32m      2\u001b[0m                       transformer\u001b[38;5;241m.\u001b[39mtransformer_blocks[\u001b[38;5;241m1\u001b[39m]\u001b[38;5;241m.\u001b[39mscale_shift_table), \u001b[38;5;124m\"\u001b[39m\u001b[38;5;124mScale shift table is not the same for all blocks\u001b[39m\u001b[38;5;124m\"\u001b[39m\n",
      "\u001b[0;31mAssertionError\u001b[0m: Scale shift table is not the same for all blocks"
     ]
    }
   ],
   "source": [
    "assert torch.allclose(transformer.transformer_blocks[0].scale_shift_table, \n",
    "                      transformer.transformer_blocks[1].scale_shift_table), \"Scale shift table is not the same for all blocks\""
   ]
  },
  {
   "cell_type": "code",
   "execution_count": 88,
   "metadata": {},
   "outputs": [
    {
     "data": {
      "text/plain": [
       "torch.Size([2, 768])"
      ]
     },
     "execution_count": 88,
     "metadata": {},
     "output_type": "execute_result"
    }
   ],
   "source": [
    "transformer.scale_shift_table.shape"
   ]
  },
  {
   "cell_type": "markdown",
   "metadata": {},
   "source": [
    "### Test run"
   ]
  },
  {
   "cell_type": "code",
   "execution_count": 60,
   "metadata": {},
   "outputs": [
    {
     "name": "stdout",
     "output_type": "stream",
     "text": [
      "torch.Size([3, 8, 16, 16])\n",
      "tensor(-3379.7654)\n"
     ]
    },
    {
     "name": "stderr",
     "output_type": "stream",
     "text": [
      "/n/home12/binxuwang/.conda/envs/torch2/lib/python3.10/site-packages/diffusers/models/transformers/transformer_2d.py:35: FutureWarning: `Transformer2DModelOutput` is deprecated and will be removed in version 1.0.0. Importing `Transformer2DModelOutput` from `diffusers.models.transformer_2d` is deprecated and this will be removed in a future version. Please use `from diffusers.models.modeling_outputs import Transformer2DModelOutput`, instead.\n",
      "  deprecate(\"Transformer2DModelOutput\", \"1.0.0\", deprecation_message)\n"
     ]
    }
   ],
   "source": [
    "state = torch.randn(3, 4, 16, 16)\n",
    "encoder_hidden_states = torch.randn(3, 20, 4096)\n",
    "timestep = torch.tensor([999, 999, 999]).to(int)    \n",
    "added_cond_kwargs = {\"resolution\": None, \"aspect_ratio\": None}\n",
    "with torch.no_grad():\n",
    "    out = transformer(hidden_states=state, encoder_hidden_states=encoder_hidden_states, timestep=timestep, added_cond_kwargs = added_cond_kwargs)\n",
    "print(out.sample.shape)\n",
    "print(out.sample.sum())"
   ]
  },
  {
   "cell_type": "code",
   "execution_count": null,
   "metadata": {},
   "outputs": [],
   "source": []
  }
 ],
 "metadata": {
  "kernelspec": {
   "display_name": "torch2",
   "language": "python",
   "name": "python3"
  },
  "language_info": {
   "codemirror_mode": {
    "name": "ipython",
    "version": 3
   },
   "file_extension": ".py",
   "mimetype": "text/x-python",
   "name": "python",
   "nbconvert_exporter": "python",
   "pygments_lexer": "ipython3",
   "version": "3.10.14"
  }
 },
 "nbformat": 4,
 "nbformat_minor": 2
}
