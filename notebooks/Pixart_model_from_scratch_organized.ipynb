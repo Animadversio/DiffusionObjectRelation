{
 "cells": [
  {
   "cell_type": "code",
   "execution_count": 1,
   "metadata": {},
   "outputs": [
    {
     "name": "stderr",
     "output_type": "stream",
     "text": [
      "/n/home12/binxuwang/.conda/envs/torch2/lib/python3.10/site-packages/mmcv/__init__.py:20: UserWarning: On January 1, 2023, MMCV will release v2.0.0, in which it will remove components related to the training process and add a data transformation module. In addition, it will rename the package names mmcv to mmcv-lite and mmcv-full to mmcv. See https://github.com/open-mmlab/mmcv/blob/master/docs/en/compatibility.md for more details.\n",
      "  warnings.warn(\n",
      "/n/home12/binxuwang/.conda/envs/torch2/lib/python3.10/site-packages/transformers/utils/hub.py:127: FutureWarning: Using `TRANSFORMERS_CACHE` is deprecated and will be removed in v5 of Transformers. Use `HF_HOME` instead.\n",
      "  warnings.warn(\n"
     ]
    }
   ],
   "source": [
    "import os\n",
    "from os.path import join\n",
    "import torch\n",
    "from diffusers import AutoencoderKL, Transformer2DModel, PixArtAlphaPipeline, DPMSolverMultistepScheduler\n",
    "import sys\n",
    "sys.path.append(\"/n/home12/binxuwang/Github/DiffusionObjectRelation/PixArt-alpha\")\n",
    "from diffusion import IDDPM\n",
    "from diffusion.data.builder import build_dataset, build_dataloader, set_data_root\n",
    "from diffusion.model.builder import build_model\n",
    "from diffusion.utils.misc import set_random_seed, read_config, init_random_seed, DebugUnderflowOverflow\n",
    "sys.path.append(\"/n/home12/binxuwang/Github/DiffusionObjectRelation/utils\")\n",
    "from pixart_utils import state_dict_convert\n",
    "from image_utils import pil_images_to_grid\n",
    "from pixart_utils import state_dict_convert\n",
    "from pixart_sampling_utils import PixArtAlphaPipeline_custom, visualize_prompts_with_traj\n",
    "from pixart_utils import construct_diffuser_transformer_from_config, construct_diffuser_pipeline_from_config\n"
   ]
  },
  {
   "cell_type": "markdown",
   "metadata": {},
   "source": [
    "### Load the model"
   ]
  },
  {
   "cell_type": "code",
   "execution_count": 3,
   "metadata": {},
   "outputs": [
    {
     "name": "stderr",
     "output_type": "stream",
     "text": [
      "2024-12-27 23:46:23,379 - PixArt - WARNING - lewei scale: (1.0,), base size: 8\n"
     ]
    },
    {
     "data": {
      "application/vnd.jupyter.widget-view+json": {
       "model_id": "a8f40b90a5064c0e85296fd46f1c7405",
       "version_major": 2,
       "version_minor": 0
      },
      "text/plain": [
       "Loading pipeline components...:   0%|          | 0/3 [00:00<?, ?it/s]"
      ]
     },
     "metadata": {},
     "output_type": "display_data"
    }
   ],
   "source": [
    "savedir = \"/n/holylfs06/LABS/kempner_fellow_binxuwang/Users/binxuwang/DL_Projects/PixArt/results/objrel_rndembdposemb_DiT_B_pilot\"\n",
    "\n",
    "config = read_config(join(savedir, 'config.py'))\n",
    "\n",
    "weight_dtype = torch.float32\n",
    "if config.mixed_precision == \"fp16\": # accelerator.\n",
    "    weight_dtype = torch.float16\n",
    "elif config.mixed_precision == \"bf16\": # accelerator.\n",
    "    weight_dtype = torch.bfloat16\n",
    "    \n",
    "image_size = config.image_size  # @param [256, 512, 1024]\n",
    "latent_size = int(image_size) // 8\n",
    "pred_sigma = getattr(config, 'pred_sigma', True)\n",
    "learn_sigma = getattr(config, 'learn_sigma', True) and pred_sigma\n",
    "model_kwargs={\"window_block_indexes\": config.window_block_indexes, \"window_size\": config.window_size,\n",
    "                \"use_rel_pos\": config.use_rel_pos, \"lewei_scale\": config.lewei_scale, 'config':config,\n",
    "                'model_max_length': config.model_max_length}\n",
    "# train_diffusion = IDDPM(str(config.train_sampling_steps), learn_sigma=learn_sigma, pred_sigma=pred_sigma, snr=config.snr_loss)\n",
    "model = build_model(config.model,\n",
    "                config.grad_checkpointing,\n",
    "                config.get('fp32_attention', False),\n",
    "                input_size=latent_size,\n",
    "                learn_sigma=learn_sigma,\n",
    "                pred_sigma=pred_sigma,\n",
    "                **model_kwargs).train()\n",
    "\n",
    "transformer = Transformer2DModel(\n",
    "        sample_size=image_size // 8,\n",
    "        num_layers=len(model.blocks),\n",
    "        attention_head_dim=model.blocks[0].hidden_size // model.num_heads,\n",
    "        in_channels=model.in_channels,\n",
    "        out_channels=model.out_channels,\n",
    "        patch_size=model.patch_size,\n",
    "        attention_bias=True,\n",
    "        num_attention_heads=model.num_heads,\n",
    "        cross_attention_dim=model.blocks[0].hidden_size,\n",
    "        activation_fn=\"gelu-approximate\",\n",
    "        num_embeds_ada_norm=1000,\n",
    "        norm_type=\"ada_norm_single\",\n",
    "        norm_elementwise_affine=False,\n",
    "        norm_eps=1e-6,\n",
    "        caption_channels=4096,\n",
    ")\n",
    "# state_dict = state_dict_convert(all_state_dict.pop(\"state_dict\"))\n",
    "transformer.load_state_dict(state_dict_convert(model.state_dict()))\n",
    "pipeline = PixArtAlphaPipeline_custom.from_pretrained(\n",
    "    \"PixArt-alpha/PixArt-XL-2-512x512\",\n",
    "    transformer=transformer,\n",
    "    tokenizer=None,\n",
    "    text_encoder=None,\n",
    "    torch_dtype=weight_dtype,\n",
    ")"
   ]
  },
  {
   "cell_type": "code",
   "execution_count": 4,
   "metadata": {},
   "outputs": [
    {
     "data": {
      "text/plain": [
       "<All keys matched successfully>"
      ]
     },
     "execution_count": 4,
     "metadata": {},
     "output_type": "execute_result"
    }
   ],
   "source": [
    "ckptdir = join(savedir, \"checkpoints\")\n",
    "ckpt = torch.load(join(ckptdir, \"epoch_4000_step_160000.pth\"))\n",
    "pipeline.transformer.load_state_dict(state_dict_convert(ckpt['state_dict_ema']))"
   ]
  },
  {
   "cell_type": "code",
   "execution_count": 7,
   "metadata": {},
   "outputs": [
    {
     "data": {
      "text/plain": [
       "PixArt(\n",
       "  (x_embedder): PatchEmbed(\n",
       "    (proj): Conv2d(4, 768, kernel_size=(2, 2), stride=(2, 2))\n",
       "    (norm): Identity()\n",
       "  )\n",
       "  (t_embedder): TimestepEmbedder(\n",
       "    (mlp): Sequential(\n",
       "      (0): Linear(in_features=256, out_features=768, bias=True)\n",
       "      (1): SiLU()\n",
       "      (2): Linear(in_features=768, out_features=768, bias=True)\n",
       "    )\n",
       "  )\n",
       "  (t_block): Sequential(\n",
       "    (0): SiLU()\n",
       "    (1): Linear(in_features=768, out_features=4608, bias=True)\n",
       "  )\n",
       "  (y_embedder): CaptionEmbedder(\n",
       "    (y_proj): Mlp(\n",
       "      (fc1): Linear(in_features=4096, out_features=768, bias=True)\n",
       "      (act): GELU(approximate='tanh')\n",
       "      (drop1): Dropout(p=0, inplace=False)\n",
       "      (norm): Identity()\n",
       "      (fc2): Linear(in_features=768, out_features=768, bias=True)\n",
       "      (drop2): Dropout(p=0, inplace=False)\n",
       "    )\n",
       "  )\n",
       "  (blocks): ModuleList(\n",
       "    (0-11): 12 x PixArtBlock(\n",
       "      (norm1): LayerNorm((768,), eps=1e-06, elementwise_affine=False)\n",
       "      (attn): WindowAttention(\n",
       "        (qkv): Linear(in_features=768, out_features=2304, bias=True)\n",
       "        (q_norm): Identity()\n",
       "        (k_norm): Identity()\n",
       "        (attn_drop): Dropout(p=0.0, inplace=False)\n",
       "        (proj): Linear(in_features=768, out_features=768, bias=True)\n",
       "        (proj_drop): Dropout(p=0.0, inplace=False)\n",
       "      )\n",
       "      (cross_attn): MultiHeadCrossAttention(\n",
       "        (q_linear): Linear(in_features=768, out_features=768, bias=True)\n",
       "        (kv_linear): Linear(in_features=768, out_features=1536, bias=True)\n",
       "        (attn_drop): Dropout(p=0.0, inplace=False)\n",
       "        (proj): Linear(in_features=768, out_features=768, bias=True)\n",
       "        (proj_drop): Dropout(p=0.0, inplace=False)\n",
       "      )\n",
       "      (norm2): LayerNorm((768,), eps=1e-06, elementwise_affine=False)\n",
       "      (mlp): Mlp(\n",
       "        (fc1): Linear(in_features=768, out_features=3072, bias=True)\n",
       "        (act): GELU(approximate='tanh')\n",
       "        (drop1): Dropout(p=0, inplace=False)\n",
       "        (norm): Identity()\n",
       "        (fc2): Linear(in_features=3072, out_features=768, bias=True)\n",
       "        (drop2): Dropout(p=0, inplace=False)\n",
       "      )\n",
       "      (drop_path): Identity()\n",
       "    )\n",
       "  )\n",
       "  (final_layer): T2IFinalLayer(\n",
       "    (norm_final): LayerNorm((768,), eps=1e-06, elementwise_affine=False)\n",
       "    (linear): Linear(in_features=768, out_features=32, bias=True)\n",
       "  )\n",
       ")"
      ]
     },
     "execution_count": 7,
     "metadata": {},
     "output_type": "execute_result"
    }
   ],
   "source": [
    "model"
   ]
  },
  {
   "cell_type": "markdown",
   "metadata": {},
   "source": [
    "### Define PixArt model from scratch"
   ]
  },
  {
   "cell_type": "code",
   "execution_count": 10,
   "metadata": {},
   "outputs": [],
   "source": [
    "import math\n",
    "import torch\n",
    "from torch import nn\n",
    "import numpy as np\n",
    "import matplotlib.pyplot as plt\n",
    "from einops import rearrange"
   ]
  },
  {
   "cell_type": "code",
   "execution_count": null,
   "metadata": {},
   "outputs": [],
   "source": [
    "# Patch Embedding\n",
    "\n",
    "class PatchEmbeddingScratch(nn.Module):\n",
    "    def __init__(self, in_channels, out_channels, patch_size=2):\n",
    "        super().__init__()\n",
    "        self.proj = nn.Conv2d(in_channels=in_channels, out_channels=out_channels, \n",
    "                              kernel_size=(patch_size, patch_size), \n",
    "                              stride=(patch_size, patch_size), padding=0)\n",
    "        \n",
    "    def forward(self, x):\n",
    "        patch_proj = self.proj(x)\n",
    "        patch_proj = rearrange(patch_proj, \"b c h w -> b (h w) c\")\n",
    "        return patch_proj"
   ]
  },
  {
   "cell_type": "code",
   "execution_count": null,
   "metadata": {},
   "outputs": [],
   "source": [
    "# Position Embedding\n",
    "\n",
    "def get_1d_sincos_pos_embed_from_grid(embed_dim, pos):\n",
    "    \"\"\"\n",
    "    embed_dim: output dimension for each position\n",
    "    pos: a list of positions to be encoded: size (M,)\n",
    "    out: (M, D)\n",
    "    \"\"\"\n",
    "    assert embed_dim % 2 == 0\n",
    "    half_dim = embed_dim // 2\n",
    "    omega = np.arange(half_dim, dtype=np.float64) / half_dim\n",
    "    omega = 1. / 10000 ** omega  # (D/2,)\n",
    "    pos = pos.reshape(-1)  # (M,)\n",
    "    args = pos[:, None] * omega[None, :]  # (M, D/2), outer product\n",
    "    return np.concatenate([np.sin(args), np.cos(args)], axis=1)\n",
    "\n",
    "\n",
    "def get_2d_sincos_pos_embed_from_grid(embed_dim, grid):\n",
    "    assert embed_dim % 2 == 0\n",
    "    # use half of dimensions to encode grid_h\n",
    "    emb_h = get_1d_sincos_pos_embed_from_grid(embed_dim // 2, grid[0])  # (H*W, D/2)\n",
    "    emb_w = get_1d_sincos_pos_embed_from_grid(embed_dim // 2, grid[1])  # (H*W, D/2)\n",
    "    return np.concatenate([emb_h, emb_w], axis=1)\n",
    "\n",
    "\n",
    "def get_2d_sincos_pos_embed(embed_dim, grid_size, cls_token=False, extra_tokens=0, lewei_scale=1.0, base_size=8):\n",
    "    \"\"\"\n",
    "    grid_size: int of the grid height and width\n",
    "    return:\n",
    "    pos_embed: [grid_size*grid_size, embed_dim] or [1+grid_size*grid_size, embed_dim] (w/ or w/o cls_token)\n",
    "    \"\"\"\n",
    "    if isinstance(grid_size, int):\n",
    "        grid_size = (grid_size, grid_size)\n",
    "    \n",
    "    grid_h = np.arange(grid_size[0], dtype=np.float32) / (grid_size[0] / base_size) / lewei_scale # note this is basically np.arange(grid_size[0]), remove the base_size which should be the same as the grid_size. \n",
    "    grid_w = np.arange(grid_size[1], dtype=np.float32) / (grid_size[1] / base_size) / lewei_scale\n",
    "    grid = np.meshgrid(grid_w, grid_h)  # here x coordinate goes first, y coordinate goes second\n",
    "    grid = np.stack(grid, axis=0)\n",
    "    grid = grid.reshape([2, grid_size[1], grid_size[0]])\n",
    "\n",
    "    pos_embed = get_2d_sincos_pos_embed_from_grid(embed_dim, grid)\n",
    "    if cls_token and extra_tokens > 0:\n",
    "        pos_embed = np.concatenate([np.zeros([extra_tokens, embed_dim]), pos_embed], axis=0)\n",
    "    return pos_embed"
   ]
  },
  {
   "cell_type": "code",
   "execution_count": null,
   "metadata": {},
   "outputs": [],
   "source": [
    "# Time Embedding\n",
    "\n",
    "def get_sinusoidal_embedding(t, dim, max_period=10000, device=\"cpu\"):\n",
    "    half = dim // 2\n",
    "    # freqs = torch.float_power(max_period, -torch.arange(start=0, end=half, dtype=torch.float32, device=device) / half).to(torch.float32)\n",
    "    freqs = torch.exp(-math.log(max_period) * torch.arange(start=0, end=half, dtype=torch.float32, device=device) / half)\n",
    "    args = t[:, None].float() * freqs[None]\n",
    "    embedding = torch.cat([torch.cos(args), torch.sin(args)], dim=-1)\n",
    "    if dim % 2:\n",
    "        # in case the dimension is odd, add a zero embedding for the last dimension\n",
    "        embedding = torch.cat([embedding, torch.zeros_like(embedding[:, :1])], dim=-1)\n",
    "    return embedding\n",
    "\n",
    "\n",
    "class TimeEmbeddingScratch(nn.Module):\n",
    "    def __init__(self, hidden_dim, freq_embedding_size=256, max_period=10000):\n",
    "        super().__init__()\n",
    "        self.hidden_dim = hidden_dim\n",
    "        self.mlp = nn.Sequential(\n",
    "            nn.Linear(freq_embedding_size, hidden_dim, bias=True),\n",
    "            nn.SiLU(),\n",
    "            nn.Linear(hidden_dim, hidden_dim, bias=True),\n",
    "        )\n",
    "        self.freq_embedding_size = freq_embedding_size\n",
    "        self.max_period = max_period\n",
    "        \n",
    "    def forward(self, t):\n",
    "        sin_emb = get_sinusoidal_embedding(t, self.freq_embedding_size, self.max_period, device=t.device) #.to(self.dtype)\n",
    "        return self.mlp(sin_emb)\n",
    "    \n",
    "\n",
    "def get_time_blocks(hidden_size):\n",
    "    return nn.Sequential(\n",
    "        nn.SiLU(),\n",
    "        nn.Linear(hidden_size, hidden_size * 6, bias=True),\n",
    "    )"
   ]
  },
  {
   "cell_type": "code",
   "execution_count": null,
   "metadata": {},
   "outputs": [],
   "source": [
    "from collections import OrderedDict\n",
    "class CaptionEmbeddingScratch(nn.Module):\n",
    "    def __init__(self, in_features=4096, hidden_features=768, max_length=20):\n",
    "        super().__init__()\n",
    "        self.y_proj = nn.Sequential(OrderedDict([\n",
    "            (\"fc1\", nn.Linear(in_features, hidden_features, bias=True)),\n",
    "            (\"act\", nn.GELU(approximate='tanh')),\n",
    "            (\"drop1\", nn.Dropout(p=0)),\n",
    "            (\"fc2\", nn.Linear(hidden_features, hidden_features, bias=True)),\n",
    "            (\"drop2\", nn.Dropout(p=0))\n",
    "        ]))\n",
    "        self.y_embedding = nn.Parameter(torch.randn(max_length, in_features) / in_features ** 0.5)\n",
    "        # self.register_buffer(\"y_embedding\", nn.Parameter(torch.randn(120, in_features) / 10 ** 0.5))\n",
    "\n",
    "    # TODO: implement token dropout for classifier-free guidance\n",
    "    \n",
    "    def forward(self, x, train=False):\n",
    "        assert train == False, \"Token dropout is not implemented\"\n",
    "        return self.y_proj(x)"
   ]
  },
  {
   "cell_type": "code",
   "execution_count": null,
   "metadata": {},
   "outputs": [],
   "source": [
    "# Attention Layers\n",
    "from xformers.ops import memory_efficient_attention\n",
    "import torch.nn.functional as F\n",
    "class AttentionScratch(nn.Module):\n",
    "    def __init__(self, hidden_size=768, num_heads=12):\n",
    "        super().__init__()\n",
    "        self.hidden_size = hidden_size\n",
    "        self.num_heads = num_heads\n",
    "        self.head_dim = hidden_size // num_heads\n",
    "        self.qkv = nn.Linear(hidden_size, hidden_size * 3, bias=True)\n",
    "        self.attn_drop = nn.Dropout(0.0)\n",
    "        self.proj = nn.Linear(hidden_size, hidden_size, bias=True)\n",
    "        self.proj_drop = nn.Dropout(0.0)\n",
    "\n",
    "    def forward(self, x, ):\n",
    "        B, N, C = x.shape\n",
    "        QKV = self.qkv(x)\n",
    "        QKV = QKV.reshape(B, N, 3, self.num_heads, self.head_dim)\n",
    "        # the F.scaled_dot_product_attention is not exactly the same as the memory_efficient_attention, but very close. \n",
    "        # Q, K, V = QKV.chunk(3, dim=-1) # (B, N, C)\n",
    "        # Q = rearrange(Q, \"b n (h d) -> (b h) n d\", h=self.num_heads)\n",
    "        # K = rearrange(K, \"b n (h d) -> (b h) n d\", h=self.num_heads)\n",
    "        # V = rearrange(V, \"b n (h d) -> (b h) n d\", h=self.num_heads)\n",
    "        # mha = F.scaled_dot_product_attention(Q, K, V, attn_mask=None, dropout_p=0.0, is_causal=False)\n",
    "        # mha = rearrange(mha, \"(b h) n d -> b n (h d)\", h=self.num_heads)\n",
    "        # Closer to the original implementation\n",
    "        Q, K, V = QKV.unbind(2)\n",
    "        mha = memory_efficient_attention(Q, K, V, p=0.0)\n",
    "        mha = mha.reshape(B, N, C)\n",
    "        return self.proj_drop(self.proj(mha))\n",
    "\n",
    "\n",
    "class CrossAttentionScratch(nn.Module):\n",
    "    def __init__(self, hidden_size=768, encoder_hidden_size=768, num_heads=12, qkv_bias=True):\n",
    "        super().__init__()\n",
    "        self.hidden_size = hidden_size\n",
    "        self.encoder_hidden_size = encoder_hidden_size\n",
    "        self.num_heads = num_heads\n",
    "        self.head_dim = hidden_size // num_heads\n",
    "        self.cross_attn = nn.Identity()\n",
    "        self.q_linear = nn.Linear(hidden_size, hidden_size, bias=qkv_bias)\n",
    "        self.kv_linear = nn.Linear(encoder_hidden_size, hidden_size * 2, bias=qkv_bias)\n",
    "        self.attn_drop = nn.Dropout(0.0)\n",
    "        self.proj = nn.Linear(hidden_size, hidden_size, bias=True)\n",
    "        self.proj_drop = nn.Dropout(0.0)\n",
    "        \n",
    "    def forward(self, x, y, mask=None):\n",
    "        B, N, C = x.shape\n",
    "        # _, M, _ = y.shape\n",
    "        M = y.shape[-2]\n",
    "        Q = self.q_linear(x)\n",
    "        Q = Q.reshape(B, N, self.num_heads, self.head_dim)\n",
    "        K, V = self.kv_linear(y).reshape(B, -1, 2, self.num_heads, self.head_dim).unbind(2)\n",
    "        if mask is not None:\n",
    "            # assume mask is a boolean tensor of shape (B, 1, 1, M)\n",
    "            if mask.ndim == 2:\n",
    "                mask = mask.unsqueeze(1).unsqueeze(1)\n",
    "            attn_bias = torch.zeros([B, self.num_heads, N, M], dtype=Q.dtype, device=Q.device)\n",
    "            attn_bias.masked_fill_(mask.repeat(1, self.num_heads, 1, 1) == 0, float('-inf'))\n",
    "            # attn_bias = torch.zeros([B * self.num_heads, q.shape[1], k.shape[1]], dtype=q.dtype, device=q.device)\n",
    "        else:\n",
    "            attn_bias = None\n",
    "        attn = memory_efficient_attention(Q, K, V, p=0.0, attn_bias=attn_bias)\n",
    "        attn = attn.reshape(B, N, C)\n",
    "        return self.proj_drop(self.proj(attn))\n"
   ]
  },
  {
   "cell_type": "code",
   "execution_count": null,
   "metadata": {},
   "outputs": [],
   "source": [
    "def t2i_modulate(x, shift, scale):\n",
    "    return x * (1 + scale) + shift\n",
    "\n",
    "\n",
    "class TransformerBlockScratch(nn.Module):\n",
    "    def __init__(self, hidden_size=768, num_heads=12, mlp_ratio=4.0, drop_path=0.0):\n",
    "        super().__init__()\n",
    "        self.hidden_size = hidden_size\n",
    "        self.num_heads = num_heads\n",
    "        self.mlp_ratio = mlp_ratio\n",
    "        self.drop_path = drop_path\n",
    "        self.norm1 = nn.LayerNorm(768, elementwise_affine=False, eps=1e-6)\n",
    "        self.attn = AttentionScratch(hidden_size=hidden_size, num_heads=num_heads)\n",
    "        self.cross_attn = CrossAttentionScratch(hidden_size=hidden_size, encoder_hidden_size=hidden_size, num_heads=num_heads)\n",
    "        self.norm2 = nn.LayerNorm(768, elementwise_affine=False, eps=1e-6)\n",
    "        self.mlp = nn.Sequential(OrderedDict([\n",
    "            (\"fc1\", nn.Linear(hidden_size, int(hidden_size * mlp_ratio), bias=True)),\n",
    "            (\"act\", nn.GELU(approximate='tanh')),\n",
    "            (\"drop1\", nn.Dropout(p=0, inplace=False)),\n",
    "            (\"fc2\", nn.Linear(int(hidden_size * mlp_ratio), hidden_size, bias=True)),\n",
    "            (\"drop2\", nn.Dropout(p=0, inplace=False))\n",
    "        ]))\n",
    "        self.drop_path = nn.DropPath(drop_path) if drop_path > 0. else nn.Identity()\n",
    "        self.scale_shift_table = nn.Parameter(torch.randn(6, hidden_size) / hidden_size ** 0.5)\n",
    "\n",
    "    def forward(self, x, y, t, mask=None, **kwargs):\n",
    "        B, N, C = x.shape\n",
    "\n",
    "        shift_msa, scale_msa, gate_msa, shift_mlp, scale_mlp, gate_mlp = (self.scale_shift_table[None] + t.reshape(B, 6, -1)).chunk(6, dim=1)\n",
    "        x = x + self.drop_path(gate_msa * self.attn(t2i_modulate(self.norm1(x), shift_msa, scale_msa)).reshape(B, N, C))\n",
    "        x = x + self.cross_attn(x, y, mask)\n",
    "        x = x + self.drop_path(gate_mlp * self.mlp(t2i_modulate(self.norm2(x), shift_mlp, scale_mlp)))\n",
    "\n",
    "        return x"
   ]
  },
  {
   "cell_type": "code",
   "execution_count": null,
   "metadata": {},
   "outputs": [],
   "source": [
    "# final readout layer \n",
    "class FinalLayerScratch(nn.Module):\n",
    "    def __init__(self, hidden_size=768, out_channel=32):\n",
    "        super().__init__()\n",
    "        self.hidden_size = hidden_size\n",
    "        self.norm_final = nn.LayerNorm(hidden_size, elementwise_affine=False, eps=1e-6)\n",
    "        self.linear = nn.Linear(hidden_size, out_channel, bias=True)\n",
    "        self.scale_shift_table = nn.Parameter(torch.randn(2, hidden_size) / hidden_size ** 0.5)\n",
    "    \n",
    "    def forward(self, x, t_emb):\n",
    "        shift, scale = (self.scale_shift_table[None] + t_emb[:, None]).chunk(2, dim=1)\n",
    "        x = t2i_modulate(self.norm_final(x), shift, scale)\n",
    "        x = self.linear(x)\n",
    "        return x\n",
    "    \n",
    "\n",
    "def unpatchify(x, patch_size=2):\n",
    "    B, T, C = x.shape\n",
    "    H = W = int(T ** 0.5)\n",
    "    assert H * W == T\n",
    "    x = rearrange(x, \"b (h w) (p1 p2 c) -> b c (h p1) (w p2)\", \n",
    "                    h=H, w=W, p1=patch_size, p2=patch_size)\n",
    "    return x"
   ]
  },
  {
   "cell_type": "code",
   "execution_count": null,
   "metadata": {},
   "outputs": [],
   "source": [
    "def test_forward_pass(model, batch_size=7, device=\"cuda\"):\n",
    "    model.eval().to(device)\n",
    "    # Define the modules from scratch\n",
    "    patch_size = 2\n",
    "    hidden_size = 768\n",
    "    num_heads = 12\n",
    "    in_channels = 4\n",
    "    out_channels = in_channels * 2\n",
    "    mlp_ratio = 4.0\n",
    "    drop_path = 0.0\n",
    "    pos_embed = get_2d_sincos_pos_embed(768, (8, 8))\n",
    "    pos_embed = torch.from_numpy(pos_embed).unsqueeze(0).to(torch.float32).to(device)\n",
    "    x_embedder = PatchEmbeddingScratch(in_channels=in_channels, out_channels=hidden_size, patch_size=patch_size)\n",
    "    t_embedder = TimeEmbeddingScratch(hidden_size, freq_embedding_size=256)\n",
    "    t_blocks = get_time_blocks(hidden_size)\n",
    "    y_embedder = CaptionEmbeddingScratch(in_features=4096, hidden_features=hidden_size)\n",
    "    final_layer = FinalLayerScratch(hidden_size=hidden_size, out_channel=out_channels * patch_size * patch_size)\n",
    "\n",
    "    x_embedder.load_state_dict(model.x_embedder.state_dict())\n",
    "    t_embedder.load_state_dict(model.t_embedder.state_dict())\n",
    "    t_blocks.load_state_dict(model.t_block.state_dict())\n",
    "    y_embedder.load_state_dict(model.y_embedder.state_dict())\n",
    "    final_layer.load_state_dict(model.final_layer.state_dict())\n",
    "\n",
    "    transformer_blocks = nn.ModuleList([TransformerBlockScratch(hidden_size=hidden_size, num_heads=num_heads, mlp_ratio=mlp_ratio, drop_path=drop_path) for _ in range(12)])\n",
    "    transformer_blocks.load_state_dict(model.blocks.state_dict())\n",
    "    for module in [x_embedder, t_embedder, t_blocks, y_embedder, final_layer, transformer_blocks]:\n",
    "        module.eval()\n",
    "        module.requires_grad = False\n",
    "        module.to(device)\n",
    "\n",
    "    # Generate psuedo input\n",
    "    x_tmp = torch.randn(batch_size, 4, 16, 16).to(device)\n",
    "    t_tmp = torch.randint(0, 1000, (batch_size,)).to(device)\n",
    "    y_tmp = torch.randn(batch_size, 20, 4096).to(device)\n",
    "    attn_mask = torch.zeros(batch_size, 20, dtype=torch.bool).to(device)\n",
    "    attn_mask[:, 0:1] = True\n",
    "    attn_mask[2, 0:4] = True\n",
    "    attn_mask[4, 0:4] = True\n",
    "    \n",
    "    # Forward pass \n",
    "    x_embed = x_embedder(x_tmp) # (B, T, D)\n",
    "    x_embed = x_embed + pos_embed # (B, T, D)\n",
    "    t_embed = t_embedder(t_tmp) # (B, D)\n",
    "    t_blocks_out = t_blocks(t_embed) # (B, D * 6)\n",
    "    y_embed = y_embedder(y_tmp, train=False) # (B, 1, L, D)\n",
    "    print(\"X input shape:\", x_tmp.shape)\n",
    "    print(\"Pos embed shape:\", pos_embed.shape)\n",
    "    print(\"T embed shape:\", t_embed.shape)\n",
    "    print(\"T blocks out shape:\", t_blocks_out.shape)\n",
    "    print(\"Y embed shape:\", y_embed.shape)\n",
    "\n",
    "    # go through the transformer blocks\n",
    "    for block in transformer_blocks:\n",
    "        x_embed = block(x_embed, y_embed, t_blocks_out, mask=attn_mask)\n",
    "\n",
    "    final_out = final_layer(x_embed, t_embed)\n",
    "    final_out = unpatchify(final_out)\n",
    "    \n",
    "    # compare with the model\n",
    "    final_out_model = model.forward(x_tmp, t_tmp, y_tmp, mask=attn_mask)\n",
    "    assert torch.allclose(final_out, final_out_model, )\n",
    "    return final_out, final_out_model\n",
    "\n"
   ]
  },
  {
   "cell_type": "markdown",
   "metadata": {},
   "source": [
    "### Patch embedding"
   ]
  },
  {
   "cell_type": "code",
   "execution_count": 99,
   "metadata": {},
   "outputs": [
    {
     "name": "stdout",
     "output_type": "stream",
     "text": [
      "torch.Size([5, 64, 768])\n",
      "torch.Size([5, 64, 768])\n"
     ]
    }
   ],
   "source": [
    "proj = PatchEmbeddingScratch(in_channels=4, out_channels=768, patch_size=2)\n",
    "proj.load_state_dict(model.x_embedder.state_dict())\n",
    "with torch.no_grad():\n",
    "    tmp_state = torch.randn(5, 4, 16, 16)\n",
    "    print(proj(tmp_state).shape)\n",
    "    print(model.x_embedder(tmp_state).shape)\n",
    "    assert torch.allclose(proj(tmp_state), model.x_embedder(tmp_state))"
   ]
  },
  {
   "cell_type": "code",
   "execution_count": 97,
   "metadata": {},
   "outputs": [
    {
     "data": {
      "text/plain": [
       "PatchEmbed(\n",
       "  (proj): Conv2d(4, 768, kernel_size=(2, 2), stride=(2, 2))\n",
       "  (norm): Identity()\n",
       ")"
      ]
     },
     "execution_count": 97,
     "metadata": {},
     "output_type": "execute_result"
    }
   ],
   "source": [
    "model.x_embedder"
   ]
  },
  {
   "cell_type": "markdown",
   "metadata": {},
   "source": [
    "### Patch Position Embedding"
   ]
  },
  {
   "cell_type": "code",
   "execution_count": 137,
   "metadata": {},
   "outputs": [
    {
     "name": "stdout",
     "output_type": "stream",
     "text": [
      "torch.Size([1, 64, 768])\n",
      "tensor([[[ 0.0000,  0.0000,  0.0000,  ...,  1.0000,  1.0000,  1.0000],\n",
      "         [ 0.8415,  0.8153,  0.7886,  ...,  1.0000,  1.0000,  1.0000],\n",
      "         [ 0.9093,  0.9442,  0.9698,  ...,  1.0000,  1.0000,  1.0000],\n",
      "         ...,\n",
      "         [-0.9589, -0.9986, -0.9856,  ...,  1.0000,  1.0000,  1.0000],\n",
      "         [-0.2794, -0.5348, -0.7393,  ...,  1.0000,  1.0000,  1.0000],\n",
      "         [ 0.6570,  0.3792,  0.0764,  ...,  1.0000,  1.0000,  1.0000]]])\n"
     ]
    }
   ],
   "source": [
    "print(model.pos_embed.shape)\n",
    "print(model.pos_embed)"
   ]
  },
  {
   "cell_type": "code",
   "execution_count": 163,
   "metadata": {},
   "outputs": [
    {
     "data": {
      "image/png": "[encoded data removed]",
      "text/plain": [
       "<Figure size 1000x1000 with 25 Axes>"
      ]
     },
     "metadata": {},
     "output_type": "display_data"
    }
   ],
   "source": [
    "figh, axs = plt.subplots(5, 5, figsize=(10, 10))\n",
    "axs = axs.flatten()\n",
    "for i in range(25):\n",
    "    axs[i].imshow(model.pos_embed.reshape(8, 8, 768).\\\n",
    "                detach().cpu().numpy()[:, :, 384+i])\n",
    "    axs[i].set_title(f\"dim {i}\")\n",
    "    axs[i].axis(\"off\")\n",
    "plt.suptitle(\"Patch Position Embedding from pretrained model PixArt\")\n",
    "plt.show()"
   ]
  },
  {
   "cell_type": "code",
   "execution_count": 151,
   "metadata": {},
   "outputs": [
    {
     "data": {
      "image/png": "[encoded data removed]",
      "text/plain": [
       "<Figure size 640x480 with 2 Axes>"
      ]
     },
     "metadata": {},
     "output_type": "display_data"
    }
   ],
   "source": [
    "plt.imshow(model.pos_embed.reshape(8, 8, 768).\\\n",
    "            detach().cpu().numpy()[:, :, -2])\n",
    "plt.colorbar()\n",
    "plt.show()"
   ]
  },
  {
   "cell_type": "code",
   "execution_count": 177,
   "metadata": {},
   "outputs": [
    {
     "name": "stdout",
     "output_type": "stream",
     "text": [
      "(64, 768)\n"
     ]
    }
   ],
   "source": [
    "pos_embed = get_2d_sincos_pos_embed(768, (8, 8))\n",
    "print(pos_embed.shape)\n",
    "assert torch.allclose(torch.tensor(pos_embed).to(torch.float32), \n",
    "                        model.pos_embed[0]), \"Position embedding does not match\""
   ]
  },
  {
   "cell_type": "markdown",
   "metadata": {},
   "source": [
    "### Time step embedding"
   ]
  },
  {
   "cell_type": "code",
   "execution_count": 15,
   "metadata": {},
   "outputs": [],
   "source": [
    "t_blocks = nn.Sequential(\n",
    "    nn.SiLU(),\n",
    "    nn.Linear(768, 768 * 6, bias=True),\n",
    ")\n",
    "\n",
    "t_blocks = get_time_blocks(768)\n",
    "\n",
    "# Test the time embedding\n",
    "t_blocks.load_state_dict(model.t_block.state_dict())\n",
    "tmp_state = torch.randn(5, 768)\n",
    "assert torch.allclose(t_blocks(tmp_state), model.t_block(tmp_state))"
   ]
  },
  {
   "cell_type": "code",
   "execution_count": 104,
   "metadata": {},
   "outputs": [],
   "source": [
    "with torch.no_grad():\n",
    "    tmp_state = torch.randint(0, 1000, (5,))\n",
    "    t_emb = TimeEmbeddingScratch(768, )\n",
    "    t_emb.load_state_dict(model.t_embedder.state_dict())\n",
    "    assert torch.allclose(t_emb(tmp_state), model.t_embedder(tmp_state), )#rtol=1e-6, atol=1e-5)"
   ]
  },
  {
   "cell_type": "code",
   "execution_count": 85,
   "metadata": {},
   "outputs": [],
   "source": [
    "with torch.no_grad():\n",
    "    tmp_state = torch.randint(0, 1000, (10,))\n",
    "    t_emb = TimeEmbeddingScratch(768, )\n",
    "    t_blocks = get_time_blocks(768)\n",
    "    t_emb.load_state_dict(model.t_embedder.state_dict())\n",
    "    t_blocks.load_state_dict(model.t_block.state_dict())\n",
    "    assert torch.allclose(t_blocks(t_emb(tmp_state)), \n",
    "                          model.t_block(model.t_embedder(tmp_state)), )"
   ]
  },
  {
   "cell_type": "markdown",
   "metadata": {},
   "source": [
    "#### Scratch space"
   ]
  },
  {
   "cell_type": "code",
   "execution_count": 43,
   "metadata": {},
   "outputs": [],
   "source": [
    "t_input = torch.arange(1000).to(int)\n",
    "dim = 256 \n",
    "half = dim // 2\n",
    "max_period = 10000\n",
    "device = \"cpu\"\n",
    "freqs = torch.float_power(max_period, -torch.arange(start=0, end=half, dtype=torch.float32, device=device) / half).to(torch.float32)\n",
    "args = t_input[:, None].float() * freqs[None]\n",
    "embedding = torch.cat([torch.cos(args), torch.sin(args)], dim=-1)\n",
    "if dim % 2:\n",
    "    embedding = torch.cat([embedding, torch.zeros_like(embedding[:, :1])], dim=-1)\n",
    "\n"
   ]
  },
  {
   "cell_type": "code",
   "execution_count": 18,
   "metadata": {},
   "outputs": [],
   "source": [
    "import matplotlib.pyplot as plt"
   ]
  },
  {
   "cell_type": "code",
   "execution_count": 16,
   "metadata": {},
   "outputs": [],
   "source": [
    "max_period = 10000\n",
    "half = 768 // 2\n",
    "device = \"cpu\"\n",
    "freqs = torch.exp(\n",
    "        -math.log(max_period) * torch.arange(start=0, end=half, dtype=torch.float32, device=device) / half)"
   ]
  },
  {
   "cell_type": "code",
   "execution_count": 41,
   "metadata": {},
   "outputs": [],
   "source": [
    "freqs_pow = torch.float_power(max_period, -torch.arange(start=0, end=half, dtype=torch.float32, device=device) / half).to(torch.float32)"
   ]
  },
  {
   "cell_type": "code",
   "execution_count": 42,
   "metadata": {},
   "outputs": [
    {
     "data": {
      "image/png": "[encoded data removed]",
      "text/plain": [
       "<Figure size 500x500 with 1 Axes>"
      ]
     },
     "metadata": {},
     "output_type": "display_data"
    }
   ],
   "source": [
    "plt.figure(figsize=(5, 5))\n",
    "plt.plot(freqs.detach().cpu().numpy())\n",
    "plt.plot(freqs_pow.detach().cpu().numpy())\n",
    "plt.yscale(\"log\")\n",
    "plt.show()\n",
    "assert torch.allclose(freqs, freqs_pow)"
   ]
  },
  {
   "cell_type": "code",
   "execution_count": 34,
   "metadata": {},
   "outputs": [
    {
     "data": {
      "image/png": "[encoded data removed]",
      "text/plain": [
       "<Figure size 500x500 with 1 Axes>"
      ]
     },
     "metadata": {},
     "output_type": "display_data"
    },
    {
     "data": {
      "text/plain": [
       "True"
      ]
     },
     "execution_count": 34,
     "metadata": {},
     "output_type": "execute_result"
    }
   ],
   "source": [
    "\n",
    "max_period = 10000\n",
    "half = 768 // 2\n",
    "device = \"cpu\"\n",
    "\n",
    "freq_repr = torch.logspace(\n",
    "    start=0,\n",
    "    end= -1 * (half - 1) / half ,\n",
    "    steps=half,\n",
    "    base=max_period,\n",
    "    dtype=torch.float32,\n",
    "    device=device, \n",
    ")\n",
    "\n",
    "# print(freqs)/\n",
    "plt.figure(figsize=(5, 5))\n",
    "plt.plot(freqs.detach().cpu().numpy())\n",
    "plt.plot(freq_repr.detach().cpu().numpy())\n",
    "plt.yscale(\"log\")\n",
    "plt.show()\n",
    "\n",
    "torch.allclose(freqs, freq_repr)"
   ]
  },
  {
   "cell_type": "markdown",
   "metadata": {},
   "source": [
    "### Caption embedding"
   ]
  },
  {
   "cell_type": "code",
   "execution_count": 107,
   "metadata": {},
   "outputs": [
    {
     "data": {
      "text/plain": [
       "CaptionEmbedder(\n",
       "  (y_proj): Mlp(\n",
       "    (fc1): Linear(in_features=4096, out_features=768, bias=True)\n",
       "    (act): GELU(approximate='tanh')\n",
       "    (drop1): Dropout(p=0, inplace=False)\n",
       "    (norm): Identity()\n",
       "    (fc2): Linear(in_features=768, out_features=768, bias=True)\n",
       "    (drop2): Dropout(p=0, inplace=False)\n",
       "  )\n",
       ")"
      ]
     },
     "execution_count": 107,
     "metadata": {},
     "output_type": "execute_result"
    }
   ],
   "source": [
    "model.y_embedder"
   ]
  },
  {
   "cell_type": "code",
   "execution_count": 124,
   "metadata": {},
   "outputs": [
    {
     "data": {
      "text/plain": [
       "device(type='cpu')"
      ]
     },
     "execution_count": 124,
     "metadata": {},
     "output_type": "execute_result"
    }
   ],
   "source": [
    "model.y_embedder.y_embedding.device"
   ]
  },
  {
   "cell_type": "code",
   "execution_count": 135,
   "metadata": {},
   "outputs": [],
   "source": [
    "\n",
    "\n",
    "y_embedder = CaptionEmbeddingScratch(in_features=4096, hidden_features=768)\n",
    "y_embedder.load_state_dict(model.y_embedder.state_dict())\n",
    "with torch.no_grad():\n",
    "    tmp_state = torch.randn(5, 20, 4096)\n",
    "    assert torch.allclose(y_embedder(tmp_state), model.y_embedder(tmp_state, train=False))"
   ]
  },
  {
   "cell_type": "markdown",
   "metadata": {},
   "source": [
    "### Transformer Block"
   ]
  },
  {
   "cell_type": "code",
   "execution_count": 182,
   "metadata": {},
   "outputs": [
    {
     "data": {
      "text/plain": [
       "PixArtBlock(\n",
       "  (norm1): LayerNorm((768,), eps=1e-06, elementwise_affine=False)\n",
       "  (attn): WindowAttention(\n",
       "    (qkv): Linear(in_features=768, out_features=2304, bias=True)\n",
       "    (q_norm): Identity()\n",
       "    (k_norm): Identity()\n",
       "    (attn_drop): Dropout(p=0.0, inplace=False)\n",
       "    (proj): Linear(in_features=768, out_features=768, bias=True)\n",
       "    (proj_drop): Dropout(p=0.0, inplace=False)\n",
       "  )\n",
       "  (cross_attn): MultiHeadCrossAttention(\n",
       "    (q_linear): Linear(in_features=768, out_features=768, bias=True)\n",
       "    (kv_linear): Linear(in_features=768, out_features=1536, bias=True)\n",
       "    (attn_drop): Dropout(p=0.0, inplace=False)\n",
       "    (proj): Linear(in_features=768, out_features=768, bias=True)\n",
       "    (proj_drop): Dropout(p=0.0, inplace=False)\n",
       "  )\n",
       "  (norm2): LayerNorm((768,), eps=1e-06, elementwise_affine=False)\n",
       "  (mlp): Mlp(\n",
       "    (fc1): Linear(in_features=768, out_features=3072, bias=True)\n",
       "    (act): GELU(approximate='tanh')\n",
       "    (drop1): Dropout(p=0, inplace=False)\n",
       "    (norm): Identity()\n",
       "    (fc2): Linear(in_features=3072, out_features=768, bias=True)\n",
       "    (drop2): Dropout(p=0, inplace=False)\n",
       "  )\n",
       "  (drop_path): Identity()\n",
       ")"
      ]
     },
     "execution_count": 182,
     "metadata": {},
     "output_type": "execute_result"
    }
   ],
   "source": [
    "model.blocks[-1]"
   ]
  },
  {
   "cell_type": "markdown",
   "metadata": {},
   "source": [
    "The `WindowAttention` is not really used, window"
   ]
  },
  {
   "cell_type": "code",
   "execution_count": 8,
   "metadata": {},
   "outputs": [
    {
     "data": {
      "text/plain": [
       "WindowAttention(\n",
       "  (qkv): Linear(in_features=768, out_features=2304, bias=True)\n",
       "  (q_norm): Identity()\n",
       "  (k_norm): Identity()\n",
       "  (attn_drop): Dropout(p=0.0, inplace=False)\n",
       "  (proj): Linear(in_features=768, out_features=768, bias=True)\n",
       "  (proj_drop): Dropout(p=0.0, inplace=False)\n",
       ")"
      ]
     },
     "execution_count": 8,
     "metadata": {},
     "output_type": "execute_result"
    }
   ],
   "source": [
    "model.blocks[-1].attn"
   ]
  },
  {
   "cell_type": "code",
   "execution_count": 9,
   "metadata": {},
   "outputs": [
    {
     "data": {
      "text/plain": [
       "MultiHeadCrossAttention(\n",
       "  (q_linear): Linear(in_features=768, out_features=768, bias=True)\n",
       "  (kv_linear): Linear(in_features=768, out_features=1536, bias=True)\n",
       "  (attn_drop): Dropout(p=0.0, inplace=False)\n",
       "  (proj): Linear(in_features=768, out_features=768, bias=True)\n",
       "  (proj_drop): Dropout(p=0.0, inplace=False)\n",
       ")"
      ]
     },
     "execution_count": 9,
     "metadata": {},
     "output_type": "execute_result"
    }
   ],
   "source": [
    "model.blocks[-1].cross_attn"
   ]
  },
  {
   "cell_type": "code",
   "execution_count": 183,
   "metadata": {},
   "outputs": [
    {
     "data": {
      "text/plain": [
       "Mlp(\n",
       "  (fc1): Linear(in_features=768, out_features=3072, bias=True)\n",
       "  (act): GELU(approximate='tanh')\n",
       "  (drop1): Dropout(p=0, inplace=False)\n",
       "  (norm): Identity()\n",
       "  (fc2): Linear(in_features=3072, out_features=768, bias=True)\n",
       "  (drop2): Dropout(p=0, inplace=False)\n",
       ")"
      ]
     },
     "execution_count": 183,
     "metadata": {},
     "output_type": "execute_result"
    }
   ],
   "source": [
    "model.blocks[-1].mlp"
   ]
  },
  {
   "cell_type": "markdown",
   "metadata": {},
   "source": [
    "### Check MLP output correct"
   ]
  },
  {
   "cell_type": "code",
   "execution_count": null,
   "metadata": {},
   "outputs": [],
   "source": [
    "hidden_size = 768\n",
    "mlp_ratio = 4.0\n",
    "mlp = nn.Sequential(OrderedDict([\n",
    "    (\"fc1\", nn.Linear(hidden_size, int(hidden_size * mlp_ratio), bias=True)),\n",
    "    (\"act\", nn.GELU(approximate='tanh')),\n",
    "    (\"drop1\", nn.Dropout(p=0, inplace=False)),\n",
    "    (\"fc2\", nn.Linear(int(hidden_size * mlp_ratio), hidden_size, bias=True)),\n",
    "    (\"drop2\", nn.Dropout(p=0, inplace=False))\n",
    "]))\n",
    "mlp.load_state_dict(model.blocks[-1].mlp.state_dict())\n",
    "with torch.no_grad():\n",
    "    mlp.cuda()\n",
    "    tmp_state = torch.randn(5, 64, 768).cuda()\n",
    "    mlp_out = mlp(tmp_state)\n",
    "    mlp_out_model = model.blocks[-1].mlp(tmp_state)\n",
    "    assert torch.allclose(mlp_out, mlp_out_model, )"
   ]
  },
  {
   "cell_type": "markdown",
   "metadata": {},
   "source": [
    "### Check attention output correct"
   ]
  },
  {
   "cell_type": "markdown",
   "metadata": {},
   "source": [
    "Forward pass of Transformer block"
   ]
  },
  {
   "cell_type": "code",
   "execution_count": 272,
   "metadata": {},
   "outputs": [
    {
     "data": {
      "text/plain": [
       "WindowAttention(\n",
       "  (qkv): Linear(in_features=768, out_features=2304, bias=True)\n",
       "  (q_norm): Identity()\n",
       "  (k_norm): Identity()\n",
       "  (attn_drop): Dropout(p=0.0, inplace=False)\n",
       "  (proj): Linear(in_features=768, out_features=768, bias=True)\n",
       "  (proj_drop): Dropout(p=0.0, inplace=False)\n",
       ")"
      ]
     },
     "execution_count": 272,
     "metadata": {},
     "output_type": "execute_result"
    }
   ],
   "source": [
    "model.blocks[-1].attn"
   ]
  },
  {
   "cell_type": "code",
   "execution_count": 390,
   "metadata": {},
   "outputs": [],
   "source": [
    "attn_src = AttentionScratch()\n",
    "attn_src.load_state_dict(model.blocks[-1].attn.state_dict())\n",
    "attn_src.cuda()\n",
    "with torch.no_grad():\n",
    "    model.cuda()\n",
    "    tmp_state = torch.randn(5, 64, 768).cuda()\n",
    "    attn_output_src = attn_src(tmp_state)\n",
    "    attn_output_model = model.blocks[-1].attn(tmp_state) \n",
    "    assert torch.allclose(attn_output_src, attn_output_model, ), \"Self Attention output is not exactly the same\" # it's not exactly the same, but seems close enough"
   ]
  },
  {
   "cell_type": "code",
   "execution_count": 367,
   "metadata": {},
   "outputs": [],
   "source": [
    "cross_attn_src = CrossAttentionScratch()\n",
    "cross_attn_src.load_state_dict(model.blocks[-1].cross_attn.state_dict())\n",
    "cross_attn_src.cuda()\n",
    "with torch.no_grad():\n",
    "    tmp_state = torch.randn(5, 64, 768).cuda()\n",
    "    tmp_state_y = torch.randn(5, 20, 768).cuda()\n",
    "    attn_mask = None #torch.randint(0, 2, (5, 20)).cuda()\n",
    "    attn_output_src = cross_attn_src(tmp_state, tmp_state_y, mask=attn_mask)\n",
    "    attn_output_model = model.blocks[-1].cross_attn(tmp_state, tmp_state_y, mask=attn_mask) \n",
    "    assert torch.allclose(attn_output_src, attn_output_model, ), \"Cross Attention output is not exactly the same\" # it's not exactly the same, but seems close enough\n"
   ]
  },
  {
   "cell_type": "code",
   "execution_count": null,
   "metadata": {},
   "outputs": [],
   "source": [
    "attn_mask = torch.zeros(5, 20).cuda().unsqueeze(1).unsqueeze(1)\n",
    "# y = y.squeeze(1).masked_select(attn_mask.unsqueeze(-1) != 0).view(1, -1, x.shape[-1])\n",
    "y_lens = attn_mask.sum(dim=1).tolist()"
   ]
  },
  {
   "cell_type": "code",
   "execution_count": 370,
   "metadata": {},
   "outputs": [],
   "source": [
    "block_idx = 2\n",
    "cross_attn_src = CrossAttentionScratch()\n",
    "cross_attn_src.load_state_dict(model.blocks[block_idx].cross_attn.state_dict())\n",
    "cross_attn_src.cuda()\n",
    "with torch.no_grad():\n",
    "    tmp_state = torch.randn(5, 64, 768).cuda()\n",
    "    tmp_state_y = torch.randn(5, 20, 768).cuda()\n",
    "    attn_mask = torch.zeros(5, 20, dtype=torch.bool).cuda()\n",
    "    attn_mask[:, 0:1] = True\n",
    "    attn_mask[2, 0:4] = True\n",
    "    attn_mask[3, 0:3] = True\n",
    "    # attn_mask = attn_mask.unsqueeze(1).unsqueeze(1)\n",
    "    y_lens = attn_mask.squeeze(1).squeeze(1).sum(dim=1).tolist()\n",
    "    attn_output_src = cross_attn_src(tmp_state, tmp_state_y, mask=attn_mask)\n",
    "    attn_output_model = model.blocks[block_idx].cross_attn(tmp_state, tmp_state_y, mask=y_lens) \n",
    "    assert torch.allclose(attn_output_src, attn_output_model, ) # it's not exactly the same, but seems close enough"
   ]
  },
  {
   "cell_type": "code",
   "execution_count": 361,
   "metadata": {},
   "outputs": [
    {
     "data": {
      "text/plain": [
       "[1, 1, 4, 3, 1]"
      ]
     },
     "execution_count": 361,
     "metadata": {},
     "output_type": "execute_result"
    }
   ],
   "source": [
    "y_lens"
   ]
  },
  {
   "cell_type": "code",
   "execution_count": 362,
   "metadata": {},
   "outputs": [],
   "source": [
    "import xformers\n",
    "attn_bias = xformers.ops.fmha.BlockDiagonalMask.from_seqlens([64] * 5, y_lens)"
   ]
  },
  {
   "cell_type": "code",
   "execution_count": 363,
   "metadata": {},
   "outputs": [
    {
     "data": {
      "text/plain": [
       "BlockDiagonalMask(q_seqinfo=_SeqLenInfo(seqstart=tensor([  0,  64, 128, 192, 256, 320], dtype=torch.int32), max_seqlen=64, min_seqlen=64, seqstart_py=[0, 64, 128, 192, 256, 320]), k_seqinfo=_SeqLenInfo(seqstart=tensor([ 0,  1,  2,  6,  9, 10], dtype=torch.int32), max_seqlen=4, min_seqlen=1, seqstart_py=[0, 1, 2, 6, 9, 10]), _batch_sizes=None)"
      ]
     },
     "execution_count": 363,
     "metadata": {},
     "output_type": "execute_result"
    }
   ],
   "source": [
    "attn_bias"
   ]
  },
  {
   "cell_type": "code",
   "execution_count": 396,
   "metadata": {},
   "outputs": [],
   "source": [
    "model.cuda()\n",
    "block_idx = 1\n",
    "block_src = TransformerBlockScratch().cuda()\n",
    "block_src.load_state_dict(model.blocks[block_idx].state_dict())\n",
    "assert torch.allclose(block_src.scale_shift_table, model.blocks[block_idx].scale_shift_table)\n",
    "with torch.no_grad():\n",
    "    block_src.eval()\n",
    "    model.eval()\n",
    "    tmp_state = torch.randn(7, 64, 768).cuda()\n",
    "    tmp_state_y = torch.randn(7, 20, 768).cuda()\n",
    "    tmp_t = torch.randn(7, 768 * 6).cuda()\n",
    "    attn_mask = torch.zeros(7, 20, dtype=torch.bool).cuda().unsqueeze(1).unsqueeze(1)\n",
    "    attn_mask[:, :, :, 0:1] = True\n",
    "    attn_mask[2, :, :, 0:4] = True\n",
    "    attn_mask[4, :, :, 0:4] = True\n",
    "    y_lens = attn_mask.squeeze(1).squeeze(1).sum(dim=1).tolist()\n",
    "    src_out = block_src(tmp_state, tmp_state_y, tmp_t, mask=attn_mask)\n",
    "    model_out = model.blocks[block_idx](tmp_state, tmp_state_y, tmp_t, mask=y_lens)\n",
    "    assert torch.allclose(src_out, model_out, )\n"
   ]
  },
  {
   "cell_type": "markdown",
   "metadata": {},
   "source": [
    "#### Scratch"
   ]
  },
  {
   "cell_type": "markdown",
   "metadata": {},
   "source": [
    "Checking gating parameters correct"
   ]
  },
  {
   "cell_type": "code",
   "execution_count": 388,
   "metadata": {},
   "outputs": [
    {
     "data": {
      "text/plain": [
       "False"
      ]
     },
     "execution_count": 388,
     "metadata": {},
     "output_type": "execute_result"
    }
   ],
   "source": [
    "state_tmp = torch.randn(7, 64, 768).cuda()\n",
    "torch.allclose(model.blocks[block_idx].attn(state_tmp), block_src.attn(state_tmp))\n",
    "# model.blocks[block_idx].attn(state_tmp)\n",
    "# block_src.attn(state_tmp)"
   ]
  },
  {
   "cell_type": "code",
   "execution_count": 385,
   "metadata": {},
   "outputs": [
    {
     "data": {
      "text/plain": [
       "True"
      ]
     },
     "execution_count": 385,
     "metadata": {},
     "output_type": "execute_result"
    }
   ],
   "source": [
    "shift_msa_src, scale_msa_src, gate_msa_src, shift_mlp_src, scale_mlp_src, gate_mlp_src = (block_src.scale_shift_table[None] + tmp_t.reshape(7, 6, -1)).chunk(6, dim=1)\n",
    "shift_msa_model, scale_msa_model, gate_msa_model, shift_mlp_model, scale_mlp_model, gate_mlp_model = (model.blocks[block_idx].scale_shift_table[None] + tmp_t.reshape(7, 6, -1)).chunk(6, dim=1)\n",
    " \n",
    "state_src = (t2i_modulate(block_src.norm1(tmp_state), shift_msa_src, scale_msa_src))\n",
    "state_model = (t2i_modulate(model.blocks[block_idx].norm1(tmp_state), shift_msa_model, scale_msa_model))\n",
    "# this is true, \n",
    "# this is not true, the attention is not the same\n",
    "# state_src = block_src.attn(t2i_modulate(block_src.norm1(tmp_state), shift_msa_src, scale_msa_src))\n",
    "# state_model = model.blocks[block_idx].attn(t2i_modulate(model.blocks[block_idx].norm1(tmp_state), shift_msa_model, scale_msa_model))\n",
    "torch.allclose(state_src, state_model)"
   ]
  },
  {
   "cell_type": "code",
   "execution_count": 380,
   "metadata": {},
   "outputs": [],
   "source": [
    "gating_params_src = (block_src.scale_shift_table[None] + tmp_t.reshape(7, 6, -1)).chunk(6, dim=1)\n",
    "gating_params_model = (model.blocks[block_idx].scale_shift_table[None] + tmp_t.reshape(7, 6, -1)).chunk(6, dim=1)\n",
    "assert all(torch.allclose(gating_params_src, gating_params_model) for gating_params_src, gating_params_model in zip(gating_params_src, gating_params_model))\n"
   ]
  },
  {
   "cell_type": "code",
   "execution_count": 381,
   "metadata": {},
   "outputs": [
    {
     "data": {
      "text/plain": [
       "(torch.Size([7, 64, 768]), torch.Size([7, 64, 768]))"
      ]
     },
     "execution_count": 381,
     "metadata": {},
     "output_type": "execute_result"
    }
   ],
   "source": [
    "src_out.shape, model_out.shape"
   ]
  },
  {
   "cell_type": "markdown",
   "metadata": {},
   "source": [
    "### Projection output"
   ]
  },
  {
   "cell_type": "code",
   "execution_count": 291,
   "metadata": {},
   "outputs": [
    {
     "data": {
      "text/plain": [
       "T2IFinalLayer(\n",
       "  (norm_final): LayerNorm((768,), eps=1e-06, elementwise_affine=False)\n",
       "  (linear): Linear(in_features=768, out_features=32, bias=True)\n",
       ")"
      ]
     },
     "execution_count": 291,
     "metadata": {},
     "output_type": "execute_result"
    }
   ],
   "source": [
    "model.final_layer"
   ]
  },
  {
   "cell_type": "code",
   "execution_count": 293,
   "metadata": {},
   "outputs": [
    {
     "data": {
      "text/plain": [
       "torch.Size([2, 768])"
      ]
     },
     "execution_count": 293,
     "metadata": {},
     "output_type": "execute_result"
    }
   ],
   "source": [
    "model.final_layer.scale_shift_table.shape"
   ]
  },
  {
   "cell_type": "code",
   "execution_count": 296,
   "metadata": {},
   "outputs": [],
   "source": [
    "\n",
    "    \n",
    "final_layer_src = FinalLayerScratch().cuda()\n",
    "final_layer_src.load_state_dict(model.final_layer.state_dict())\n",
    "with torch.no_grad():\n",
    "    tmp_state = torch.randn(5, 64, 768).cuda()\n",
    "    tmp_t = torch.randn(5, 768).cuda()\n",
    "    final_out_src = final_layer_src(tmp_state, tmp_t)\n",
    "    final_out_model = model.final_layer(tmp_state, tmp_t)\n",
    "    assert torch.allclose(final_out_src, final_out_model, )"
   ]
  },
  {
   "cell_type": "code",
   "execution_count": 308,
   "metadata": {},
   "outputs": [],
   "source": [
    "\n",
    "\n",
    "hidden_tmp = torch.randn(5, 64, 32)\n",
    "assert torch.allclose(unpatchify(hidden_tmp), model.unpatchify(hidden_tmp))"
   ]
  },
  {
   "cell_type": "markdown",
   "metadata": {},
   "source": [
    "## Putting it all together"
   ]
  },
  {
   "cell_type": "markdown",
   "metadata": {},
   "source": [
    "### Loading and initializing"
   ]
  },
  {
   "cell_type": "code",
   "execution_count": 397,
   "metadata": {},
   "outputs": [
    {
     "data": {
      "text/plain": [
       "<All keys matched successfully>"
      ]
     },
     "execution_count": 397,
     "metadata": {},
     "output_type": "execute_result"
    }
   ],
   "source": [
    "pos_embed = get_2d_sincos_pos_embed(768, (8, 8))\n",
    "x_embedder = PatchEmbeddingScratch(in_channels=4, out_channels=768, patch_size=2)\n",
    "t_embedder = TimeEmbeddingScratch(768, freq_embedding_size=256)\n",
    "t_blocks = get_time_blocks(768)\n",
    "y_embedder = CaptionEmbeddingScratch(in_features=4096, hidden_features=768)\n",
    "final_layer = FinalLayerScratch(hidden_size=768, out_channel=32)\n",
    "\n",
    "x_embedder.load_state_dict(model.x_embedder.state_dict())\n",
    "t_embedder.load_state_dict(model.t_embedder.state_dict())\n",
    "t_blocks.load_state_dict(model.t_block.state_dict())\n",
    "y_embedder.load_state_dict(model.y_embedder.state_dict())\n",
    "final_layer.load_state_dict(model.final_layer.state_dict())\n",
    "\n",
    "transformer_blocks = nn.ModuleList([TransformerBlockScratch().cuda() for _ in range(12)])\n",
    "transformer_blocks.load_state_dict(model.blocks.state_dict())"
   ]
  },
  {
   "cell_type": "code",
   "execution_count": 398,
   "metadata": {},
   "outputs": [],
   "source": [
    "device = \"cuda\"\n",
    "for module in [x_embedder, t_embedder, t_blocks, y_embedder, final_layer, transformer_blocks]:\n",
    "    module.eval()\n",
    "    module.requires_grad = False\n",
    "    module.to(device)"
   ]
  },
  {
   "cell_type": "markdown",
   "metadata": {},
   "source": [
    "### Forward pass"
   ]
  },
  {
   "cell_type": "code",
   "execution_count": 406,
   "metadata": {},
   "outputs": [
    {
     "name": "stdout",
     "output_type": "stream",
     "text": [
      "X input shape: torch.Size([5, 4, 16, 16])\n",
      "Pos embed shape: torch.Size([1, 64, 768])\n",
      "T embed shape: torch.Size([5, 768])\n",
      "T blocks out shape: torch.Size([5, 4608])\n",
      "Y embed shape: torch.Size([5, 20, 768])\n"
     ]
    },
    {
     "data": {
      "text/plain": [
       "torch.Size([5, 8, 16, 16])"
      ]
     },
     "execution_count": 406,
     "metadata": {},
     "output_type": "execute_result"
    }
   ],
   "source": [
    "# Forward pass \n",
    "x_tmp = torch.randn(5, 4, 16, 16).to(device)\n",
    "t_tmp = torch.randint(0, 1000, (5,)).to(device)\n",
    "y_tmp = torch.randn(5, 20, 4096).to(device)\n",
    "pos_embed = get_2d_sincos_pos_embed(768, (8, 8))\n",
    "pos_embed = torch.tensor(pos_embed).unsqueeze(0).to(torch.float32).to(device)\n",
    "attn_mask = torch.zeros(5, 20, dtype=torch.bool).to(device)\n",
    "attn_mask[:, 0:1] = True\n",
    "attn_mask[2, 0:4] = True\n",
    "attn_mask[4, 0:4] = True\n",
    "\n",
    "x_embed = x_embedder(x_tmp) # (B, T, D)\n",
    "x_embed = x_embed + pos_embed # (B, T, D)\n",
    "t_embed = t_embedder(t_tmp) # (B, D)\n",
    "t_blocks_out = t_blocks(t_embed) # (B, D * 6)\n",
    "y_embed = y_embedder(y_tmp, train=False) # (B, 1, L, D)\n",
    "print(\"X input shape:\", x_tmp.shape)\n",
    "print(\"Pos embed shape:\", pos_embed.shape)\n",
    "print(\"T embed shape:\", t_embed.shape)\n",
    "print(\"T blocks out shape:\", t_blocks_out.shape)\n",
    "print(\"Y embed shape:\", y_embed.shape)\n",
    "\n",
    "# go through the transformer blocks\n",
    "for block in transformer_blocks:\n",
    "    x_embed = block(x_embed, y_embed, t_blocks_out, mask=attn_mask)\n",
    "\n",
    "final_out = final_layer(x_embed, t_embed)\n",
    "final_out = unpatchify(final_out)\n",
    "final_out.shape"
   ]
  },
  {
   "cell_type": "code",
   "execution_count": 405,
   "metadata": {},
   "outputs": [
    {
     "name": "stderr",
     "output_type": "stream",
     "text": [
      "/n/home12/binxuwang/.conda/envs/torch2/lib/python3.10/site-packages/torch/utils/checkpoint.py:464: UserWarning: torch.utils.checkpoint: the use_reentrant parameter should be passed explicitly. In version 2.4 we will raise an exception if use_reentrant is not passed. use_reentrant=False is recommended, but if you need to preserve the current default behavior, you can pass use_reentrant=True. Refer to docs for more details on the differences between the two variants.\n",
      "  warnings.warn(\n"
     ]
    }
   ],
   "source": [
    "final_out_model = model.forward(x_tmp, t_tmp, y_tmp, mask=attn_mask)\n",
    "assert torch.allclose(final_out, final_out_model, )"
   ]
  },
  {
   "cell_type": "code",
   "execution_count": null,
   "metadata": {},
   "outputs": [],
   "source": []
  }
 ],
 "metadata": {
  "kernelspec": {
   "display_name": "torch2",
   "language": "python",
   "name": "python3"
  },
  "language_info": {
   "codemirror_mode": {
    "name": "ipython",
    "version": 3
   },
   "file_extension": ".py",
   "mimetype": "text/x-python",
   "name": "python",
   "nbconvert_exporter": "python",
   "pygments_lexer": "ipython3",
   "version": "3.10.14"
  }
 },
 "nbformat": 4,
 "nbformat_minor": 2
}
