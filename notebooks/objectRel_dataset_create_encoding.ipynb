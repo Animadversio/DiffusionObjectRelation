{
 "cells": [
  {
   "cell_type": "markdown",
   "metadata": {},
   "source": [
    "### Define dataset"
   ]
  },
  {
   "cell_type": "code",
   "execution_count": 3,
   "metadata": {},
   "outputs": [],
   "source": [
    "import torch\n",
    "from torch.utils.data import Dataset, DataLoader\n",
    "from torchvision import transforms\n",
    "import numpy as np\n",
    "from PIL import Image, ImageDraw\n",
    "import random\n",
    "import matplotlib.pyplot as plt\n",
    "\n",
    "class ShapesDataset(Dataset):\n",
    "    def __init__(self, num_images, resolution=64, radius=8, transform=None):\n",
    "        \"\"\"\n",
    "        Initializes the dataset.\n",
    "\n",
    "        Parameters:\n",
    "        - num_images: Integer specifying the number of images in the dataset.\n",
    "        - transform: Optional torchvision transforms to apply to the images.\n",
    "        \"\"\"\n",
    "        self.num_images = num_images\n",
    "        self.shapes = ['triangle', 'circle', 'square']\n",
    "        self.canvas_size = resolution\n",
    "        self.transform = transform\n",
    "        self.shape_to_idx = {'triangle': 0, 'circle': 1, 'square': 2}\n",
    "        self.idx_to_shape = {0: 'triangle', 1: 'circle', 2: 'square'}\n",
    "        self.radius = radius\n",
    "\n",
    "        # Spatial relationship phrases for variety\n",
    "        self.spatial_phrases = {\n",
    "            'upper_left': ['to the upper left of', 'above and to the left of', 'diagonally up and left from'],\n",
    "            'upper_right': ['to the upper right of', 'above and to the right of', 'diagonally up and right from'],\n",
    "            'lower_left': ['to the lower left of', 'below and to the left of', 'diagonally down and left from'],\n",
    "            'lower_right': ['to the lower right of', 'below and to the right of', 'diagonally down and right from'],\n",
    "            'above': ['above', 'directly above', 'higher than'],\n",
    "            'below': ['below', 'directly below', 'lower than'],\n",
    "            'left': ['to the left of', 'left of'],\n",
    "            'right': ['to the right of', 'right of']\n",
    "        }\n",
    "\n",
    "    def generate_caption(self, shape1_idx, shape2_idx, loc1, loc2, color1=None, color2=None):\n",
    "        \"\"\"\n",
    "        Generates a natural language caption describing the spatial relationship between two shapes.\n",
    "        \n",
    "        Parameters:\n",
    "        - shape1_idx: Index of first shape\n",
    "        - shape2_idx: Index of second shape\n",
    "        - loc1: Coordinates of first shape (x, y)\n",
    "        - loc2: Coordinates of second shape (x, y)\n",
    "        \n",
    "        Returns:\n",
    "        - string: A natural language caption describing the scene\n",
    "        \"\"\"\n",
    "        # Get shape names\n",
    "        shape1_name = self.idx_to_shape[shape1_idx]\n",
    "        shape2_name = self.idx_to_shape[shape2_idx]\n",
    "        \n",
    "        # Get coordinates\n",
    "        x1, y1 = loc1\n",
    "        x2, y2 = loc2\n",
    "        \n",
    "        # Calculate position differences\n",
    "        dx = x1 - x2  # Positive means shape1 is to the right\n",
    "        dy = y1 - y2  # Positive means shape1 is lower\n",
    "        \n",
    "        # Define thresholds for \"directly\" above/below/left/right\n",
    "        threshold = 5  # pixels\n",
    "        \n",
    "        # Determine spatial relationship\n",
    "        if abs(dx) <= threshold:  # Roughly aligned vertically\n",
    "            if dy < 0:\n",
    "                relation = random.choice(self.spatial_phrases['above'])\n",
    "            else:\n",
    "                relation = random.choice(self.spatial_phrases['below'])\n",
    "        elif abs(dy) <= threshold:  # Roughly aligned horizontally\n",
    "            if dx < 0:\n",
    "                relation = random.choice(self.spatial_phrases['left'])\n",
    "            else:\n",
    "                relation = random.choice(self.spatial_phrases['right'])\n",
    "        else:  # Diagonal relationship\n",
    "            if dx < 0 and dy < 0:\n",
    "                relation = random.choice(self.spatial_phrases['upper_left'])\n",
    "            elif dx < 0 and dy > 0:\n",
    "                relation = random.choice(self.spatial_phrases['lower_left'])\n",
    "            elif dx > 0 and dy < 0:\n",
    "                relation = random.choice(self.spatial_phrases['upper_right'])\n",
    "            else:  # dx > 0 and dy > 0\n",
    "                relation = random.choice(self.spatial_phrases['lower_right'])\n",
    "        if color1 is not None and color2 is not None:\n",
    "            shape1_qualifier = random.choice([color1, \"\"])\n",
    "            shape2_qualifier = random.choice([color2, \"\"])\n",
    "            caption = f\"{shape1_qualifier} {shape1_name} is {relation} {shape2_qualifier} {shape2_name}\"\n",
    "        else:\n",
    "            # Construct caption\n",
    "            caption = f\"{shape1_name} is {relation} {shape2_name}\"\n",
    "        return caption\n",
    "\n",
    "    def __len__(self):\n",
    "        return self.num_images\n",
    "\n",
    "    def draw_shape_on_image(self, img, shape, location, color='black'):\n",
    "        \"\"\"\n",
    "        Draws a specified shape at a given location on the provided image.\n",
    "\n",
    "        Parameters:\n",
    "        - img: PIL Image object to draw on.\n",
    "        - shape: String specifying the shape ('triangle', 'circle', 'square').\n",
    "        - location: Tuple (x, y) specifying the location of the shape's center.\n",
    "\n",
    "        Returns:\n",
    "        - img: PIL Image object with the shape drawn on it.\n",
    "        \"\"\"\n",
    "        draw = ImageDraw.Draw(img)\n",
    "        x, y = location\n",
    "\n",
    "        if shape == 'circle':\n",
    "            r = self.radius  # Radius\n",
    "            leftUpPoint = (x - r, y - r)\n",
    "            rightDownPoint = (x + r, y + r)\n",
    "            draw.ellipse([leftUpPoint, rightDownPoint], fill=color)\n",
    "\n",
    "        elif shape == 'square':\n",
    "            s = self.radius * 2  # Side length\n",
    "            leftUpPoint = (x - s // 2, y - s // 2)\n",
    "            rightDownPoint = (x + s // 2, y + s // 2)\n",
    "            draw.rectangle([leftUpPoint, rightDownPoint], fill=color)\n",
    "\n",
    "        elif shape == 'triangle':\n",
    "            s = self.radius * 2  # Side length\n",
    "            h = s * (3 ** 0.5) / 2  # Height of the equilateral triangle\n",
    "            point1 = (x, y - h / 3)\n",
    "            point2 = (x - s / 2, y + h * 2 / 3)\n",
    "            point3 = (x + s / 2, y + h * 2 / 3)\n",
    "            draw.polygon([point1, point2, point3], fill=color)\n",
    "\n",
    "        else:\n",
    "            raise ValueError(\"Shape must be 'triangle', 'circle', or 'square'.\")\n",
    "\n",
    "        return img\n",
    "\n",
    "    def __getitem__(self, idx):\n",
    "        \"\"\"\n",
    "        Generates one image and its labels.\n",
    "\n",
    "        Parameters:\n",
    "        - idx: Index of the image (not used as images are generated on-the-fly).\n",
    "\n",
    "        Returns:\n",
    "        - img: Tensor representing the image.\n",
    "        - labels: Dictionary containing the shapes and locations of the objects.\n",
    "        \"\"\"\n",
    "        # Create a blank image\n",
    "        img = Image.new('RGB', (self.canvas_size, self.canvas_size), 'gray')\n",
    "\n",
    "        # Randomly select two shapes, make sure they are different\n",
    "        shape1 = random.choice(self.shapes)\n",
    "        while True:\n",
    "            shape2 = random.choice(self.shapes)\n",
    "            if shape1 != shape2:\n",
    "                break\n",
    "\n",
    "        # Randomly select locations\n",
    "        x1 = random.randint(self.radius + 1, self.canvas_size - self.radius - 1)\n",
    "        y1 = random.randint(self.radius + 1, self.canvas_size - self.radius - 1)\n",
    "        x2 = random.randint(self.radius + 1, self.canvas_size - self.radius - 1)\n",
    "        y2 = random.randint(self.radius + 1, self.canvas_size - self.radius - 1)\n",
    "\n",
    "        # Randomly decide drawing order to allow overlapping\n",
    "        if random.random() < 0.5:\n",
    "            img = self.draw_shape_on_image(img, shape1, (x1, y1), color=\"red\")\n",
    "            img = self.draw_shape_on_image(img, shape2, (x2, y2), color=\"blue\")\n",
    "            shapes_order = [shape1, shape2]\n",
    "            colors_order = [\"red\", \"blue\"]\n",
    "            locations_order = [(x1, y1), (x2, y2)]\n",
    "        else:\n",
    "            img = self.draw_shape_on_image(img, shape2, (x2, y2), color=\"blue\")\n",
    "            img = self.draw_shape_on_image(img, shape1, (x1, y1), color=\"red\")\n",
    "            shapes_order = [shape2, shape1]\n",
    "            colors_order = [\"blue\", \"red\"]\n",
    "            locations_order = [(x2, y2), (x1, y1)]\n",
    "\n",
    "        # Apply transforms if any\n",
    "        if self.transform:\n",
    "            img = self.transform(img)\n",
    "        else:\n",
    "            img = transforms.ToTensor()(img)\n",
    "\n",
    "        # Encode labels and generate caption\n",
    "        shape1_idx = self.shape_to_idx[shapes_order[0]]\n",
    "        shape2_idx = self.shape_to_idx[shapes_order[1]]\n",
    "        location1 = torch.tensor(locations_order[0], dtype=torch.float32)\n",
    "        location2 = torch.tensor(locations_order[1], dtype=torch.float32)\n",
    "        \n",
    "        caption = self.generate_caption(shape1_idx, shape2_idx, locations_order[0], locations_order[1], \n",
    "                                        colors_order[0], colors_order[1])\n",
    "        labels = {\n",
    "            'shape1': shape1_idx,\n",
    "            'location1': location1,\n",
    "            'shape2': shape2_idx,\n",
    "            'location2': location2,\n",
    "            'caption': caption\n",
    "        }\n",
    "        return img, labels\n"
   ]
  },
  {
   "cell_type": "code",
   "execution_count": 4,
   "metadata": {},
   "outputs": [
    {
     "name": "stdout",
     "output_type": "stream",
     "text": [
      "Images batch shape: torch.Size([16, 3, 64, 64])\n",
      "Labels batch: {'shape1': tensor([0, 0, 2, 0, 0, 1, 1, 2, 2, 1, 2, 1, 2, 0, 0, 2]), 'location1': tensor([[20., 36.],\n",
      "        [12., 38.],\n",
      "        [14., 17.],\n",
      "        [19., 17.],\n",
      "        [48., 27.],\n",
      "        [33., 46.],\n",
      "        [30., 29.],\n",
      "        [33., 51.],\n",
      "        [20., 24.],\n",
      "        [54., 22.],\n",
      "        [14., 44.],\n",
      "        [21., 52.],\n",
      "        [38., 17.],\n",
      "        [51., 10.],\n",
      "        [24., 20.],\n",
      "        [26., 11.]]), 'shape2': tensor([1, 2, 1, 2, 1, 2, 0, 1, 1, 0, 1, 2, 1, 2, 1, 1]), 'location2': tensor([[39., 50.],\n",
      "        [54., 28.],\n",
      "        [18., 20.],\n",
      "        [12., 11.],\n",
      "        [38., 48.],\n",
      "        [14., 40.],\n",
      "        [11., 16.],\n",
      "        [47., 23.],\n",
      "        [34., 11.],\n",
      "        [47., 23.],\n",
      "        [19., 52.],\n",
      "        [44., 31.],\n",
      "        [48., 42.],\n",
      "        [29., 55.],\n",
      "        [43., 19.],\n",
      "        [40., 11.]]), 'caption': ['blue triangle is diagonally up and left from red circle', 'blue triangle is to the lower left of  square', 'red square is above  circle', ' triangle is below and to the right of red square', ' triangle is above and to the right of red circle', ' circle is below and to the right of red square', ' circle is diagonally down and right from red triangle', 'blue square is diagonally down and left from  circle', 'blue square is to the lower left of red circle', 'red circle is to the right of  triangle', ' square is directly above blue circle', 'blue circle is to the lower left of red square', 'red square is diagonally up and left from  circle', 'blue triangle is above and to the right of red square', 'blue triangle is to the left of red circle', 'red square is to the left of  circle']}\n",
      "Sample of batch captions:\n",
      "Image 0: blue triangle is diagonally up and left from red circle\n",
      "Image 1: blue triangle is to the lower left of  square\n",
      "Image 2: red square is above  circle\n"
     ]
    },
    {
     "data": {
      "image/png": "[encoded data removed]",
      "text/plain": [
       "<Figure size 1200x1200 with 4 Axes>"
      ]
     },
     "metadata": {},
     "output_type": "display_data"
    }
   ],
   "source": [
    "# Example usage:\n",
    "if __name__ == '__main__':\n",
    "    # Define any transforms (optional)\n",
    "    transform = transforms.Compose([\n",
    "        transforms.ToTensor(),\n",
    "        # Add more transforms if needed\n",
    "    ])\n",
    "    # Create the dataset\n",
    "    dataset = ShapesDataset(num_images=1000, transform=transform)\n",
    "    # Create a DataLoader\n",
    "    dataloader = DataLoader(dataset, batch_size=16, shuffle=True)\n",
    "    # Iterate over the DataLoader\n",
    "    for images, labels in dataloader:\n",
    "        print(f\"Images batch shape: {images.size()}\")\n",
    "        print(f\"Labels batch: {labels}\")\n",
    "        print(\"Sample of batch captions:\")\n",
    "        # Print first 3 captions from batch\n",
    "        for i in range(min(3, len(images))):\n",
    "            print(f\"Image {i}: {labels['caption'][i]}\")\n",
    "        break\n",
    "\n",
    "    # Display multiple images with captions\n",
    "    fig, axes = plt.subplots(2, 2, figsize=(12, 12))\n",
    "    axes = axes.ravel()\n",
    "\n",
    "    for i in range(4):\n",
    "        img, lbl = dataset[i]\n",
    "        img_np = img.permute(1, 2, 0).numpy()\n",
    "        \n",
    "        # Plot image\n",
    "        axes[i].imshow(img_np)\n",
    "        axes[i].set_title(f\"{lbl['caption']}\", fontsize=10, wrap=True)\n",
    "        axes[i].axis('off')\n",
    "\n",
    "    plt.tight_layout()\n",
    "    plt.show()"
   ]
  },
  {
   "cell_type": "markdown",
   "metadata": {},
   "source": [
    "### Make a pixart trainable dataset"
   ]
  },
  {
   "cell_type": "code",
   "execution_count": 5,
   "metadata": {},
   "outputs": [
    {
     "data": {
      "application/vnd.jupyter.widget-view+json": {
       "model_id": "58940c73a1ed4effab547542694a353d",
       "version_major": 2,
       "version_minor": 0
      },
      "text/plain": [
       "0it [00:00, ?it/s]"
      ]
     },
     "metadata": {},
     "output_type": "display_data"
    }
   ],
   "source": [
    "import os\n",
    "from tqdm.notebook import tqdm\n",
    "from datasets import load_dataset\n",
    "import json\n",
    "from os.path import join\n",
    "transform = transforms.Compose([\n",
    "    lambda x: x.convert(\"RGB\"),\n",
    "    # Add more transforms if needed\n",
    "])\n",
    "resolution = 128\n",
    "dataset = ShapesDataset(num_images=10000, resolution=resolution, radius=16,\n",
    "                        transform=transform)\n",
    "\n",
    "root_dir = \"/n/holylfs06/LABS/kempner_fellow_binxuwang/Users/binxuwang/DL_Projects/PixArt/objectRel_pilot2\"\n",
    "images_dir = \"images\"\n",
    "captions_dir = \"captions\"\n",
    "\n",
    "images_dir_absolute = join(root_dir, images_dir)\n",
    "captions_dir_absolute = join(root_dir, captions_dir)\n",
    "\n",
    "if not os.path.exists(root_dir):\n",
    "    os.makedirs(join(root_dir, images_dir))\n",
    "\n",
    "if not os.path.exists(join(root_dir, images_dir)):\n",
    "    os.makedirs(join(root_dir, images_dir))\n",
    "if not os.path.exists(join(root_dir, captions_dir)):\n",
    "    os.makedirs(join(root_dir, captions_dir))\n",
    "\n",
    "image_format = \"png\"\n",
    "json_name = \"partition/data_info.json\"\n",
    "if not os.path.exists(join(root_dir, \"partition\")):\n",
    "    os.makedirs(join(root_dir, \"partition\"))\n",
    "\n",
    "absolute_json_name = join(root_dir, json_name)\n",
    "data_info = []\n",
    "\n",
    "for order, (image, labels) in tqdm(enumerate(dataset)): \n",
    "    if order >= 10000:\n",
    "        break\n",
    "    image = image\n",
    "    image.save(f\"{images_dir_absolute}/{order}.{image_format}\")\n",
    "    with open(f\"{captions_dir_absolute}/{order}.txt\", \"w\") as text_file:\n",
    "        text_file.write(labels[\"caption\"])\n",
    "    \n",
    "    width, height = resolution, resolution\n",
    "    ratio = 1\n",
    "    data_info.append({\n",
    "        \"height\": height,\n",
    "        \"width\": width,\n",
    "        \"ratio\": ratio,\n",
    "        \"path\": f\"{order}.{image_format}\", # images/ # if there is images/ in the path it will cause error in InternalData.py L55, L56. \n",
    "        \"prompt\": labels[\"caption\"],\n",
    "    })        \n",
    "\n",
    "with open(absolute_json_name, \"w\") as json_file:\n",
    "    json.dump(data_info, json_file)"
   ]
  },
  {
   "cell_type": "code",
   "execution_count": 11,
   "metadata": {},
   "outputs": [],
   "source": [
    "with open(absolute_json_name, \"w\") as json_file:\n",
    "    json.dump(data_info, json_file)"
   ]
  },
  {
   "cell_type": "code",
   "execution_count": 12,
   "metadata": {},
   "outputs": [
    {
     "data": {
      "text/plain": [
       "'/n/holylfs06/LABS/kempner_fellow_binxuwang/Users/binxuwang/DL_Projects/PixArt/objectRel_pilot/partition/data_info.json'"
      ]
     },
     "execution_count": 12,
     "metadata": {},
     "output_type": "execute_result"
    }
   ],
   "source": [
    "absolute_json_name"
   ]
  },
  {
   "cell_type": "markdown",
   "metadata": {},
   "source": [
    "## Extract features"
   ]
  },
  {
   "cell_type": "code",
   "execution_count": 2,
   "metadata": {},
   "outputs": [
    {
     "name": "stdout",
     "output_type": "stream",
     "text": [
      "/n/home12/binxuwang/Github/DiffusionObjectRelation/PixArt-alpha\n",
      "/n/home12/binxuwang/.conda/envs/torch2/lib/python3.10/site-packages/mmcv/__init__.py:20: UserWarning: On January 1, 2023, MMCV will release v2.0.0, in which it will remove components related to the training process and add a data transformation module. In addition, it will rename the package names mmcv to mmcv-lite and mmcv-full to mmcv. See https://github.com/open-mmlab/mmcv/blob/master/docs/en/compatibility.md for more details.\n",
      "  warnings.warn(\n",
      "/n/home12/binxuwang/.conda/envs/torch2/lib/python3.10/site-packages/transformers/utils/hub.py:127: FutureWarning: Using `TRANSFORMERS_CACHE` is deprecated and will be removed in v5 of Transformers. Use `HF_HOME` instead.\n",
      "  warnings.warn(\n",
      "/n/holylfs06/LABS/kempner_fellow_binxuwang/Users/binxuwang/DL_Projects/PixArt/output/pretrained_models/t5_ckpts/t5-v1_1-xxl\n",
      "You are using the default legacy behaviour of the <class 'transformers.models.t5.tokenization_t5.T5Tokenizer'>. This is expected, and simply means that the `legacy` (previous) behavior will be used so nothing changes for you. If you want to use the new behaviour, set `legacy=False`. This should only be set if you understand what it means, and thoroughly read the reason why this was added as explained in https://github.com/huggingface/transformers/pull/24565\n",
      "/n/home12/binxuwang/.conda/envs/torch2/lib/python3.10/site-packages/transformers/tokenization_utils_base.py:1601: FutureWarning: `clean_up_tokenization_spaces` was not set. It will be set to `True` by default. This behavior will be depracted in transformers v4.45, and will be then set to `False` by default. For more details check this issue: https://github.com/huggingface/transformers/issues/31884\n",
      "  warnings.warn(\n",
      "Loading checkpoint shards: 100%|██████████████████| 2/2 [00:19<00:00,  9.70s/it]\n",
      "100%|█████████████████████████████████| 10000/10000 [00:00<00:00, 946410.94it/s]\n",
      "Extracting Single Image Resolution 128\n",
      "An error occurred while trying to fetch /n/holylfs06/LABS/kempner_fellow_binxuwang/Users/binxuwang/DL_Projects/PixArt/output/pretrained_models/sd-vae-ft-ema: Error no file named diffusion_pytorch_model.safetensors found in directory /n/holylfs06/LABS/kempner_fellow_binxuwang/Users/binxuwang/DL_Projects/PixArt/output/pretrained_models/sd-vae-ft-ema.\n",
      "Defaulting to unsafe serialization. Pass `allow_pickle=False` to raise an error instead.\n",
      "100%|███████████████████████████████████| 10000/10000 [00:01<00:00, 5921.90it/s]\n"
     ]
    }
   ],
   "source": [
    "%cd ../PixArt-alpha\n",
    "!python ~/Github/DiffusionObjectRelation/PixArt-alpha/tools/extract_features.py \\\n",
    "    --img_size 128 \\\n",
    "    --max_tokens 20 \\\n",
    "    --dataset_root $STORE_DIR\"/DL_Projects/PixArt/objectRel_pilot2\" \\\n",
    "    --json_path $STORE_DIR\"/DL_Projects/PixArt/objectRel_pilot2/partition/data_info.json\" \\\n",
    "    --t5_save_root $STORE_DIR\"/DL_Projects/PixArt/objectRel_pilot2/caption_feature_wmask\" \\\n",
    "    --vae_save_root $STORE_DIR\"/DL_Projects/PixArt/objectRel_pilot2/img_vae_features\" \\\n",
    "    --pretrained_models_dir $STORE_DIR\"/DL_Projects/PixArt/output/pretrained_models\""
   ]
  },
  {
   "cell_type": "code",
   "execution_count": 11,
   "metadata": {},
   "outputs": [
    {
     "name": "stdout",
     "output_type": "stream",
     "text": [
      "2.4G\t/n/holylfs06/LABS/kempner_fellow_binxuwang/Users/binxuwang/DL_Projects/PixArt/objectRel_pilot2/caption_feature_wmask\n",
      "40M\t/n/holylfs06/LABS/kempner_fellow_binxuwang/Users/binxuwang/DL_Projects/PixArt/objectRel_pilot2/captions\n",
      "40M\t/n/holylfs06/LABS/kempner_fellow_binxuwang/Users/binxuwang/DL_Projects/PixArt/objectRel_pilot2/images\n",
      "118M\t/n/holylfs06/LABS/kempner_fellow_binxuwang/Users/binxuwang/DL_Projects/PixArt/objectRel_pilot2/img_vae_features_128resolution\n",
      "1.2M\t/n/holylfs06/LABS/kempner_fellow_binxuwang/Users/binxuwang/DL_Projects/PixArt/objectRel_pilot2/partition\n"
     ]
    }
   ],
   "source": [
    "!du -sh $STORE_DIR/DL_Projects/PixArt/objectRel_pilot2/*"
   ]
  },
  {
   "cell_type": "code",
   "execution_count": 14,
   "metadata": {},
   "outputs": [
    {
     "name": "stdout",
     "output_type": "stream",
     "text": [
      "/n/home12/binxuwang/.conda/envs/torch2/lib/python3.10/site-packages/mmcv/__init__.py:20: UserWarning: On January 1, 2023, MMCV will release v2.0.0, in which it will remove components related to the training process and add a data transformation module. In addition, it will rename the package names mmcv to mmcv-lite and mmcv-full to mmcv. See https://github.com/open-mmlab/mmcv/blob/master/docs/en/compatibility.md for more details.\n",
      "  warnings.warn(\n",
      "/n/home12/binxuwang/.conda/envs/torch2/lib/python3.10/site-packages/transformers/utils/hub.py:127: FutureWarning: Using `TRANSFORMERS_CACHE` is deprecated and will be removed in v5 of Transformers. Use `HF_HOME` instead.\n",
      "  warnings.warn(\n",
      "/n/holylfs06/LABS/kempner_fellow_binxuwang/Users/binxuwang/DL_Projects/PixArt/output/pretrained_models/t5_ckpts/t5-v1_1-xxl\n",
      "You are using the default legacy behaviour of the <class 'transformers.models.t5.tokenization_t5.T5Tokenizer'>. This is expected, and simply means that the `legacy` (previous) behavior will be used so nothing changes for you. If you want to use the new behaviour, set `legacy=False`. This should only be set if you understand what it means, and thoroughly read the reason why this was added as explained in https://github.com/huggingface/transformers/pull/24565\n",
      "/n/home12/binxuwang/.conda/envs/torch2/lib/python3.10/site-packages/transformers/tokenization_utils_base.py:1601: FutureWarning: `clean_up_tokenization_spaces` was not set. It will be set to `True` by default. This behavior will be depracted in transformers v4.45, and will be then set to `False` by default. For more details check this issue: https://github.com/huggingface/transformers/issues/31884\n",
      "  warnings.warn(\n",
      "Loading checkpoint shards: 100%|██████████████████| 2/2 [00:14<00:00,  7.16s/it]\n",
      "100%|█████████████████████████████████| 10001/10001 [00:00<00:00, 916018.48it/s]\n",
      "Extracting Single Image Resolution 128\n",
      "An error occurred while trying to fetch /n/holylfs06/LABS/kempner_fellow_binxuwang/Users/binxuwang/DL_Projects/PixArt/output/pretrained_models/sd-vae-ft-ema: Error no file named diffusion_pytorch_model.safetensors found in directory /n/holylfs06/LABS/kempner_fellow_binxuwang/Users/binxuwang/DL_Projects/PixArt/output/pretrained_models/sd-vae-ft-ema.\n",
      "Defaulting to unsafe serialization. Pass `allow_pickle=False` to raise an error instead.\n",
      "100%|████████████████████████████████████| 10001/10001 [00:54<00:00, 183.46it/s]\n"
     ]
    }
   ],
   "source": [
    "!python ~/Github/DiffusionObjectRelation/PixArt-alpha/tools/extract_features.py \\\n",
    "    --img_size 128 \\\n",
    "    --dataset_root $STORE_DIR\"/DL_Projects/PixArt/objectRel_pilot\" \\\n",
    "    --json_path $STORE_DIR\"/DL_Projects/PixArt/objectRel_pilot/partition/data_info.json\" \\\n",
    "    --t5_save_root $STORE_DIR\"/DL_Projects/PixArt/objectRel_pilot/caption_feature_wmask\" \\\n",
    "    --vae_save_root $STORE_DIR\"/DL_Projects/PixArt/objectRel_pilot/img_vae_features\" \\\n",
    "    --pretrained_models_dir $STORE_DIR\"/DL_Projects/PixArt/output/pretrained_models\""
   ]
  },
  {
   "cell_type": "code",
   "execution_count": 15,
   "metadata": {},
   "outputs": [
    {
     "data": {
      "text/plain": [
       "39062.5"
      ]
     },
     "execution_count": 15,
     "metadata": {},
     "output_type": "execute_result"
    }
   ],
   "source": [
    "1000 * 10000 /256"
   ]
  },
  {
   "cell_type": "code",
   "execution_count": null,
   "metadata": {},
   "outputs": [],
   "source": []
  }
 ],
 "metadata": {
  "kernelspec": {
   "display_name": "torch2",
   "language": "python",
   "name": "python3"
  },
  "language_info": {
   "codemirror_mode": {
    "name": "ipython",
    "version": 3
   },
   "file_extension": ".py",
   "mimetype": "text/x-python",
   "name": "python",
   "nbconvert_exporter": "python",
   "pygments_lexer": "ipython3",
   "version": "3.10.14"
  }
 },
 "nbformat": 4,
 "nbformat_minor": 2
}
